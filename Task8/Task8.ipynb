{
 "cells": [
  {
   "cell_type": "markdown",
   "metadata": {},
   "source": [
    "# Panel Data Analysis"
   ]
  },
  {
   "cell_type": "code",
   "execution_count": 1,
   "metadata": {},
   "outputs": [
    {
     "name": "stdout",
     "output_type": "stream",
     "text": [
      "Requirement already satisfied: linearmodels in c:\\users\\admin\\miniconda3\\envs\\introml\\lib\\site-packages (4.26)\n",
      "Requirement already satisfied: pandas>=0.24 in c:\\users\\admin\\miniconda3\\envs\\introml\\lib\\site-packages (from linearmodels) (1.4.1)\n",
      "Requirement already satisfied: patsy in c:\\users\\admin\\miniconda3\\envs\\introml\\lib\\site-packages (from linearmodels) (0.5.2)\n",
      "Requirement already satisfied: formulaic~=0.3.2 in c:\\users\\admin\\miniconda3\\envs\\introml\\lib\\site-packages (from linearmodels) (0.3.4)\n",
      "Requirement already satisfied: Cython>=0.29.21 in c:\\users\\admin\\miniconda3\\envs\\introml\\lib\\site-packages (from linearmodels) (0.29.28)\n",
      "Requirement already satisfied: property-cached>=1.6.3 in c:\\users\\admin\\miniconda3\\envs\\introml\\lib\\site-packages (from linearmodels) (1.6.4)\n",
      "Requirement already satisfied: setuptools-scm<7.0.0,>=6.4.2 in c:\\users\\admin\\miniconda3\\envs\\introml\\lib\\site-packages (from linearmodels) (6.4.2)\n",
      "Requirement already satisfied: numpy>=1.16 in c:\\users\\admin\\miniconda3\\envs\\introml\\lib\\site-packages (from linearmodels) (1.22.2)\n",
      "Requirement already satisfied: mypy-extensions>=0.4 in c:\\users\\admin\\miniconda3\\envs\\introml\\lib\\site-packages (from linearmodels) (0.4.3)\n",
      "Requirement already satisfied: scipy>=1.2 in c:\\users\\admin\\miniconda3\\envs\\introml\\lib\\site-packages (from linearmodels) (1.8.0)\n",
      "Requirement already satisfied: pyhdfe>=0.1 in c:\\users\\admin\\miniconda3\\envs\\introml\\lib\\site-packages (from linearmodels) (0.1.0)\n",
      "Requirement already satisfied: statsmodels>=0.11 in c:\\users\\admin\\miniconda3\\envs\\introml\\lib\\site-packages (from linearmodels) (0.13.2)\n",
      "Requirement already satisfied: pytz>=2020.1 in c:\\users\\admin\\miniconda3\\envs\\introml\\lib\\site-packages (from pandas>=0.24->linearmodels) (2021.3)\n",
      "Requirement already satisfied: python-dateutil>=2.8.1 in c:\\users\\admin\\miniconda3\\envs\\introml\\lib\\site-packages (from pandas>=0.24->linearmodels) (2.8.1)\n",
      "Requirement already satisfied: six in c:\\users\\admin\\miniconda3\\envs\\introml\\lib\\site-packages (from patsy->linearmodels) (1.14.0)\n",
      "Requirement already satisfied: astor>=0.8 in c:\\users\\admin\\miniconda3\\envs\\introml\\lib\\site-packages (from formulaic~=0.3.2->linearmodels) (0.8.1)\n",
      "Requirement already satisfied: interface-meta<2.0.0,>=1.2.0 in c:\\users\\admin\\miniconda3\\envs\\introml\\lib\\site-packages (from formulaic~=0.3.2->linearmodels) (1.3.0)\n",
      "Requirement already satisfied: wrapt>=1.0 in c:\\users\\admin\\miniconda3\\envs\\introml\\lib\\site-packages (from formulaic~=0.3.2->linearmodels) (1.14.1)\n",
      "Requirement already satisfied: packaging>=20.0 in c:\\users\\admin\\miniconda3\\envs\\introml\\lib\\site-packages (from setuptools-scm<7.0.0,>=6.4.2->linearmodels) (21.3)\n",
      "Requirement already satisfied: setuptools in c:\\users\\admin\\miniconda3\\envs\\introml\\lib\\site-packages (from setuptools-scm<7.0.0,>=6.4.2->linearmodels) (45.1.0.post20200119)\n",
      "Requirement already satisfied: tomli>=1.0.0 in c:\\users\\admin\\miniconda3\\envs\\introml\\lib\\site-packages (from setuptools-scm<7.0.0,>=6.4.2->linearmodels) (2.0.1)\n",
      "Requirement already satisfied: pyparsing!=3.0.5,>=2.0.2 in c:\\users\\admin\\miniconda3\\envs\\introml\\lib\\site-packages (from packaging>=20.0->setuptools-scm<7.0.0,>=6.4.2->linearmodels) (2.4.6)\n",
      "Note: you may need to restart the kernel to use updated packages.\n"
     ]
    }
   ],
   "source": [
    "pip install linearmodels"
   ]
  },
  {
   "cell_type": "code",
   "execution_count": 147,
   "metadata": {},
   "outputs": [],
   "source": [
    "import pandas as pd\n",
    "import numpy as np\n",
    "import statsmodels.api as sm\n",
    "from scipy import stats \n",
    "from linearmodels import PanelOLS, RandomEffects, PooledOLS\n",
    "import matplotlib.pyplot as plt\n",
    "import seaborn as sns"
   ]
  },
  {
   "cell_type": "code",
   "execution_count": 90,
   "metadata": {},
   "outputs": [
    {
     "data": {
      "text/html": [
       "<div>\n",
       "<style scoped>\n",
       "    .dataframe tbody tr th:only-of-type {\n",
       "        vertical-align: middle;\n",
       "    }\n",
       "\n",
       "    .dataframe tbody tr th {\n",
       "        vertical-align: top;\n",
       "    }\n",
       "\n",
       "    .dataframe thead th {\n",
       "        text-align: right;\n",
       "    }\n",
       "</style>\n",
       "<table border=\"1\" class=\"dataframe\">\n",
       "  <thead>\n",
       "    <tr style=\"text-align: right;\">\n",
       "      <th></th>\n",
       "      <th></th>\n",
       "      <th>v1</th>\n",
       "      <th>v2</th>\n",
       "      <th>v3</th>\n",
       "      <th>v4</th>\n",
       "      <th>v5</th>\n",
       "      <th>v6</th>\n",
       "      <th>v7</th>\n",
       "      <th>v8</th>\n",
       "      <th>v9</th>\n",
       "      <th>v10</th>\n",
       "      <th>...</th>\n",
       "      <th>v30</th>\n",
       "      <th>v31</th>\n",
       "      <th>v32</th>\n",
       "      <th>v33</th>\n",
       "      <th>v34</th>\n",
       "      <th>v35</th>\n",
       "      <th>v36</th>\n",
       "      <th>v37</th>\n",
       "      <th>v38</th>\n",
       "      <th>year</th>\n",
       "    </tr>\n",
       "    <tr>\n",
       "      <th>id</th>\n",
       "      <th>year</th>\n",
       "      <th></th>\n",
       "      <th></th>\n",
       "      <th></th>\n",
       "      <th></th>\n",
       "      <th></th>\n",
       "      <th></th>\n",
       "      <th></th>\n",
       "      <th></th>\n",
       "      <th></th>\n",
       "      <th></th>\n",
       "      <th></th>\n",
       "      <th></th>\n",
       "      <th></th>\n",
       "      <th></th>\n",
       "      <th></th>\n",
       "      <th></th>\n",
       "      <th></th>\n",
       "      <th></th>\n",
       "      <th></th>\n",
       "      <th></th>\n",
       "      <th></th>\n",
       "    </tr>\n",
       "  </thead>\n",
       "  <tbody>\n",
       "    <tr>\n",
       "      <th rowspan=\"4\" valign=\"top\">Albania</th>\n",
       "      <th>2015</th>\n",
       "      <td>NaN</td>\n",
       "      <td>NaN</td>\n",
       "      <td>NaN</td>\n",
       "      <td>39699.53</td>\n",
       "      <td>242870.0</td>\n",
       "      <td>8.402315</td>\n",
       "      <td>226718</td>\n",
       "      <td>7.843521</td>\n",
       "      <td>1.634190</td>\n",
       "      <td>1.660749e+07</td>\n",
       "      <td>...</td>\n",
       "      <td>3952.802538</td>\n",
       "      <td>8.194605</td>\n",
       "      <td>80.694759</td>\n",
       "      <td>11.110635</td>\n",
       "      <td>27.267391</td>\n",
       "      <td>44.533615</td>\n",
       "      <td>4.896312</td>\n",
       "      <td>9.6</td>\n",
       "      <td>78.025</td>\n",
       "      <td>2015</td>\n",
       "    </tr>\n",
       "    <tr>\n",
       "      <th>2016</th>\n",
       "      <td>NaN</td>\n",
       "      <td>2.663400e+04</td>\n",
       "      <td>306.0</td>\n",
       "      <td>30279.78</td>\n",
       "      <td>266379.0</td>\n",
       "      <td>9.228641</td>\n",
       "      <td>248640</td>\n",
       "      <td>8.614077</td>\n",
       "      <td>0.784313</td>\n",
       "      <td>1.019991e+07</td>\n",
       "      <td>...</td>\n",
       "      <td>4090.371657</td>\n",
       "      <td>7.769623</td>\n",
       "      <td>80.961061</td>\n",
       "      <td>11.269315</td>\n",
       "      <td>28.977899</td>\n",
       "      <td>45.831964</td>\n",
       "      <td>4.916017</td>\n",
       "      <td>9.4</td>\n",
       "      <td>78.194</td>\n",
       "      <td>2016</td>\n",
       "    </tr>\n",
       "    <tr>\n",
       "      <th>2017</th>\n",
       "      <td>NaN</td>\n",
       "      <td>2.040900e+05</td>\n",
       "      <td>1904.0</td>\n",
       "      <td>53273.59</td>\n",
       "      <td>303612.0</td>\n",
       "      <td>10.526845</td>\n",
       "      <td>246720</td>\n",
       "      <td>8.554284</td>\n",
       "      <td>0.088457</td>\n",
       "      <td>1.119016e+06</td>\n",
       "      <td>...</td>\n",
       "      <td>4249.803734</td>\n",
       "      <td>8.893543</td>\n",
       "      <td>79.608056</td>\n",
       "      <td>11.498401</td>\n",
       "      <td>31.569808</td>\n",
       "      <td>46.624466</td>\n",
       "      <td>5.012636</td>\n",
       "      <td>9.4</td>\n",
       "      <td>78.333</td>\n",
       "      <td>2017</td>\n",
       "    </tr>\n",
       "    <tr>\n",
       "      <th>2018</th>\n",
       "      <td>0.000000</td>\n",
       "      <td>3.031370e+05</td>\n",
       "      <td>2935.0</td>\n",
       "      <td>13648.00</td>\n",
       "      <td>361947.0</td>\n",
       "      <td>12.555659</td>\n",
       "      <td>248631</td>\n",
       "      <td>8.624815</td>\n",
       "      <td>0.044702</td>\n",
       "      <td>5.917170e+05</td>\n",
       "      <td>...</td>\n",
       "      <td>4431.539181</td>\n",
       "      <td>9.605795</td>\n",
       "      <td>79.107646</td>\n",
       "      <td>11.286560</td>\n",
       "      <td>31.571927</td>\n",
       "      <td>45.236191</td>\n",
       "      <td>5.232072</td>\n",
       "      <td>9.5</td>\n",
       "      <td>78.458</td>\n",
       "      <td>2018</td>\n",
       "    </tr>\n",
       "    <tr>\n",
       "      <th>Algeria</th>\n",
       "      <th>2015</th>\n",
       "      <td>21.901645</td>\n",
       "      <td>5.400896e+06</td>\n",
       "      <td>65940.0</td>\n",
       "      <td>1635509.00</td>\n",
       "      <td>2269348.0</td>\n",
       "      <td>5.712209</td>\n",
       "      <td>3267592</td>\n",
       "      <td>8.224904</td>\n",
       "      <td>0.233281</td>\n",
       "      <td>2.549728e+06</td>\n",
       "      <td>...</td>\n",
       "      <td>4177.889542</td>\n",
       "      <td>37.429177</td>\n",
       "      <td>41.010477</td>\n",
       "      <td>21.560346</td>\n",
       "      <td>23.171778</td>\n",
       "      <td>36.523351</td>\n",
       "      <td>6.978489</td>\n",
       "      <td>25.2</td>\n",
       "      <td>76.090</td>\n",
       "      <td>2015</td>\n",
       "    </tr>\n",
       "    <tr>\n",
       "      <th>...</th>\n",
       "      <th>...</th>\n",
       "      <td>...</td>\n",
       "      <td>...</td>\n",
       "      <td>...</td>\n",
       "      <td>...</td>\n",
       "      <td>...</td>\n",
       "      <td>...</td>\n",
       "      <td>...</td>\n",
       "      <td>...</td>\n",
       "      <td>...</td>\n",
       "      <td>...</td>\n",
       "      <td>...</td>\n",
       "      <td>...</td>\n",
       "      <td>...</td>\n",
       "      <td>...</td>\n",
       "      <td>...</td>\n",
       "      <td>...</td>\n",
       "      <td>...</td>\n",
       "      <td>...</td>\n",
       "      <td>...</td>\n",
       "      <td>...</td>\n",
       "      <td>...</td>\n",
       "    </tr>\n",
       "    <tr>\n",
       "      <th>Vietnam</th>\n",
       "      <th>2018</th>\n",
       "      <td>762.661950</td>\n",
       "      <td>4.704967e+07</td>\n",
       "      <td>283787.0</td>\n",
       "      <td>13008500.00</td>\n",
       "      <td>12994451.0</td>\n",
       "      <td>13.600210</td>\n",
       "      <td>4296301</td>\n",
       "      <td>4.496580</td>\n",
       "      <td>40.750121</td>\n",
       "      <td>8.261115e+10</td>\n",
       "      <td>...</td>\n",
       "      <td>2456.791224</td>\n",
       "      <td>25.957972</td>\n",
       "      <td>67.571972</td>\n",
       "      <td>6.470056</td>\n",
       "      <td>105.831805</td>\n",
       "      <td>102.474861</td>\n",
       "      <td>5.034489</td>\n",
       "      <td>21.3</td>\n",
       "      <td>75.317</td>\n",
       "      <td>2018</td>\n",
       "    </tr>\n",
       "    <tr>\n",
       "      <th rowspan=\"4\" valign=\"top\">Zambia</th>\n",
       "      <th>2015</th>\n",
       "      <td>79.382096</td>\n",
       "      <td>2.036170e+05</td>\n",
       "      <td>11130.0</td>\n",
       "      <td>NaN</td>\n",
       "      <td>23390.0</td>\n",
       "      <td>0.147298</td>\n",
       "      <td>116165</td>\n",
       "      <td>0.731547</td>\n",
       "      <td>6.709311</td>\n",
       "      <td>5.270419e+07</td>\n",
       "      <td>...</td>\n",
       "      <td>1338.290927</td>\n",
       "      <td>34.572829</td>\n",
       "      <td>50.646686</td>\n",
       "      <td>14.780593</td>\n",
       "      <td>37.138526</td>\n",
       "      <td>42.726891</td>\n",
       "      <td>4.435102</td>\n",
       "      <td>67.7</td>\n",
       "      <td>61.737</td>\n",
       "      <td>2015</td>\n",
       "    </tr>\n",
       "    <tr>\n",
       "      <th>2016</th>\n",
       "      <td>80.352947</td>\n",
       "      <td>1.440600e+05</td>\n",
       "      <td>8094.0</td>\n",
       "      <td>NaN</td>\n",
       "      <td>31784.0</td>\n",
       "      <td>0.194238</td>\n",
       "      <td>101407</td>\n",
       "      <td>0.619716</td>\n",
       "      <td>27.413299</td>\n",
       "      <td>2.562569e+08</td>\n",
       "      <td>...</td>\n",
       "      <td>1347.748086</td>\n",
       "      <td>32.516729</td>\n",
       "      <td>51.411397</td>\n",
       "      <td>16.071874</td>\n",
       "      <td>35.324676</td>\n",
       "      <td>38.633886</td>\n",
       "      <td>4.477207</td>\n",
       "      <td>65.3</td>\n",
       "      <td>62.464</td>\n",
       "      <td>2016</td>\n",
       "    </tr>\n",
       "    <tr>\n",
       "      <th>2017</th>\n",
       "      <td>81.557610</td>\n",
       "      <td>1.545730e+05</td>\n",
       "      <td>9020.0</td>\n",
       "      <td>NaN</td>\n",
       "      <td>35912.0</td>\n",
       "      <td>0.213082</td>\n",
       "      <td>101444</td>\n",
       "      <td>0.601913</td>\n",
       "      <td>4.109836</td>\n",
       "      <td>3.646522e+07</td>\n",
       "      <td>...</td>\n",
       "      <td>1354.407115</td>\n",
       "      <td>39.297955</td>\n",
       "      <td>46.980964</td>\n",
       "      <td>13.720795</td>\n",
       "      <td>34.992858</td>\n",
       "      <td>36.592837</td>\n",
       "      <td>4.376977</td>\n",
       "      <td>64.6</td>\n",
       "      <td>63.043</td>\n",
       "      <td>2017</td>\n",
       "    </tr>\n",
       "    <tr>\n",
       "      <th>2018</th>\n",
       "      <td>75.077398</td>\n",
       "      <td>1.663314e+04</td>\n",
       "      <td>1241.0</td>\n",
       "      <td>NaN</td>\n",
       "      <td>72228.0</td>\n",
       "      <td>0.416259</td>\n",
       "      <td>100444</td>\n",
       "      <td>0.578871</td>\n",
       "      <td>2.002262</td>\n",
       "      <td>2.580551e+07</td>\n",
       "      <td>...</td>\n",
       "      <td>1368.601756</td>\n",
       "      <td>42.323254</td>\n",
       "      <td>44.968083</td>\n",
       "      <td>12.708663</td>\n",
       "      <td>37.957405</td>\n",
       "      <td>36.930965</td>\n",
       "      <td>5.032715</td>\n",
       "      <td>65.4</td>\n",
       "      <td>63.510</td>\n",
       "      <td>2018</td>\n",
       "    </tr>\n",
       "  </tbody>\n",
       "</table>\n",
       "<p>360 rows × 39 columns</p>\n",
       "</div>"
      ],
      "text/plain": [
       "                      v1            v2        v3           v4          v5  \\\n",
       "id      year                                                                \n",
       "Albania 2015         NaN           NaN       NaN     39699.53    242870.0   \n",
       "        2016         NaN  2.663400e+04     306.0     30279.78    266379.0   \n",
       "        2017         NaN  2.040900e+05    1904.0     53273.59    303612.0   \n",
       "        2018    0.000000  3.031370e+05    2935.0     13648.00    361947.0   \n",
       "Algeria 2015   21.901645  5.400896e+06   65940.0   1635509.00   2269348.0   \n",
       "...                  ...           ...       ...          ...         ...   \n",
       "Vietnam 2018  762.661950  4.704967e+07  283787.0  13008500.00  12994451.0   \n",
       "Zambia  2015   79.382096  2.036170e+05   11130.0          NaN     23390.0   \n",
       "        2016   80.352947  1.440600e+05    8094.0          NaN     31784.0   \n",
       "        2017   81.557610  1.545730e+05    9020.0          NaN     35912.0   \n",
       "        2018   75.077398  1.663314e+04    1241.0          NaN     72228.0   \n",
       "\n",
       "                     v6       v7        v8         v9           v10  ...  \\\n",
       "id      year                                                         ...   \n",
       "Albania 2015   8.402315   226718  7.843521   1.634190  1.660749e+07  ...   \n",
       "        2016   9.228641   248640  8.614077   0.784313  1.019991e+07  ...   \n",
       "        2017  10.526845   246720  8.554284   0.088457  1.119016e+06  ...   \n",
       "        2018  12.555659   248631  8.624815   0.044702  5.917170e+05  ...   \n",
       "Algeria 2015   5.712209  3267592  8.224904   0.233281  2.549728e+06  ...   \n",
       "...                 ...      ...       ...        ...           ...  ...   \n",
       "Vietnam 2018  13.600210  4296301  4.496580  40.750121  8.261115e+10  ...   \n",
       "Zambia  2015   0.147298   116165  0.731547   6.709311  5.270419e+07  ...   \n",
       "        2016   0.194238   101407  0.619716  27.413299  2.562569e+08  ...   \n",
       "        2017   0.213082   101444  0.601913   4.109836  3.646522e+07  ...   \n",
       "        2018   0.416259   100444  0.578871   2.002262  2.580551e+07  ...   \n",
       "\n",
       "                      v30        v31        v32        v33         v34  \\\n",
       "id      year                                                             \n",
       "Albania 2015  3952.802538   8.194605  80.694759  11.110635   27.267391   \n",
       "        2016  4090.371657   7.769623  80.961061  11.269315   28.977899   \n",
       "        2017  4249.803734   8.893543  79.608056  11.498401   31.569808   \n",
       "        2018  4431.539181   9.605795  79.107646  11.286560   31.571927   \n",
       "Algeria 2015  4177.889542  37.429177  41.010477  21.560346   23.171778   \n",
       "...                   ...        ...        ...        ...         ...   \n",
       "Vietnam 2018  2456.791224  25.957972  67.571972   6.470056  105.831805   \n",
       "Zambia  2015  1338.290927  34.572829  50.646686  14.780593   37.138526   \n",
       "        2016  1347.748086  32.516729  51.411397  16.071874   35.324676   \n",
       "        2017  1354.407115  39.297955  46.980964  13.720795   34.992858   \n",
       "        2018  1368.601756  42.323254  44.968083  12.708663   37.957405   \n",
       "\n",
       "                     v35       v36   v37     v38  year  \n",
       "id      year                                            \n",
       "Albania 2015   44.533615  4.896312   9.6  78.025  2015  \n",
       "        2016   45.831964  4.916017   9.4  78.194  2016  \n",
       "        2017   46.624466  5.012636   9.4  78.333  2017  \n",
       "        2018   45.236191  5.232072   9.5  78.458  2018  \n",
       "Algeria 2015   36.523351  6.978489  25.2  76.090  2015  \n",
       "...                  ...       ...   ...     ...   ...  \n",
       "Vietnam 2018  102.474861  5.034489  21.3  75.317  2018  \n",
       "Zambia  2015   42.726891  4.435102  67.7  61.737  2015  \n",
       "        2016   38.633886  4.477207  65.3  62.464  2016  \n",
       "        2017   36.592837  4.376977  64.6  63.043  2017  \n",
       "        2018   36.930965  5.032715  65.4  63.510  2018  \n",
       "\n",
       "[360 rows x 39 columns]"
      ]
     },
     "execution_count": 90,
     "metadata": {},
     "output_type": "execute_result"
    }
   ],
   "source": [
    "df = pd.read_excel(\"Worldbank_panel.xlsx\")\n",
    "year = pd.Categorical(df.year)\n",
    "df = df.set_index([\"id\", \"year\"])\n",
    "df[\"year\"] = year\n",
    "df"
   ]
  },
  {
   "cell_type": "markdown",
   "metadata": {},
   "source": [
    "### Proposed dependent variable: v30 (GDP per capita)\n",
    "\n",
    "Independent variables (included only those, which have correlation with others less than or equal to 0.75):\n",
    "\n",
    "- v15 (Individuals using the Internet (% of population))\n",
    "- v17 (Industrial design applications, resident, by count)\n",
    "- v19 (Mobile cellular subscriptions (per 100 people))\n",
    "- v22 (Scientific and technical journal articles)\n",
    "- v23 (Secure Internet Servers)\n",
    "- v35 (Imports of goods and services (% of GDP))\n",
    "- v38 (Life expectancy at birth, total (years))"
   ]
  },
  {
   "cell_type": "code",
   "execution_count": 119,
   "metadata": {},
   "outputs": [
    {
     "data": {
      "text/html": [
       "<div>\n",
       "<style scoped>\n",
       "    .dataframe tbody tr th:only-of-type {\n",
       "        vertical-align: middle;\n",
       "    }\n",
       "\n",
       "    .dataframe tbody tr th {\n",
       "        vertical-align: top;\n",
       "    }\n",
       "\n",
       "    .dataframe thead th {\n",
       "        text-align: right;\n",
       "    }\n",
       "</style>\n",
       "<table border=\"1\" class=\"dataframe\">\n",
       "  <thead>\n",
       "    <tr style=\"text-align: right;\">\n",
       "      <th></th>\n",
       "      <th></th>\n",
       "      <th>v15</th>\n",
       "      <th>v17</th>\n",
       "      <th>v19</th>\n",
       "      <th>v22</th>\n",
       "      <th>v23</th>\n",
       "      <th>v35</th>\n",
       "      <th>v38</th>\n",
       "      <th>v30</th>\n",
       "      <th>year</th>\n",
       "    </tr>\n",
       "    <tr>\n",
       "      <th>id</th>\n",
       "      <th>year</th>\n",
       "      <th></th>\n",
       "      <th></th>\n",
       "      <th></th>\n",
       "      <th></th>\n",
       "      <th></th>\n",
       "      <th></th>\n",
       "      <th></th>\n",
       "      <th></th>\n",
       "      <th></th>\n",
       "    </tr>\n",
       "  </thead>\n",
       "  <tbody>\n",
       "    <tr>\n",
       "      <th rowspan=\"4\" valign=\"top\">Albania</th>\n",
       "      <th>2015</th>\n",
       "      <td>56.900000</td>\n",
       "      <td>NaN</td>\n",
       "      <td>117.659218</td>\n",
       "      <td>177.80</td>\n",
       "      <td>197</td>\n",
       "      <td>44.533615</td>\n",
       "      <td>78.025</td>\n",
       "      <td>3952.802538</td>\n",
       "      <td>2015</td>\n",
       "    </tr>\n",
       "    <tr>\n",
       "      <th>2016</th>\n",
       "      <td>59.600000</td>\n",
       "      <td>NaN</td>\n",
       "      <td>116.744444</td>\n",
       "      <td>185.87</td>\n",
       "      <td>416</td>\n",
       "      <td>45.831964</td>\n",
       "      <td>78.194</td>\n",
       "      <td>4090.371657</td>\n",
       "      <td>2016</td>\n",
       "    </tr>\n",
       "    <tr>\n",
       "      <th>2017</th>\n",
       "      <td>62.400000</td>\n",
       "      <td>NaN</td>\n",
       "      <td>125.710352</td>\n",
       "      <td>149.54</td>\n",
       "      <td>1273</td>\n",
       "      <td>46.624466</td>\n",
       "      <td>78.333</td>\n",
       "      <td>4249.803734</td>\n",
       "      <td>2017</td>\n",
       "    </tr>\n",
       "    <tr>\n",
       "      <th>2018</th>\n",
       "      <td>65.400000</td>\n",
       "      <td>NaN</td>\n",
       "      <td>94.176998</td>\n",
       "      <td>180.36</td>\n",
       "      <td>1508</td>\n",
       "      <td>45.236191</td>\n",
       "      <td>78.458</td>\n",
       "      <td>4431.539181</td>\n",
       "      <td>2018</td>\n",
       "    </tr>\n",
       "    <tr>\n",
       "      <th>Algeria</th>\n",
       "      <th>2015</th>\n",
       "      <td>38.200000</td>\n",
       "      <td>NaN</td>\n",
       "      <td>108.808940</td>\n",
       "      <td>4157.18</td>\n",
       "      <td>152</td>\n",
       "      <td>36.523351</td>\n",
       "      <td>76.090</td>\n",
       "      <td>4177.889542</td>\n",
       "      <td>2015</td>\n",
       "    </tr>\n",
       "    <tr>\n",
       "      <th>...</th>\n",
       "      <th>...</th>\n",
       "      <td>...</td>\n",
       "      <td>...</td>\n",
       "      <td>...</td>\n",
       "      <td>...</td>\n",
       "      <td>...</td>\n",
       "      <td>...</td>\n",
       "      <td>...</td>\n",
       "      <td>...</td>\n",
       "      <td>...</td>\n",
       "    </tr>\n",
       "    <tr>\n",
       "      <th>Vietnam</th>\n",
       "      <th>2018</th>\n",
       "      <td>69.847929</td>\n",
       "      <td>1891.0</td>\n",
       "      <td>147.195273</td>\n",
       "      <td>4286.48</td>\n",
       "      <td>169056</td>\n",
       "      <td>102.474861</td>\n",
       "      <td>75.317</td>\n",
       "      <td>2456.791224</td>\n",
       "      <td>2018</td>\n",
       "    </tr>\n",
       "    <tr>\n",
       "      <th rowspan=\"4\" valign=\"top\">Zambia</th>\n",
       "      <th>2015</th>\n",
       "      <td>NaN</td>\n",
       "      <td>21.0</td>\n",
       "      <td>72.784572</td>\n",
       "      <td>157.23</td>\n",
       "      <td>90</td>\n",
       "      <td>42.726891</td>\n",
       "      <td>61.737</td>\n",
       "      <td>1338.290927</td>\n",
       "      <td>2015</td>\n",
       "    </tr>\n",
       "    <tr>\n",
       "      <th>2016</th>\n",
       "      <td>NaN</td>\n",
       "      <td>68.0</td>\n",
       "      <td>73.438230</td>\n",
       "      <td>181.66</td>\n",
       "      <td>145</td>\n",
       "      <td>38.633886</td>\n",
       "      <td>62.464</td>\n",
       "      <td>1347.748086</td>\n",
       "      <td>2016</td>\n",
       "    </tr>\n",
       "    <tr>\n",
       "      <th>2017</th>\n",
       "      <td>NaN</td>\n",
       "      <td>30.0</td>\n",
       "      <td>79.736910</td>\n",
       "      <td>209.45</td>\n",
       "      <td>714</td>\n",
       "      <td>36.592837</td>\n",
       "      <td>63.043</td>\n",
       "      <td>1354.407115</td>\n",
       "      <td>2017</td>\n",
       "    </tr>\n",
       "    <tr>\n",
       "      <th>2018</th>\n",
       "      <td>14.299997</td>\n",
       "      <td>39.0</td>\n",
       "      <td>89.157044</td>\n",
       "      <td>213.07</td>\n",
       "      <td>715</td>\n",
       "      <td>36.930965</td>\n",
       "      <td>63.510</td>\n",
       "      <td>1368.601756</td>\n",
       "      <td>2018</td>\n",
       "    </tr>\n",
       "  </tbody>\n",
       "</table>\n",
       "<p>360 rows × 9 columns</p>\n",
       "</div>"
      ],
      "text/plain": [
       "                    v15     v17         v19      v22     v23         v35  \\\n",
       "id      year                                                               \n",
       "Albania 2015  56.900000     NaN  117.659218   177.80     197   44.533615   \n",
       "        2016  59.600000     NaN  116.744444   185.87     416   45.831964   \n",
       "        2017  62.400000     NaN  125.710352   149.54    1273   46.624466   \n",
       "        2018  65.400000     NaN   94.176998   180.36    1508   45.236191   \n",
       "Algeria 2015  38.200000     NaN  108.808940  4157.18     152   36.523351   \n",
       "...                 ...     ...         ...      ...     ...         ...   \n",
       "Vietnam 2018  69.847929  1891.0  147.195273  4286.48  169056  102.474861   \n",
       "Zambia  2015        NaN    21.0   72.784572   157.23      90   42.726891   \n",
       "        2016        NaN    68.0   73.438230   181.66     145   38.633886   \n",
       "        2017        NaN    30.0   79.736910   209.45     714   36.592837   \n",
       "        2018  14.299997    39.0   89.157044   213.07     715   36.930965   \n",
       "\n",
       "                 v38          v30  year  \n",
       "id      year                             \n",
       "Albania 2015  78.025  3952.802538  2015  \n",
       "        2016  78.194  4090.371657  2016  \n",
       "        2017  78.333  4249.803734  2017  \n",
       "        2018  78.458  4431.539181  2018  \n",
       "Algeria 2015  76.090  4177.889542  2015  \n",
       "...              ...          ...   ...  \n",
       "Vietnam 2018  75.317  2456.791224  2018  \n",
       "Zambia  2015  61.737  1338.290927  2015  \n",
       "        2016  62.464  1347.748086  2016  \n",
       "        2017  63.043  1354.407115  2017  \n",
       "        2018  63.510  1368.601756  2018  \n",
       "\n",
       "[360 rows x 9 columns]"
      ]
     },
     "execution_count": 119,
     "metadata": {},
     "output_type": "execute_result"
    }
   ],
   "source": [
    "chosen_df = df[['v15','v17','v19','v22','v23','v35','v38','v30','year']]\n",
    "chosen_df"
   ]
  },
  {
   "cell_type": "code",
   "execution_count": 120,
   "metadata": {},
   "outputs": [
    {
     "name": "stdout",
     "output_type": "stream",
     "text": [
      "<class 'pandas.core.frame.DataFrame'>\n",
      "MultiIndex: 360 entries, ('Albania', 2015) to ('Zambia', 2018)\n",
      "Data columns (total 9 columns):\n",
      " #   Column  Non-Null Count  Dtype   \n",
      "---  ------  --------------  -----   \n",
      " 0   v15     338 non-null    float64 \n",
      " 1   v17     323 non-null    float64 \n",
      " 2   v19     360 non-null    float64 \n",
      " 3   v22     360 non-null    float64 \n",
      " 4   v23     360 non-null    int64   \n",
      " 5   v35     360 non-null    float64 \n",
      " 6   v38     360 non-null    float64 \n",
      " 7   v30     360 non-null    float64 \n",
      " 8   year    360 non-null    category\n",
      "dtypes: category(1), float64(7), int64(1)\n",
      "memory usage: 26.8+ KB\n"
     ]
    }
   ],
   "source": [
    "chosen_df.info()"
   ]
  },
  {
   "cell_type": "code",
   "execution_count": 121,
   "metadata": {},
   "outputs": [
    {
     "name": "stderr",
     "output_type": "stream",
     "text": [
      "<ipython-input-121-dbf4dd0b289c>:1: SettingWithCopyWarning: \n",
      "A value is trying to be set on a copy of a slice from a DataFrame.\n",
      "Try using .loc[row_indexer,col_indexer] = value instead\n",
      "\n",
      "See the caveats in the documentation: https://pandas.pydata.org/pandas-docs/stable/user_guide/indexing.html#returning-a-view-versus-a-copy\n",
      "  chosen_df['v15'] = chosen_df['v15'].fillna(chosen_df['v15'].median())\n",
      "<ipython-input-121-dbf4dd0b289c>:2: SettingWithCopyWarning: \n",
      "A value is trying to be set on a copy of a slice from a DataFrame.\n",
      "Try using .loc[row_indexer,col_indexer] = value instead\n",
      "\n",
      "See the caveats in the documentation: https://pandas.pydata.org/pandas-docs/stable/user_guide/indexing.html#returning-a-view-versus-a-copy\n",
      "  chosen_df['v17'] = chosen_df['v17'].fillna(chosen_df['v17'].median())\n"
     ]
    }
   ],
   "source": [
    "chosen_df['v15'] = chosen_df['v15'].fillna(chosen_df['v15'].median())\n",
    "chosen_df['v17'] = chosen_df['v17'].fillna(chosen_df['v17'].median())"
   ]
  },
  {
   "cell_type": "code",
   "execution_count": 122,
   "metadata": {},
   "outputs": [
    {
     "data": {
      "image/png": "[encoded data removed]",
      "text/plain": [
       "<Figure size 576x576 with 2 Axes>"
      ]
     },
     "metadata": {
      "needs_background": "light"
     },
     "output_type": "display_data"
    }
   ],
   "source": [
    "corr = chosen_df.corr('pearson')\n",
    "plt.figure(figsize=(8, 8))\n",
    "sns.heatmap(corr, vmax=.8, square=True, cmap='YlGnBu')\n",
    "plt.show()"
   ]
  },
  {
   "cell_type": "markdown",
   "metadata": {},
   "source": [
    "### Dependent variable\n",
    "\n",
    "##### Hypothesis:\n",
    "\n",
    "H1: The distribution of the variable 'v30' is different from the normal distribution\n",
    "\n",
    "H0: The distribution of the variable 'v30' is not different from the normal distribution\n",
    "\n",
    "p-value = 0.05"
   ]
  },
  {
   "cell_type": "code",
   "execution_count": 123,
   "metadata": {},
   "outputs": [
    {
     "name": "stderr",
     "output_type": "stream",
     "text": [
      "C:\\Users\\Admin\\Miniconda3\\envs\\IntroML\\lib\\site-packages\\seaborn\\distributions.py:2619: FutureWarning: `distplot` is a deprecated function and will be removed in a future version. Please adapt your code to use either `displot` (a figure-level function with similar flexibility) or `histplot` (an axes-level function for histograms).\n",
      "  warnings.warn(msg, FutureWarning)\n",
      "C:\\Users\\Admin\\Miniconda3\\envs\\IntroML\\lib\\site-packages\\matplotlib\\cbook\\__init__.py:1402: FutureWarning: Support for multi-dimensional indexing (e.g. `obj[:, None]`) is deprecated and will be removed in a future version.  Convert to a numpy array before indexing instead.\n",
      "  ndim = x[:, None].ndim\n",
      "C:\\Users\\Admin\\Miniconda3\\envs\\IntroML\\lib\\site-packages\\matplotlib\\axes\\_base.py:276: FutureWarning: Support for multi-dimensional indexing (e.g. `obj[:, None]`) is deprecated and will be removed in a future version.  Convert to a numpy array before indexing instead.\n",
      "  x = x[:, np.newaxis]\n",
      "C:\\Users\\Admin\\Miniconda3\\envs\\IntroML\\lib\\site-packages\\matplotlib\\axes\\_base.py:278: FutureWarning: Support for multi-dimensional indexing (e.g. `obj[:, None]`) is deprecated and will be removed in a future version.  Convert to a numpy array before indexing instead.\n",
      "  y = y[:, np.newaxis]\n"
     ]
    },
    {
     "data": {
      "text/plain": [
       "<matplotlib.axes._subplots.AxesSubplot at 0x23b8b438940>"
      ]
     },
     "execution_count": 123,
     "metadata": {},
     "output_type": "execute_result"
    },
    {
     "data": {
      "image/png": "[encoded data removed]",
      "text/plain": [
       "<Figure size 432x288 with 1 Axes>"
      ]
     },
     "metadata": {
      "needs_background": "light"
     },
     "output_type": "display_data"
    }
   ],
   "source": [
    "sns.distplot(chosen_df['v30'], fit=stats.norm)"
   ]
  },
  {
   "cell_type": "code",
   "execution_count": 124,
   "metadata": {},
   "outputs": [
    {
     "data": {
      "text/plain": [
       "KstestResult(statistic=0.20979008539557886, pvalue=2.2292422785252543e-14)"
      ]
     },
     "execution_count": 124,
     "metadata": {},
     "output_type": "execute_result"
    }
   ],
   "source": [
    "stats.kstest(chosen_df['v30'], 'norm', args=(chosen_df['v30'].mean(), chosen_df['v30'].std()))"
   ]
  },
  {
   "cell_type": "code",
   "execution_count": 125,
   "metadata": {},
   "outputs": [
    {
     "name": "stdout",
     "output_type": "stream",
     "text": [
      "Skewness: 1.4536\n",
      "Kurtosis: 1.3431\n",
      "Quartile Deviation: 11024.0061\n",
      "Decile Ratio: 23.0463\n"
     ]
    }
   ],
   "source": [
    "print('Skewness: {:.4f}'.format(chosen_df['v30'].skew()))\n",
    "print('Kurtosis: {:.4f}'.format(chosen_df['v30'].kurt()))\n",
    "print('Quartile Deviation: {:.4f}'.format((chosen_df['v30'].quantile(0.75) - chosen_df['v30'].quantile(0.25))/2))\n",
    "print('Decile Ratio: {:.4f}'.format(chosen_df['v30'].quantile(0.9)/chosen_df['v30'].quantile(0.1)))"
   ]
  },
  {
   "cell_type": "markdown",
   "metadata": {},
   "source": [
    "##### Conclusion:\n",
    "\n",
    "The dependent variable 'v30' deviates from the normal distribution (H1 is accepted at p-value = 0.05). It is positively skewed with a quite small kurtosis."
   ]
  },
  {
   "cell_type": "code",
   "execution_count": 126,
   "metadata": {},
   "outputs": [
    {
     "data": {
      "text/plain": [
       "<matplotlib.axes._subplots.AxesSubplot at 0x23b8b574160>"
      ]
     },
     "execution_count": 126,
     "metadata": {},
     "output_type": "execute_result"
    },
    {
     "data": {
      "image/png": "[encoded data removed]",
      "text/plain": [
       "<Figure size 432x288 with 1 Axes>"
      ]
     },
     "metadata": {
      "needs_background": "light"
     },
     "output_type": "display_data"
    }
   ],
   "source": [
    "chosen_df['v30'].groupby('year').mean().plot()"
   ]
  },
  {
   "cell_type": "markdown",
   "metadata": {},
   "source": [
    "There is almost linear relationship between the year and the GDP"
   ]
  },
  {
   "cell_type": "markdown",
   "metadata": {},
   "source": [
    "### Independent variables"
   ]
  },
  {
   "cell_type": "markdown",
   "metadata": {},
   "source": [
    "#### v15 Individuals using the Internet (% of population)"
   ]
  },
  {
   "cell_type": "markdown",
   "metadata": {},
   "source": [
    "##### Hypothesis:\n",
    "\n",
    "H1: The distribution of the variable 'v15' is different from the normal distribution\n",
    "\n",
    "H0: The distribution of the variable 'v15' is not different from the normal distribution\n",
    "\n",
    "p-value = 0.05"
   ]
  },
  {
   "cell_type": "code",
   "execution_count": 127,
   "metadata": {},
   "outputs": [
    {
     "name": "stderr",
     "output_type": "stream",
     "text": [
      "C:\\Users\\Admin\\Miniconda3\\envs\\IntroML\\lib\\site-packages\\seaborn\\distributions.py:2619: FutureWarning: `distplot` is a deprecated function and will be removed in a future version. Please adapt your code to use either `displot` (a figure-level function with similar flexibility) or `histplot` (an axes-level function for histograms).\n",
      "  warnings.warn(msg, FutureWarning)\n",
      "C:\\Users\\Admin\\Miniconda3\\envs\\IntroML\\lib\\site-packages\\matplotlib\\cbook\\__init__.py:1402: FutureWarning: Support for multi-dimensional indexing (e.g. `obj[:, None]`) is deprecated and will be removed in a future version.  Convert to a numpy array before indexing instead.\n",
      "  ndim = x[:, None].ndim\n",
      "C:\\Users\\Admin\\Miniconda3\\envs\\IntroML\\lib\\site-packages\\matplotlib\\axes\\_base.py:276: FutureWarning: Support for multi-dimensional indexing (e.g. `obj[:, None]`) is deprecated and will be removed in a future version.  Convert to a numpy array before indexing instead.\n",
      "  x = x[:, np.newaxis]\n",
      "C:\\Users\\Admin\\Miniconda3\\envs\\IntroML\\lib\\site-packages\\matplotlib\\axes\\_base.py:278: FutureWarning: Support for multi-dimensional indexing (e.g. `obj[:, None]`) is deprecated and will be removed in a future version.  Convert to a numpy array before indexing instead.\n",
      "  y = y[:, np.newaxis]\n"
     ]
    },
    {
     "data": {
      "text/plain": [
       "<matplotlib.axes._subplots.AxesSubplot at 0x23b8b506880>"
      ]
     },
     "execution_count": 127,
     "metadata": {},
     "output_type": "execute_result"
    },
    {
     "data": {
      "image/png": "[encoded data removed]",
      "text/plain": [
       "<Figure size 432x288 with 1 Axes>"
      ]
     },
     "metadata": {
      "needs_background": "light"
     },
     "output_type": "display_data"
    }
   ],
   "source": [
    "sns.distplot(chosen_df['v15'], fit=stats.norm)"
   ]
  },
  {
   "cell_type": "code",
   "execution_count": 128,
   "metadata": {},
   "outputs": [
    {
     "data": {
      "text/plain": [
       "KstestResult(statistic=0.11894408459464512, pvalue=6.781346986713443e-05)"
      ]
     },
     "execution_count": 128,
     "metadata": {},
     "output_type": "execute_result"
    }
   ],
   "source": [
    "stats.kstest(chosen_df['v15'], 'norm', args=(chosen_df['v15'].mean(), chosen_df['v15'].std()))"
   ]
  },
  {
   "cell_type": "markdown",
   "metadata": {},
   "source": [
    "##### Conclusion:\n",
    "\n",
    "The dependent variable 'v15' deviates from the normal distribution (H1 is accepted at p-value = 0.05)."
   ]
  },
  {
   "cell_type": "code",
   "execution_count": 129,
   "metadata": {},
   "outputs": [
    {
     "data": {
      "text/plain": [
       "<matplotlib.axes._subplots.AxesSubplot at 0x23b8b649b80>"
      ]
     },
     "execution_count": 129,
     "metadata": {},
     "output_type": "execute_result"
    },
    {
     "data": {
      "image/png": "[encoded data removed]",
      "text/plain": [
       "<Figure size 432x288 with 1 Axes>"
      ]
     },
     "metadata": {
      "needs_background": "light"
     },
     "output_type": "display_data"
    }
   ],
   "source": [
    "chosen_df['v15'].groupby('year').mean().plot()"
   ]
  },
  {
   "cell_type": "markdown",
   "metadata": {},
   "source": [
    "There is almost linear relationship between year and Individuals using the Internet (% of population)."
   ]
  },
  {
   "cell_type": "markdown",
   "metadata": {},
   "source": [
    "#### v17 Industrial design applications, resident, by count"
   ]
  },
  {
   "cell_type": "markdown",
   "metadata": {},
   "source": [
    "##### Hypothesis:\n",
    "\n",
    "H1: The distribution of the variable 'v17' is different from the normal distribution\n",
    "\n",
    "H0: The distribution of the variable 'v17' is not different from the normal distribution\n",
    "\n",
    "p-value = 0.05"
   ]
  },
  {
   "cell_type": "code",
   "execution_count": 130,
   "metadata": {},
   "outputs": [
    {
     "name": "stderr",
     "output_type": "stream",
     "text": [
      "C:\\Users\\Admin\\Miniconda3\\envs\\IntroML\\lib\\site-packages\\seaborn\\distributions.py:2619: FutureWarning: `distplot` is a deprecated function and will be removed in a future version. Please adapt your code to use either `displot` (a figure-level function with similar flexibility) or `histplot` (an axes-level function for histograms).\n",
      "  warnings.warn(msg, FutureWarning)\n",
      "C:\\Users\\Admin\\Miniconda3\\envs\\IntroML\\lib\\site-packages\\matplotlib\\cbook\\__init__.py:1402: FutureWarning: Support for multi-dimensional indexing (e.g. `obj[:, None]`) is deprecated and will be removed in a future version.  Convert to a numpy array before indexing instead.\n",
      "  ndim = x[:, None].ndim\n",
      "C:\\Users\\Admin\\Miniconda3\\envs\\IntroML\\lib\\site-packages\\matplotlib\\axes\\_base.py:276: FutureWarning: Support for multi-dimensional indexing (e.g. `obj[:, None]`) is deprecated and will be removed in a future version.  Convert to a numpy array before indexing instead.\n",
      "  x = x[:, np.newaxis]\n",
      "C:\\Users\\Admin\\Miniconda3\\envs\\IntroML\\lib\\site-packages\\matplotlib\\axes\\_base.py:278: FutureWarning: Support for multi-dimensional indexing (e.g. `obj[:, None]`) is deprecated and will be removed in a future version.  Convert to a numpy array before indexing instead.\n",
      "  y = y[:, np.newaxis]\n"
     ]
    },
    {
     "data": {
      "text/plain": [
       "<matplotlib.axes._subplots.AxesSubplot at 0x23b8b6b2f40>"
      ]
     },
     "execution_count": 130,
     "metadata": {},
     "output_type": "execute_result"
    },
    {
     "data": {
      "image/png": "[encoded data removed]",
      "text/plain": [
       "<Figure size 432x288 with 1 Axes>"
      ]
     },
     "metadata": {
      "needs_background": "light"
     },
     "output_type": "display_data"
    }
   ],
   "source": [
    "sns.distplot(chosen_df['v17'], fit=stats.norm)"
   ]
  },
  {
   "cell_type": "code",
   "execution_count": 131,
   "metadata": {},
   "outputs": [
    {
     "data": {
      "text/plain": [
       "KstestResult(statistic=0.43669384857573523, pvalue=5.659221250494235e-63)"
      ]
     },
     "execution_count": 131,
     "metadata": {},
     "output_type": "execute_result"
    }
   ],
   "source": [
    "stats.kstest(chosen_df['v17'], 'norm', args=(chosen_df['v17'].mean(), chosen_df['v17'].std()))"
   ]
  },
  {
   "cell_type": "markdown",
   "metadata": {},
   "source": [
    "##### Conclusion:\n",
    "\n",
    "The dependent variable 'v17' deviates from the normal distribution (H1 is accepted at p-value = 0.05)."
   ]
  },
  {
   "cell_type": "code",
   "execution_count": 132,
   "metadata": {},
   "outputs": [
    {
     "data": {
      "text/plain": [
       "<matplotlib.axes._subplots.AxesSubplot at 0x23b8b4ca5e0>"
      ]
     },
     "execution_count": 132,
     "metadata": {},
     "output_type": "execute_result"
    },
    {
     "data": {
      "image/png": "[encoded data removed]",
      "text/plain": [
       "<Figure size 432x288 with 1 Axes>"
      ]
     },
     "metadata": {
      "needs_background": "light"
     },
     "output_type": "display_data"
    }
   ],
   "source": [
    "chosen_df['v17'].groupby('year').mean().plot()"
   ]
  },
  {
   "cell_type": "markdown",
   "metadata": {},
   "source": [
    "In general, there is a linear relationship between 'Industrial design applications, resident, by count' and year with a small decrease in 2017 in comparison to 2016"
   ]
  },
  {
   "cell_type": "markdown",
   "metadata": {},
   "source": [
    "#### v19 Mobile cellular subscriptions (per 100 people)"
   ]
  },
  {
   "cell_type": "markdown",
   "metadata": {},
   "source": [
    "##### Hypothesis:\n",
    "\n",
    "H1: The distribution of the variable 'v19' is different from the normal distribution\n",
    "\n",
    "H0: The distribution of the variable 'v19' is not different from the normal distribution\n",
    "\n",
    "p-value = 0.05"
   ]
  },
  {
   "cell_type": "code",
   "execution_count": 133,
   "metadata": {},
   "outputs": [
    {
     "name": "stderr",
     "output_type": "stream",
     "text": [
      "C:\\Users\\Admin\\Miniconda3\\envs\\IntroML\\lib\\site-packages\\seaborn\\distributions.py:2619: FutureWarning: `distplot` is a deprecated function and will be removed in a future version. Please adapt your code to use either `displot` (a figure-level function with similar flexibility) or `histplot` (an axes-level function for histograms).\n",
      "  warnings.warn(msg, FutureWarning)\n",
      "C:\\Users\\Admin\\Miniconda3\\envs\\IntroML\\lib\\site-packages\\matplotlib\\cbook\\__init__.py:1402: FutureWarning: Support for multi-dimensional indexing (e.g. `obj[:, None]`) is deprecated and will be removed in a future version.  Convert to a numpy array before indexing instead.\n",
      "  ndim = x[:, None].ndim\n",
      "C:\\Users\\Admin\\Miniconda3\\envs\\IntroML\\lib\\site-packages\\matplotlib\\axes\\_base.py:276: FutureWarning: Support for multi-dimensional indexing (e.g. `obj[:, None]`) is deprecated and will be removed in a future version.  Convert to a numpy array before indexing instead.\n",
      "  x = x[:, np.newaxis]\n",
      "C:\\Users\\Admin\\Miniconda3\\envs\\IntroML\\lib\\site-packages\\matplotlib\\axes\\_base.py:278: FutureWarning: Support for multi-dimensional indexing (e.g. `obj[:, None]`) is deprecated and will be removed in a future version.  Convert to a numpy array before indexing instead.\n",
      "  y = y[:, np.newaxis]\n"
     ]
    },
    {
     "data": {
      "text/plain": [
       "<matplotlib.axes._subplots.AxesSubplot at 0x23b8b4b13d0>"
      ]
     },
     "execution_count": 133,
     "metadata": {},
     "output_type": "execute_result"
    },
    {
     "data": {
      "image/png": "[encoded data removed]",
      "text/plain": [
       "<Figure size 432x288 with 1 Axes>"
      ]
     },
     "metadata": {
      "needs_background": "light"
     },
     "output_type": "display_data"
    }
   ],
   "source": [
    "sns.distplot(chosen_df['v19'], fit=stats.norm)"
   ]
  },
  {
   "cell_type": "code",
   "execution_count": 134,
   "metadata": {},
   "outputs": [
    {
     "data": {
      "text/plain": [
       "KstestResult(statistic=0.07284326928184737, pvalue=0.04166634136947822)"
      ]
     },
     "execution_count": 134,
     "metadata": {},
     "output_type": "execute_result"
    }
   ],
   "source": [
    "stats.kstest(chosen_df['v19'], 'norm', args=(chosen_df['v19'].mean(), chosen_df['v19'].std()))"
   ]
  },
  {
   "cell_type": "markdown",
   "metadata": {},
   "source": [
    "##### Conclusion:\n",
    "\n",
    "The dependent variable 'v19' deviates from the normal distribution (H1 is accepted at p-value = 0.05). However, H1 is rejected at p-value 0.01"
   ]
  },
  {
   "cell_type": "code",
   "execution_count": 135,
   "metadata": {},
   "outputs": [
    {
     "data": {
      "text/plain": [
       "<matplotlib.axes._subplots.AxesSubplot at 0x23b8b4bc100>"
      ]
     },
     "execution_count": 135,
     "metadata": {},
     "output_type": "execute_result"
    },
    {
     "data": {
      "image/png": "[encoded data removed]",
      "text/plain": [
       "<Figure size 432x288 with 1 Axes>"
      ]
     },
     "metadata": {
      "needs_background": "light"
     },
     "output_type": "display_data"
    }
   ],
   "source": [
    "chosen_df['v19'].groupby('year').mean().plot()"
   ]
  },
  {
   "cell_type": "markdown",
   "metadata": {},
   "source": [
    "Mobile cellular subscriptions (per 100 people) is quite stable throughout all years (difference only in 0.15)."
   ]
  },
  {
   "cell_type": "markdown",
   "metadata": {},
   "source": [
    "#### v22 Scientific and technical journal articles"
   ]
  },
  {
   "cell_type": "markdown",
   "metadata": {},
   "source": [
    "##### Hypothesis:\n",
    "\n",
    "H1: The distribution of the variable 'v22' is different from the normal distribution\n",
    "\n",
    "H0: The distribution of the variable 'v22' is not different from the normal distribution\n",
    "\n",
    "p-value = 0.05"
   ]
  },
  {
   "cell_type": "code",
   "execution_count": 136,
   "metadata": {},
   "outputs": [
    {
     "name": "stderr",
     "output_type": "stream",
     "text": [
      "C:\\Users\\Admin\\Miniconda3\\envs\\IntroML\\lib\\site-packages\\seaborn\\distributions.py:2619: FutureWarning: `distplot` is a deprecated function and will be removed in a future version. Please adapt your code to use either `displot` (a figure-level function with similar flexibility) or `histplot` (an axes-level function for histograms).\n",
      "  warnings.warn(msg, FutureWarning)\n",
      "C:\\Users\\Admin\\Miniconda3\\envs\\IntroML\\lib\\site-packages\\matplotlib\\cbook\\__init__.py:1402: FutureWarning: Support for multi-dimensional indexing (e.g. `obj[:, None]`) is deprecated and will be removed in a future version.  Convert to a numpy array before indexing instead.\n",
      "  ndim = x[:, None].ndim\n",
      "C:\\Users\\Admin\\Miniconda3\\envs\\IntroML\\lib\\site-packages\\matplotlib\\axes\\_base.py:276: FutureWarning: Support for multi-dimensional indexing (e.g. `obj[:, None]`) is deprecated and will be removed in a future version.  Convert to a numpy array before indexing instead.\n",
      "  x = x[:, np.newaxis]\n",
      "C:\\Users\\Admin\\Miniconda3\\envs\\IntroML\\lib\\site-packages\\matplotlib\\axes\\_base.py:278: FutureWarning: Support for multi-dimensional indexing (e.g. `obj[:, None]`) is deprecated and will be removed in a future version.  Convert to a numpy array before indexing instead.\n",
      "  y = y[:, np.newaxis]\n"
     ]
    },
    {
     "data": {
      "text/plain": [
       "<matplotlib.axes._subplots.AxesSubplot at 0x23b8c7c49a0>"
      ]
     },
     "execution_count": 136,
     "metadata": {},
     "output_type": "execute_result"
    },
    {
     "data": {
      "image/png": "[encoded data removed]",
      "text/plain": [
       "<Figure size 432x288 with 1 Axes>"
      ]
     },
     "metadata": {
      "needs_background": "light"
     },
     "output_type": "display_data"
    }
   ],
   "source": [
    "sns.distplot(chosen_df['v22'], fit=stats.norm)"
   ]
  },
  {
   "cell_type": "code",
   "execution_count": 137,
   "metadata": {},
   "outputs": [
    {
     "data": {
      "text/plain": [
       "KstestResult(statistic=0.3569646484629863, pvalue=1.4559323757238256e-41)"
      ]
     },
     "execution_count": 137,
     "metadata": {},
     "output_type": "execute_result"
    }
   ],
   "source": [
    "stats.kstest(chosen_df['v22'], 'norm', args=(chosen_df['v22'].mean(), chosen_df['v22'].std()))"
   ]
  },
  {
   "cell_type": "markdown",
   "metadata": {},
   "source": [
    "##### Conclusion:\n",
    "\n",
    "The dependent variable 'v22' deviates from the normal distribution (H1 is accepted at p-value = 0.05)."
   ]
  },
  {
   "cell_type": "code",
   "execution_count": 138,
   "metadata": {},
   "outputs": [
    {
     "data": {
      "text/plain": [
       "<matplotlib.axes._subplots.AxesSubplot at 0x23b8c8b35e0>"
      ]
     },
     "execution_count": 138,
     "metadata": {},
     "output_type": "execute_result"
    },
    {
     "data": {
      "image/png": "[encoded data removed]",
      "text/plain": [
       "<Figure size 432x288 with 1 Axes>"
      ]
     },
     "metadata": {
      "needs_background": "light"
     },
     "output_type": "display_data"
    }
   ],
   "source": [
    "chosen_df['v22'].groupby('year').mean().plot()"
   ]
  },
  {
   "cell_type": "markdown",
   "metadata": {},
   "source": [
    "Obviously, there is a linear relationship between Scientific and technical journal articles and year."
   ]
  },
  {
   "cell_type": "markdown",
   "metadata": {},
   "source": [
    "#### v23 Secure Internet servers"
   ]
  },
  {
   "cell_type": "markdown",
   "metadata": {},
   "source": [
    "##### Hypothesis:\n",
    "\n",
    "H1: The distribution of the variable 'v23' is different from the normal distribution\n",
    "\n",
    "H0: The distribution of the variable 'v23' is not different from the normal distribution\n",
    "\n",
    "p-value = 0.05"
   ]
  },
  {
   "cell_type": "code",
   "execution_count": 139,
   "metadata": {},
   "outputs": [
    {
     "name": "stderr",
     "output_type": "stream",
     "text": [
      "C:\\Users\\Admin\\Miniconda3\\envs\\IntroML\\lib\\site-packages\\seaborn\\distributions.py:2619: FutureWarning: `distplot` is a deprecated function and will be removed in a future version. Please adapt your code to use either `displot` (a figure-level function with similar flexibility) or `histplot` (an axes-level function for histograms).\n",
      "  warnings.warn(msg, FutureWarning)\n",
      "C:\\Users\\Admin\\Miniconda3\\envs\\IntroML\\lib\\site-packages\\matplotlib\\cbook\\__init__.py:1402: FutureWarning: Support for multi-dimensional indexing (e.g. `obj[:, None]`) is deprecated and will be removed in a future version.  Convert to a numpy array before indexing instead.\n",
      "  ndim = x[:, None].ndim\n",
      "C:\\Users\\Admin\\Miniconda3\\envs\\IntroML\\lib\\site-packages\\matplotlib\\axes\\_base.py:276: FutureWarning: Support for multi-dimensional indexing (e.g. `obj[:, None]`) is deprecated and will be removed in a future version.  Convert to a numpy array before indexing instead.\n",
      "  x = x[:, np.newaxis]\n",
      "C:\\Users\\Admin\\Miniconda3\\envs\\IntroML\\lib\\site-packages\\matplotlib\\axes\\_base.py:278: FutureWarning: Support for multi-dimensional indexing (e.g. `obj[:, None]`) is deprecated and will be removed in a future version.  Convert to a numpy array before indexing instead.\n",
      "  y = y[:, np.newaxis]\n"
     ]
    },
    {
     "data": {
      "text/plain": [
       "<matplotlib.axes._subplots.AxesSubplot at 0x23b8c8fa4c0>"
      ]
     },
     "execution_count": 139,
     "metadata": {},
     "output_type": "execute_result"
    },
    {
     "data": {
      "image/png": "[encoded data removed]",
      "text/plain": [
       "<Figure size 432x288 with 1 Axes>"
      ]
     },
     "metadata": {
      "needs_background": "light"
     },
     "output_type": "display_data"
    }
   ],
   "source": [
    "sns.distplot(chosen_df['v23'], fit=stats.norm)"
   ]
  },
  {
   "cell_type": "code",
   "execution_count": 140,
   "metadata": {},
   "outputs": [
    {
     "data": {
      "text/plain": [
       "KstestResult(statistic=0.43077016043874045, pvalue=3.305932149513027e-61)"
      ]
     },
     "execution_count": 140,
     "metadata": {},
     "output_type": "execute_result"
    }
   ],
   "source": [
    "stats.kstest(chosen_df['v23'], 'norm', args=(chosen_df['v23'].mean(), chosen_df['v23'].std()))"
   ]
  },
  {
   "cell_type": "markdown",
   "metadata": {},
   "source": [
    "##### Conclusion:\n",
    "\n",
    "The dependent variable 'v23' deviates from the normal distribution (H1 is accepted at p-value = 0.05)."
   ]
  },
  {
   "cell_type": "code",
   "execution_count": 141,
   "metadata": {},
   "outputs": [
    {
     "data": {
      "text/plain": [
       "<matplotlib.axes._subplots.AxesSubplot at 0x23b8c9e7ca0>"
      ]
     },
     "execution_count": 141,
     "metadata": {},
     "output_type": "execute_result"
    },
    {
     "data": {
      "image/png": "[encoded data removed]",
      "text/plain": [
       "<Figure size 432x288 with 1 Axes>"
      ]
     },
     "metadata": {
      "needs_background": "light"
     },
     "output_type": "display_data"
    }
   ],
   "source": [
    "chosen_df['v23'].groupby('year').mean().plot()"
   ]
  },
  {
   "cell_type": "markdown",
   "metadata": {},
   "source": [
    "Secure Internet servers number grows exponentially within these 4 years"
   ]
  },
  {
   "cell_type": "markdown",
   "metadata": {},
   "source": [
    "#### v35 Imports of goods and services (% of GDP)"
   ]
  },
  {
   "cell_type": "markdown",
   "metadata": {},
   "source": [
    "##### Hypothesis:\n",
    "\n",
    "H1: The distribution of the variable 'v35' is different from the normal distribution\n",
    "\n",
    "H0: The distribution of the variable 'v35' is not different from the normal distribution\n",
    "\n",
    "p-value = 0.05"
   ]
  },
  {
   "cell_type": "code",
   "execution_count": 142,
   "metadata": {},
   "outputs": [
    {
     "name": "stderr",
     "output_type": "stream",
     "text": [
      "C:\\Users\\Admin\\Miniconda3\\envs\\IntroML\\lib\\site-packages\\seaborn\\distributions.py:2619: FutureWarning: `distplot` is a deprecated function and will be removed in a future version. Please adapt your code to use either `displot` (a figure-level function with similar flexibility) or `histplot` (an axes-level function for histograms).\n",
      "  warnings.warn(msg, FutureWarning)\n",
      "C:\\Users\\Admin\\Miniconda3\\envs\\IntroML\\lib\\site-packages\\matplotlib\\cbook\\__init__.py:1402: FutureWarning: Support for multi-dimensional indexing (e.g. `obj[:, None]`) is deprecated and will be removed in a future version.  Convert to a numpy array before indexing instead.\n",
      "  ndim = x[:, None].ndim\n",
      "C:\\Users\\Admin\\Miniconda3\\envs\\IntroML\\lib\\site-packages\\matplotlib\\axes\\_base.py:276: FutureWarning: Support for multi-dimensional indexing (e.g. `obj[:, None]`) is deprecated and will be removed in a future version.  Convert to a numpy array before indexing instead.\n",
      "  x = x[:, np.newaxis]\n",
      "C:\\Users\\Admin\\Miniconda3\\envs\\IntroML\\lib\\site-packages\\matplotlib\\axes\\_base.py:278: FutureWarning: Support for multi-dimensional indexing (e.g. `obj[:, None]`) is deprecated and will be removed in a future version.  Convert to a numpy array before indexing instead.\n",
      "  y = y[:, np.newaxis]\n"
     ]
    },
    {
     "data": {
      "text/plain": [
       "<matplotlib.axes._subplots.AxesSubplot at 0x23b8ca4efa0>"
      ]
     },
     "execution_count": 142,
     "metadata": {},
     "output_type": "execute_result"
    },
    {
     "data": {
      "image/png": "[encoded data removed]",
      "text/plain": [
       "<Figure size 432x288 with 1 Axes>"
      ]
     },
     "metadata": {
      "needs_background": "light"
     },
     "output_type": "display_data"
    }
   ],
   "source": [
    "sns.distplot(chosen_df['v35'], fit=stats.norm)"
   ]
  },
  {
   "cell_type": "code",
   "execution_count": 143,
   "metadata": {},
   "outputs": [
    {
     "data": {
      "text/plain": [
       "KstestResult(statistic=0.0760756108294938, pvalue=0.02938002048117694)"
      ]
     },
     "execution_count": 143,
     "metadata": {},
     "output_type": "execute_result"
    }
   ],
   "source": [
    "stats.kstest(chosen_df['v35'], 'norm', args=(chosen_df['v35'].mean(), chosen_df['v35'].std()))"
   ]
  },
  {
   "cell_type": "markdown",
   "metadata": {},
   "source": [
    "##### Conclusion:\n",
    "\n",
    "The dependent variable 'v35' deviates from the normal distribution (H1 is accepted at p-value = 0.05). However, H1 is rejected at p-value 0.01"
   ]
  },
  {
   "cell_type": "markdown",
   "metadata": {},
   "source": [
    "#### v38 Life expectancy at birth, total (years)"
   ]
  },
  {
   "cell_type": "markdown",
   "metadata": {},
   "source": [
    "##### Hypothesis:\n",
    "\n",
    "H1: The distribution of the variable 'v38' is different from the normal distribution\n",
    "\n",
    "H0: The distribution of the variable 'v38' is not different from the normal distribution\n",
    "\n",
    "p-value = 0.05"
   ]
  },
  {
   "cell_type": "code",
   "execution_count": 144,
   "metadata": {},
   "outputs": [
    {
     "name": "stderr",
     "output_type": "stream",
     "text": [
      "C:\\Users\\Admin\\Miniconda3\\envs\\IntroML\\lib\\site-packages\\seaborn\\distributions.py:2619: FutureWarning: `distplot` is a deprecated function and will be removed in a future version. Please adapt your code to use either `displot` (a figure-level function with similar flexibility) or `histplot` (an axes-level function for histograms).\n",
      "  warnings.warn(msg, FutureWarning)\n",
      "C:\\Users\\Admin\\Miniconda3\\envs\\IntroML\\lib\\site-packages\\matplotlib\\cbook\\__init__.py:1402: FutureWarning: Support for multi-dimensional indexing (e.g. `obj[:, None]`) is deprecated and will be removed in a future version.  Convert to a numpy array before indexing instead.\n",
      "  ndim = x[:, None].ndim\n",
      "C:\\Users\\Admin\\Miniconda3\\envs\\IntroML\\lib\\site-packages\\matplotlib\\axes\\_base.py:276: FutureWarning: Support for multi-dimensional indexing (e.g. `obj[:, None]`) is deprecated and will be removed in a future version.  Convert to a numpy array before indexing instead.\n",
      "  x = x[:, np.newaxis]\n",
      "C:\\Users\\Admin\\Miniconda3\\envs\\IntroML\\lib\\site-packages\\matplotlib\\axes\\_base.py:278: FutureWarning: Support for multi-dimensional indexing (e.g. `obj[:, None]`) is deprecated and will be removed in a future version.  Convert to a numpy array before indexing instead.\n",
      "  y = y[:, np.newaxis]\n"
     ]
    },
    {
     "data": {
      "text/plain": [
       "<matplotlib.axes._subplots.AxesSubplot at 0x23b8cb00b80>"
      ]
     },
     "execution_count": 144,
     "metadata": {},
     "output_type": "execute_result"
    },
    {
     "data": {
      "image/png": "[encoded data removed]",
      "text/plain": [
       "<Figure size 432x288 with 1 Axes>"
      ]
     },
     "metadata": {
      "needs_background": "light"
     },
     "output_type": "display_data"
    }
   ],
   "source": [
    "sns.distplot(chosen_df['v38'], fit=stats.norm)"
   ]
  },
  {
   "cell_type": "code",
   "execution_count": 145,
   "metadata": {},
   "outputs": [
    {
     "data": {
      "text/plain": [
       "KstestResult(statistic=0.08064911849142009, pvalue=0.01746275359456608)"
      ]
     },
     "execution_count": 145,
     "metadata": {},
     "output_type": "execute_result"
    }
   ],
   "source": [
    "stats.kstest(chosen_df['v38'], 'norm', args=(chosen_df['v38'].mean(), chosen_df['v38'].std()))"
   ]
  },
  {
   "cell_type": "markdown",
   "metadata": {},
   "source": [
    "##### Conclusion:\n",
    "\n",
    "The dependent variable 'v38' deviates from the normal distribution (H1 is accepted at p-value = 0.05). However, H1 is rejected at p-value 0.01"
   ]
  },
  {
   "cell_type": "markdown",
   "metadata": {},
   "source": [
    "## Regression Model"
   ]
  },
  {
   "cell_type": "markdown",
   "metadata": {},
   "source": [
    "#### Hypotheses for relations between independent and dependent vars:\n",
    "\n",
    "- H0_1: The variable v15 is statistically significant for the logistic regression model constructed for a dependent variable 'v30'\n",
    "- H0_2: The variable v17 is statistically significant for the logistic regression model constructed for a dependent variable 'v30'\n",
    "- H0_3: The variable v19 is statistically significant for the logistic regression model constructed for a dependent variable 'v30'\n",
    "- H0_4: The variable v22 is statistically significant for the logistic regression model constructed for a dependent variable 'v30'\n",
    "- H0_5: The variable v23 is statistically significant for the logistic regression model constructed for a dependent variable 'v30'\n",
    "- H0_6: The variable v35 is statistically significant for the logistic regression model constructed for a dependent variable 'v30'\n",
    "- H0_7: The variable v38 is statistically significant for the logistic regression model constructed for a dependent variable 'v30'\n",
    "\n",
    "- H1_1: The variable v15 is not statistically significant for the logistic regression model constructed for a dependent variable 'v30'\n",
    "- H1_2: The variable v17 is not statistically significant for the logistic regression model constructed for a dependent variable 'v30'\n",
    "- H1_3: The variable v19 is not statistically significant for the logistic regression model constructed for a dependent variable 'v30'\n",
    "- H1_4: The variable v22 is not statistically significant for the logistic regression model constructed for a dependent variable 'v30'\n",
    "- H1_5: The variable v23 is not statistically significant for the logistic regression model constructed for a dependent variable 'v30'\n",
    "- H1_6: The variable v35 is not statistically significant for the logistic regression model constructed for a dependent variable 'v30'\n",
    "- H1_7: The variable v38 is not statistically significant for the logistic regression model constructed for a dependent variable 'v30'"
   ]
  },
  {
   "cell_type": "markdown",
   "metadata": {},
   "source": [
    "### Pooled Model"
   ]
  },
  {
   "cell_type": "code",
   "execution_count": 146,
   "metadata": {},
   "outputs": [
    {
     "name": "stdout",
     "output_type": "stream",
     "text": [
      "                          PooledOLS Estimation Summary                          \n",
      "================================================================================\n",
      "Dep. Variable:                    v30   R-squared:                        0.6301\n",
      "Estimator:                  PooledOLS   R-squared (Between):              0.6424\n",
      "No. Observations:                 360   R-squared (Within):              -8.1029\n",
      "Date:                Sat, May 14 2022   R-squared (Overall):              0.6301\n",
      "Time:                        18:43:18   Log-likelihood                   -3888.4\n",
      "Cov. Estimator:            Unadjusted                                           \n",
      "                                        F-statistic:                      59.440\n",
      "Entities:                          90   P-value                           0.0000\n",
      "Avg Obs:                       4.0000   Distribution:                  F(10,349)\n",
      "Min Obs:                       4.0000                                           \n",
      "Max Obs:                       4.0000   F-statistic (robust):             59.440\n",
      "                                        P-value                           0.0000\n",
      "Time periods:                       4   Distribution:                  F(10,349)\n",
      "Avg Obs:                       90.000                                           \n",
      "Min Obs:                       90.000                                           \n",
      "Max Obs:                       90.000                                           \n",
      "                                                                                \n",
      "                             Parameter Estimates                              \n",
      "==============================================================================\n",
      "            Parameter  Std. Err.     T-stat    P-value    Lower CI    Upper CI\n",
      "------------------------------------------------------------------------------\n",
      "const      -1.269e+05  1.126e+04    -11.263     0.0000   -1.49e+05  -1.047e+05\n",
      "v15            284.84     40.941     6.9572     0.0000      204.31      365.36\n",
      "v17           -0.0729     0.0175    -4.1698     0.0000     -0.1073     -0.0385\n",
      "v19           -111.35     27.863    -3.9963     0.0001     -166.15     -56.549\n",
      "v22            0.0846     0.0203     4.1708     0.0000      0.0447      0.1245\n",
      "v23            0.0004     0.0007     0.5923     0.5540     -0.0010      0.0018\n",
      "v35            67.660     28.277     2.3927     0.0173      12.044      123.28\n",
      "v38            1794.7     171.55     10.462     0.0000      1457.3      2132.1\n",
      "year.2016     -861.80     1800.6    -0.4786     0.6325     -4403.2      2679.6\n",
      "year.2017     -2085.1     1817.3    -1.1474     0.2520     -5659.2      1489.1\n",
      "year.2018     -2890.6     1848.1    -1.5641     0.1187     -6525.4      744.25\n",
      "==============================================================================\n"
     ]
    }
   ],
   "source": [
    "exog_vars = [\"v15\", \"v17\", \"v19\", \"v22\", \"v23\", \"v35\", \"v38\", \"year\"]\n",
    "exog = sm.add_constant(chosen_df[exog_vars])\n",
    "mod = PooledOLS(chosen_df.v30, exog)\n",
    "pooled_res = mod.fit()\n",
    "print(pooled_res)"
   ]
  },
  {
   "cell_type": "markdown",
   "metadata": {},
   "source": [
    "From first glance, the model is quite feasible since it has quite high R-squared. However, there is enourmously low R-squared (Within) that indicates that something goes wrong: the model does not decribe well changes over years within countries."
   ]
  },
  {
   "cell_type": "markdown",
   "metadata": {},
   "source": [
    "### Fixed effect model"
   ]
  },
  {
   "cell_type": "code",
   "execution_count": 149,
   "metadata": {},
   "outputs": [
    {
     "name": "stdout",
     "output_type": "stream",
     "text": [
      "                          PanelOLS Estimation Summary                           \n",
      "================================================================================\n",
      "Dep. Variable:                    v30   R-squared:                        0.3822\n",
      "Estimator:                   PanelOLS   R-squared (Between):             -0.1869\n",
      "No. Observations:                 360   R-squared (Within):               0.3822\n",
      "Date:                Sat, May 14 2022   R-squared (Overall):             -0.1861\n",
      "Time:                        18:45:08   Log-likelihood                   -2799.1\n",
      "Cov. Estimator:            Unadjusted                                           \n",
      "                                        F-statistic:                      16.084\n",
      "Entities:                          90   P-value                           0.0000\n",
      "Avg Obs:                       4.0000   Distribution:                  F(10,260)\n",
      "Min Obs:                       4.0000                                           \n",
      "Max Obs:                       4.0000   F-statistic (robust):             16.084\n",
      "                                        P-value                           0.0000\n",
      "Time periods:                       4   Distribution:                  F(10,260)\n",
      "Avg Obs:                       90.000                                           \n",
      "Min Obs:                       90.000                                           \n",
      "Max Obs:                       90.000                                           \n",
      "                                                                                \n",
      "                             Parameter Estimates                              \n",
      "==============================================================================\n",
      "            Parameter  Std. Err.     T-stat    P-value    Lower CI    Upper CI\n",
      "------------------------------------------------------------------------------\n",
      "const       4.487e+04  1.713e+04     2.6189     0.0093   1.113e+04    7.86e+04\n",
      "v15           -13.333     5.7079    -2.3359     0.0203     -24.573     -2.0934\n",
      "v17            0.0097     0.0092     1.0597     0.2903     -0.0084      0.0278\n",
      "v19            7.8009     5.3634     1.4545     0.1470     -2.7604      18.362\n",
      "v22           -0.0107     0.0104    -1.0285     0.3047     -0.0313      0.0098\n",
      "v23           9.7e-05  4.453e-05     2.1782     0.0303   9.311e-06      0.0002\n",
      "v35           -19.308     13.090    -1.4750     0.1414     -45.085      6.4683\n",
      "v38           -350.33     226.13    -1.5493     0.1225     -795.60      94.941\n",
      "year.2016      381.65     118.82     3.2119     0.0015      147.67      615.62\n",
      "year.2017      947.89     148.62     6.3781     0.0000      655.24      1240.5\n",
      "year.2018      1437.1     184.62     7.7842     0.0000      1073.6      1800.7\n",
      "==============================================================================\n",
      "\n",
      "F-test for Poolability: 1237.9\n",
      "P-value: 0.0000\n",
      "Distribution: F(89,260)\n",
      "\n",
      "Included effects: Entity\n"
     ]
    }
   ],
   "source": [
    "exog_vars = [\"v15\", \"v17\", \"v19\", \"v22\", \"v23\", \"v35\", \"v38\", \"year\"]\n",
    "exog = sm.add_constant(chosen_df[exog_vars])\n",
    "mod = PanelOLS(chosen_df.v30, exog, entity_effects=True)\n",
    "fe_res = mod.fit()\n",
    "print(fe_res)"
   ]
  },
  {
   "cell_type": "markdown",
   "metadata": {},
   "source": [
    "The model is less feasible in comparison to the previous one according to R-squared. However, R-squared (Within) becomes positive meaning that the model much better describes changes over years within countries, but the variation between countries is captured worse."
   ]
  },
  {
   "cell_type": "markdown",
   "metadata": {},
   "source": [
    "### Random effect model"
   ]
  },
  {
   "cell_type": "code",
   "execution_count": 150,
   "metadata": {},
   "outputs": [
    {
     "name": "stdout",
     "output_type": "stream",
     "text": [
      "                        RandomEffects Estimation Summary                        \n",
      "================================================================================\n",
      "Dep. Variable:                    v30   R-squared:                        0.2944\n",
      "Estimator:              RandomEffects   R-squared (Between):              0.3023\n",
      "No. Observations:                 360   R-squared (Within):               0.2903\n",
      "Date:                Sat, May 14 2022   R-squared (Overall):              0.3023\n",
      "Time:                        18:46:04   Log-likelihood                   -2899.4\n",
      "Cov. Estimator:            Unadjusted                                           \n",
      "                                        F-statistic:                      14.563\n",
      "Entities:                          90   P-value                           0.0000\n",
      "Avg Obs:                       4.0000   Distribution:                  F(10,349)\n",
      "Min Obs:                       4.0000                                           \n",
      "Max Obs:                       4.0000   F-statistic (robust):             14.563\n",
      "                                        P-value                           0.0000\n",
      "Time periods:                       4   Distribution:                  F(10,349)\n",
      "Avg Obs:                       90.000                                           \n",
      "Min Obs:                       90.000                                           \n",
      "Max Obs:                       90.000                                           \n",
      "                                                                                \n",
      "                             Parameter Estimates                              \n",
      "==============================================================================\n",
      "            Parameter  Std. Err.     T-stat    P-value    Lower CI    Upper CI\n",
      "------------------------------------------------------------------------------\n",
      "const      -5.766e+04   1.45e+04    -3.9765     0.0001  -8.618e+04  -2.914e+04\n",
      "v15           -8.9144     6.4833    -1.3750     0.1700     -21.666      3.8369\n",
      "v17            0.0022     0.0100     0.2226     0.8240     -0.0174      0.0218\n",
      "v19            8.4650     6.0787     1.3926     0.1646     -3.4905      20.420\n",
      "v22           -0.0023     0.0111    -0.2064     0.8366     -0.0242      0.0196\n",
      "v23            0.0002  5.037e-05     3.0278     0.0026   5.344e-05      0.0003\n",
      "v35           -14.420     14.528    -0.9926     0.3216     -42.993      14.153\n",
      "v38            995.06     190.87     5.2132     0.0000      619.65      1370.5\n",
      "year.2016      22.273     127.32     0.1749     0.8612     -228.15      272.69\n",
      "year.2017      300.03     149.16     2.0115     0.0450      6.6651      593.39\n",
      "year.2018      531.35     177.78     2.9888     0.0030      181.69      881.00\n",
      "==============================================================================\n"
     ]
    }
   ],
   "source": [
    "mod = RandomEffects(chosen_df.v30, exog)\n",
    "re_res = mod.fit()\n",
    "print(re_res)"
   ]
  },
  {
   "cell_type": "markdown",
   "metadata": {},
   "source": [
    "The model is less feasible in comparison to the Pool Model according to R-squared. However, here all R-Squared are nearby 0.3, so the model fits the data simultaneously between and within countries better in average."
   ]
  },
  {
   "cell_type": "markdown",
   "metadata": {},
   "source": [
    "## Selection of a Panel Data Model"
   ]
  },
  {
   "cell_type": "markdown",
   "metadata": {},
   "source": [
    "#### Hypotheses:\n",
    "\n",
    "H0: no individual effects in the dataset\n",
    "\n",
    "H1: there exist some individual effects in the dataset"
   ]
  },
  {
   "cell_type": "code",
   "execution_count": 152,
   "metadata": {},
   "outputs": [
    {
     "name": "stdout",
     "output_type": "stream",
     "text": [
      "P-value: 0.0007783457222519093\n"
     ]
    }
   ],
   "source": [
    "from statsmodels.stats.diagnostic import het_breuschpagan\n",
    "residuals_pooled_OLS = pooled_res.resids #save residuals\n",
    "pooled_OLS_dataset = pd.concat([chosen_df, residuals_pooled_OLS], axis=1) #add the resisduals to the original dataset\n",
    "breusch_pagan_test_results = het_breuschpagan(pooled_OLS_dataset['residual'], exog)\n",
    "print('P-value:', breusch_pagan_test_results[3])"
   ]
  },
  {
   "cell_type": "markdown",
   "metadata": {},
   "source": [
    "#### Conclusion:\n",
    "\n",
    "H1 is accepted => there are individual effects => we should select a model with effects (fixed or random)."
   ]
  },
  {
   "cell_type": "markdown",
   "metadata": {},
   "source": [
    "#### Hypotheses:\n",
    "\n",
    "H0: individual effects and regressors are not correlated (they are random)\n",
    "\n",
    "H1: there is a correlation between individual effects and regressors"
   ]
  },
  {
   "cell_type": "code",
   "execution_count": 153,
   "metadata": {},
   "outputs": [
    {
     "name": "stdout",
     "output_type": "stream",
     "text": [
      "p-value: 2.7243856869868795e-19\n"
     ]
    }
   ],
   "source": [
    "import numpy.linalg as la\n",
    "from scipy import stats\n",
    "def hausman(fe, re):\n",
    "    b = fe.params\n",
    "    B = re.params\n",
    "    v_b = fe.cov\n",
    "    v_B = re.cov\n",
    "    df = b[np.abs(b) < 1e8].size\n",
    "    chi2 = np.dot((b - B).T, la.inv(v_b - v_B).dot(b - B)) \n",
    "    pval = stats.chi2.sf(chi2, df)\n",
    "    return chi2, df, pval\n",
    "\n",
    "hausman_results = hausman(fe_res, re_res) \n",
    "print('p-value: ' + str(hausman_results[2]))"
   ]
  },
  {
   "cell_type": "markdown",
   "metadata": {},
   "source": [
    "H1 is accepted => there is a correlation => fixed-effects model has to be chosen.\n",
    "\n",
    "Although R-squared preliminary analysis showed that Random Effects Model is better at describing variances simultaneously between and within countries, the analysis performed above has proved that fixed-effects model is better here. Reason: there exist individual effects of countries that influence the change in GDP throughout the years, so Pooled cannot be used; then, there exists correlation between such individual effects and model regressors, which means that a model with fixed effects has to be used at this dataset"
   ]
  },
  {
   "cell_type": "markdown",
   "metadata": {},
   "source": [
    "## Model description"
   ]
  },
  {
   "cell_type": "code",
   "execution_count": 154,
   "metadata": {},
   "outputs": [
    {
     "name": "stdout",
     "output_type": "stream",
     "text": [
      "                          PanelOLS Estimation Summary                           \n",
      "================================================================================\n",
      "Dep. Variable:                    v30   R-squared:                        0.3822\n",
      "Estimator:                   PanelOLS   R-squared (Between):             -0.1869\n",
      "No. Observations:                 360   R-squared (Within):               0.3822\n",
      "Date:                Sat, May 14 2022   R-squared (Overall):             -0.1861\n",
      "Time:                        18:45:08   Log-likelihood                   -2799.1\n",
      "Cov. Estimator:            Unadjusted                                           \n",
      "                                        F-statistic:                      16.084\n",
      "Entities:                          90   P-value                           0.0000\n",
      "Avg Obs:                       4.0000   Distribution:                  F(10,260)\n",
      "Min Obs:                       4.0000                                           \n",
      "Max Obs:                       4.0000   F-statistic (robust):             16.084\n",
      "                                        P-value                           0.0000\n",
      "Time periods:                       4   Distribution:                  F(10,260)\n",
      "Avg Obs:                       90.000                                           \n",
      "Min Obs:                       90.000                                           \n",
      "Max Obs:                       90.000                                           \n",
      "                                                                                \n",
      "                             Parameter Estimates                              \n",
      "==============================================================================\n",
      "            Parameter  Std. Err.     T-stat    P-value    Lower CI    Upper CI\n",
      "------------------------------------------------------------------------------\n",
      "const       4.487e+04  1.713e+04     2.6189     0.0093   1.113e+04    7.86e+04\n",
      "v15           -13.333     5.7079    -2.3359     0.0203     -24.573     -2.0934\n",
      "v17            0.0097     0.0092     1.0597     0.2903     -0.0084      0.0278\n",
      "v19            7.8009     5.3634     1.4545     0.1470     -2.7604      18.362\n",
      "v22           -0.0107     0.0104    -1.0285     0.3047     -0.0313      0.0098\n",
      "v23           9.7e-05  4.453e-05     2.1782     0.0303   9.311e-06      0.0002\n",
      "v35           -19.308     13.090    -1.4750     0.1414     -45.085      6.4683\n",
      "v38           -350.33     226.13    -1.5493     0.1225     -795.60      94.941\n",
      "year.2016      381.65     118.82     3.2119     0.0015      147.67      615.62\n",
      "year.2017      947.89     148.62     6.3781     0.0000      655.24      1240.5\n",
      "year.2018      1437.1     184.62     7.7842     0.0000      1073.6      1800.7\n",
      "==============================================================================\n",
      "\n",
      "F-test for Poolability: 1237.9\n",
      "P-value: 0.0000\n",
      "Distribution: F(89,260)\n",
      "\n",
      "Included effects: Entity\n"
     ]
    }
   ],
   "source": [
    "print(fe_res)"
   ]
  },
  {
   "cell_type": "markdown",
   "metadata": {},
   "source": [
    "The model is statistically significant according to P-value of the model.\n",
    "Statistically significant dependent variables are the following (at p-value = 0.05):\n",
    "\n",
    "- v15\n",
    "- v23\n",
    "- year (2016,2017,2018)\n",
    "\n",
    "So, H1_1 and H1_5 are rejected, H1_2, H1_3, H1_4, H1_6 and H1_7 are accepted at p-value = 0.05."
   ]
  },
  {
   "cell_type": "markdown",
   "metadata": {},
   "source": [
    "General R-squared is 0.38 meaning that the model describes 38% dispersion of the dependent variable. \n",
    "\n",
    "R-squared (Between) is negative - the model describes variation in the dependent variable between units of analysis worse than the model that could randomly predict the dependent variable.\n",
    "\n",
    "R-squared (Within) is 0.38 meaning that the model describes 38% variation in the dependent variable within units of analysis."
   ]
  },
  {
   "cell_type": "markdown",
   "metadata": {},
   "source": [
    "### Relationships"
   ]
  },
  {
   "cell_type": "code",
   "execution_count": 159,
   "metadata": {},
   "outputs": [
    {
     "data": {
      "text/html": [
       "<div>\n",
       "<style scoped>\n",
       "    .dataframe tbody tr th:only-of-type {\n",
       "        vertical-align: middle;\n",
       "    }\n",
       "\n",
       "    .dataframe tbody tr th {\n",
       "        vertical-align: top;\n",
       "    }\n",
       "\n",
       "    .dataframe thead th {\n",
       "        text-align: right;\n",
       "    }\n",
       "</style>\n",
       "<table border=\"1\" class=\"dataframe\">\n",
       "  <thead>\n",
       "    <tr style=\"text-align: right;\">\n",
       "      <th></th>\n",
       "      <th>Coefs</th>\n",
       "    </tr>\n",
       "    <tr>\n",
       "      <th>Features</th>\n",
       "      <th></th>\n",
       "    </tr>\n",
       "  </thead>\n",
       "  <tbody>\n",
       "    <tr>\n",
       "      <th>v15</th>\n",
       "      <td>-13.333009</td>\n",
       "    </tr>\n",
       "    <tr>\n",
       "      <th>v17</th>\n",
       "      <td>0.009739</td>\n",
       "    </tr>\n",
       "    <tr>\n",
       "      <th>v19</th>\n",
       "      <td>7.800878</td>\n",
       "    </tr>\n",
       "    <tr>\n",
       "      <th>v22</th>\n",
       "      <td>-0.010729</td>\n",
       "    </tr>\n",
       "    <tr>\n",
       "      <th>v23</th>\n",
       "      <td>0.000097</td>\n",
       "    </tr>\n",
       "    <tr>\n",
       "      <th>v35</th>\n",
       "      <td>-19.308257</td>\n",
       "    </tr>\n",
       "    <tr>\n",
       "      <th>v38</th>\n",
       "      <td>-350.330612</td>\n",
       "    </tr>\n",
       "    <tr>\n",
       "      <th>year.2016</th>\n",
       "      <td>381.646206</td>\n",
       "    </tr>\n",
       "    <tr>\n",
       "      <th>year.2017</th>\n",
       "      <td>947.886932</td>\n",
       "    </tr>\n",
       "    <tr>\n",
       "      <th>year.2018</th>\n",
       "      <td>1437.130127</td>\n",
       "    </tr>\n",
       "  </tbody>\n",
       "</table>\n",
       "</div>"
      ],
      "text/plain": [
       "                 Coefs\n",
       "Features              \n",
       "v15         -13.333009\n",
       "v17           0.009739\n",
       "v19           7.800878\n",
       "v22          -0.010729\n",
       "v23           0.000097\n",
       "v35         -19.308257\n",
       "v38        -350.330612\n",
       "year.2016   381.646206\n",
       "year.2017   947.886932\n",
       "year.2018  1437.130127"
      ]
     },
     "execution_count": 159,
     "metadata": {},
     "output_type": "execute_result"
    }
   ],
   "source": [
    "coefs = pd.DataFrame()\n",
    "coefs['Coefs'] = fe_res.params[1:]\n",
    "coefs['Features'] = fe_res.params.index[1:]\n",
    "coefs.set_index('Features', inplace=True)\n",
    "coefs"
   ]
  },
  {
   "cell_type": "markdown",
   "metadata": {},
   "source": [
    "- Let's consider the coefficient on the variable v15 (Individuals using the Internet (% of population)). The regression coefficient for the variable is negative and equals -13.3. It can be concluded that an increase in Individuals using the Internet (% of population) by one percent, on average, leads to a decrease of GDP by 13.3 dollars.\n",
    "- Let's consider the coefficient on the variable v23 (Secure Internet servers). The regression coefficient for this variable is 0.000097. It can be concluded that an increase in number of secure internet servers by 10000, on average, leads to an increase in GDP by 0.97 dollars.\n",
    "\n",
    "As for the years:\n",
    "- In comparison to 2015, the GDP in 2016 is, on average, higher on 381.6 dollars; the GDP in 2017 is, on average, higher on 948 dollars; the GDP in 2018 is, on average, higher on 1437 dollars.\n",
    "\n",
    "All the other predictors are not statistically significant"
   ]
  },
  {
   "cell_type": "markdown",
   "metadata": {},
   "source": [
    "## Final conclusions"
   ]
  },
  {
   "cell_type": "markdown",
   "metadata": {},
   "source": [
    "According to the chosen dependent variable and predictor, the most promising model appears to be fixed-effect model due to existence of individual effects of countries that influence the change in GDP throughout the years, so Pooled cannot be used, and existence of correlation between such individual effects and model regressors. The result model is statistically significant but R-squared (Between) is negative, which means that the model badly describes variation in the dependent variable between units of analysis. Probably, a change of independent variables can influence this indicator in a positive way. General R-squared is 0.38 meaning that the model describes 38% of dispersion of the dependent variable, which is not that bad, but is much worse in comparison to the Pooled model. \n",
    "\n",
    "As for dependent variables, only 2 of them appear to be significant: Individuals using the Internet (% of population) and Secure Internet servers. That means that all the other variables can be replaced with some other from the source dataset. Such a change can probably make the model fit the data better. As for significant parameters, it is seen that they have a very small influence on the actual value of the country GDP. The most influential parameter is a year, which was obvious even before the analysis.\n",
    "\n",
    "All in all, from my perspective, the model is not really applicable for use in practice and has to be readjusted."
   ]
  },
  {
   "cell_type": "code",
   "execution_count": null,
   "metadata": {},
   "outputs": [],
   "source": []
  }
 ],
 "metadata": {
  "kernelspec": {
   "display_name": "Python 3",
   "language": "python",
   "name": "python3"
  },
  "language_info": {
   "codemirror_mode": {
    "name": "ipython",
    "version": 3
   },
   "file_extension": ".py",
   "mimetype": "text/x-python",
   "name": "python",
   "nbconvert_exporter": "python",
   "pygments_lexer": "ipython3",
   "version": "3.8.1"
  }
 },
 "nbformat": 4,
 "nbformat_minor": 4
}
