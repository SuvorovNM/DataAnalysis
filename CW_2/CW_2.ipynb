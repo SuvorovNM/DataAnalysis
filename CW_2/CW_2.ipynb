{
 "cells": [
  {
   "cell_type": "code",
   "execution_count": 1,
   "metadata": {},
   "outputs": [],
   "source": [
    "import pandas as pd\n",
    "import seaborn as sns\n",
    "import matplotlib.pyplot as plt\n",
    "from scipy import stats \n",
    "import numpy as np\n",
    "import statsmodels.api as sm\n",
    "from statsmodels.stats.outliers_influence import variance_inflation_factor as vif\n",
    "from sklearn.metrics import roc_curve, auc\n",
    "from linearmodels import PanelOLS, RandomEffects, PooledOLS"
   ]
  },
  {
   "cell_type": "markdown",
   "metadata": {},
   "source": [
    "# Task 1 - Binary Regression"
   ]
  },
  {
   "cell_type": "code",
   "execution_count": 2,
   "metadata": {},
   "outputs": [
    {
     "data": {
      "text/html": [
       "<div>\n",
       "<style scoped>\n",
       "    .dataframe tbody tr th:only-of-type {\n",
       "        vertical-align: middle;\n",
       "    }\n",
       "\n",
       "    .dataframe tbody tr th {\n",
       "        vertical-align: top;\n",
       "    }\n",
       "\n",
       "    .dataframe thead th {\n",
       "        text-align: right;\n",
       "    }\n",
       "</style>\n",
       "<table border=\"1\" class=\"dataframe\">\n",
       "  <thead>\n",
       "    <tr style=\"text-align: right;\">\n",
       "      <th></th>\n",
       "      <th>region</th>\n",
       "      <th>tenure</th>\n",
       "      <th>age</th>\n",
       "      <th>marital</th>\n",
       "      <th>address</th>\n",
       "      <th>income</th>\n",
       "      <th>ed</th>\n",
       "      <th>employ</th>\n",
       "      <th>retire</th>\n",
       "      <th>gender</th>\n",
       "      <th>...</th>\n",
       "      <th>equipmon</th>\n",
       "      <th>cardmon</th>\n",
       "      <th>wiremon</th>\n",
       "      <th>multline</th>\n",
       "      <th>voice</th>\n",
       "      <th>internet</th>\n",
       "      <th>callid</th>\n",
       "      <th>callwait</th>\n",
       "      <th>forward</th>\n",
       "      <th>confer</th>\n",
       "    </tr>\n",
       "  </thead>\n",
       "  <tbody>\n",
       "    <tr>\n",
       "      <th>0</th>\n",
       "      <td>Zone 2</td>\n",
       "      <td>13</td>\n",
       "      <td>44</td>\n",
       "      <td>Married</td>\n",
       "      <td>9</td>\n",
       "      <td>64</td>\n",
       "      <td>College degree</td>\n",
       "      <td>5</td>\n",
       "      <td>No</td>\n",
       "      <td>Male</td>\n",
       "      <td>...</td>\n",
       "      <td>0.00</td>\n",
       "      <td>7.50</td>\n",
       "      <td>0.0</td>\n",
       "      <td>No</td>\n",
       "      <td>No</td>\n",
       "      <td>No</td>\n",
       "      <td>No</td>\n",
       "      <td>No</td>\n",
       "      <td>Yes</td>\n",
       "      <td>No</td>\n",
       "    </tr>\n",
       "    <tr>\n",
       "      <th>1</th>\n",
       "      <td>Zone 3</td>\n",
       "      <td>11</td>\n",
       "      <td>33</td>\n",
       "      <td>Married</td>\n",
       "      <td>7</td>\n",
       "      <td>136</td>\n",
       "      <td>Post-undergraduate degree</td>\n",
       "      <td>5</td>\n",
       "      <td>No</td>\n",
       "      <td>Male</td>\n",
       "      <td>...</td>\n",
       "      <td>0.00</td>\n",
       "      <td>15.25</td>\n",
       "      <td>35.7</td>\n",
       "      <td>No</td>\n",
       "      <td>Yes</td>\n",
       "      <td>No</td>\n",
       "      <td>Yes</td>\n",
       "      <td>Yes</td>\n",
       "      <td>Yes</td>\n",
       "      <td>Yes</td>\n",
       "    </tr>\n",
       "    <tr>\n",
       "      <th>2</th>\n",
       "      <td>Zone 3</td>\n",
       "      <td>68</td>\n",
       "      <td>52</td>\n",
       "      <td>Married</td>\n",
       "      <td>24</td>\n",
       "      <td>116</td>\n",
       "      <td>Did not complete high school</td>\n",
       "      <td>29</td>\n",
       "      <td>No</td>\n",
       "      <td>Female</td>\n",
       "      <td>...</td>\n",
       "      <td>0.00</td>\n",
       "      <td>30.25</td>\n",
       "      <td>0.0</td>\n",
       "      <td>No</td>\n",
       "      <td>No</td>\n",
       "      <td>No</td>\n",
       "      <td>Yes</td>\n",
       "      <td>Yes</td>\n",
       "      <td>No</td>\n",
       "      <td>Yes</td>\n",
       "    </tr>\n",
       "    <tr>\n",
       "      <th>3</th>\n",
       "      <td>Zone 2</td>\n",
       "      <td>33</td>\n",
       "      <td>33</td>\n",
       "      <td>Unmarried</td>\n",
       "      <td>12</td>\n",
       "      <td>33</td>\n",
       "      <td>High school degree</td>\n",
       "      <td>0</td>\n",
       "      <td>No</td>\n",
       "      <td>Female</td>\n",
       "      <td>...</td>\n",
       "      <td>0.00</td>\n",
       "      <td>0.00</td>\n",
       "      <td>0.0</td>\n",
       "      <td>No</td>\n",
       "      <td>No</td>\n",
       "      <td>No</td>\n",
       "      <td>No</td>\n",
       "      <td>No</td>\n",
       "      <td>No</td>\n",
       "      <td>No</td>\n",
       "    </tr>\n",
       "    <tr>\n",
       "      <th>4</th>\n",
       "      <td>Zone 2</td>\n",
       "      <td>23</td>\n",
       "      <td>30</td>\n",
       "      <td>Married</td>\n",
       "      <td>9</td>\n",
       "      <td>30</td>\n",
       "      <td>Did not complete high school</td>\n",
       "      <td>2</td>\n",
       "      <td>No</td>\n",
       "      <td>Male</td>\n",
       "      <td>...</td>\n",
       "      <td>0.00</td>\n",
       "      <td>0.00</td>\n",
       "      <td>0.0</td>\n",
       "      <td>No</td>\n",
       "      <td>No</td>\n",
       "      <td>No</td>\n",
       "      <td>Yes</td>\n",
       "      <td>No</td>\n",
       "      <td>Yes</td>\n",
       "      <td>Yes</td>\n",
       "    </tr>\n",
       "    <tr>\n",
       "      <th>...</th>\n",
       "      <td>...</td>\n",
       "      <td>...</td>\n",
       "      <td>...</td>\n",
       "      <td>...</td>\n",
       "      <td>...</td>\n",
       "      <td>...</td>\n",
       "      <td>...</td>\n",
       "      <td>...</td>\n",
       "      <td>...</td>\n",
       "      <td>...</td>\n",
       "      <td>...</td>\n",
       "      <td>...</td>\n",
       "      <td>...</td>\n",
       "      <td>...</td>\n",
       "      <td>...</td>\n",
       "      <td>...</td>\n",
       "      <td>...</td>\n",
       "      <td>...</td>\n",
       "      <td>...</td>\n",
       "      <td>...</td>\n",
       "      <td>...</td>\n",
       "    </tr>\n",
       "    <tr>\n",
       "      <th>995</th>\n",
       "      <td>Zone 3</td>\n",
       "      <td>10</td>\n",
       "      <td>39</td>\n",
       "      <td>Unmarried</td>\n",
       "      <td>0</td>\n",
       "      <td>27</td>\n",
       "      <td>Some college</td>\n",
       "      <td>0</td>\n",
       "      <td>No</td>\n",
       "      <td>Female</td>\n",
       "      <td>...</td>\n",
       "      <td>29.05</td>\n",
       "      <td>0.00</td>\n",
       "      <td>0.0</td>\n",
       "      <td>No</td>\n",
       "      <td>No</td>\n",
       "      <td>No</td>\n",
       "      <td>No</td>\n",
       "      <td>No</td>\n",
       "      <td>No</td>\n",
       "      <td>No</td>\n",
       "    </tr>\n",
       "    <tr>\n",
       "      <th>996</th>\n",
       "      <td>Zone 1</td>\n",
       "      <td>7</td>\n",
       "      <td>34</td>\n",
       "      <td>Unmarried</td>\n",
       "      <td>2</td>\n",
       "      <td>22</td>\n",
       "      <td>Post-undergraduate degree</td>\n",
       "      <td>5</td>\n",
       "      <td>No</td>\n",
       "      <td>Female</td>\n",
       "      <td>...</td>\n",
       "      <td>25.60</td>\n",
       "      <td>0.00</td>\n",
       "      <td>0.0</td>\n",
       "      <td>No</td>\n",
       "      <td>No</td>\n",
       "      <td>No</td>\n",
       "      <td>No</td>\n",
       "      <td>No</td>\n",
       "      <td>No</td>\n",
       "      <td>No</td>\n",
       "    </tr>\n",
       "    <tr>\n",
       "      <th>997</th>\n",
       "      <td>Zone 3</td>\n",
       "      <td>67</td>\n",
       "      <td>59</td>\n",
       "      <td>Unmarried</td>\n",
       "      <td>40</td>\n",
       "      <td>944</td>\n",
       "      <td>Post-undergraduate degree</td>\n",
       "      <td>33</td>\n",
       "      <td>No</td>\n",
       "      <td>Female</td>\n",
       "      <td>...</td>\n",
       "      <td>54.55</td>\n",
       "      <td>35.75</td>\n",
       "      <td>65.8</td>\n",
       "      <td>Yes</td>\n",
       "      <td>Yes</td>\n",
       "      <td>Yes</td>\n",
       "      <td>Yes</td>\n",
       "      <td>Yes</td>\n",
       "      <td>Yes</td>\n",
       "      <td>Yes</td>\n",
       "    </tr>\n",
       "    <tr>\n",
       "      <th>998</th>\n",
       "      <td>Zone 3</td>\n",
       "      <td>70</td>\n",
       "      <td>49</td>\n",
       "      <td>Unmarried</td>\n",
       "      <td>18</td>\n",
       "      <td>87</td>\n",
       "      <td>High school degree</td>\n",
       "      <td>22</td>\n",
       "      <td>No</td>\n",
       "      <td>Female</td>\n",
       "      <td>...</td>\n",
       "      <td>0.00</td>\n",
       "      <td>25.25</td>\n",
       "      <td>0.0</td>\n",
       "      <td>No</td>\n",
       "      <td>Yes</td>\n",
       "      <td>No</td>\n",
       "      <td>Yes</td>\n",
       "      <td>Yes</td>\n",
       "      <td>Yes</td>\n",
       "      <td>Yes</td>\n",
       "    </tr>\n",
       "    <tr>\n",
       "      <th>999</th>\n",
       "      <td>Zone 3</td>\n",
       "      <td>50</td>\n",
       "      <td>36</td>\n",
       "      <td>Married</td>\n",
       "      <td>7</td>\n",
       "      <td>39</td>\n",
       "      <td>Some college</td>\n",
       "      <td>3</td>\n",
       "      <td>No</td>\n",
       "      <td>Female</td>\n",
       "      <td>...</td>\n",
       "      <td>33.60</td>\n",
       "      <td>16.25</td>\n",
       "      <td>0.0</td>\n",
       "      <td>Yes</td>\n",
       "      <td>No</td>\n",
       "      <td>Yes</td>\n",
       "      <td>No</td>\n",
       "      <td>No</td>\n",
       "      <td>No</td>\n",
       "      <td>No</td>\n",
       "    </tr>\n",
       "  </tbody>\n",
       "</table>\n",
       "<p>1000 rows × 27 columns</p>\n",
       "</div>"
      ],
      "text/plain": [
       "     region  tenure  age    marital  address  income  \\\n",
       "0    Zone 2      13   44    Married        9      64   \n",
       "1    Zone 3      11   33    Married        7     136   \n",
       "2    Zone 3      68   52    Married       24     116   \n",
       "3    Zone 2      33   33  Unmarried       12      33   \n",
       "4    Zone 2      23   30    Married        9      30   \n",
       "..      ...     ...  ...        ...      ...     ...   \n",
       "995  Zone 3      10   39  Unmarried        0      27   \n",
       "996  Zone 1       7   34  Unmarried        2      22   \n",
       "997  Zone 3      67   59  Unmarried       40     944   \n",
       "998  Zone 3      70   49  Unmarried       18      87   \n",
       "999  Zone 3      50   36    Married        7      39   \n",
       "\n",
       "                               ed  employ retire  gender  ...  equipmon  \\\n",
       "0                  College degree       5     No    Male  ...      0.00   \n",
       "1       Post-undergraduate degree       5     No    Male  ...      0.00   \n",
       "2    Did not complete high school      29     No  Female  ...      0.00   \n",
       "3              High school degree       0     No  Female  ...      0.00   \n",
       "4    Did not complete high school       2     No    Male  ...      0.00   \n",
       "..                            ...     ...    ...     ...  ...       ...   \n",
       "995                  Some college       0     No  Female  ...     29.05   \n",
       "996     Post-undergraduate degree       5     No  Female  ...     25.60   \n",
       "997     Post-undergraduate degree      33     No  Female  ...     54.55   \n",
       "998            High school degree      22     No  Female  ...      0.00   \n",
       "999                  Some college       3     No  Female  ...     33.60   \n",
       "\n",
       "    cardmon wiremon multline voice  internet  callid  callwait  forward  \\\n",
       "0      7.50     0.0       No    No        No      No        No      Yes   \n",
       "1     15.25    35.7       No   Yes        No     Yes       Yes      Yes   \n",
       "2     30.25     0.0       No    No        No     Yes       Yes       No   \n",
       "3      0.00     0.0       No    No        No      No        No       No   \n",
       "4      0.00     0.0       No    No        No     Yes        No      Yes   \n",
       "..      ...     ...      ...   ...       ...     ...       ...      ...   \n",
       "995    0.00     0.0       No    No        No      No        No       No   \n",
       "996    0.00     0.0       No    No        No      No        No       No   \n",
       "997   35.75    65.8      Yes   Yes       Yes     Yes       Yes      Yes   \n",
       "998   25.25     0.0       No   Yes        No     Yes       Yes      Yes   \n",
       "999   16.25     0.0      Yes    No       Yes      No        No       No   \n",
       "\n",
       "     confer  \n",
       "0        No  \n",
       "1       Yes  \n",
       "2       Yes  \n",
       "3        No  \n",
       "4       Yes  \n",
       "..      ...  \n",
       "995      No  \n",
       "996      No  \n",
       "997     Yes  \n",
       "998     Yes  \n",
       "999      No  \n",
       "\n",
       "[1000 rows x 27 columns]"
      ]
     },
     "execution_count": 2,
     "metadata": {},
     "output_type": "execute_result"
    }
   ],
   "source": [
    "df = pd.read_excel(\"telco.xls\")\n",
    "df"
   ]
  },
  {
   "cell_type": "code",
   "execution_count": 9,
   "metadata": {},
   "outputs": [
    {
     "name": "stdout",
     "output_type": "stream",
     "text": [
      "<class 'pandas.core.frame.DataFrame'>\n",
      "RangeIndex: 1000 entries, 0 to 999\n",
      "Data columns (total 27 columns):\n",
      " #   Column    Non-Null Count  Dtype  \n",
      "---  ------    --------------  -----  \n",
      " 0   region    1000 non-null   object \n",
      " 1   tenure    1000 non-null   int64  \n",
      " 2   age       1000 non-null   int64  \n",
      " 3   marital   1000 non-null   object \n",
      " 4   address   1000 non-null   int64  \n",
      " 5   income    1000 non-null   int64  \n",
      " 6   ed        1000 non-null   object \n",
      " 7   employ    1000 non-null   int64  \n",
      " 8   retire    1000 non-null   object \n",
      " 9   gender    1000 non-null   object \n",
      " 10  reside    1000 non-null   int64  \n",
      " 11  tollfree  1000 non-null   object \n",
      " 12  equip     1000 non-null   int64  \n",
      " 13  callcard  1000 non-null   object \n",
      " 14  wireless  1000 non-null   object \n",
      " 15  longmon   1000 non-null   float64\n",
      " 16  tollmon   1000 non-null   float64\n",
      " 17  equipmon  1000 non-null   float64\n",
      " 18  cardmon   1000 non-null   float64\n",
      " 19  wiremon   1000 non-null   float64\n",
      " 20  multline  1000 non-null   object \n",
      " 21  voice     1000 non-null   object \n",
      " 22  internet  1000 non-null   object \n",
      " 23  callid    1000 non-null   object \n",
      " 24  callwait  1000 non-null   object \n",
      " 25  forward   1000 non-null   object \n",
      " 26  confer    1000 non-null   object \n",
      "dtypes: float64(5), int64(7), object(15)\n",
      "memory usage: 211.1+ KB\n"
     ]
    }
   ],
   "source": [
    "df.info()"
   ]
  },
  {
   "cell_type": "markdown",
   "metadata": {},
   "source": [
    "### Variables chosen:\n",
    "\n",
    "Dependent: \n",
    "- equip\n",
    "\n",
    "Predictors:\n",
    "- region\n",
    "- tenure\n",
    "- retire\n",
    "- age\n",
    "- gender\n",
    "- employ\n",
    "- income\n",
    "- reside"
   ]
  },
  {
   "cell_type": "code",
   "execution_count": 8,
   "metadata": {},
   "outputs": [],
   "source": [
    "df.equip.replace(('Yes','No'),(1,0),inplace=True) # check"
   ]
  },
  {
   "cell_type": "code",
   "execution_count": 14,
   "metadata": {},
   "outputs": [],
   "source": [
    "df['region'] = df['region'].astype('category')\n",
    "df['retire'] = df['retire'].astype('category')\n",
    "df['gender'] = df['gender'].astype('category')"
   ]
  },
  {
   "cell_type": "code",
   "execution_count": 13,
   "metadata": {},
   "outputs": [
    {
     "data": {
      "text/plain": [
       "Female    517\n",
       "Male      483\n",
       "Name: gender, dtype: int64"
      ]
     },
     "execution_count": 13,
     "metadata": {},
     "output_type": "execute_result"
    }
   ],
   "source": [
    "df.gender.value_counts()"
   ]
  },
  {
   "cell_type": "code",
   "execution_count": 15,
   "metadata": {},
   "outputs": [],
   "source": [
    "numerical = ['tenure','age','employ','income','reside']\n",
    "categorical = ['region','retire','gender']"
   ]
  },
  {
   "cell_type": "markdown",
   "metadata": {},
   "source": [
    "## Descriptive analysis"
   ]
  },
  {
   "cell_type": "markdown",
   "metadata": {},
   "source": [
    "### Numerical variable description"
   ]
  },
  {
   "cell_type": "markdown",
   "metadata": {},
   "source": [
    "##### Hypothesis:\n",
    "\n",
    "H1: The distribution of the variable 'equip' is different from the normal distribution\n",
    "\n",
    "H0: The distribution of the variable 'equip' is not different from the normal distribution\n",
    "\n",
    "p-value = 0.05"
   ]
  },
  {
   "cell_type": "code",
   "execution_count": 18,
   "metadata": {},
   "outputs": [
    {
     "name": "stderr",
     "output_type": "stream",
     "text": [
      "C:\\Users\\Admin\\Miniconda3\\envs\\IntroML\\lib\\site-packages\\seaborn\\distributions.py:2619: FutureWarning: `distplot` is a deprecated function and will be removed in a future version. Please adapt your code to use either `displot` (a figure-level function with similar flexibility) or `histplot` (an axes-level function for histograms).\n",
      "  warnings.warn(msg, FutureWarning)\n",
      "C:\\Users\\Admin\\Miniconda3\\envs\\IntroML\\lib\\site-packages\\matplotlib\\cbook\\__init__.py:1402: FutureWarning: Support for multi-dimensional indexing (e.g. `obj[:, None]`) is deprecated and will be removed in a future version.  Convert to a numpy array before indexing instead.\n",
      "  ndim = x[:, None].ndim\n",
      "C:\\Users\\Admin\\Miniconda3\\envs\\IntroML\\lib\\site-packages\\matplotlib\\axes\\_base.py:276: FutureWarning: Support for multi-dimensional indexing (e.g. `obj[:, None]`) is deprecated and will be removed in a future version.  Convert to a numpy array before indexing instead.\n",
      "  x = x[:, np.newaxis]\n",
      "C:\\Users\\Admin\\Miniconda3\\envs\\IntroML\\lib\\site-packages\\matplotlib\\axes\\_base.py:278: FutureWarning: Support for multi-dimensional indexing (e.g. `obj[:, None]`) is deprecated and will be removed in a future version.  Convert to a numpy array before indexing instead.\n",
      "  y = y[:, np.newaxis]\n"
     ]
    },
    {
     "data": {
      "text/plain": [
       "<matplotlib.axes._subplots.AxesSubplot at 0x197579bfd60>"
      ]
     },
     "execution_count": 18,
     "metadata": {},
     "output_type": "execute_result"
    },
    {
     "data": {
      "image/png": "[encoded data removed]",
      "text/plain": [
       "<Figure size 432x288 with 1 Axes>"
      ]
     },
     "metadata": {
      "needs_background": "light"
     },
     "output_type": "display_data"
    }
   ],
   "source": [
    "sns.distplot(df['equip'], fit=stats.norm)"
   ]
  },
  {
   "cell_type": "code",
   "execution_count": 19,
   "metadata": {},
   "outputs": [
    {
     "data": {
      "text/plain": [
       "KstestResult(statistic=0.3999616496476243, pvalue=7.089998081815526e-145)"
      ]
     },
     "execution_count": 19,
     "metadata": {},
     "output_type": "execute_result"
    }
   ],
   "source": [
    "stats.kstest(df['equip'], 'norm', args=(df['equip'].mean(), df['equip'].std()))"
   ]
  },
  {
   "cell_type": "markdown",
   "metadata": {},
   "source": [
    "##### Conclusion:\n",
    "\n",
    "The dependent variable 'equip' deviates from the normal distribution (H1 is accepted at p-value = 0.05)."
   ]
  },
  {
   "cell_type": "markdown",
   "metadata": {},
   "source": [
    "##### Hypothesis:\n",
    "\n",
    "- H1_1: The distribution of the variable 'tenure' is different from the normal distribution\n",
    "- H1_2: The distribution of the variable 'age' is different from the normal distribution\n",
    "- H1_3: The distribution of the variable 'employ' is different from the normal distribution\n",
    "- H1_4: The distribution of the variable 'income' is different from the normal distribution\n",
    "- H1_5: The distribution of the variable 'reside' is different from the normal distribution"
   ]
  },
  {
   "cell_type": "code",
   "execution_count": 24,
   "metadata": {},
   "outputs": [
    {
     "name": "stderr",
     "output_type": "stream",
     "text": [
      "C:\\Users\\Admin\\Miniconda3\\envs\\IntroML\\lib\\site-packages\\seaborn\\distributions.py:2619: FutureWarning: `distplot` is a deprecated function and will be removed in a future version. Please adapt your code to use either `displot` (a figure-level function with similar flexibility) or `histplot` (an axes-level function for histograms).\n",
      "  warnings.warn(msg, FutureWarning)\n",
      "C:\\Users\\Admin\\Miniconda3\\envs\\IntroML\\lib\\site-packages\\matplotlib\\cbook\\__init__.py:1402: FutureWarning: Support for multi-dimensional indexing (e.g. `obj[:, None]`) is deprecated and will be removed in a future version.  Convert to a numpy array before indexing instead.\n",
      "  ndim = x[:, None].ndim\n",
      "C:\\Users\\Admin\\Miniconda3\\envs\\IntroML\\lib\\site-packages\\matplotlib\\axes\\_base.py:276: FutureWarning: Support for multi-dimensional indexing (e.g. `obj[:, None]`) is deprecated and will be removed in a future version.  Convert to a numpy array before indexing instead.\n",
      "  x = x[:, np.newaxis]\n",
      "C:\\Users\\Admin\\Miniconda3\\envs\\IntroML\\lib\\site-packages\\matplotlib\\axes\\_base.py:278: FutureWarning: Support for multi-dimensional indexing (e.g. `obj[:, None]`) is deprecated and will be removed in a future version.  Convert to a numpy array before indexing instead.\n",
      "  y = y[:, np.newaxis]\n"
     ]
    },
    {
     "data": {
      "text/plain": [
       "KstestResult(statistic=0.07834997682857742, pvalue=8.713077299797405e-06)"
      ]
     },
     "execution_count": 24,
     "metadata": {},
     "output_type": "execute_result"
    },
    {
     "data": {
      "image/png": "[encoded data removed]",
      "text/plain": [
       "<Figure size 432x288 with 1 Axes>"
      ]
     },
     "metadata": {
      "needs_background": "light"
     },
     "output_type": "display_data"
    }
   ],
   "source": [
    "sns.distplot(df['tenure'], fit=stats.norm)\n",
    "stats.kstest(df['tenure'], 'norm', args=(df['tenure'].mean(), df['tenure'].std()))"
   ]
  },
  {
   "cell_type": "code",
   "execution_count": 25,
   "metadata": {},
   "outputs": [
    {
     "name": "stderr",
     "output_type": "stream",
     "text": [
      "C:\\Users\\Admin\\Miniconda3\\envs\\IntroML\\lib\\site-packages\\seaborn\\distributions.py:2619: FutureWarning: `distplot` is a deprecated function and will be removed in a future version. Please adapt your code to use either `displot` (a figure-level function with similar flexibility) or `histplot` (an axes-level function for histograms).\n",
      "  warnings.warn(msg, FutureWarning)\n",
      "C:\\Users\\Admin\\Miniconda3\\envs\\IntroML\\lib\\site-packages\\matplotlib\\cbook\\__init__.py:1402: FutureWarning: Support for multi-dimensional indexing (e.g. `obj[:, None]`) is deprecated and will be removed in a future version.  Convert to a numpy array before indexing instead.\n",
      "  ndim = x[:, None].ndim\n",
      "C:\\Users\\Admin\\Miniconda3\\envs\\IntroML\\lib\\site-packages\\matplotlib\\axes\\_base.py:276: FutureWarning: Support for multi-dimensional indexing (e.g. `obj[:, None]`) is deprecated and will be removed in a future version.  Convert to a numpy array before indexing instead.\n",
      "  x = x[:, np.newaxis]\n",
      "C:\\Users\\Admin\\Miniconda3\\envs\\IntroML\\lib\\site-packages\\matplotlib\\axes\\_base.py:278: FutureWarning: Support for multi-dimensional indexing (e.g. `obj[:, None]`) is deprecated and will be removed in a future version.  Convert to a numpy array before indexing instead.\n",
      "  y = y[:, np.newaxis]\n"
     ]
    },
    {
     "data": {
      "text/plain": [
       "KstestResult(statistic=0.06971171605722815, pvalue=0.00011378516567708046)"
      ]
     },
     "execution_count": 25,
     "metadata": {},
     "output_type": "execute_result"
    },
    {
     "data": {
      "image/png": "[encoded data removed]",
      "text/plain": [
       "<Figure size 432x288 with 1 Axes>"
      ]
     },
     "metadata": {
      "needs_background": "light"
     },
     "output_type": "display_data"
    }
   ],
   "source": [
    "sns.distplot(df['age'], fit=stats.norm)\n",
    "stats.kstest(df['age'], 'norm', args=(df['age'].mean(), df['age'].std()))"
   ]
  },
  {
   "cell_type": "code",
   "execution_count": 26,
   "metadata": {},
   "outputs": [
    {
     "name": "stderr",
     "output_type": "stream",
     "text": [
      "C:\\Users\\Admin\\Miniconda3\\envs\\IntroML\\lib\\site-packages\\seaborn\\distributions.py:2619: FutureWarning: `distplot` is a deprecated function and will be removed in a future version. Please adapt your code to use either `displot` (a figure-level function with similar flexibility) or `histplot` (an axes-level function for histograms).\n",
      "  warnings.warn(msg, FutureWarning)\n",
      "C:\\Users\\Admin\\Miniconda3\\envs\\IntroML\\lib\\site-packages\\matplotlib\\cbook\\__init__.py:1402: FutureWarning: Support for multi-dimensional indexing (e.g. `obj[:, None]`) is deprecated and will be removed in a future version.  Convert to a numpy array before indexing instead.\n",
      "  ndim = x[:, None].ndim\n",
      "C:\\Users\\Admin\\Miniconda3\\envs\\IntroML\\lib\\site-packages\\matplotlib\\axes\\_base.py:276: FutureWarning: Support for multi-dimensional indexing (e.g. `obj[:, None]`) is deprecated and will be removed in a future version.  Convert to a numpy array before indexing instead.\n",
      "  x = x[:, np.newaxis]\n",
      "C:\\Users\\Admin\\Miniconda3\\envs\\IntroML\\lib\\site-packages\\matplotlib\\axes\\_base.py:278: FutureWarning: Support for multi-dimensional indexing (e.g. `obj[:, None]`) is deprecated and will be removed in a future version.  Convert to a numpy array before indexing instead.\n",
      "  y = y[:, np.newaxis]\n"
     ]
    },
    {
     "data": {
      "text/plain": [
       "KstestResult(statistic=0.13791064520770807, pvalue=4.721089703813389e-17)"
      ]
     },
     "execution_count": 26,
     "metadata": {},
     "output_type": "execute_result"
    },
    {
     "data": {
      "image/png": "[encoded data removed]",
      "text/plain": [
       "<Figure size 432x288 with 1 Axes>"
      ]
     },
     "metadata": {
      "needs_background": "light"
     },
     "output_type": "display_data"
    }
   ],
   "source": [
    "sns.distplot(df['employ'], fit=stats.norm)\n",
    "stats.kstest(df['employ'], 'norm', args=(df['employ'].mean(), df['employ'].std()))"
   ]
  },
  {
   "cell_type": "code",
   "execution_count": 27,
   "metadata": {},
   "outputs": [
    {
     "name": "stderr",
     "output_type": "stream",
     "text": [
      "C:\\Users\\Admin\\Miniconda3\\envs\\IntroML\\lib\\site-packages\\seaborn\\distributions.py:2619: FutureWarning: `distplot` is a deprecated function and will be removed in a future version. Please adapt your code to use either `displot` (a figure-level function with similar flexibility) or `histplot` (an axes-level function for histograms).\n",
      "  warnings.warn(msg, FutureWarning)\n",
      "C:\\Users\\Admin\\Miniconda3\\envs\\IntroML\\lib\\site-packages\\matplotlib\\cbook\\__init__.py:1402: FutureWarning: Support for multi-dimensional indexing (e.g. `obj[:, None]`) is deprecated and will be removed in a future version.  Convert to a numpy array before indexing instead.\n",
      "  ndim = x[:, None].ndim\n",
      "C:\\Users\\Admin\\Miniconda3\\envs\\IntroML\\lib\\site-packages\\matplotlib\\axes\\_base.py:276: FutureWarning: Support for multi-dimensional indexing (e.g. `obj[:, None]`) is deprecated and will be removed in a future version.  Convert to a numpy array before indexing instead.\n",
      "  x = x[:, np.newaxis]\n",
      "C:\\Users\\Admin\\Miniconda3\\envs\\IntroML\\lib\\site-packages\\matplotlib\\axes\\_base.py:278: FutureWarning: Support for multi-dimensional indexing (e.g. `obj[:, None]`) is deprecated and will be removed in a future version.  Convert to a numpy array before indexing instead.\n",
      "  y = y[:, np.newaxis]\n"
     ]
    },
    {
     "data": {
      "text/plain": [
       "KstestResult(statistic=0.2610051212239811, pvalue=1.3680449792418739e-60)"
      ]
     },
     "execution_count": 27,
     "metadata": {},
     "output_type": "execute_result"
    },
    {
     "data": {
      "image/png": "[encoded data removed]",
      "text/plain": [
       "<Figure size 432x288 with 1 Axes>"
      ]
     },
     "metadata": {
      "needs_background": "light"
     },
     "output_type": "display_data"
    }
   ],
   "source": [
    "sns.distplot(df['income'], fit=stats.norm)\n",
    "stats.kstest(df['income'], 'norm', args=(df['income'].mean(), df['income'].std()))"
   ]
  },
  {
   "cell_type": "code",
   "execution_count": 28,
   "metadata": {},
   "outputs": [
    {
     "name": "stderr",
     "output_type": "stream",
     "text": [
      "C:\\Users\\Admin\\Miniconda3\\envs\\IntroML\\lib\\site-packages\\seaborn\\distributions.py:2619: FutureWarning: `distplot` is a deprecated function and will be removed in a future version. Please adapt your code to use either `displot` (a figure-level function with similar flexibility) or `histplot` (an axes-level function for histograms).\n",
      "  warnings.warn(msg, FutureWarning)\n",
      "C:\\Users\\Admin\\Miniconda3\\envs\\IntroML\\lib\\site-packages\\matplotlib\\cbook\\__init__.py:1402: FutureWarning: Support for multi-dimensional indexing (e.g. `obj[:, None]`) is deprecated and will be removed in a future version.  Convert to a numpy array before indexing instead.\n",
      "  ndim = x[:, None].ndim\n",
      "C:\\Users\\Admin\\Miniconda3\\envs\\IntroML\\lib\\site-packages\\matplotlib\\axes\\_base.py:276: FutureWarning: Support for multi-dimensional indexing (e.g. `obj[:, None]`) is deprecated and will be removed in a future version.  Convert to a numpy array before indexing instead.\n",
      "  x = x[:, np.newaxis]\n",
      "C:\\Users\\Admin\\Miniconda3\\envs\\IntroML\\lib\\site-packages\\matplotlib\\axes\\_base.py:278: FutureWarning: Support for multi-dimensional indexing (e.g. `obj[:, None]`) is deprecated and will be removed in a future version.  Convert to a numpy array before indexing instead.\n",
      "  y = y[:, np.newaxis]\n"
     ]
    },
    {
     "data": {
      "text/plain": [
       "KstestResult(statistic=0.23816184178605054, pvalue=2.1592959111670204e-50)"
      ]
     },
     "execution_count": 28,
     "metadata": {},
     "output_type": "execute_result"
    },
    {
     "data": {
      "image/png": "[encoded data removed]",
      "text/plain": [
       "<Figure size 432x288 with 1 Axes>"
      ]
     },
     "metadata": {
      "needs_background": "light"
     },
     "output_type": "display_data"
    }
   ],
   "source": [
    "sns.distplot(df['reside'], fit=stats.norm)\n",
    "stats.kstest(df['reside'], 'norm', args=(df['reside'].mean(), df['reside'].std()))"
   ]
  },
  {
   "cell_type": "markdown",
   "metadata": {},
   "source": [
    "##### Conclusion:\n",
    "\n",
    "All predictor variables deviate from the normal distribution (H1_1, H1_2, H1_3, H1_4 and H1_5 are accepted at p-value = 0.05)."
   ]
  },
  {
   "cell_type": "markdown",
   "metadata": {},
   "source": [
    "#### Correlation\n",
    "\n",
    "Since most variables are not normally distributed, Spearman correlation can be used:"
   ]
  },
  {
   "cell_type": "code",
   "execution_count": 29,
   "metadata": {},
   "outputs": [
    {
     "data": {
      "image/png": "[encoded data removed]",
      "text/plain": [
       "<Figure size 576x576 with 2 Axes>"
      ]
     },
     "metadata": {
      "needs_background": "light"
     },
     "output_type": "display_data"
    }
   ],
   "source": [
    "cor = df[['tenure','age','employ','income','reside','equip']].corr('spearman')\n",
    "plt.figure(figsize=(8, 8))\n",
    "sns.heatmap(cor, square = True, cmap='YlGnBu', annot=True)\n",
    "plt.show()"
   ]
  },
  {
   "cell_type": "markdown",
   "metadata": {},
   "source": [
    "It is seen that variables are not strongle correlated: the highest correlation is between employ and age (0.66), and a high correlation is also between imcome and employ (0.64). The correlation between predictors and the dependent variable is very small"
   ]
  },
  {
   "cell_type": "markdown",
   "metadata": {},
   "source": [
    "### Categorical variable description"
   ]
  },
  {
   "cell_type": "code",
   "execution_count": 31,
   "metadata": {},
   "outputs": [
    {
     "data": {
      "text/plain": [
       "<matplotlib.axes._subplots.AxesSubplot at 0x1975c41e6d0>"
      ]
     },
     "execution_count": 31,
     "metadata": {},
     "output_type": "execute_result"
    },
    {
     "data": {
      "image/png": "[encoded data removed]",
      "text/plain": [
       "<Figure size 432x288 with 1 Axes>"
      ]
     },
     "metadata": {},
     "output_type": "display_data"
    }
   ],
   "source": [
    "df.groupby('region').size().plot(kind='pie', title = 'region distribution',autopct='%1.1f%%')"
   ]
  },
  {
   "cell_type": "markdown",
   "metadata": {},
   "source": [
    "Regions are almost equally distributed."
   ]
  },
  {
   "cell_type": "code",
   "execution_count": 32,
   "metadata": {},
   "outputs": [
    {
     "data": {
      "text/plain": [
       "<matplotlib.axes._subplots.AxesSubplot at 0x1975c456eb0>"
      ]
     },
     "execution_count": 32,
     "metadata": {},
     "output_type": "execute_result"
    },
    {
     "data": {
      "image/png": "[encoded data removed]",
      "text/plain": [
       "<Figure size 432x288 with 1 Axes>"
      ]
     },
     "metadata": {},
     "output_type": "display_data"
    }
   ],
   "source": [
    "df.groupby('retire').size().plot(kind='pie', title = 'retire distribution',autopct='%1.1f%%')"
   ]
  },
  {
   "cell_type": "markdown",
   "metadata": {},
   "source": [
    "Retired people are not sufficiently represented in the dataset (less than 5%)"
   ]
  },
  {
   "cell_type": "code",
   "execution_count": 33,
   "metadata": {},
   "outputs": [
    {
     "data": {
      "text/plain": [
       "<matplotlib.axes._subplots.AxesSubplot at 0x1975c495dc0>"
      ]
     },
     "execution_count": 33,
     "metadata": {},
     "output_type": "execute_result"
    },
    {
     "data": {
      "image/png": "[encoded data removed]",
      "text/plain": [
       "<Figure size 432x288 with 1 Axes>"
      ]
     },
     "metadata": {},
     "output_type": "display_data"
    }
   ],
   "source": [
    "df.groupby('gender').size().plot(kind='pie', title = 'gender distribution',autopct='%1.1f%%')"
   ]
  },
  {
   "cell_type": "markdown",
   "metadata": {},
   "source": [
    "Genders are almost equally distributed"
   ]
  },
  {
   "cell_type": "code",
   "execution_count": 34,
   "metadata": {},
   "outputs": [
    {
     "data": {
      "text/plain": [
       "<matplotlib.axes._subplots.AxesSubplot at 0x1975c4d37c0>"
      ]
     },
     "execution_count": 34,
     "metadata": {},
     "output_type": "execute_result"
    },
    {
     "data": {
      "image/png": "[encoded data removed]",
      "text/plain": [
       "<Figure size 432x288 with 1 Axes>"
      ]
     },
     "metadata": {
      "needs_background": "light"
     },
     "output_type": "display_data"
    }
   ],
   "source": [
    "df.groupby('region')['retire'].value_counts().unstack().plot(kind='bar')"
   ]
  },
  {
   "cell_type": "markdown",
   "metadata": {},
   "source": [
    "Distribution of retired people among zones is almost the same"
   ]
  },
  {
   "cell_type": "code",
   "execution_count": 35,
   "metadata": {},
   "outputs": [
    {
     "data": {
      "text/plain": [
       "<matplotlib.axes._subplots.AxesSubplot at 0x19759d654c0>"
      ]
     },
     "execution_count": 35,
     "metadata": {},
     "output_type": "execute_result"
    },
    {
     "data": {
      "image/png": "[encoded data removed]",
      "text/plain": [
       "<Figure size 432x288 with 1 Axes>"
      ]
     },
     "metadata": {
      "needs_background": "light"
     },
     "output_type": "display_data"
    }
   ],
   "source": [
    "df.groupby('region')['gender'].value_counts().unstack().plot(kind='bar')"
   ]
  },
  {
   "cell_type": "markdown",
   "metadata": {},
   "source": [
    "Distribution of genders among zones is nearly the same: in Zone 1 there are slightly more males than females, while in Zones 2,3 there are slightly more females than males."
   ]
  },
  {
   "cell_type": "code",
   "execution_count": 36,
   "metadata": {},
   "outputs": [
    {
     "data": {
      "text/plain": [
       "<matplotlib.axes._subplots.AxesSubplot at 0x19759e61dc0>"
      ]
     },
     "execution_count": 36,
     "metadata": {},
     "output_type": "execute_result"
    },
    {
     "data": {
      "image/png": "[encoded data removed]",
      "text/plain": [
       "<Figure size 432x288 with 1 Axes>"
      ]
     },
     "metadata": {
      "needs_background": "light"
     },
     "output_type": "display_data"
    }
   ],
   "source": [
    "df.groupby('gender')['retire'].value_counts().unstack().plot(kind='bar')"
   ]
  },
  {
   "cell_type": "markdown",
   "metadata": {},
   "source": [
    "There are significantly more retired females than retired males in the dataset."
   ]
  },
  {
   "cell_type": "markdown",
   "metadata": {},
   "source": [
    "### Comparing predictors with the dependent var"
   ]
  },
  {
   "cell_type": "code",
   "execution_count": 20,
   "metadata": {},
   "outputs": [
    {
     "data": {
      "image/png": "[encoded data removed]",
      "text/plain": [
       "<Figure size 432x288 with 1 Axes>"
      ]
     },
     "metadata": {
      "needs_background": "light"
     },
     "output_type": "display_data"
    },
    {
     "data": {
      "image/png": "[encoded data removed]",
      "text/plain": [
       "<Figure size 576x360 with 1 Axes>"
      ]
     },
     "metadata": {
      "needs_background": "light"
     },
     "output_type": "display_data"
    },
    {
     "data": {
      "image/png": "[encoded data removed]",
      "text/plain": [
       "<Figure size 576x360 with 1 Axes>"
      ]
     },
     "metadata": {
      "needs_background": "light"
     },
     "output_type": "display_data"
    },
    {
     "data": {
      "image/png": "[encoded data removed]",
      "text/plain": [
       "<Figure size 576x360 with 1 Axes>"
      ]
     },
     "metadata": {
      "needs_background": "light"
     },
     "output_type": "display_data"
    },
    {
     "data": {
      "image/png": "[encoded data removed]",
      "text/plain": [
       "<Figure size 576x360 with 1 Axes>"
      ]
     },
     "metadata": {
      "needs_background": "light"
     },
     "output_type": "display_data"
    },
    {
     "data": {
      "image/png": "[encoded data removed]",
      "text/plain": [
       "<Figure size 432x288 with 1 Axes>"
      ]
     },
     "metadata": {
      "needs_background": "light"
     },
     "output_type": "display_data"
    },
    {
     "data": {
      "image/png": "[encoded data removed]",
      "text/plain": [
       "<Figure size 432x288 with 1 Axes>"
      ]
     },
     "metadata": {
      "needs_background": "light"
     },
     "output_type": "display_data"
    },
    {
     "data": {
      "image/png": "[encoded data removed]",
      "text/plain": [
       "<Figure size 576x360 with 1 Axes>"
      ]
     },
     "metadata": {
      "needs_background": "light"
     },
     "output_type": "display_data"
    }
   ],
   "source": [
    "for c in df.columns[0:]:\n",
    "    if c in numerical:\n",
    "        plt.figure(figsize=(8,5))\n",
    "        plt.title('{} vs. equip'.format(c), fontsize=16)\n",
    "        plt.scatter(x=df[c], y=df.equip, color='blue',edgecolor='k')\n",
    "        plt.grid(True)\n",
    "        plt.xlabel(c, fontsize=14)\n",
    "        plt.ylabel('equip', fontsize=14)\n",
    "        plt.show()\n",
    "    elif c in categorical:\n",
    "        ct = pd.crosstab(df.equip, df[c])\n",
    "        ct.plot.bar()"
   ]
  },
  {
   "cell_type": "markdown",
   "metadata": {},
   "source": [
    "#### Conclusion:\n",
    "\n",
    "- Distribution of regions for equip = 1 and equip = 0 is almost the same.\n",
    "- Distribution of tenure for equip = 1 and equip = 0 is almost the same.\n",
    "- As for age, for all people with age > 70, equip = 0, < 70 - can be both.\n",
    "- As for income, with income > 500 there is a greater chance that equip = 0.\n",
    "- As for employ, with employ > 35 years there is a greater chance that equip = 0.\n",
    "- If a person is retired, a significantly greater chance that equip = 0.\n",
    "- Distribution of gender for equip = 1 and equip = 0 is almost the same.\n",
    "- As for reside, if reside > 6, than equip is always = 0."
   ]
  },
  {
   "cell_type": "markdown",
   "metadata": {},
   "source": [
    "## Regression model\n",
    "\n",
    "#### Hypothesis:\n",
    "\n",
    "H0: The linear regression model constructed for a dependent variable 'equip' and the following predictors:\n",
    "- tenure\n",
    "- age\n",
    "- employ\n",
    "- income\n",
    "- reside\n",
    "- region\n",
    "- retire\n",
    "- gender\n",
    "\n",
    "explains the variation of 'equip'.\n",
    "\n",
    "H1: The aforementioned model does not explain the variation of 'equip'.\n",
    "\n",
    "p-value = 0.05."
   ]
  },
  {
   "cell_type": "code",
   "execution_count": 37,
   "metadata": {},
   "outputs": [],
   "source": [
    "df_short = df[['tenure','age','employ','income','reside','region','retire','gender','equip']]"
   ]
  },
  {
   "cell_type": "code",
   "execution_count": 39,
   "metadata": {},
   "outputs": [
    {
     "name": "stdout",
     "output_type": "stream",
     "text": [
      "<class 'pandas.core.frame.DataFrame'>\n",
      "RangeIndex: 1000 entries, 0 to 999\n",
      "Data columns (total 13 columns):\n",
      " #   Column         Non-Null Count  Dtype\n",
      "---  ------         --------------  -----\n",
      " 0   tenure         1000 non-null   int64\n",
      " 1   age            1000 non-null   int64\n",
      " 2   employ         1000 non-null   int64\n",
      " 3   income         1000 non-null   int64\n",
      " 4   reside         1000 non-null   int64\n",
      " 5   equip          1000 non-null   int64\n",
      " 6   region_Zone 1  1000 non-null   uint8\n",
      " 7   region_Zone 2  1000 non-null   uint8\n",
      " 8   region_Zone 3  1000 non-null   uint8\n",
      " 9   retire_No      1000 non-null   uint8\n",
      " 10  retire_Yes     1000 non-null   uint8\n",
      " 11  gender_Female  1000 non-null   uint8\n",
      " 12  gender_Male    1000 non-null   uint8\n",
      "dtypes: int64(6), uint8(7)\n",
      "memory usage: 53.8 KB\n"
     ]
    }
   ],
   "source": [
    "df_with_dummies = pd.get_dummies(df_short, columns=['region','retire','gender'])\n",
    "df_with_dummies.info()"
   ]
  },
  {
   "cell_type": "code",
   "execution_count": 40,
   "metadata": {},
   "outputs": [
    {
     "name": "stderr",
     "output_type": "stream",
     "text": [
      "<ipython-input-40-7010fb12c782>:2: FutureWarning: In a future version of pandas all arguments of DataFrame.drop except for the argument 'labels' will be keyword-only.\n",
      "  df_to_regression = df_with_dummies.drop(['region_Zone 1','retire_No','gender_Female'], 1)\n"
     ]
    }
   ],
   "source": [
    "# Removing reference categories\n",
    "df_to_regression = df_with_dummies.drop(['region_Zone 1','retire_No','gender_Female'], 1)"
   ]
  },
  {
   "cell_type": "code",
   "execution_count": 41,
   "metadata": {},
   "outputs": [
    {
     "name": "stderr",
     "output_type": "stream",
     "text": [
      "<ipython-input-41-6eaa3e192273>:1: FutureWarning: In a future version of pandas all arguments of DataFrame.drop except for the argument 'labels' will be keyword-only.\n",
      "  df_predictors = df_to_regression.drop('equip',1)\n"
     ]
    }
   ],
   "source": [
    "df_predictors = df_to_regression.drop('equip',1)\n",
    "df_dependent = df_to_regression['equip']"
   ]
  },
  {
   "cell_type": "code",
   "execution_count": 42,
   "metadata": {},
   "outputs": [
    {
     "name": "stdout",
     "output_type": "stream",
     "text": [
      "Optimization terminated successfully.\n",
      "         Current function value: 0.637995\n",
      "         Iterations 6\n",
      "                           Logit Regression Results                           \n",
      "==============================================================================\n",
      "Dep. Variable:                  equip   No. Observations:                 1000\n",
      "Model:                          Logit   Df Residuals:                      990\n",
      "Method:                           MLE   Df Model:                            9\n",
      "Date:                Sat, 28 May 2022   Pseudo R-squ.:                 0.04338\n",
      "Time:                        13:40:52   Log-Likelihood:                -638.00\n",
      "converged:                       True   LL-Null:                       -666.93\n",
      "Covariance Type:            nonrobust   LLR p-value:                 3.457e-09\n",
      "=================================================================================\n",
      "                    coef    std err          z      P>|z|      [0.025      0.975]\n",
      "---------------------------------------------------------------------------------\n",
      "const             0.4244      0.339      1.252      0.211      -0.240       1.089\n",
      "tenure           -0.0050      0.004     -1.331      0.183      -0.012       0.002\n",
      "age              -0.0058      0.008     -0.714      0.475      -0.022       0.010\n",
      "employ           -0.0450      0.011     -4.020      0.000      -0.067      -0.023\n",
      "income            0.0018      0.001      2.205      0.027       0.000       0.003\n",
      "reside           -0.0356      0.048     -0.742      0.458      -0.130       0.059\n",
      "region_Zone 2    -0.0373      0.165     -0.226      0.821      -0.361       0.286\n",
      "region_Zone 3    -0.0763      0.164     -0.465      0.642      -0.398       0.245\n",
      "retire_Yes       -0.5703      0.466     -1.224      0.221      -1.483       0.343\n",
      "gender_Male      -0.0176      0.134     -0.131      0.896      -0.281       0.246\n",
      "=================================================================================\n"
     ]
    }
   ],
   "source": [
    "x_mult_constant = sm.add_constant(df_predictors)\n",
    "model = sm.Logit(df_dependent, x_mult_constant).fit()\n",
    "print(model.summary())"
   ]
  },
  {
   "cell_type": "code",
   "execution_count": 43,
   "metadata": {},
   "outputs": [
    {
     "name": "stdout",
     "output_type": "stream",
     "text": [
      "R^2 = 0.043378\n",
      "Model significance = 0.000000\n"
     ]
    }
   ],
   "source": [
    "print('R^2 = {:f}'.format(model.prsquared))\n",
    "print('Model significance = {:f}'.format(model.llr_pvalue))"
   ]
  },
  {
   "cell_type": "markdown",
   "metadata": {},
   "source": [
    "##### Conclusion:\n",
    "\n",
    "Model is statistically significant at p-value = 0.05 but explains only 4% of variance of variable 'equip'. H1 is rejected at p-value = 0.05. All in all, the model does not fit very well the given dataset, however it is still significant."
   ]
  },
  {
   "cell_type": "markdown",
   "metadata": {},
   "source": [
    "#### Hypotheses:\n",
    "\n",
    "'tenure','age','employ','income','reside','region','retire','gender'\n",
    "\n",
    "- H0_1: The variable tenure is statistically significant for the logistic regression model constructed for a dependent variable 'equip'\n",
    "- H0_2: The variable age is statistically significant for the logistic regression model constructed for a dependent variable 'equip'\n",
    "- H0_3: The variable employ is statistically significant for the logistic regression model constructed for a dependent variable 'equip'\n",
    "- H0_4: The variable income is statistically significant for the logistic regression model constructed for a dependent variable 'equip'\n",
    "- H0_5: The variable reside is statistically significant for the logistic regression model constructed for a dependent variable 'equip'\n",
    "- H0_6: The variable region is statistically significant for the logistic regression model constructed for a dependent variable 'equip'\n",
    "- H0_7: The variable retire is statistically significant for the logistic regression model constructed for a dependent variable 'equip'\n",
    "- H0_8: The variable gender is statistically significant for the logistic regression model constructed for a dependent variable 'equip'\n",
    "\n",
    "- H1_1: The variable tenure is not statistically significant for the logistic regression model constructed for a dependent variable 'equip'\n",
    "- H1_2: The variable age is not statistically significant for the logistic regression model constructed for a dependent variable 'equip'\n",
    "- H1_3: The variable employ is not statistically significant for the logistic regression model constructed for a dependent variable 'equip'\n",
    "- H1_4: The variable income is not statistically significant for the logistic regression model constructed for a dependent variable 'equip'\n",
    "- H1_5: The variable reside is not statistically significant for the logistic regression model constructed for a dependent variable 'equip'\n",
    "- H1_6: The variable region is not statistically significant for the logistic regression model constructed for a dependent variable 'equip'\n",
    "- H1_7: The variable retire is not statistically significant for the logistic regression model constructed for a dependent variable 'equip'\n",
    "- H1_8: The variable gender is not statistically significant for the logistic regression model constructed for a dependent variable 'equip'\n",
    "\n",
    "p-value: 0.05"
   ]
  },
  {
   "cell_type": "code",
   "execution_count": 44,
   "metadata": {},
   "outputs": [
    {
     "name": "stdout",
     "output_type": "stream",
     "text": [
      "Statistically significant model parameters: ['employ' 'income']\n"
     ]
    }
   ],
   "source": [
    "print(f'Statistically significant model parameters: {model.pvalues[model.pvalues < 0.05].index.values}')"
   ]
  },
  {
   "cell_type": "code",
   "execution_count": 45,
   "metadata": {},
   "outputs": [
    {
     "name": "stdout",
     "output_type": "stream",
     "text": [
      "Statistically nonsignificant model parameters: ['const' 'tenure' 'age' 'reside' 'region_Zone 2' 'region_Zone 3'\n",
      " 'retire_Yes' 'gender_Male']\n"
     ]
    }
   ],
   "source": [
    "print(f'Statistically nonsignificant model parameters: {model.pvalues[model.pvalues > 0.05].index.values}')"
   ]
  },
  {
   "cell_type": "markdown",
   "metadata": {},
   "source": [
    "#### Conclusion:\n",
    "\n",
    "H1_3, H1_4 are rejected ('employ' and 'income' are statistically significant), H1_1, H1_2, H1_5, H1_6, H1_7, H1_8 are rejected."
   ]
  },
  {
   "cell_type": "markdown",
   "metadata": {},
   "source": [
    "### Regression equation"
   ]
  },
  {
   "cell_type": "code",
   "execution_count": 46,
   "metadata": {},
   "outputs": [
    {
     "name": "stdout",
     "output_type": "stream",
     "text": [
      "logit(p) = 0.424396 + -0.01*tenure + -0.01*age + -0.05*employ + 0.00*income + -0.04*reside + -0.04*region_Zone 2 + -0.08*region_Zone 3 + -0.57*retire_Yes + -0.02*gender_Male\n"
     ]
    }
   ],
   "source": [
    "l = []\n",
    "for (param, index) in zip(model.params[1:], model.params.index[1:]):\n",
    "    l.append('{:.2f}*{}'.format(param, index))\n",
    "    \n",
    "print('logit(p) = {:2f} + {}'.format(model.params[0], ' + '.join(l)))"
   ]
  },
  {
   "cell_type": "markdown",
   "metadata": {},
   "source": [
    "### Regression coefficients interpretation"
   ]
  },
  {
   "cell_type": "markdown",
   "metadata": {},
   "source": [
    "Regression coefficients:"
   ]
  },
  {
   "cell_type": "code",
   "execution_count": 48,
   "metadata": {},
   "outputs": [
    {
     "data": {
      "text/html": [
       "<div>\n",
       "<style scoped>\n",
       "    .dataframe tbody tr th:only-of-type {\n",
       "        vertical-align: middle;\n",
       "    }\n",
       "\n",
       "    .dataframe tbody tr th {\n",
       "        vertical-align: top;\n",
       "    }\n",
       "\n",
       "    .dataframe thead th {\n",
       "        text-align: right;\n",
       "    }\n",
       "</style>\n",
       "<table border=\"1\" class=\"dataframe\">\n",
       "  <thead>\n",
       "    <tr style=\"text-align: right;\">\n",
       "      <th></th>\n",
       "      <th>Coefs</th>\n",
       "      <th>OddsRatio</th>\n",
       "    </tr>\n",
       "    <tr>\n",
       "      <th>Features</th>\n",
       "      <th></th>\n",
       "      <th></th>\n",
       "    </tr>\n",
       "  </thead>\n",
       "  <tbody>\n",
       "    <tr>\n",
       "      <th>tenure</th>\n",
       "      <td>-0.005020</td>\n",
       "      <td>0.994993</td>\n",
       "    </tr>\n",
       "    <tr>\n",
       "      <th>age</th>\n",
       "      <td>-0.005754</td>\n",
       "      <td>0.994263</td>\n",
       "    </tr>\n",
       "    <tr>\n",
       "      <th>employ</th>\n",
       "      <td>-0.045034</td>\n",
       "      <td>0.955965</td>\n",
       "    </tr>\n",
       "    <tr>\n",
       "      <th>income</th>\n",
       "      <td>0.001789</td>\n",
       "      <td>1.001791</td>\n",
       "    </tr>\n",
       "    <tr>\n",
       "      <th>reside</th>\n",
       "      <td>-0.035647</td>\n",
       "      <td>0.964981</td>\n",
       "    </tr>\n",
       "    <tr>\n",
       "      <th>region_Zone 2</th>\n",
       "      <td>-0.037288</td>\n",
       "      <td>0.963399</td>\n",
       "    </tr>\n",
       "    <tr>\n",
       "      <th>region_Zone 3</th>\n",
       "      <td>-0.076273</td>\n",
       "      <td>0.926563</td>\n",
       "    </tr>\n",
       "    <tr>\n",
       "      <th>retire_Yes</th>\n",
       "      <td>-0.570326</td>\n",
       "      <td>0.565341</td>\n",
       "    </tr>\n",
       "    <tr>\n",
       "      <th>gender_Male</th>\n",
       "      <td>-0.017565</td>\n",
       "      <td>0.982588</td>\n",
       "    </tr>\n",
       "  </tbody>\n",
       "</table>\n",
       "</div>"
      ],
      "text/plain": [
       "                  Coefs  OddsRatio\n",
       "Features                          \n",
       "tenure        -0.005020   0.994993\n",
       "age           -0.005754   0.994263\n",
       "employ        -0.045034   0.955965\n",
       "income         0.001789   1.001791\n",
       "reside        -0.035647   0.964981\n",
       "region_Zone 2 -0.037288   0.963399\n",
       "region_Zone 3 -0.076273   0.926563\n",
       "retire_Yes    -0.570326   0.565341\n",
       "gender_Male   -0.017565   0.982588"
      ]
     },
     "execution_count": 48,
     "metadata": {},
     "output_type": "execute_result"
    }
   ],
   "source": [
    "coefs = pd.DataFrame()\n",
    "coefs['Coefs'] = model.params[1:]\n",
    "coefs['Features'] = model.params.index[1:]\n",
    "coefs.set_index('Features', inplace=True)\n",
    "coefs['OddsRatio'] = np.exp(coefs.Coefs)\n",
    "coefs"
   ]
  },
  {
   "cell_type": "markdown",
   "metadata": {},
   "source": [
    "Statistically significant model parameters: ['employ' 'income']:\n",
    "\n",
    "- Increase in years with current employer (employ) by 1 year decreases the odds for Equipment rental by 4.5%.\n",
    "- Increase in income by 1 thousand (it is measured in thousands)  increases the odds for Equipment rental by 0.17%."
   ]
  },
  {
   "cell_type": "markdown",
   "metadata": {},
   "source": [
    "##  Model Diagnostics"
   ]
  },
  {
   "cell_type": "markdown",
   "metadata": {},
   "source": [
    "### Confusion matrix"
   ]
  },
  {
   "cell_type": "code",
   "execution_count": 49,
   "metadata": {},
   "outputs": [
    {
     "name": "stdout",
     "output_type": "stream",
     "text": [
      "TP: 548.0 | FN: 66.0\n",
      "-------------------\n",
      "FP: 294.0  | TN: 92.0\n"
     ]
    }
   ],
   "source": [
    "cm = model.pred_table()\n",
    "print('TP: {} | FN: {}\\n-------------------\\nFP: {}  | TN: {}'.format(cm[0,0], cm[0,1], cm[1,0], cm[1,1]))"
   ]
  },
  {
   "cell_type": "markdown",
   "metadata": {},
   "source": [
    "As is seen, a very big amount of False Positives is detected while the portion of False Negatives is also quite high"
   ]
  },
  {
   "cell_type": "code",
   "execution_count": 50,
   "metadata": {},
   "outputs": [
    {
     "name": "stdout",
     "output_type": "stream",
     "text": [
      "Accuracy: 0.64\n"
     ]
    }
   ],
   "source": [
    "accuracy = (cm[0,0] + cm[1,1]) / sum(sum(cm))\n",
    "print('Accuracy: {}'.format(accuracy))"
   ]
  },
  {
   "cell_type": "markdown",
   "metadata": {},
   "source": [
    "The model predicts Equipment rental better than random, but 0.64 accuracy is not very high. The model fits the data not really well."
   ]
  },
  {
   "cell_type": "markdown",
   "metadata": {},
   "source": [
    "### ROC-curve"
   ]
  },
  {
   "cell_type": "code",
   "execution_count": 51,
   "metadata": {},
   "outputs": [
    {
     "data": {
      "image/png": "[encoded data removed]",
      "text/plain": [
       "<Figure size 432x288 with 1 Axes>"
      ]
     },
     "metadata": {
      "needs_background": "light"
     },
     "output_type": "display_data"
    }
   ],
   "source": [
    "fpr, tpr, _ = roc_curve(df_dependent, model.predict())\n",
    "roc_auc = auc(fpr, tpr)\n",
    "\n",
    "plt.plot(fpr, tpr, color='darkorange', lw=2, label='ROC curve (area = %0.2f)' % roc_auc)\n",
    "plt.plot([0, 1], [0, 1], color='navy', lw=2, linestyle='--')\n",
    "plt.xlim([0.0, 1.0])\n",
    "plt.ylim([0.0, 1.05])\n",
    "plt.xlabel('False Positive Rate')\n",
    "plt.ylabel('True Positive Rate')\n",
    "plt.legend(loc='lower right')\n",
    "plt.show()"
   ]
  },
  {
   "cell_type": "markdown",
   "metadata": {},
   "source": [
    "AUC is only 0.64 which is not very bad, bu the model still does not fit the data very well"
   ]
  },
  {
   "cell_type": "markdown",
   "metadata": {},
   "source": [
    "### Residuals\n",
    "\n",
    "##### Hypothesis:\n",
    "\n",
    "H1: The distribution of residuals is different from the normal distribution\n",
    "\n",
    "H0: The distribution of residuals is not different from the normal distribution\n",
    "\n",
    "p-value = 0.05"
   ]
  },
  {
   "cell_type": "code",
   "execution_count": 52,
   "metadata": {},
   "outputs": [
    {
     "name": "stdout",
     "output_type": "stream",
     "text": [
      "P-value: 0.000\n"
     ]
    }
   ],
   "source": [
    "p = stats.kstest(model.resid_generalized, 'norm', args=(model.resid_generalized.mean(), model.resid_generalized.std())).pvalue\n",
    "print('P-value: {:.3f}'.format(p))"
   ]
  },
  {
   "cell_type": "code",
   "execution_count": 53,
   "metadata": {},
   "outputs": [
    {
     "name": "stderr",
     "output_type": "stream",
     "text": [
      "C:\\Users\\Admin\\Miniconda3\\envs\\IntroML\\lib\\site-packages\\seaborn\\distributions.py:2619: FutureWarning: `distplot` is a deprecated function and will be removed in a future version. Please adapt your code to use either `displot` (a figure-level function with similar flexibility) or `histplot` (an axes-level function for histograms).\n",
      "  warnings.warn(msg, FutureWarning)\n",
      "C:\\Users\\Admin\\Miniconda3\\envs\\IntroML\\lib\\site-packages\\matplotlib\\cbook\\__init__.py:1402: FutureWarning: Support for multi-dimensional indexing (e.g. `obj[:, None]`) is deprecated and will be removed in a future version.  Convert to a numpy array before indexing instead.\n",
      "  ndim = x[:, None].ndim\n",
      "C:\\Users\\Admin\\Miniconda3\\envs\\IntroML\\lib\\site-packages\\matplotlib\\axes\\_base.py:276: FutureWarning: Support for multi-dimensional indexing (e.g. `obj[:, None]`) is deprecated and will be removed in a future version.  Convert to a numpy array before indexing instead.\n",
      "  x = x[:, np.newaxis]\n",
      "C:\\Users\\Admin\\Miniconda3\\envs\\IntroML\\lib\\site-packages\\matplotlib\\axes\\_base.py:278: FutureWarning: Support for multi-dimensional indexing (e.g. `obj[:, None]`) is deprecated and will be removed in a future version.  Convert to a numpy array before indexing instead.\n",
      "  y = y[:, np.newaxis]\n"
     ]
    },
    {
     "data": {
      "text/plain": [
       "<matplotlib.axes._subplots.AxesSubplot at 0x19759d0e8b0>"
      ]
     },
     "execution_count": 53,
     "metadata": {},
     "output_type": "execute_result"
    },
    {
     "data": {
      "image/png": "[encoded data removed]",
      "text/plain": [
       "<Figure size 432x288 with 1 Axes>"
      ]
     },
     "metadata": {
      "needs_background": "light"
     },
     "output_type": "display_data"
    }
   ],
   "source": [
    "sns.distplot(model.resid_generalized, fit=stats.norm) "
   ]
  },
  {
   "cell_type": "markdown",
   "metadata": {},
   "source": [
    "##### Conclusion:\n",
    "\n",
    "H1 is accepted at p-value = 0.05 : residuals significantly differ from the normal distribution."
   ]
  },
  {
   "cell_type": "markdown",
   "metadata": {},
   "source": [
    "### Multicollinearity\n",
    "\n",
    "Multicollinearity can be checked to find any strong correlations between predictors"
   ]
  },
  {
   "cell_type": "code",
   "execution_count": 54,
   "metadata": {},
   "outputs": [
    {
     "data": {
      "text/html": [
       "<div>\n",
       "<style scoped>\n",
       "    .dataframe tbody tr th:only-of-type {\n",
       "        vertical-align: middle;\n",
       "    }\n",
       "\n",
       "    .dataframe tbody tr th {\n",
       "        vertical-align: top;\n",
       "    }\n",
       "\n",
       "    .dataframe thead th {\n",
       "        text-align: right;\n",
       "    }\n",
       "</style>\n",
       "<table border=\"1\" class=\"dataframe\">\n",
       "  <thead>\n",
       "    <tr style=\"text-align: right;\">\n",
       "      <th></th>\n",
       "      <th>VIF</th>\n",
       "      <th>Features</th>\n",
       "    </tr>\n",
       "  </thead>\n",
       "  <tbody>\n",
       "    <tr>\n",
       "      <th>8</th>\n",
       "      <td>1.014330</td>\n",
       "      <td>gender_Male</td>\n",
       "    </tr>\n",
       "    <tr>\n",
       "      <th>4</th>\n",
       "      <td>1.090373</td>\n",
       "      <td>reside</td>\n",
       "    </tr>\n",
       "    <tr>\n",
       "      <th>7</th>\n",
       "      <td>1.348241</td>\n",
       "      <td>retire_Yes</td>\n",
       "    </tr>\n",
       "    <tr>\n",
       "      <th>5</th>\n",
       "      <td>1.361204</td>\n",
       "      <td>region_Zone 2</td>\n",
       "    </tr>\n",
       "    <tr>\n",
       "      <th>6</th>\n",
       "      <td>1.366961</td>\n",
       "      <td>region_Zone 3</td>\n",
       "    </tr>\n",
       "    <tr>\n",
       "      <th>0</th>\n",
       "      <td>1.462286</td>\n",
       "      <td>tenure</td>\n",
       "    </tr>\n",
       "    <tr>\n",
       "      <th>3</th>\n",
       "      <td>1.492570</td>\n",
       "      <td>income</td>\n",
       "    </tr>\n",
       "    <tr>\n",
       "      <th>1</th>\n",
       "      <td>2.295476</td>\n",
       "      <td>age</td>\n",
       "    </tr>\n",
       "    <tr>\n",
       "      <th>2</th>\n",
       "      <td>2.446682</td>\n",
       "      <td>employ</td>\n",
       "    </tr>\n",
       "  </tbody>\n",
       "</table>\n",
       "</div>"
      ],
      "text/plain": [
       "        VIF       Features\n",
       "8  1.014330    gender_Male\n",
       "4  1.090373         reside\n",
       "7  1.348241     retire_Yes\n",
       "5  1.361204  region_Zone 2\n",
       "6  1.366961  region_Zone 3\n",
       "0  1.462286         tenure\n",
       "3  1.492570         income\n",
       "1  2.295476            age\n",
       "2  2.446682         employ"
      ]
     },
     "execution_count": 54,
     "metadata": {},
     "output_type": "execute_result"
    }
   ],
   "source": [
    "vifs = np.array([vif(model.model.exog, i) for i in range(model.model.exog.shape[1])])\n",
    "\n",
    "vif_df = pd.DataFrame()\n",
    "vif_df['VIF'] = vifs[1:]\n",
    "vif_df['Features'] = model.params.index[1:]\n",
    "vif_df.sort_values(by=['VIF'])"
   ]
  },
  {
   "cell_type": "markdown",
   "metadata": {},
   "source": [
    "A problem of multicollinearity does not exist in the model"
   ]
  },
  {
   "cell_type": "markdown",
   "metadata": {},
   "source": [
    "## Final Conclusions:\n",
    "\n",
    "The model is not that bad since its accuracy is above 0.5, but it only describes 4% of variance of variable 'equip', which is not enough for the model to fit the data well. Residuals are not normally distributed - probably, it is due to the fact that quantity of FP is significantly greater than quantity of FN. The problem of multicollinearity does not exist in the model. Overall, the model can probably be used as a very rough estimation, but it is better to perform a futher analysis to determine variables that really influence the 'equip' variable, since currently only 2 out of 8 variables are statistically significant in the model."
   ]
  },
  {
   "cell_type": "markdown",
   "metadata": {},
   "source": [
    "# Task 2 - Panel Data"
   ]
  },
  {
   "cell_type": "code",
   "execution_count": 56,
   "metadata": {},
   "outputs": [
    {
     "data": {
      "text/html": [
       "<div>\n",
       "<style scoped>\n",
       "    .dataframe tbody tr th:only-of-type {\n",
       "        vertical-align: middle;\n",
       "    }\n",
       "\n",
       "    .dataframe tbody tr th {\n",
       "        vertical-align: top;\n",
       "    }\n",
       "\n",
       "    .dataframe thead th {\n",
       "        text-align: right;\n",
       "    }\n",
       "</style>\n",
       "<table border=\"1\" class=\"dataframe\">\n",
       "  <thead>\n",
       "    <tr style=\"text-align: right;\">\n",
       "      <th></th>\n",
       "      <th></th>\n",
       "      <th>Region</th>\n",
       "      <th>District</th>\n",
       "      <th>Rabotniki</th>\n",
       "      <th>SubMSP</th>\n",
       "      <th>Vnovsozd</th>\n",
       "      <th>oborot</th>\n",
       "      <th>InvestFC</th>\n",
       "      <th>fedsub</th>\n",
       "      <th>minekfed</th>\n",
       "      <th>minekreg</th>\n",
       "      <th>...</th>\n",
       "      <th>naselenie</th>\n",
       "      <th>edu30</th>\n",
       "      <th>biznav</th>\n",
       "      <th>im</th>\n",
       "      <th>infrmoney</th>\n",
       "      <th>infrrazv</th>\n",
       "      <th>suppmsp</th>\n",
       "      <th>vrp</th>\n",
       "      <th>budg</th>\n",
       "      <th>year</th>\n",
       "    </tr>\n",
       "    <tr>\n",
       "      <th>id</th>\n",
       "      <th>year</th>\n",
       "      <th></th>\n",
       "      <th></th>\n",
       "      <th></th>\n",
       "      <th></th>\n",
       "      <th></th>\n",
       "      <th></th>\n",
       "      <th></th>\n",
       "      <th></th>\n",
       "      <th></th>\n",
       "      <th></th>\n",
       "      <th></th>\n",
       "      <th></th>\n",
       "      <th></th>\n",
       "      <th></th>\n",
       "      <th></th>\n",
       "      <th></th>\n",
       "      <th></th>\n",
       "      <th></th>\n",
       "      <th></th>\n",
       "      <th></th>\n",
       "      <th></th>\n",
       "    </tr>\n",
       "  </thead>\n",
       "  <tbody>\n",
       "    <tr>\n",
       "      <th rowspan=\"3\" valign=\"top\">1</th>\n",
       "      <th>2016</th>\n",
       "      <td>Moscow</td>\n",
       "      <td>Central</td>\n",
       "      <td>2608366</td>\n",
       "      <td>731632</td>\n",
       "      <td>150349</td>\n",
       "      <td>1.686972e+13</td>\n",
       "      <td>1.883730e+11</td>\n",
       "      <td>705299000.0</td>\n",
       "      <td>705.000000</td>\n",
       "      <td>176</td>\n",
       "      <td>...</td>\n",
       "      <td>12355400</td>\n",
       "      <td>0</td>\n",
       "      <td>6766.08</td>\n",
       "      <td>104.000000</td>\n",
       "      <td>705.000000</td>\n",
       "      <td>23.0</td>\n",
       "      <td>425</td>\n",
       "      <td>1.429980e+07</td>\n",
       "      <td>1.852642e+06</td>\n",
       "      <td>2016</td>\n",
       "    </tr>\n",
       "    <tr>\n",
       "      <th>2017</th>\n",
       "      <td>Moscow</td>\n",
       "      <td>Central</td>\n",
       "      <td>2199321</td>\n",
       "      <td>768618</td>\n",
       "      <td>159342</td>\n",
       "      <td>1.499113e+13</td>\n",
       "      <td>3.439057e+11</td>\n",
       "      <td>555608500.0</td>\n",
       "      <td>0.000000</td>\n",
       "      <td>0</td>\n",
       "      <td>...</td>\n",
       "      <td>12380700</td>\n",
       "      <td>0</td>\n",
       "      <td>7048.00</td>\n",
       "      <td>114.000000</td>\n",
       "      <td>0.000000</td>\n",
       "      <td>26.0</td>\n",
       "      <td>11401</td>\n",
       "      <td>1.590428e+07</td>\n",
       "      <td>2.000854e+06</td>\n",
       "      <td>2017</td>\n",
       "    </tr>\n",
       "    <tr>\n",
       "      <th>2018</th>\n",
       "      <td>Moscow</td>\n",
       "      <td>Central</td>\n",
       "      <td>2200603</td>\n",
       "      <td>780902</td>\n",
       "      <td>150734</td>\n",
       "      <td>1.467666e+13</td>\n",
       "      <td>1.467666e+13</td>\n",
       "      <td>481000000.0</td>\n",
       "      <td>396.067416</td>\n",
       "      <td>96</td>\n",
       "      <td>...</td>\n",
       "      <td>12506468</td>\n",
       "      <td>0</td>\n",
       "      <td>25400.00</td>\n",
       "      <td>152.000000</td>\n",
       "      <td>362.164356</td>\n",
       "      <td>28.6</td>\n",
       "      <td>13111</td>\n",
       "      <td>1.780433e+07</td>\n",
       "      <td>2.134911e+06</td>\n",
       "      <td>2018</td>\n",
       "    </tr>\n",
       "    <tr>\n",
       "      <th rowspan=\"2\" valign=\"top\">2</th>\n",
       "      <th>2016</th>\n",
       "      <td>Saint Petersburg</td>\n",
       "      <td>Northwestern</td>\n",
       "      <td>1151893</td>\n",
       "      <td>334994</td>\n",
       "      <td>66107</td>\n",
       "      <td>5.854914e+12</td>\n",
       "      <td>2.343767e+10</td>\n",
       "      <td>96443000.0</td>\n",
       "      <td>96.000000</td>\n",
       "      <td>24</td>\n",
       "      <td>...</td>\n",
       "      <td>5253600</td>\n",
       "      <td>100</td>\n",
       "      <td>1585.92</td>\n",
       "      <td>2504.000000</td>\n",
       "      <td>121.000000</td>\n",
       "      <td>9.0</td>\n",
       "      <td>3834</td>\n",
       "      <td>3.742182e+06</td>\n",
       "      <td>4.766638e+05</td>\n",
       "      <td>2016</td>\n",
       "    </tr>\n",
       "    <tr>\n",
       "      <th>2017</th>\n",
       "      <td>Saint Petersburg</td>\n",
       "      <td>Northwestern</td>\n",
       "      <td>1082580</td>\n",
       "      <td>347355</td>\n",
       "      <td>64414</td>\n",
       "      <td>4.396981e+12</td>\n",
       "      <td>3.118336e+10</td>\n",
       "      <td>59893240.0</td>\n",
       "      <td>60.000000</td>\n",
       "      <td>140</td>\n",
       "      <td>...</td>\n",
       "      <td>5281600</td>\n",
       "      <td>122</td>\n",
       "      <td>1652.00</td>\n",
       "      <td>2775.000000</td>\n",
       "      <td>200.000000</td>\n",
       "      <td>10.0</td>\n",
       "      <td>7384</td>\n",
       "      <td>4.162067e+06</td>\n",
       "      <td>5.147969e+05</td>\n",
       "      <td>2017</td>\n",
       "    </tr>\n",
       "    <tr>\n",
       "      <th>...</th>\n",
       "      <th>...</th>\n",
       "      <td>...</td>\n",
       "      <td>...</td>\n",
       "      <td>...</td>\n",
       "      <td>...</td>\n",
       "      <td>...</td>\n",
       "      <td>...</td>\n",
       "      <td>...</td>\n",
       "      <td>...</td>\n",
       "      <td>...</td>\n",
       "      <td>...</td>\n",
       "      <td>...</td>\n",
       "      <td>...</td>\n",
       "      <td>...</td>\n",
       "      <td>...</td>\n",
       "      <td>...</td>\n",
       "      <td>...</td>\n",
       "      <td>...</td>\n",
       "      <td>...</td>\n",
       "      <td>...</td>\n",
       "      <td>...</td>\n",
       "      <td>...</td>\n",
       "    </tr>\n",
       "    <tr>\n",
       "      <th rowspan=\"2\" valign=\"top\">84</th>\n",
       "      <th>2017</th>\n",
       "      <td>Tuva Republic</td>\n",
       "      <td>Siberian</td>\n",
       "      <td>8328</td>\n",
       "      <td>6845</td>\n",
       "      <td>1327</td>\n",
       "      <td>1.103968e+10</td>\n",
       "      <td>-2.698255e+08</td>\n",
       "      <td>23433290.0</td>\n",
       "      <td>23.000000</td>\n",
       "      <td>1</td>\n",
       "      <td>...</td>\n",
       "      <td>318600</td>\n",
       "      <td>172</td>\n",
       "      <td>8.00</td>\n",
       "      <td>74.000000</td>\n",
       "      <td>10.000000</td>\n",
       "      <td>4.0</td>\n",
       "      <td>1490</td>\n",
       "      <td>5.808069e+04</td>\n",
       "      <td>2.463497e+04</td>\n",
       "      <td>2017</td>\n",
       "    </tr>\n",
       "    <tr>\n",
       "      <th>2018</th>\n",
       "      <td>Tuva Republic</td>\n",
       "      <td>Siberian</td>\n",
       "      <td>8788</td>\n",
       "      <td>6922</td>\n",
       "      <td>1485</td>\n",
       "      <td>1.422781e+10</td>\n",
       "      <td>1.422781e+10</td>\n",
       "      <td>26983600.0</td>\n",
       "      <td>25.280899</td>\n",
       "      <td>1</td>\n",
       "      <td>...</td>\n",
       "      <td>321722</td>\n",
       "      <td>251</td>\n",
       "      <td>1208.00</td>\n",
       "      <td>113.333333</td>\n",
       "      <td>5.650791</td>\n",
       "      <td>4.4</td>\n",
       "      <td>1714</td>\n",
       "      <td>6.501945e+04</td>\n",
       "      <td>2.628552e+04</td>\n",
       "      <td>2018</td>\n",
       "    </tr>\n",
       "    <tr>\n",
       "      <th rowspan=\"3\" valign=\"top\">85</th>\n",
       "      <th>2016</th>\n",
       "      <td>Jewish Autonomous Oblast</td>\n",
       "      <td>Far Eastern</td>\n",
       "      <td>12163</td>\n",
       "      <td>4322</td>\n",
       "      <td>606</td>\n",
       "      <td>2.527910e+10</td>\n",
       "      <td>3.717700e+08</td>\n",
       "      <td>7349000.0</td>\n",
       "      <td>7.000000</td>\n",
       "      <td>0</td>\n",
       "      <td>...</td>\n",
       "      <td>165200</td>\n",
       "      <td>0</td>\n",
       "      <td>7.68</td>\n",
       "      <td>290.000000</td>\n",
       "      <td>0.000000</td>\n",
       "      <td>4.0</td>\n",
       "      <td>68</td>\n",
       "      <td>4.687220e+04</td>\n",
       "      <td>9.741238e+03</td>\n",
       "      <td>2016</td>\n",
       "    </tr>\n",
       "    <tr>\n",
       "      <th>2017</th>\n",
       "      <td>Jewish Autonomous Oblast</td>\n",
       "      <td>Far Eastern</td>\n",
       "      <td>12882</td>\n",
       "      <td>4203</td>\n",
       "      <td>547</td>\n",
       "      <td>2.104477e+10</td>\n",
       "      <td>3.070902e+08</td>\n",
       "      <td>4326608.0</td>\n",
       "      <td>4.000000</td>\n",
       "      <td>1</td>\n",
       "      <td>...</td>\n",
       "      <td>164200</td>\n",
       "      <td>158</td>\n",
       "      <td>8.00</td>\n",
       "      <td>415.000000</td>\n",
       "      <td>4.000000</td>\n",
       "      <td>4.0</td>\n",
       "      <td>1316</td>\n",
       "      <td>5.213140e+04</td>\n",
       "      <td>1.052054e+04</td>\n",
       "      <td>2017</td>\n",
       "    </tr>\n",
       "    <tr>\n",
       "      <th>2018</th>\n",
       "      <td>Jewish Autonomous Oblast</td>\n",
       "      <td>Far Eastern</td>\n",
       "      <td>11910</td>\n",
       "      <td>4156</td>\n",
       "      <td>595</td>\n",
       "      <td>2.199281e+10</td>\n",
       "      <td>2.199281e+10</td>\n",
       "      <td>9260000.0</td>\n",
       "      <td>6.179775</td>\n",
       "      <td>1</td>\n",
       "      <td>...</td>\n",
       "      <td>162014</td>\n",
       "      <td>232</td>\n",
       "      <td>132.00</td>\n",
       "      <td>616.000000</td>\n",
       "      <td>2.054833</td>\n",
       "      <td>4.4</td>\n",
       "      <td>1513</td>\n",
       "      <td>5.835942e+04</td>\n",
       "      <td>1.122541e+04</td>\n",
       "      <td>2018</td>\n",
       "    </tr>\n",
       "  </tbody>\n",
       "</table>\n",
       "<p>255 rows × 24 columns</p>\n",
       "</div>"
      ],
      "text/plain": [
       "                           Region      District  Rabotniki  SubMSP  Vnovsozd  \\\n",
       "id year                                                                        \n",
       "1  2016                    Moscow       Central    2608366  731632    150349   \n",
       "   2017                    Moscow       Central    2199321  768618    159342   \n",
       "   2018                    Moscow       Central    2200603  780902    150734   \n",
       "2  2016          Saint Petersburg  Northwestern    1151893  334994     66107   \n",
       "   2017          Saint Petersburg  Northwestern    1082580  347355     64414   \n",
       "...                           ...           ...        ...     ...       ...   \n",
       "84 2017             Tuva Republic      Siberian       8328    6845      1327   \n",
       "   2018             Tuva Republic      Siberian       8788    6922      1485   \n",
       "85 2016  Jewish Autonomous Oblast   Far Eastern      12163    4322       606   \n",
       "   2017  Jewish Autonomous Oblast   Far Eastern      12882    4203       547   \n",
       "   2018  Jewish Autonomous Oblast   Far Eastern      11910    4156       595   \n",
       "\n",
       "               oborot      InvestFC       fedsub    minekfed  minekreg  ...  \\\n",
       "id year                                                                 ...   \n",
       "1  2016  1.686972e+13  1.883730e+11  705299000.0  705.000000       176  ...   \n",
       "   2017  1.499113e+13  3.439057e+11  555608500.0    0.000000         0  ...   \n",
       "   2018  1.467666e+13  1.467666e+13  481000000.0  396.067416        96  ...   \n",
       "2  2016  5.854914e+12  2.343767e+10   96443000.0   96.000000        24  ...   \n",
       "   2017  4.396981e+12  3.118336e+10   59893240.0   60.000000       140  ...   \n",
       "...               ...           ...          ...         ...       ...  ...   \n",
       "84 2017  1.103968e+10 -2.698255e+08   23433290.0   23.000000         1  ...   \n",
       "   2018  1.422781e+10  1.422781e+10   26983600.0   25.280899         1  ...   \n",
       "85 2016  2.527910e+10  3.717700e+08    7349000.0    7.000000         0  ...   \n",
       "   2017  2.104477e+10  3.070902e+08    4326608.0    4.000000         1  ...   \n",
       "   2018  2.199281e+10  2.199281e+10    9260000.0    6.179775         1  ...   \n",
       "\n",
       "         naselenie  edu30    biznav           im   infrmoney  infrrazv  \\\n",
       "id year                                                                  \n",
       "1  2016   12355400      0   6766.08   104.000000  705.000000      23.0   \n",
       "   2017   12380700      0   7048.00   114.000000    0.000000      26.0   \n",
       "   2018   12506468      0  25400.00   152.000000  362.164356      28.6   \n",
       "2  2016    5253600    100   1585.92  2504.000000  121.000000       9.0   \n",
       "   2017    5281600    122   1652.00  2775.000000  200.000000      10.0   \n",
       "...            ...    ...       ...          ...         ...       ...   \n",
       "84 2017     318600    172      8.00    74.000000   10.000000       4.0   \n",
       "   2018     321722    251   1208.00   113.333333    5.650791       4.4   \n",
       "85 2016     165200      0      7.68   290.000000    0.000000       4.0   \n",
       "   2017     164200    158      8.00   415.000000    4.000000       4.0   \n",
       "   2018     162014    232    132.00   616.000000    2.054833       4.4   \n",
       "\n",
       "         suppmsp           vrp          budg  year  \n",
       "id year                                             \n",
       "1  2016      425  1.429980e+07  1.852642e+06  2016  \n",
       "   2017    11401  1.590428e+07  2.000854e+06  2017  \n",
       "   2018    13111  1.780433e+07  2.134911e+06  2018  \n",
       "2  2016     3834  3.742182e+06  4.766638e+05  2016  \n",
       "   2017     7384  4.162067e+06  5.147969e+05  2017  \n",
       "...          ...           ...           ...   ...  \n",
       "84 2017     1490  5.808069e+04  2.463497e+04  2017  \n",
       "   2018     1714  6.501945e+04  2.628552e+04  2018  \n",
       "85 2016       68  4.687220e+04  9.741238e+03  2016  \n",
       "   2017     1316  5.213140e+04  1.052054e+04  2017  \n",
       "   2018     1513  5.835942e+04  1.122541e+04  2018  \n",
       "\n",
       "[255 rows x 24 columns]"
      ]
     },
     "execution_count": 56,
     "metadata": {},
     "output_type": "execute_result"
    }
   ],
   "source": [
    "df = pd.read_excel(\"SMEs.xls\")\n",
    "year = pd.Categorical(df.year)\n",
    "df = df.set_index([\"id\", \"year\"])\n",
    "df[\"year\"] = year\n",
    "df"
   ]
  },
  {
   "cell_type": "code",
   "execution_count": 58,
   "metadata": {},
   "outputs": [
    {
     "data": {
      "text/plain": [
       "oborot           1.000000\n",
       "budg             0.973670\n",
       "Vnovsozd         0.963431\n",
       "Rabotniki        0.955289\n",
       "vrp              0.954838\n",
       "saldfinresult    0.944306\n",
       "SubMSP           0.936859\n",
       "naselenie        0.848403\n",
       "fz22344          0.790586\n",
       "fedsub           0.602555\n",
       "InvestFC         0.536792\n",
       "biznav           0.484271\n",
       "infrmoney        0.437321\n",
       "minekfed         0.414470\n",
       "minekreg         0.343297\n",
       "newrabmesta      0.326501\n",
       "suppmsp          0.245514\n",
       "infrrazv         0.181681\n",
       "im               0.114976\n",
       "newSMBdo30      -0.020644\n",
       "edu30           -0.037446\n",
       "dtype: float64"
      ]
     },
     "execution_count": 58,
     "metadata": {},
     "output_type": "execute_result"
    }
   ],
   "source": [
    "df.corrwith(df['oborot']).sort_values(ascending=False)"
   ]
  },
  {
   "cell_type": "markdown",
   "metadata": {},
   "source": [
    "### Chosen variables:\n",
    "\n",
    "Dependent:\n",
    "- oborot\n",
    "\n",
    "Predictors (tried to choose predictors with not very high correlation with each other, besides first 3 correlated with oborot):\n",
    "- budg\n",
    "- Vnovsozd\n",
    "- Rabotniki\n",
    "- InvestFC\n",
    "- fedsub\n",
    "- biznav"
   ]
  },
  {
   "cell_type": "code",
   "execution_count": 89,
   "metadata": {},
   "outputs": [
    {
     "name": "stdout",
     "output_type": "stream",
     "text": [
      "<class 'pandas.core.frame.DataFrame'>\n",
      "MultiIndex: 255 entries, (1, 2016) to (85, 2018)\n",
      "Data columns (total 8 columns):\n",
      " #   Column     Non-Null Count  Dtype   \n",
      "---  ------     --------------  -----   \n",
      " 0   oborot     255 non-null    float64 \n",
      " 1   budg       255 non-null    float64 \n",
      " 2   Vnovsozd   255 non-null    int64   \n",
      " 3   Rabotniki  255 non-null    int64   \n",
      " 4   InvestFC   255 non-null    float64 \n",
      " 5   fedsub     253 non-null    float64 \n",
      " 6   biznav     255 non-null    float64 \n",
      " 7   year       255 non-null    category\n",
      "dtypes: category(1), float64(5), int64(2)\n",
      "memory usage: 17.8 KB\n"
     ]
    }
   ],
   "source": [
    "chosen_df = df[['oborot','budg','Vnovsozd','Rabotniki','InvestFC','fedsub','biznav','year']]\n",
    "chosen_df.info()"
   ]
  },
  {
   "cell_type": "code",
   "execution_count": 92,
   "metadata": {},
   "outputs": [
    {
     "name": "stderr",
     "output_type": "stream",
     "text": [
      "<ipython-input-92-27a8abb75e81>:1: SettingWithCopyWarning: \n",
      "A value is trying to be set on a copy of a slice from a DataFrame.\n",
      "Try using .loc[row_indexer,col_indexer] = value instead\n",
      "\n",
      "See the caveats in the documentation: https://pandas.pydata.org/pandas-docs/stable/user_guide/indexing.html#returning-a-view-versus-a-copy\n",
      "  chosen_df[\"fedsub\"] = chosen_df[\"fedsub\"].fillna(chosen_df[\"fedsub\"].median())\n"
     ]
    }
   ],
   "source": [
    "chosen_df[\"fedsub\"] = chosen_df[\"fedsub\"].fillna(chosen_df[\"fedsub\"].median())"
   ]
  },
  {
   "cell_type": "code",
   "execution_count": 95,
   "metadata": {},
   "outputs": [
    {
     "data": {
      "image/png": "[encoded data removed]",
      "text/plain": [
       "<Figure size 576x576 with 2 Axes>"
      ]
     },
     "metadata": {
      "needs_background": "light"
     },
     "output_type": "display_data"
    }
   ],
   "source": [
    "corr = chosen_df.corr('pearson')\n",
    "plt.figure(figsize=(8, 8))\n",
    "sns.heatmap(corr, vmax=.8, square=True, cmap='YlGnBu')\n",
    "plt.show()"
   ]
  },
  {
   "cell_type": "markdown",
   "metadata": {},
   "source": [
    "### Dependent variable\n",
    "\n",
    "##### Hypothesis:\n",
    "\n",
    "H1: The distribution of the variable 'oborot' is different from the normal distribution\n",
    "\n",
    "H0: The distribution of the variable 'oborot' is not different from the normal distribution\n",
    "\n",
    "p-value = 0.05"
   ]
  },
  {
   "cell_type": "code",
   "execution_count": 96,
   "metadata": {},
   "outputs": [
    {
     "name": "stderr",
     "output_type": "stream",
     "text": [
      "C:\\Users\\Admin\\Miniconda3\\envs\\IntroML\\lib\\site-packages\\seaborn\\distributions.py:2619: FutureWarning: `distplot` is a deprecated function and will be removed in a future version. Please adapt your code to use either `displot` (a figure-level function with similar flexibility) or `histplot` (an axes-level function for histograms).\n",
      "  warnings.warn(msg, FutureWarning)\n",
      "C:\\Users\\Admin\\Miniconda3\\envs\\IntroML\\lib\\site-packages\\matplotlib\\cbook\\__init__.py:1402: FutureWarning: Support for multi-dimensional indexing (e.g. `obj[:, None]`) is deprecated and will be removed in a future version.  Convert to a numpy array before indexing instead.\n",
      "  ndim = x[:, None].ndim\n",
      "C:\\Users\\Admin\\Miniconda3\\envs\\IntroML\\lib\\site-packages\\matplotlib\\axes\\_base.py:276: FutureWarning: Support for multi-dimensional indexing (e.g. `obj[:, None]`) is deprecated and will be removed in a future version.  Convert to a numpy array before indexing instead.\n",
      "  x = x[:, np.newaxis]\n",
      "C:\\Users\\Admin\\Miniconda3\\envs\\IntroML\\lib\\site-packages\\matplotlib\\axes\\_base.py:278: FutureWarning: Support for multi-dimensional indexing (e.g. `obj[:, None]`) is deprecated and will be removed in a future version.  Convert to a numpy array before indexing instead.\n",
      "  y = y[:, np.newaxis]\n"
     ]
    },
    {
     "data": {
      "text/plain": [
       "<matplotlib.axes._subplots.AxesSubplot at 0x1975c0cfeb0>"
      ]
     },
     "execution_count": 96,
     "metadata": {},
     "output_type": "execute_result"
    },
    {
     "data": {
      "image/png": "[encoded data removed]",
      "text/plain": [
       "<Figure size 432x288 with 1 Axes>"
      ]
     },
     "metadata": {
      "needs_background": "light"
     },
     "output_type": "display_data"
    }
   ],
   "source": [
    "sns.distplot(chosen_df['oborot'], fit=stats.norm)"
   ]
  },
  {
   "cell_type": "code",
   "execution_count": 97,
   "metadata": {},
   "outputs": [
    {
     "data": {
      "text/plain": [
       "KstestResult(statistic=0.3469334328552291, pvalue=6.302033135999761e-28)"
      ]
     },
     "execution_count": 97,
     "metadata": {},
     "output_type": "execute_result"
    }
   ],
   "source": [
    "stats.kstest(chosen_df['oborot'], 'norm', args=(chosen_df['oborot'].mean(), chosen_df['oborot'].std()))"
   ]
  },
  {
   "cell_type": "code",
   "execution_count": 98,
   "metadata": {},
   "outputs": [
    {
     "name": "stdout",
     "output_type": "stream",
     "text": [
      "Skewness: 7.3057\n",
      "Kurtosis: 58.7992\n",
      "Quartile Deviation: 220266640068.2000\n",
      "Decile Ratio: 20.3191\n"
     ]
    }
   ],
   "source": [
    "print('Skewness: {:.4f}'.format(chosen_df['oborot'].skew()))\n",
    "print('Kurtosis: {:.4f}'.format(chosen_df['oborot'].kurt()))\n",
    "print('Quartile Deviation: {:.4f}'.format((chosen_df['oborot'].quantile(0.75) - chosen_df['oborot'].quantile(0.25))/2))\n",
    "print('Decile Ratio: {:.4f}'.format(chosen_df['oborot'].quantile(0.9)/chosen_df['oborot'].quantile(0.1)))"
   ]
  },
  {
   "cell_type": "markdown",
   "metadata": {},
   "source": [
    "##### Conclusion:\n",
    "\n",
    "The dependent variable 'oborot' deviates from the normal distribution (H1 is accepted at p-value = 0.05). It is highly skewed and can be characterised as leptokurtic. Quartile deviation is very high, decile ratio is quite large as well"
   ]
  },
  {
   "cell_type": "code",
   "execution_count": 99,
   "metadata": {},
   "outputs": [
    {
     "data": {
      "text/plain": [
       "<matplotlib.axes._subplots.AxesSubplot at 0x1975d9103a0>"
      ]
     },
     "execution_count": 99,
     "metadata": {},
     "output_type": "execute_result"
    },
    {
     "data": {
      "image/png": "[encoded data removed]",
      "text/plain": [
       "<Figure size 432x288 with 1 Axes>"
      ]
     },
     "metadata": {
      "needs_background": "light"
     },
     "output_type": "display_data"
    }
   ],
   "source": [
    "chosen_df['oborot'].groupby('year').mean().plot()"
   ]
  },
  {
   "cell_type": "markdown",
   "metadata": {},
   "source": [
    "In general, by these 3 years it is difficult to say something about trend, but, in general, oborot decreases with years."
   ]
  },
  {
   "cell_type": "markdown",
   "metadata": {},
   "source": [
    "### Independent variables"
   ]
  },
  {
   "cell_type": "markdown",
   "metadata": {},
   "source": [
    "##### Hypothesis:\n",
    "\n",
    "H1: The distribution of the variable 'budg' is different from the normal distribution\n",
    "\n",
    "H0: The distribution of the variable 'budg' is not different from the normal distribution\n",
    "\n",
    "p-value = 0.05"
   ]
  },
  {
   "cell_type": "code",
   "execution_count": 100,
   "metadata": {},
   "outputs": [
    {
     "name": "stderr",
     "output_type": "stream",
     "text": [
      "C:\\Users\\Admin\\Miniconda3\\envs\\IntroML\\lib\\site-packages\\seaborn\\distributions.py:2619: FutureWarning: `distplot` is a deprecated function and will be removed in a future version. Please adapt your code to use either `displot` (a figure-level function with similar flexibility) or `histplot` (an axes-level function for histograms).\n",
      "  warnings.warn(msg, FutureWarning)\n",
      "C:\\Users\\Admin\\Miniconda3\\envs\\IntroML\\lib\\site-packages\\matplotlib\\cbook\\__init__.py:1402: FutureWarning: Support for multi-dimensional indexing (e.g. `obj[:, None]`) is deprecated and will be removed in a future version.  Convert to a numpy array before indexing instead.\n",
      "  ndim = x[:, None].ndim\n",
      "C:\\Users\\Admin\\Miniconda3\\envs\\IntroML\\lib\\site-packages\\matplotlib\\axes\\_base.py:276: FutureWarning: Support for multi-dimensional indexing (e.g. `obj[:, None]`) is deprecated and will be removed in a future version.  Convert to a numpy array before indexing instead.\n",
      "  x = x[:, np.newaxis]\n",
      "C:\\Users\\Admin\\Miniconda3\\envs\\IntroML\\lib\\site-packages\\matplotlib\\axes\\_base.py:278: FutureWarning: Support for multi-dimensional indexing (e.g. `obj[:, None]`) is deprecated and will be removed in a future version.  Convert to a numpy array before indexing instead.\n",
      "  y = y[:, np.newaxis]\n"
     ]
    },
    {
     "data": {
      "text/plain": [
       "KstestResult(statistic=0.3278401895002411, pvalue=6.540393997413027e-25)"
      ]
     },
     "execution_count": 100,
     "metadata": {},
     "output_type": "execute_result"
    },
    {
     "data": {
      "image/png": "[encoded data removed]",
      "text/plain": [
       "<Figure size 432x288 with 1 Axes>"
      ]
     },
     "metadata": {
      "needs_background": "light"
     },
     "output_type": "display_data"
    }
   ],
   "source": [
    "sns.distplot(chosen_df['budg'], fit=stats.norm)\n",
    "stats.kstest(chosen_df['budg'], 'norm', args=(chosen_df['budg'].mean(), chosen_df['budg'].std()))"
   ]
  },
  {
   "cell_type": "markdown",
   "metadata": {},
   "source": [
    "H1 is accepted at p-value = 0.05, budg deviates from normal distribution"
   ]
  },
  {
   "cell_type": "code",
   "execution_count": 101,
   "metadata": {},
   "outputs": [
    {
     "data": {
      "text/plain": [
       "<matplotlib.axes._subplots.AxesSubplot at 0x1975da3dfa0>"
      ]
     },
     "execution_count": 101,
     "metadata": {},
     "output_type": "execute_result"
    },
    {
     "data": {
      "image/png": "[encoded data removed]",
      "text/plain": [
       "<Figure size 432x288 with 1 Axes>"
      ]
     },
     "metadata": {
      "needs_background": "light"
     },
     "output_type": "display_data"
    }
   ],
   "source": [
    "chosen_df['budg'].groupby('year').mean().plot()"
   ]
  },
  {
   "cell_type": "markdown",
   "metadata": {},
   "source": [
    "There is a linear relationship between a budget and year"
   ]
  },
  {
   "cell_type": "markdown",
   "metadata": {},
   "source": [
    "##### Hypothesis:\n",
    "\n",
    "H1: The distribution of the variable 'Vnovsozd' is different from the normal distribution\n",
    "\n",
    "H0: The distribution of the variable 'Vnovsozd' is not different from the normal distribution\n",
    "\n",
    "p-value = 0.05"
   ]
  },
  {
   "cell_type": "code",
   "execution_count": 102,
   "metadata": {},
   "outputs": [
    {
     "name": "stderr",
     "output_type": "stream",
     "text": [
      "C:\\Users\\Admin\\Miniconda3\\envs\\IntroML\\lib\\site-packages\\seaborn\\distributions.py:2619: FutureWarning: `distplot` is a deprecated function and will be removed in a future version. Please adapt your code to use either `displot` (a figure-level function with similar flexibility) or `histplot` (an axes-level function for histograms).\n",
      "  warnings.warn(msg, FutureWarning)\n",
      "C:\\Users\\Admin\\Miniconda3\\envs\\IntroML\\lib\\site-packages\\matplotlib\\cbook\\__init__.py:1402: FutureWarning: Support for multi-dimensional indexing (e.g. `obj[:, None]`) is deprecated and will be removed in a future version.  Convert to a numpy array before indexing instead.\n",
      "  ndim = x[:, None].ndim\n",
      "C:\\Users\\Admin\\Miniconda3\\envs\\IntroML\\lib\\site-packages\\matplotlib\\axes\\_base.py:276: FutureWarning: Support for multi-dimensional indexing (e.g. `obj[:, None]`) is deprecated and will be removed in a future version.  Convert to a numpy array before indexing instead.\n",
      "  x = x[:, np.newaxis]\n",
      "C:\\Users\\Admin\\Miniconda3\\envs\\IntroML\\lib\\site-packages\\matplotlib\\axes\\_base.py:278: FutureWarning: Support for multi-dimensional indexing (e.g. `obj[:, None]`) is deprecated and will be removed in a future version.  Convert to a numpy array before indexing instead.\n",
      "  y = y[:, np.newaxis]\n"
     ]
    },
    {
     "data": {
      "text/plain": [
       "KstestResult(statistic=0.27553422162617147, pvalue=1.3290473807306439e-17)"
      ]
     },
     "execution_count": 102,
     "metadata": {},
     "output_type": "execute_result"
    },
    {
     "data": {
      "image/png": "[encoded data removed]",
      "text/plain": [
       "<Figure size 432x288 with 1 Axes>"
      ]
     },
     "metadata": {
      "needs_background": "light"
     },
     "output_type": "display_data"
    }
   ],
   "source": [
    "sns.distplot(chosen_df['Vnovsozd'], fit=stats.norm)\n",
    "stats.kstest(chosen_df['Vnovsozd'], 'norm', args=(chosen_df['Vnovsozd'].mean(), chosen_df['Vnovsozd'].std()))"
   ]
  },
  {
   "cell_type": "markdown",
   "metadata": {},
   "source": [
    "H1 is accepted at p-value = 0.05, Vnovsozd deviates from normal distribution"
   ]
  },
  {
   "cell_type": "code",
   "execution_count": 103,
   "metadata": {},
   "outputs": [
    {
     "data": {
      "text/plain": [
       "<matplotlib.axes._subplots.AxesSubplot at 0x1975dba75b0>"
      ]
     },
     "execution_count": 103,
     "metadata": {},
     "output_type": "execute_result"
    },
    {
     "data": {
      "image/png": "[encoded data removed]",
      "text/plain": [
       "<Figure size 432x288 with 1 Axes>"
      ]
     },
     "metadata": {
      "needs_background": "light"
     },
     "output_type": "display_data"
    }
   ],
   "source": [
    "chosen_df['Vnovsozd'].groupby('year').mean().plot()"
   ]
  },
  {
   "cell_type": "markdown",
   "metadata": {},
   "source": [
    "In general, by these 3 years it is difficult to say something about trend, but, in general, Vnovsozd increases with years."
   ]
  },
  {
   "cell_type": "markdown",
   "metadata": {},
   "source": [
    "##### Hypothesis:\n",
    "\n",
    "H1: The distribution of the variable 'Rabotniki' is different from the normal distribution\n",
    "\n",
    "H0: The distribution of the variable 'Rabotniki' is not different from the normal distribution\n",
    "\n",
    "p-value = 0.05"
   ]
  },
  {
   "cell_type": "code",
   "execution_count": 104,
   "metadata": {},
   "outputs": [
    {
     "name": "stderr",
     "output_type": "stream",
     "text": [
      "C:\\Users\\Admin\\Miniconda3\\envs\\IntroML\\lib\\site-packages\\seaborn\\distributions.py:2619: FutureWarning: `distplot` is a deprecated function and will be removed in a future version. Please adapt your code to use either `displot` (a figure-level function with similar flexibility) or `histplot` (an axes-level function for histograms).\n",
      "  warnings.warn(msg, FutureWarning)\n",
      "C:\\Users\\Admin\\Miniconda3\\envs\\IntroML\\lib\\site-packages\\matplotlib\\cbook\\__init__.py:1402: FutureWarning: Support for multi-dimensional indexing (e.g. `obj[:, None]`) is deprecated and will be removed in a future version.  Convert to a numpy array before indexing instead.\n",
      "  ndim = x[:, None].ndim\n",
      "C:\\Users\\Admin\\Miniconda3\\envs\\IntroML\\lib\\site-packages\\matplotlib\\axes\\_base.py:276: FutureWarning: Support for multi-dimensional indexing (e.g. `obj[:, None]`) is deprecated and will be removed in a future version.  Convert to a numpy array before indexing instead.\n",
      "  x = x[:, np.newaxis]\n",
      "C:\\Users\\Admin\\Miniconda3\\envs\\IntroML\\lib\\site-packages\\matplotlib\\axes\\_base.py:278: FutureWarning: Support for multi-dimensional indexing (e.g. `obj[:, None]`) is deprecated and will be removed in a future version.  Convert to a numpy array before indexing instead.\n",
      "  y = y[:, np.newaxis]\n"
     ]
    },
    {
     "data": {
      "text/plain": [
       "KstestResult(statistic=0.2574491743007571, pvalue=2.1559405509855417e-15)"
      ]
     },
     "execution_count": 104,
     "metadata": {},
     "output_type": "execute_result"
    },
    {
     "data": {
      "image/png": "[encoded data removed]",
      "text/plain": [
       "<Figure size 432x288 with 1 Axes>"
      ]
     },
     "metadata": {
      "needs_background": "light"
     },
     "output_type": "display_data"
    }
   ],
   "source": [
    "sns.distplot(chosen_df['Rabotniki'], fit=stats.norm)\n",
    "stats.kstest(chosen_df['Rabotniki'], 'norm', args=(chosen_df['Rabotniki'].mean(), chosen_df['Rabotniki'].std()))"
   ]
  },
  {
   "cell_type": "markdown",
   "metadata": {},
   "source": [
    "H1 is accepted at p-value = 0.05, Rabotniki deviates from normal distribution"
   ]
  },
  {
   "cell_type": "code",
   "execution_count": 105,
   "metadata": {},
   "outputs": [
    {
     "data": {
      "text/plain": [
       "<matplotlib.axes._subplots.AxesSubplot at 0x1975c5f74c0>"
      ]
     },
     "execution_count": 105,
     "metadata": {},
     "output_type": "execute_result"
    },
    {
     "data": {
      "image/png": "[encoded data removed]",
      "text/plain": [
       "<Figure size 432x288 with 1 Axes>"
      ]
     },
     "metadata": {
      "needs_background": "light"
     },
     "output_type": "display_data"
    }
   ],
   "source": [
    "chosen_df['Rabotniki'].groupby('year').mean().plot()"
   ]
  },
  {
   "cell_type": "markdown",
   "metadata": {},
   "source": [
    "In general, by these 3 years it is difficult to say something about trend, but, in general, Rabotniki decreases with years."
   ]
  },
  {
   "cell_type": "markdown",
   "metadata": {},
   "source": [
    "##### Hypothesis:\n",
    "\n",
    "H1: The distribution of the variable 'InvestFC' is different from the normal distribution\n",
    "\n",
    "H0: The distribution of the variable 'InvestFC' is not different from the normal distribution\n",
    "\n",
    "p-value = 0.05"
   ]
  },
  {
   "cell_type": "code",
   "execution_count": 106,
   "metadata": {},
   "outputs": [
    {
     "name": "stderr",
     "output_type": "stream",
     "text": [
      "C:\\Users\\Admin\\Miniconda3\\envs\\IntroML\\lib\\site-packages\\seaborn\\distributions.py:2619: FutureWarning: `distplot` is a deprecated function and will be removed in a future version. Please adapt your code to use either `displot` (a figure-level function with similar flexibility) or `histplot` (an axes-level function for histograms).\n",
      "  warnings.warn(msg, FutureWarning)\n",
      "C:\\Users\\Admin\\Miniconda3\\envs\\IntroML\\lib\\site-packages\\matplotlib\\cbook\\__init__.py:1402: FutureWarning: Support for multi-dimensional indexing (e.g. `obj[:, None]`) is deprecated and will be removed in a future version.  Convert to a numpy array before indexing instead.\n",
      "  ndim = x[:, None].ndim\n",
      "C:\\Users\\Admin\\Miniconda3\\envs\\IntroML\\lib\\site-packages\\matplotlib\\axes\\_base.py:276: FutureWarning: Support for multi-dimensional indexing (e.g. `obj[:, None]`) is deprecated and will be removed in a future version.  Convert to a numpy array before indexing instead.\n",
      "  x = x[:, np.newaxis]\n",
      "C:\\Users\\Admin\\Miniconda3\\envs\\IntroML\\lib\\site-packages\\matplotlib\\axes\\_base.py:278: FutureWarning: Support for multi-dimensional indexing (e.g. `obj[:, None]`) is deprecated and will be removed in a future version.  Convert to a numpy array before indexing instead.\n",
      "  y = y[:, np.newaxis]\n"
     ]
    },
    {
     "data": {
      "text/plain": [
       "KstestResult(statistic=0.40557657290177224, pvalue=2.0653990397839038e-38)"
      ]
     },
     "execution_count": 106,
     "metadata": {},
     "output_type": "execute_result"
    },
    {
     "data": {
      "image/png": "[encoded data removed]",
      "text/plain": [
       "<Figure size 432x288 with 1 Axes>"
      ]
     },
     "metadata": {
      "needs_background": "light"
     },
     "output_type": "display_data"
    }
   ],
   "source": [
    "sns.distplot(chosen_df['InvestFC'], fit=stats.norm)\n",
    "stats.kstest(chosen_df['InvestFC'], 'norm', args=(chosen_df['InvestFC'].mean(), chosen_df['InvestFC'].std()))"
   ]
  },
  {
   "cell_type": "markdown",
   "metadata": {},
   "source": [
    "H1 is accepted at p-value = 0.05, InvestFC deviates from normal distribution"
   ]
  },
  {
   "cell_type": "code",
   "execution_count": 107,
   "metadata": {},
   "outputs": [
    {
     "data": {
      "text/plain": [
       "<matplotlib.axes._subplots.AxesSubplot at 0x1975c880730>"
      ]
     },
     "execution_count": 107,
     "metadata": {},
     "output_type": "execute_result"
    },
    {
     "data": {
      "image/png": "[encoded data removed]",
      "text/plain": [
       "<Figure size 432x288 with 1 Axes>"
      ]
     },
     "metadata": {
      "needs_background": "light"
     },
     "output_type": "display_data"
    }
   ],
   "source": [
    "chosen_df['InvestFC'].groupby('year').mean().plot()"
   ]
  },
  {
   "cell_type": "markdown",
   "metadata": {},
   "source": [
    "In general, by these 3 years it is difficult to say something about trend, but, in general, InvestFC increases with years."
   ]
  },
  {
   "cell_type": "markdown",
   "metadata": {},
   "source": [
    "##### Hypothesis:\n",
    "\n",
    "H1: The distribution of the variable 'fedsub' is different from the normal distribution\n",
    "\n",
    "H0: The distribution of the variable 'fedsub' is not different from the normal distribution\n",
    "\n",
    "p-value = 0.05"
   ]
  },
  {
   "cell_type": "code",
   "execution_count": 108,
   "metadata": {},
   "outputs": [
    {
     "name": "stderr",
     "output_type": "stream",
     "text": [
      "C:\\Users\\Admin\\Miniconda3\\envs\\IntroML\\lib\\site-packages\\seaborn\\distributions.py:2619: FutureWarning: `distplot` is a deprecated function and will be removed in a future version. Please adapt your code to use either `displot` (a figure-level function with similar flexibility) or `histplot` (an axes-level function for histograms).\n",
      "  warnings.warn(msg, FutureWarning)\n",
      "C:\\Users\\Admin\\Miniconda3\\envs\\IntroML\\lib\\site-packages\\matplotlib\\cbook\\__init__.py:1402: FutureWarning: Support for multi-dimensional indexing (e.g. `obj[:, None]`) is deprecated and will be removed in a future version.  Convert to a numpy array before indexing instead.\n",
      "  ndim = x[:, None].ndim\n",
      "C:\\Users\\Admin\\Miniconda3\\envs\\IntroML\\lib\\site-packages\\matplotlib\\axes\\_base.py:276: FutureWarning: Support for multi-dimensional indexing (e.g. `obj[:, None]`) is deprecated and will be removed in a future version.  Convert to a numpy array before indexing instead.\n",
      "  x = x[:, np.newaxis]\n",
      "C:\\Users\\Admin\\Miniconda3\\envs\\IntroML\\lib\\site-packages\\matplotlib\\axes\\_base.py:278: FutureWarning: Support for multi-dimensional indexing (e.g. `obj[:, None]`) is deprecated and will be removed in a future version.  Convert to a numpy array before indexing instead.\n",
      "  y = y[:, np.newaxis]\n"
     ]
    },
    {
     "data": {
      "text/plain": [
       "KstestResult(statistic=0.20743716654700717, pvalue=4.2135103918314946e-10)"
      ]
     },
     "execution_count": 108,
     "metadata": {},
     "output_type": "execute_result"
    },
    {
     "data": {
      "image/png": "[encoded data removed]",
      "text/plain": [
       "<Figure size 432x288 with 1 Axes>"
      ]
     },
     "metadata": {
      "needs_background": "light"
     },
     "output_type": "display_data"
    }
   ],
   "source": [
    "sns.distplot(chosen_df['fedsub'], fit=stats.norm)\n",
    "stats.kstest(chosen_df['fedsub'], 'norm', args=(chosen_df['fedsub'].mean(), chosen_df['fedsub'].std()))"
   ]
  },
  {
   "cell_type": "markdown",
   "metadata": {},
   "source": [
    "H1 is accepted at p-value = 0.05, fedsub deviates from normal distribution"
   ]
  },
  {
   "cell_type": "code",
   "execution_count": 109,
   "metadata": {},
   "outputs": [
    {
     "data": {
      "text/plain": [
       "<matplotlib.axes._subplots.AxesSubplot at 0x1975dbb13d0>"
      ]
     },
     "execution_count": 109,
     "metadata": {},
     "output_type": "execute_result"
    },
    {
     "data": {
      "image/png": "[encoded data removed]",
      "text/plain": [
       "<Figure size 432x288 with 1 Axes>"
      ]
     },
     "metadata": {
      "needs_background": "light"
     },
     "output_type": "display_data"
    }
   ],
   "source": [
    "chosen_df['fedsub'].groupby('year').mean().plot()"
   ]
  },
  {
   "cell_type": "markdown",
   "metadata": {},
   "source": [
    "Fedsub decreases each year (linear relationship)"
   ]
  },
  {
   "cell_type": "markdown",
   "metadata": {},
   "source": [
    "##### Hypothesis:\n",
    "\n",
    "H1: The distribution of the variable 'biznav' is different from the normal distribution\n",
    "\n",
    "H0: The distribution of the variable 'biznav' is not different from the normal distribution\n",
    "\n",
    "p-value = 0.05"
   ]
  },
  {
   "cell_type": "code",
   "execution_count": 110,
   "metadata": {},
   "outputs": [
    {
     "name": "stderr",
     "output_type": "stream",
     "text": [
      "C:\\Users\\Admin\\Miniconda3\\envs\\IntroML\\lib\\site-packages\\seaborn\\distributions.py:2619: FutureWarning: `distplot` is a deprecated function and will be removed in a future version. Please adapt your code to use either `displot` (a figure-level function with similar flexibility) or `histplot` (an axes-level function for histograms).\n",
      "  warnings.warn(msg, FutureWarning)\n",
      "C:\\Users\\Admin\\Miniconda3\\envs\\IntroML\\lib\\site-packages\\matplotlib\\cbook\\__init__.py:1402: FutureWarning: Support for multi-dimensional indexing (e.g. `obj[:, None]`) is deprecated and will be removed in a future version.  Convert to a numpy array before indexing instead.\n",
      "  ndim = x[:, None].ndim\n",
      "C:\\Users\\Admin\\Miniconda3\\envs\\IntroML\\lib\\site-packages\\matplotlib\\axes\\_base.py:276: FutureWarning: Support for multi-dimensional indexing (e.g. `obj[:, None]`) is deprecated and will be removed in a future version.  Convert to a numpy array before indexing instead.\n",
      "  x = x[:, np.newaxis]\n",
      "C:\\Users\\Admin\\Miniconda3\\envs\\IntroML\\lib\\site-packages\\matplotlib\\axes\\_base.py:278: FutureWarning: Support for multi-dimensional indexing (e.g. `obj[:, None]`) is deprecated and will be removed in a future version.  Convert to a numpy array before indexing instead.\n",
      "  y = y[:, np.newaxis]\n"
     ]
    },
    {
     "data": {
      "text/plain": [
       "KstestResult(statistic=0.3077662860367699, pvalue=6.075199847625587e-22)"
      ]
     },
     "execution_count": 110,
     "metadata": {},
     "output_type": "execute_result"
    },
    {
     "data": {
      "image/png": "[encoded data removed]",
      "text/plain": [
       "<Figure size 432x288 with 1 Axes>"
      ]
     },
     "metadata": {
      "needs_background": "light"
     },
     "output_type": "display_data"
    }
   ],
   "source": [
    "sns.distplot(chosen_df['biznav'], fit=stats.norm)\n",
    "stats.kstest(chosen_df['biznav'], 'norm', args=(chosen_df['biznav'].mean(), chosen_df['biznav'].std()))"
   ]
  },
  {
   "cell_type": "markdown",
   "metadata": {},
   "source": [
    "H1 is accepted at p-value = 0.05, biznav deviates from normal distribution"
   ]
  },
  {
   "cell_type": "code",
   "execution_count": 111,
   "metadata": {},
   "outputs": [
    {
     "data": {
      "text/plain": [
       "<matplotlib.axes._subplots.AxesSubplot at 0x1975c801340>"
      ]
     },
     "execution_count": 111,
     "metadata": {},
     "output_type": "execute_result"
    },
    {
     "data": {
      "image/png": "[encoded data removed]",
      "text/plain": [
       "<Figure size 432x288 with 1 Axes>"
      ]
     },
     "metadata": {
      "needs_background": "light"
     },
     "output_type": "display_data"
    }
   ],
   "source": [
    "chosen_df['biznav'].groupby('year').mean().plot()"
   ]
  },
  {
   "cell_type": "markdown",
   "metadata": {},
   "source": [
    "In general, by these 3 years it is difficult to say something about trend, but, in general, biznav increases with years."
   ]
  },
  {
   "cell_type": "markdown",
   "metadata": {},
   "source": [
    "## Regression Model"
   ]
  },
  {
   "cell_type": "markdown",
   "metadata": {},
   "source": [
    "- H0_1: The variable budg is statistically significant for the panel data model constructed for a dependent variable 'oborot'\n",
    "- H0_2: The variable Vnovsozd is statistically significant for the panel data model constructed for a dependent variable 'oborot'\n",
    "- H0_3: The variable Rabotniki is statistically significant for the panel data model constructed for a dependent variable 'oborot'\n",
    "- H0_4: The variable InvestFC is statistically significant for the panel data model constructed for a dependent variable 'oborot'\n",
    "- H0_5: The variable fedsub is statistically significant for the panel data model constructed for a dependent variable 'oborot'\n",
    "- H0_6: The variable biznav is statistically significant for the panel data model constructed for a dependent variable 'oborot'\n",
    "\n",
    "- H1_1: The variable budg is not statistically significant for the panel data model constructed for a dependent variable 'oborot'\n",
    "- H2_2: The variable Vnovsozd is not statistically significant for the panel data model constructed for a dependent variable 'oborot'\n",
    "- H3_3: The variable Rabotniki is not statistically significant for the panel data model constructed for a dependent variable 'oborot'\n",
    "- H4_4: The variable InvestFC is not statistically significant for the panel data model constructed for a dependent variable 'oborot'\n",
    "- H5_5: The variable fedsub is not statistically significant for the panel data model constructed for a dependent variable 'oborot'\n",
    "- H6_6: The variable biznav is not statistically significant for the panel data model constructed for a dependent variable 'oborot'"
   ]
  },
  {
   "cell_type": "markdown",
   "metadata": {},
   "source": [
    "### Pooled Model"
   ]
  },
  {
   "cell_type": "code",
   "execution_count": 125,
   "metadata": {},
   "outputs": [
    {
     "name": "stdout",
     "output_type": "stream",
     "text": [
      "                          PooledOLS Estimation Summary                          \n",
      "================================================================================\n",
      "Dep. Variable:                 oborot   R-squared:                        0.9760\n",
      "Estimator:                  PooledOLS   R-squared (Between):              0.9825\n",
      "No. Observations:                 255   R-squared (Within):              -0.0335\n",
      "Date:                Sat, May 28 2022   R-squared (Overall):              0.9760\n",
      "Time:                        14:38:18   Log-likelihood                   -7076.8\n",
      "Cov. Estimator:            Unadjusted                                           \n",
      "                                        F-statistic:                      1251.0\n",
      "Entities:                          85   P-value                           0.0000\n",
      "Avg Obs:                       3.0000   Distribution:                   F(8,246)\n",
      "Min Obs:                       3.0000                                           \n",
      "Max Obs:                       3.0000   F-statistic (robust):             1251.0\n",
      "                                        P-value                           0.0000\n",
      "Time periods:                       3   Distribution:                   F(8,246)\n",
      "Avg Obs:                       85.000                                           \n",
      "Min Obs:                       85.000                                           \n",
      "Max Obs:                       85.000                                           \n",
      "                                                                                \n",
      "                             Parameter Estimates                              \n",
      "==============================================================================\n",
      "            Parameter  Std. Err.     T-stat    P-value    Lower CI    Upper CI\n",
      "------------------------------------------------------------------------------\n",
      "const      -2.022e+11  4.004e+10    -5.0494     0.0000   -2.81e+11  -1.233e+11\n",
      "budg        4.938e+06  2.769e+05     17.833     0.0000   4.393e+06   5.483e+06\n",
      "Vnovsozd    9.077e+06  6.818e+06     1.3314     0.1843  -4.351e+06   2.251e+07\n",
      "Rabotniki   2.153e+06  3.547e+05     6.0689     0.0000   1.454e+06   2.851e+06\n",
      "InvestFC       0.0113     0.0282     0.4016     0.6883     -0.0442      0.0669\n",
      "fedsub        -436.34     245.45    -1.7777     0.0767     -919.78      47.109\n",
      "biznav     -6.885e+07  1.077e+07    -6.3932     0.0000  -9.006e+07  -4.763e+07\n",
      "year.2017  -1.306e+11  4.425e+10    -2.9521     0.0035  -2.178e+11  -4.348e+10\n",
      "year.2018   9.424e+10  5.518e+10     1.7081     0.0889  -1.443e+10   2.029e+11\n",
      "==============================================================================\n"
     ]
    }
   ],
   "source": [
    "exog_vars = ['budg','Vnovsozd','Rabotniki','InvestFC','fedsub','biznav','year']\n",
    "exog = sm.add_constant(chosen_df[exog_vars])\n",
    "mod = PooledOLS(chosen_df.oborot, exog)\n",
    "pooled_res = mod.fit()\n",
    "print(pooled_res)"
   ]
  },
  {
   "cell_type": "markdown",
   "metadata": {},
   "source": [
    "### Fixed effect model"
   ]
  },
  {
   "cell_type": "code",
   "execution_count": 132,
   "metadata": {},
   "outputs": [
    {
     "name": "stdout",
     "output_type": "stream",
     "text": [
      "                          PanelOLS Estimation Summary                           \n",
      "================================================================================\n",
      "Dep. Variable:                 oborot   R-squared:                        0.2451\n",
      "Estimator:                   PanelOLS   R-squared (Between):             -0.0055\n",
      "No. Observations:                 255   R-squared (Within):               0.2451\n",
      "Date:                Sat, May 28 2022   R-squared (Overall):             -0.0039\n",
      "Time:                        14:47:16   Log-likelihood                   -6871.9\n",
      "Cov. Estimator:            Unadjusted                                           \n",
      "                                        F-statistic:                      27.279\n",
      "Entities:                          85   P-value                           0.0000\n",
      "Avg Obs:                       3.0000   Distribution:                   F(2,168)\n",
      "Min Obs:                       3.0000                                           \n",
      "Max Obs:                       3.0000   F-statistic (robust):             27.279\n",
      "                                        P-value                           0.0000\n",
      "Time periods:                       3   Distribution:                   F(2,168)\n",
      "Avg Obs:                       85.000                                           \n",
      "Min Obs:                       85.000                                           \n",
      "Max Obs:                       85.000                                           \n",
      "                                                                                \n",
      "                             Parameter Estimates                              \n",
      "==============================================================================\n",
      "            Parameter  Std. Err.     T-stat    P-value    Lower CI    Upper CI\n",
      "------------------------------------------------------------------------------\n",
      "const        6.67e+11  2.049e+10     32.557     0.0000   6.265e+11   7.074e+11\n",
      "InvestFC      -0.0636     0.0121    -5.2758     0.0000     -0.0874     -0.0398\n",
      "fedsub         537.65     177.32     3.0321     0.0028      187.59      887.71\n",
      "==============================================================================\n",
      "\n",
      "F-test for Poolability: 183.43\n",
      "P-value: 0.0000\n",
      "Distribution: F(84,168)\n",
      "\n",
      "Included effects: Entity\n"
     ]
    },
    {
     "name": "stderr",
     "output_type": "stream",
     "text": [
      "<ipython-input-132-a6c7902364fc>:4: AbsorbingEffectWarning: \n",
      "Variables have been fully absorbed and have removed from the regression:\n",
      "\n",
      "budg, Vnovsozd, Rabotniki, biznav, year.2017, year.2018\n",
      "\n",
      "  fe_res = mod.fit()\n"
     ]
    }
   ],
   "source": [
    "exog_vars = ['budg','Vnovsozd','Rabotniki','InvestFC','fedsub','biznav','year']\n",
    "exog = sm.add_constant(chosen_df[exog_vars])\n",
    "mod = PanelOLS(chosen_df.oborot, exog, entity_effects=True, drop_absorbed=True)\n",
    "fe_res = mod.fit()\n",
    "print(fe_res)"
   ]
  },
  {
   "cell_type": "markdown",
   "metadata": {},
   "source": [
    "### Random effect model"
   ]
  },
  {
   "cell_type": "code",
   "execution_count": 127,
   "metadata": {},
   "outputs": [
    {
     "name": "stdout",
     "output_type": "stream",
     "text": [
      "                        RandomEffects Estimation Summary                        \n",
      "================================================================================\n",
      "Dep. Variable:                 oborot   R-squared:                        0.9760\n",
      "Estimator:              RandomEffects   R-squared (Between):              0.9825\n",
      "No. Observations:                 255   R-squared (Within):              -0.0335\n",
      "Date:                Sat, May 28 2022   R-squared (Overall):              0.9760\n",
      "Time:                        14:38:26   Log-likelihood                   -7076.8\n",
      "Cov. Estimator:            Unadjusted                                           \n",
      "                                        F-statistic:                      1251.0\n",
      "Entities:                          85   P-value                           0.0000\n",
      "Avg Obs:                       3.0000   Distribution:                   F(8,246)\n",
      "Min Obs:                       3.0000                                           \n",
      "Max Obs:                       3.0000   F-statistic (robust):             1251.0\n",
      "                                        P-value                           0.0000\n",
      "Time periods:                       3   Distribution:                   F(8,246)\n",
      "Avg Obs:                       85.000                                           \n",
      "Min Obs:                       85.000                                           \n",
      "Max Obs:                       85.000                                           \n",
      "                                                                                \n",
      "                             Parameter Estimates                              \n",
      "==============================================================================\n",
      "            Parameter  Std. Err.     T-stat    P-value    Lower CI    Upper CI\n",
      "------------------------------------------------------------------------------\n",
      "const      -2.022e+11  4.004e+10    -5.0494     0.0000   -2.81e+11  -1.233e+11\n",
      "budg        4.938e+06  2.769e+05     17.833     0.0000   4.393e+06   5.483e+06\n",
      "Vnovsozd    9.077e+06  6.818e+06     1.3314     0.1843  -4.351e+06   2.251e+07\n",
      "Rabotniki   2.153e+06  3.547e+05     6.0689     0.0000   1.454e+06   2.851e+06\n",
      "InvestFC       0.0113     0.0282     0.4016     0.6883     -0.0442      0.0669\n",
      "fedsub        -436.34     245.45    -1.7777     0.0767     -919.78      47.109\n",
      "biznav     -6.885e+07  1.077e+07    -6.3932     0.0000  -9.006e+07  -4.763e+07\n",
      "year.2017  -1.306e+11  4.425e+10    -2.9521     0.0035  -2.178e+11  -4.348e+10\n",
      "year.2018   9.424e+10  5.518e+10     1.7081     0.0889  -1.443e+10   2.029e+11\n",
      "==============================================================================\n"
     ]
    }
   ],
   "source": [
    "mod = RandomEffects(chosen_df.oborot, exog)\n",
    "re_res = mod.fit()\n",
    "print(re_res)"
   ]
  },
  {
   "cell_type": "markdown",
   "metadata": {},
   "source": [
    "## Selection of a Panel Data Model"
   ]
  },
  {
   "cell_type": "markdown",
   "metadata": {},
   "source": [
    "#### Hypotheses:\n",
    "\n",
    "H0: no individual effects in the dataset\n",
    "\n",
    "H1: there exist some individual effects in the dataset"
   ]
  },
  {
   "cell_type": "code",
   "execution_count": 128,
   "metadata": {},
   "outputs": [
    {
     "name": "stdout",
     "output_type": "stream",
     "text": [
      "P-value: 7.701162348910234e-30\n"
     ]
    }
   ],
   "source": [
    "from statsmodels.stats.diagnostic import het_breuschpagan\n",
    "residuals_pooled_OLS = pooled_res.resids\n",
    "pooled_OLS_dataset = pd.concat([chosen_df, residuals_pooled_OLS], axis=1)\n",
    "breusch_pagan_test_results = het_breuschpagan(pooled_OLS_dataset['residual'], exog)\n",
    "print('P-value:', breusch_pagan_test_results[3])"
   ]
  },
  {
   "cell_type": "markdown",
   "metadata": {},
   "source": [
    "#### Conclusion:\n",
    "\n",
    "H1 is accepted => there are individual effects => we should select a model with effects (fixed or random)."
   ]
  },
  {
   "cell_type": "markdown",
   "metadata": {},
   "source": [
    "#### Hypotheses:\n",
    "\n",
    "H0: individual effects and regressors are not correlated (they are random)\n",
    "\n",
    "H1: there is a correlation between individual effects and regressors"
   ]
  },
  {
   "cell_type": "code",
   "execution_count": 118,
   "metadata": {},
   "outputs": [
    {
     "name": "stdout",
     "output_type": "stream",
     "text": [
      "p-value: nan\n"
     ]
    }
   ],
   "source": [
    "import numpy.linalg as la\n",
    "from scipy import stats\n",
    "def hausman(fe, re):\n",
    "    b = fe.params\n",
    "    B = re.params\n",
    "    v_b = fe.cov\n",
    "    v_B = re.cov\n",
    "    df = b[np.abs(b) < 1e8].size\n",
    "    chi2 = np.dot((b - B).T, la.inv(v_b - v_B).dot(b - B)) \n",
    "    pval = stats.chi2.sf(chi2, df)\n",
    "    return chi2, df, pval\n",
    "\n",
    "hausman_results = hausman(fe_res, re_res) \n",
    "print('p-value: ' + str(hausman_results[2]))"
   ]
  },
  {
   "cell_type": "markdown",
   "metadata": {},
   "source": [
    "Unfortunately, the test does not return the proper result. Probably, it is due to the fact, that most variables were absorbed in Fixed effect model"
   ]
  },
  {
   "cell_type": "markdown",
   "metadata": {},
   "source": [
    "Due to this result, the choice of the model is based on the R-squared of the models. According to the summaries presented above, Random effects model is the best one since R-squared total and between are higher than 0.95"
   ]
  },
  {
   "cell_type": "markdown",
   "metadata": {},
   "source": [
    "## Model description"
   ]
  },
  {
   "cell_type": "code",
   "execution_count": 129,
   "metadata": {},
   "outputs": [
    {
     "name": "stdout",
     "output_type": "stream",
     "text": [
      "                        RandomEffects Estimation Summary                        \n",
      "================================================================================\n",
      "Dep. Variable:                 oborot   R-squared:                        0.9760\n",
      "Estimator:              RandomEffects   R-squared (Between):              0.9825\n",
      "No. Observations:                 255   R-squared (Within):              -0.0335\n",
      "Date:                Sat, May 28 2022   R-squared (Overall):              0.9760\n",
      "Time:                        14:38:26   Log-likelihood                   -7076.8\n",
      "Cov. Estimator:            Unadjusted                                           \n",
      "                                        F-statistic:                      1251.0\n",
      "Entities:                          85   P-value                           0.0000\n",
      "Avg Obs:                       3.0000   Distribution:                   F(8,246)\n",
      "Min Obs:                       3.0000                                           \n",
      "Max Obs:                       3.0000   F-statistic (robust):             1251.0\n",
      "                                        P-value                           0.0000\n",
      "Time periods:                       3   Distribution:                   F(8,246)\n",
      "Avg Obs:                       85.000                                           \n",
      "Min Obs:                       85.000                                           \n",
      "Max Obs:                       85.000                                           \n",
      "                                                                                \n",
      "                             Parameter Estimates                              \n",
      "==============================================================================\n",
      "            Parameter  Std. Err.     T-stat    P-value    Lower CI    Upper CI\n",
      "------------------------------------------------------------------------------\n",
      "const      -2.022e+11  4.004e+10    -5.0494     0.0000   -2.81e+11  -1.233e+11\n",
      "budg        4.938e+06  2.769e+05     17.833     0.0000   4.393e+06   5.483e+06\n",
      "Vnovsozd    9.077e+06  6.818e+06     1.3314     0.1843  -4.351e+06   2.251e+07\n",
      "Rabotniki   2.153e+06  3.547e+05     6.0689     0.0000   1.454e+06   2.851e+06\n",
      "InvestFC       0.0113     0.0282     0.4016     0.6883     -0.0442      0.0669\n",
      "fedsub        -436.34     245.45    -1.7777     0.0767     -919.78      47.109\n",
      "biznav     -6.885e+07  1.077e+07    -6.3932     0.0000  -9.006e+07  -4.763e+07\n",
      "year.2017  -1.306e+11  4.425e+10    -2.9521     0.0035  -2.178e+11  -4.348e+10\n",
      "year.2018   9.424e+10  5.518e+10     1.7081     0.0889  -1.443e+10   2.029e+11\n",
      "==============================================================================\n"
     ]
    }
   ],
   "source": [
    "print(re_res)"
   ]
  },
  {
   "cell_type": "markdown",
   "metadata": {},
   "source": [
    "The model is statistically significant according to P-value of the model.\n",
    "\n",
    "Statistically significant dependent variables are the following (at p-value = 0.05):\n",
    "    \n",
    "- budg\n",
    "- Rabotniki\n",
    "- biznav\n",
    "- year (2017)\n",
    "\n",
    "Therefore, H1_1, H1_3 and H1_6 are rejected, H1_2, H1_4 and H1_5 are accepted."
   ]
  },
  {
   "cell_type": "markdown",
   "metadata": {},
   "source": [
    "General R-squared is 0.98 meaning that the model describes 98% dispersion of the dependent variable. \n",
    "\n",
    "R-squared (Between) is 0.98 meaning that the model describes 98% variation between units of analysis.\n",
    "\n",
    "R-squared (Within) is negative meaning that the model describes variation in the dependent variable within units of analysis worse than the model that could randomly predict the dependent variable."
   ]
  },
  {
   "cell_type": "code",
   "execution_count": 133,
   "metadata": {},
   "outputs": [
    {
     "data": {
      "text/html": [
       "<div>\n",
       "<style scoped>\n",
       "    .dataframe tbody tr th:only-of-type {\n",
       "        vertical-align: middle;\n",
       "    }\n",
       "\n",
       "    .dataframe tbody tr th {\n",
       "        vertical-align: top;\n",
       "    }\n",
       "\n",
       "    .dataframe thead th {\n",
       "        text-align: right;\n",
       "    }\n",
       "</style>\n",
       "<table border=\"1\" class=\"dataframe\">\n",
       "  <thead>\n",
       "    <tr style=\"text-align: right;\">\n",
       "      <th></th>\n",
       "      <th>Coefs</th>\n",
       "    </tr>\n",
       "    <tr>\n",
       "      <th>Features</th>\n",
       "      <th></th>\n",
       "    </tr>\n",
       "  </thead>\n",
       "  <tbody>\n",
       "    <tr>\n",
       "      <th>budg</th>\n",
       "      <td>4.938072e+06</td>\n",
       "    </tr>\n",
       "    <tr>\n",
       "      <th>Vnovsozd</th>\n",
       "      <td>9.076994e+06</td>\n",
       "    </tr>\n",
       "    <tr>\n",
       "      <th>Rabotniki</th>\n",
       "      <td>2.152685e+06</td>\n",
       "    </tr>\n",
       "    <tr>\n",
       "      <th>InvestFC</th>\n",
       "      <td>1.133232e-02</td>\n",
       "    </tr>\n",
       "    <tr>\n",
       "      <th>fedsub</th>\n",
       "      <td>-4.363366e+02</td>\n",
       "    </tr>\n",
       "    <tr>\n",
       "      <th>biznav</th>\n",
       "      <td>-6.884512e+07</td>\n",
       "    </tr>\n",
       "    <tr>\n",
       "      <th>year.2017</th>\n",
       "      <td>-1.306402e+11</td>\n",
       "    </tr>\n",
       "    <tr>\n",
       "      <th>year.2018</th>\n",
       "      <td>9.424323e+10</td>\n",
       "    </tr>\n",
       "  </tbody>\n",
       "</table>\n",
       "</div>"
      ],
      "text/plain": [
       "                  Coefs\n",
       "Features               \n",
       "budg       4.938072e+06\n",
       "Vnovsozd   9.076994e+06\n",
       "Rabotniki  2.152685e+06\n",
       "InvestFC   1.133232e-02\n",
       "fedsub    -4.363366e+02\n",
       "biznav    -6.884512e+07\n",
       "year.2017 -1.306402e+11\n",
       "year.2018  9.424323e+10"
      ]
     },
     "execution_count": 133,
     "metadata": {},
     "output_type": "execute_result"
    }
   ],
   "source": [
    "coefs = pd.DataFrame()\n",
    "coefs['Coefs'] = re_res.params[1:]\n",
    "coefs['Features'] = re_res.params.index[1:]\n",
    "coefs.set_index('Features', inplace=True)\n",
    "coefs"
   ]
  },
  {
   "cell_type": "markdown",
   "metadata": {},
   "source": [
    "- Let's consider the coefficient on the variable budg (Budget of the federal subject). The regression coefficient for the variable is positive and equals 4938072. It can be concluded that an increase in Budget of the federal subject by million rubles, on average, leads to an increase in oborot by 4938072 rubles.\n",
    "\n",
    "- Let's consider the coefficient on the variable Rabotniki (Number of employees in Small and Medium Enterprises (SMEs)). The regression coefficient for this variable is 2152685. It can be concluded that an increase in number of employees in Small and Medium Enterprises, on average, leads to an increase in Oborot by 2152685 rubles.\n",
    "\n",
    "- Let's consider the coefficient on the variable biznav (Number of SMEs registered on the SME Business Navigator Portal and supported using the SME Business Navigator services). The regression coefficient for the variable is negative and equals -68845120. It can be concluded that an increase in Number of SMEs registered on the SME Business Navigator Portal by one, on average, leads to a decrease in oborot by 68845120 rubles.\n",
    "\n",
    "As for the years:\n",
    "- In comparison to 2016, the oborot in 2017 is, on average, lower by -130640200000 rubles.\n",
    "\n",
    "All the other predictors are not statistically significant"
   ]
  },
  {
   "cell_type": "markdown",
   "metadata": {},
   "source": [
    "## Final conclusions\n",
    "\n",
    "According to the chosen dependent variable and predictor, the most promising model appears to be random-effect model: firstly, Breusch–Pagan test shows that there are individual effects, and, secondly, there appear problems with fixed effects model, because of which hausman test failed. According to R-squareds, a model with random effects outperforms the model with fixed effects and, this, it has been chosen. The model has quite high R-squared but only between units of analysis. Result model describes variation in the dependent variable within units of analysis worse than the model that could randomly predict the dependent variable. All in all, the model can be used, but it is better to try using other predictors as well since some of the chosen predictors appeared to be not significant."
   ]
  },
  {
   "cell_type": "markdown",
   "metadata": {},
   "source": [
    "# Task 4"
   ]
  },
  {
   "cell_type": "markdown",
   "metadata": {},
   "source": [
    "Time-series data stores information about one object at different time fragments (snapshots). Information is stored in the time order, while time intervals are usually presumed to be equal between rows in data. Examples of such data may include exchange rates, prices on shares, COVID illnesses/deaths, war deaths, etc. Analysis of time-series data mainly focuses on finding trends, cycles, seasonalities in data and making corresponding predictions about the future state of the research object.\n",
    "Time series may contain the following components:\n",
    "- trends\n",
    "- seasonality\n",
    "- cycles\n",
    "- unexplained variation.\n",
    "\n",
    "Depending on number of variables varying over time, the time-series can be called either as univariate (only 1 var) or as multivariate (> 1 var).\n",
    "\n",
    "Time-series data can be either stationary or not - it represents how a variable changes over time, and if variable values are rather stable on the long-distance and properties do not depend on the time, the data can be called stationary. Stationarity influences the choice of the model used to analyse the time-series data."
   ]
  },
  {
   "cell_type": "markdown",
   "metadata": {},
   "source": [
    "Examples of time-series data:\n",
    "- Exchange rates,\n",
    "- Market price on securities/shares,\n",
    "- COVID illnesses / deaths / recoveries\n",
    "- Deaths / prisoners on wars\n",
    "\n",
    "Hereafter I would describe an example of a time-series dataset related to deaths of Russian militaries on Ukrainian war. Such time-series may be simply two-column: day and number of deaths. Number of deaths can be accumulated (including deaths at previous days) or may represent deaths specificly at the current date."
   ]
  },
  {
   "cell_type": "markdown",
   "metadata": {},
   "source": [
    "Some research problems:\n",
    "- To determine the long-term trends in daily deaths of Russian army. Sample hypothesis: there is a decreasing trend in number of daily deaths of russian army.\n",
    "- To determine relationships between days of the week and daily deaths. Sample hypothesis: daily deaths of russian army in Mondays are, on average, higher than number of deaths at other week days (Monday is a hard day).\n",
    "- To determine bursts of deaths during major military operations. Sample hypothesis: there are cycles in number of daily deaths of russian army associated with dates when major military operations were performed."
   ]
  },
  {
   "cell_type": "markdown",
   "metadata": {},
   "source": [
    "Problems:\n",
    "- Non-existent data for some dates (null-values): requires filling empty cells using some techniques such as interpolating, forward-fills and backward-fills. Inappropriate choice of an approach to fill empty data can hide some seasonalities or cycles in the data.\n",
    "- People are sometimes lazy, and may put information about deaths/illnesses for a whole week, for instance, instead of for each day. Or, if we talk about Ukrainian war info, there was a problem that some days no info was declared about daily deaths, and on the next day after such days all these deaths were added to this next day but not to all these dates, which is misleading. Such problems require huge preprocessing and filtering to start time-series analysis.\n",
    "- Stationarity - it is important. If the analysis for the stationarity is not performed, the whole time-series analysis may appear to be wrong. For instance, ARIMA without predefined d = 0 for the stationary data would have very poor predictions (for some reason, it may not understand that the data is stationary). Obviously, the usage of ARMA on not stationary data would also lead to huge problems."
   ]
  },
  {
   "cell_type": "markdown",
   "metadata": {},
   "source": [
    "# Task 3"
   ]
  },
  {
   "cell_type": "markdown",
   "metadata": {},
   "source": [
    "In multinomial regression, the dependent variable is categorical but not ordinal.\n",
    "\n",
    "Let us make the following example:\n",
    "\n",
    "To make HRs effective, analysts decide to make a model that can predict the appropriate IT-profession for a person (tester, developer, product manager, etc.). For these purposes, data from resumes can be preprocessed and analyzed. Y is known as a person has chosen a vacancy he/she is finding. Predictor variables are all in the resume.\n",
    "\n",
    "Purpose of the study: understand, is there a relationship between information presented in the resume and the chosen IT-profession. This data can later be used to make proposals of jobs to applicants, while the proposed jobs can differ from a chosen by a person job since the model can potentially predict a better choice.\n",
    "\n",
    "Research hypotheses:\n",
    "- There is a relationship between age and choice of IT-profession.\n",
    "- There is a relationship between gender and choice of IT-profession.\n",
    "- There is a relationship between work experience and choice of IT-profession.\n",
    "- There is a relationship between education and choice of IT-profession.\n",
    "\n",
    "Or, more narrow:\n",
    "\n",
    "- People with Higher education more often choose developer profession in comparison to people with secondary education.\n",
    "- Females more often choose analysts jobs than males.\n",
    "- People with age > 40 with a greater chance choose a tester job than people <= 40 years old.\n",
    "\n",
    "Dependent variable: IT-profession.\n",
    "\n",
    "Some values:\n",
    "- Analyst,\n",
    "- Developer (may be divided into frontend, backend),\n",
    "- Tester,\n",
    "- Devops,\n",
    "- Product Manager,\n",
    "- Program Manager,\n",
    "- Team Lead\n",
    "\n",
    "Predictors:\n",
    "- Age\n",
    "- Gender\n",
    "- Level of education\n",
    "- Work experience\n",
    "- Last profession (if it is possible)\n",
    "- City/Country\n",
    "- Existence of photo\n",
    "- Languages known (can be transformed to dummy vars)\n",
    "- Desired salary\n",
    "\n",
    "Some skills that can be presented in resume, may also be reflected in predictors but a future research is needed.\n",
    "\n",
    "Indicators that has to be calculated:\n",
    "\n",
    "- LLR p-value (for model to be significant, has to be < 0.05)\n",
    "- Pseudo R-squ. (for an excellent model, has to be close to 1)\n",
    "- Accuracy (for an excellent model, has to be close to 1)\n",
    "- Log-likelihood can also be calculated but has to be measured with other models.\n",
    "- p-values for all predictors must be < 0.05.\n",
    "\n",
    "Some of them can also be used for diagnosis (such as accuracy). We can also present a confusion matrix and in ideal situation there should be no falses.\n",
    "\n",
    "For diagnosis we can also check existence of multicollinearity (for each predictor has to be < 10). Residuals may be calculated as well - in excellent situation, they has to be normally distributed (if they exist)."
   ]
  },
  {
   "cell_type": "code",
   "execution_count": null,
   "metadata": {},
   "outputs": [],
   "source": []
  }
 ],
 "metadata": {
  "kernelspec": {
   "display_name": "Python 3",
   "language": "python",
   "name": "python3"
  },
  "language_info": {
   "codemirror_mode": {
    "name": "ipython",
    "version": 3
   },
   "file_extension": ".py",
   "mimetype": "text/x-python",
   "name": "python",
   "nbconvert_exporter": "python",
   "pygments_lexer": "ipython3",
   "version": "3.8.1"
  }
 },
 "nbformat": 4,
 "nbformat_minor": 4
}
