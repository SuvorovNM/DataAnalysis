{
 "cells": [
  {
   "cell_type": "markdown",
   "metadata": {},
   "source": [
    "# Investigating information about countries from the World Bank"
   ]
  },
  {
   "cell_type": "markdown",
   "metadata": {},
   "source": [
    "Variables:\n",
    "\n",
    "    Year - Year\n",
    "    CountryName - Name of the Country\n",
    "    CountryCode - Code of the Country\n",
    "    Agriculturalrawmaterialsexpor - Agricultural raw materials exports (% of merchandise exports)\n",
    "    ArmsexportsSIPRItrendindica - Arms exports (SIPRI trend indicator values)\n",
    "    Commercialserviceexportscurr - Commercial service exports (current US)\n",
    "    Communicationscomputeretc - Communications, computer, etc. (% of service exports, BoP)\n",
    "    Exportsofgoodsandservices - Exports of goods and services (% of GDP)\n",
    "    Exportsofgoodsandservicesa - Exports of goods and services (annual % growth) \n",
    "    ExportsofgoodsandservicesB - Exports of goods and services (BoP, current US)\n",
    "    Exportsofgoodsandservicesc - Exports of goods and services (constant 2010 US)\n",
    "    Foodexportsofmerchandisee - Food exports (% of merchandise exports)\n",
    "    GoodsexportsBoPcurrentUS - Goods exports (BoP, current US)\n",
    "    Fuelexportsofmerchandisee - Fuel exports (% of merchandise exports)\n",
    "    Hightechnologyexportsofma - High-technology exports (% of manufactured exports)\n",
    "    Hightechnologyexportscurrent - High-technology exports (current US)\n",
    "    TaxesonexportscurrentLCU - Taxes on exports (current LCU) \n",
    "    Transportservicesofservice - Transport services (% of service exports, BoP)\n",
    "    Travelservicesofcommercial - Travel services (% of commercial service exports)\n",
    "    Travelservicesofserviceex - Travel services (% of service exports, BoP)\n",
    "    high_income - High income countries\n",
    "    income - Income\n",
    "    development - Developed or developing country"
   ]
  },
  {
   "cell_type": "code",
   "execution_count": 151,
   "metadata": {},
   "outputs": [],
   "source": [
    "import pandas as pd\n",
    "import seaborn as sns\n",
    "import pingouin as pg\n",
    "import matplotlib.pyplot as plt\n",
    "\n",
    "from scipy import stats\n",
    "from scipy.stats import norm"
   ]
  },
  {
   "cell_type": "code",
   "execution_count": 152,
   "metadata": {},
   "outputs": [
    {
     "name": "stderr",
     "output_type": "stream",
     "text": [
      "<ipython-input-152-68ea56c4893e>:2: FutureWarning: In a future version of pandas all arguments of DataFrame.drop except for the argument 'labels' will be keyword-only.\n",
      "  df = df.drop('Year', 1)\n"
     ]
    },
    {
     "data": {
      "text/html": [
       "<div>\n",
       "<style scoped>\n",
       "    .dataframe tbody tr th:only-of-type {\n",
       "        vertical-align: middle;\n",
       "    }\n",
       "\n",
       "    .dataframe tbody tr th {\n",
       "        vertical-align: top;\n",
       "    }\n",
       "\n",
       "    .dataframe thead th {\n",
       "        text-align: right;\n",
       "    }\n",
       "</style>\n",
       "<table border=\"1\" class=\"dataframe\">\n",
       "  <thead>\n",
       "    <tr style=\"text-align: right;\">\n",
       "      <th></th>\n",
       "      <th>CountryName</th>\n",
       "      <th>Agriculturalrawmaterialsexpor</th>\n",
       "      <th>ArmsexportsSIPRItrendindica</th>\n",
       "      <th>Commercialserviceexportscurr</th>\n",
       "      <th>Communicationscomputeretc</th>\n",
       "      <th>Exportsofgoodsandservices</th>\n",
       "      <th>Exportsofgoodsandservicesa</th>\n",
       "      <th>ExportsofgoodsandservicesB</th>\n",
       "      <th>Exportsofgoodsandservicesc</th>\n",
       "      <th>Foodexportsofmerchandisee</th>\n",
       "      <th>...</th>\n",
       "      <th>Fuelexportsofmerchandisee</th>\n",
       "      <th>Hightechnologyexportsofma</th>\n",
       "      <th>Hightechnologyexportscurrent</th>\n",
       "      <th>TaxesonexportscurrentLCU</th>\n",
       "      <th>Transportservicesofservice</th>\n",
       "      <th>Travelservicesofcommercial</th>\n",
       "      <th>Travelservicesofserviceex</th>\n",
       "      <th>high_income</th>\n",
       "      <th>income</th>\n",
       "      <th>development</th>\n",
       "    </tr>\n",
       "    <tr>\n",
       "      <th>CountryCode</th>\n",
       "      <th></th>\n",
       "      <th></th>\n",
       "      <th></th>\n",
       "      <th></th>\n",
       "      <th></th>\n",
       "      <th></th>\n",
       "      <th></th>\n",
       "      <th></th>\n",
       "      <th></th>\n",
       "      <th></th>\n",
       "      <th></th>\n",
       "      <th></th>\n",
       "      <th></th>\n",
       "      <th></th>\n",
       "      <th></th>\n",
       "      <th></th>\n",
       "      <th></th>\n",
       "      <th></th>\n",
       "      <th></th>\n",
       "      <th></th>\n",
       "      <th></th>\n",
       "    </tr>\n",
       "  </thead>\n",
       "  <tbody>\n",
       "    <tr>\n",
       "      <th>AND</th>\n",
       "      <td>Andorra</td>\n",
       "      <td>1.551347</td>\n",
       "      <td>NaN</td>\n",
       "      <td>NaN</td>\n",
       "      <td>NaN</td>\n",
       "      <td>NaN</td>\n",
       "      <td>NaN</td>\n",
       "      <td>NaN</td>\n",
       "      <td>NaN</td>\n",
       "      <td>0.581574</td>\n",
       "      <td>...</td>\n",
       "      <td>0.013955</td>\n",
       "      <td>28.460560</td>\n",
       "      <td>3.391348e+07</td>\n",
       "      <td>NaN</td>\n",
       "      <td>NaN</td>\n",
       "      <td>NaN</td>\n",
       "      <td>NaN</td>\n",
       "      <td>1</td>\n",
       "      <td>high income</td>\n",
       "      <td>developed</td>\n",
       "    </tr>\n",
       "    <tr>\n",
       "      <th>ATG</th>\n",
       "      <td>Antigua and Barbuda</td>\n",
       "      <td>0.000000</td>\n",
       "      <td>NaN</td>\n",
       "      <td>1.112068e+09</td>\n",
       "      <td>0.187833</td>\n",
       "      <td>NaN</td>\n",
       "      <td>NaN</td>\n",
       "      <td>1.151693e+09</td>\n",
       "      <td>NaN</td>\n",
       "      <td>42.748239</td>\n",
       "      <td>...</td>\n",
       "      <td>0.000000</td>\n",
       "      <td>0.209768</td>\n",
       "      <td>3.911000e+03</td>\n",
       "      <td>NaN</td>\n",
       "      <td>12.063282</td>\n",
       "      <td>79.197620</td>\n",
       "      <td>79.085789</td>\n",
       "      <td>1</td>\n",
       "      <td>high income</td>\n",
       "      <td>developing</td>\n",
       "    </tr>\n",
       "    <tr>\n",
       "      <th>ABW</th>\n",
       "      <td>Aruba</td>\n",
       "      <td>0.075850</td>\n",
       "      <td>NaN</td>\n",
       "      <td>NaN</td>\n",
       "      <td>NaN</td>\n",
       "      <td>NaN</td>\n",
       "      <td>NaN</td>\n",
       "      <td>NaN</td>\n",
       "      <td>NaN</td>\n",
       "      <td>41.631183</td>\n",
       "      <td>...</td>\n",
       "      <td>0.122011</td>\n",
       "      <td>8.338925</td>\n",
       "      <td>2.562959e+06</td>\n",
       "      <td>NaN</td>\n",
       "      <td>NaN</td>\n",
       "      <td>NaN</td>\n",
       "      <td>NaN</td>\n",
       "      <td>1</td>\n",
       "      <td>high income</td>\n",
       "      <td>developing</td>\n",
       "    </tr>\n",
       "    <tr>\n",
       "      <th>AUS</th>\n",
       "      <td>Australia</td>\n",
       "      <td>2.293782</td>\n",
       "      <td>38000000.0</td>\n",
       "      <td>6.856142e+10</td>\n",
       "      <td>4.851458</td>\n",
       "      <td>21.804658</td>\n",
       "      <td>4.101769</td>\n",
       "      <td>3.272645e+11</td>\n",
       "      <td>3.350844e+11</td>\n",
       "      <td>12.546827</td>\n",
       "      <td>...</td>\n",
       "      <td>24.448891</td>\n",
       "      <td>16.708318</td>\n",
       "      <td>5.274080e+09</td>\n",
       "      <td>NaN</td>\n",
       "      <td>8.130395</td>\n",
       "      <td>65.777866</td>\n",
       "      <td>64.968547</td>\n",
       "      <td>1</td>\n",
       "      <td>high income</td>\n",
       "      <td>developed</td>\n",
       "    </tr>\n",
       "    <tr>\n",
       "      <th>AUT</th>\n",
       "      <td>Austria</td>\n",
       "      <td>1.613744</td>\n",
       "      <td>5000000.0</td>\n",
       "      <td>7.413284e+10</td>\n",
       "      <td>8.824110</td>\n",
       "      <td>55.755855</td>\n",
       "      <td>5.884652</td>\n",
       "      <td>2.538067e+11</td>\n",
       "      <td>2.640225e+11</td>\n",
       "      <td>7.456444</td>\n",
       "      <td>...</td>\n",
       "      <td>2.047786</td>\n",
       "      <td>11.638526</td>\n",
       "      <td>1.668750e+10</td>\n",
       "      <td>NaN</td>\n",
       "      <td>23.070122</td>\n",
       "      <td>31.340080</td>\n",
       "      <td>31.080313</td>\n",
       "      <td>1</td>\n",
       "      <td>high income</td>\n",
       "      <td>developed</td>\n",
       "    </tr>\n",
       "    <tr>\n",
       "      <th>...</th>\n",
       "      <td>...</td>\n",
       "      <td>...</td>\n",
       "      <td>...</td>\n",
       "      <td>...</td>\n",
       "      <td>...</td>\n",
       "      <td>...</td>\n",
       "      <td>...</td>\n",
       "      <td>...</td>\n",
       "      <td>...</td>\n",
       "      <td>...</td>\n",
       "      <td>...</td>\n",
       "      <td>...</td>\n",
       "      <td>...</td>\n",
       "      <td>...</td>\n",
       "      <td>...</td>\n",
       "      <td>...</td>\n",
       "      <td>...</td>\n",
       "      <td>...</td>\n",
       "      <td>...</td>\n",
       "      <td>...</td>\n",
       "      <td>...</td>\n",
       "    </tr>\n",
       "    <tr>\n",
       "      <th>VEN</th>\n",
       "      <td>Venezuela, RB</td>\n",
       "      <td>NaN</td>\n",
       "      <td>NaN</td>\n",
       "      <td>NaN</td>\n",
       "      <td>NaN</td>\n",
       "      <td>NaN</td>\n",
       "      <td>-10.787575</td>\n",
       "      <td>NaN</td>\n",
       "      <td>8.327258e+10</td>\n",
       "      <td>NaN</td>\n",
       "      <td>...</td>\n",
       "      <td>NaN</td>\n",
       "      <td>NaN</td>\n",
       "      <td>NaN</td>\n",
       "      <td>NaN</td>\n",
       "      <td>NaN</td>\n",
       "      <td>NaN</td>\n",
       "      <td>NaN</td>\n",
       "      <td>0</td>\n",
       "      <td>middle income</td>\n",
       "      <td>developing</td>\n",
       "    </tr>\n",
       "    <tr>\n",
       "      <th>VNM</th>\n",
       "      <td>Vietnam</td>\n",
       "      <td>NaN</td>\n",
       "      <td>NaN</td>\n",
       "      <td>1.479050e+10</td>\n",
       "      <td>NaN</td>\n",
       "      <td>105.831805</td>\n",
       "      <td>14.265533</td>\n",
       "      <td>2.584875e+11</td>\n",
       "      <td>2.397090e+11</td>\n",
       "      <td>NaN</td>\n",
       "      <td>...</td>\n",
       "      <td>NaN</td>\n",
       "      <td>NaN</td>\n",
       "      <td>NaN</td>\n",
       "      <td>NaN</td>\n",
       "      <td>NaN</td>\n",
       "      <td>NaN</td>\n",
       "      <td>NaN</td>\n",
       "      <td>0</td>\n",
       "      <td>middle income</td>\n",
       "      <td>developing</td>\n",
       "    </tr>\n",
       "    <tr>\n",
       "      <th>PSE</th>\n",
       "      <td>West Bank and Gaza</td>\n",
       "      <td>NaN</td>\n",
       "      <td>NaN</td>\n",
       "      <td>5.608593e+08</td>\n",
       "      <td>36.257881</td>\n",
       "      <td>19.865352</td>\n",
       "      <td>7.878720</td>\n",
       "      <td>2.903485e+09</td>\n",
       "      <td>2.456322e+09</td>\n",
       "      <td>NaN</td>\n",
       "      <td>...</td>\n",
       "      <td>NaN</td>\n",
       "      <td>NaN</td>\n",
       "      <td>NaN</td>\n",
       "      <td>NaN</td>\n",
       "      <td>1.625164</td>\n",
       "      <td>43.720375</td>\n",
       "      <td>40.034937</td>\n",
       "      <td>0</td>\n",
       "      <td>middle income</td>\n",
       "      <td>developing</td>\n",
       "    </tr>\n",
       "    <tr>\n",
       "      <th>ZMB</th>\n",
       "      <td>Zambia</td>\n",
       "      <td>0.903647</td>\n",
       "      <td>NaN</td>\n",
       "      <td>9.532642e+08</td>\n",
       "      <td>3.739193</td>\n",
       "      <td>37.422550</td>\n",
       "      <td>NaN</td>\n",
       "      <td>9.982666e+09</td>\n",
       "      <td>NaN</td>\n",
       "      <td>6.146432</td>\n",
       "      <td>...</td>\n",
       "      <td>1.045940</td>\n",
       "      <td>1.998837</td>\n",
       "      <td>2.580541e+07</td>\n",
       "      <td>NaN</td>\n",
       "      <td>5.641202</td>\n",
       "      <td>77.857990</td>\n",
       "      <td>77.857990</td>\n",
       "      <td>0</td>\n",
       "      <td>middle income</td>\n",
       "      <td>developing</td>\n",
       "    </tr>\n",
       "    <tr>\n",
       "      <th>ZWE</th>\n",
       "      <td>Zimbabwe</td>\n",
       "      <td>4.462888</td>\n",
       "      <td>NaN</td>\n",
       "      <td>NaN</td>\n",
       "      <td>NaN</td>\n",
       "      <td>22.924114</td>\n",
       "      <td>-5.650233</td>\n",
       "      <td>NaN</td>\n",
       "      <td>5.898560e+09</td>\n",
       "      <td>35.891183</td>\n",
       "      <td>...</td>\n",
       "      <td>1.399322</td>\n",
       "      <td>2.051149</td>\n",
       "      <td>9.719357e+06</td>\n",
       "      <td>NaN</td>\n",
       "      <td>NaN</td>\n",
       "      <td>NaN</td>\n",
       "      <td>NaN</td>\n",
       "      <td>0</td>\n",
       "      <td>middle income</td>\n",
       "      <td>developing</td>\n",
       "    </tr>\n",
       "  </tbody>\n",
       "</table>\n",
       "<p>217 rows × 21 columns</p>\n",
       "</div>"
      ],
      "text/plain": [
       "                     CountryName  Agriculturalrawmaterialsexpor  \\\n",
       "CountryCode                                                       \n",
       "AND                      Andorra                       1.551347   \n",
       "ATG          Antigua and Barbuda                       0.000000   \n",
       "ABW                        Aruba                       0.075850   \n",
       "AUS                    Australia                       2.293782   \n",
       "AUT                      Austria                       1.613744   \n",
       "...                          ...                            ...   \n",
       "VEN                Venezuela, RB                            NaN   \n",
       "VNM                      Vietnam                            NaN   \n",
       "PSE           West Bank and Gaza                            NaN   \n",
       "ZMB                       Zambia                       0.903647   \n",
       "ZWE                     Zimbabwe                       4.462888   \n",
       "\n",
       "             ArmsexportsSIPRItrendindica  Commercialserviceexportscurr  \\\n",
       "CountryCode                                                              \n",
       "AND                                  NaN                           NaN   \n",
       "ATG                                  NaN                  1.112068e+09   \n",
       "ABW                                  NaN                           NaN   \n",
       "AUS                           38000000.0                  6.856142e+10   \n",
       "AUT                            5000000.0                  7.413284e+10   \n",
       "...                                  ...                           ...   \n",
       "VEN                                  NaN                           NaN   \n",
       "VNM                                  NaN                  1.479050e+10   \n",
       "PSE                                  NaN                  5.608593e+08   \n",
       "ZMB                                  NaN                  9.532642e+08   \n",
       "ZWE                                  NaN                           NaN   \n",
       "\n",
       "             Communicationscomputeretc  Exportsofgoodsandservices  \\\n",
       "CountryCode                                                         \n",
       "AND                                NaN                        NaN   \n",
       "ATG                           0.187833                        NaN   \n",
       "ABW                                NaN                        NaN   \n",
       "AUS                           4.851458                  21.804658   \n",
       "AUT                           8.824110                  55.755855   \n",
       "...                                ...                        ...   \n",
       "VEN                                NaN                        NaN   \n",
       "VNM                                NaN                 105.831805   \n",
       "PSE                          36.257881                  19.865352   \n",
       "ZMB                           3.739193                  37.422550   \n",
       "ZWE                                NaN                  22.924114   \n",
       "\n",
       "             Exportsofgoodsandservicesa  ExportsofgoodsandservicesB  \\\n",
       "CountryCode                                                           \n",
       "AND                                 NaN                         NaN   \n",
       "ATG                                 NaN                1.151693e+09   \n",
       "ABW                                 NaN                         NaN   \n",
       "AUS                            4.101769                3.272645e+11   \n",
       "AUT                            5.884652                2.538067e+11   \n",
       "...                                 ...                         ...   \n",
       "VEN                          -10.787575                         NaN   \n",
       "VNM                           14.265533                2.584875e+11   \n",
       "PSE                            7.878720                2.903485e+09   \n",
       "ZMB                                 NaN                9.982666e+09   \n",
       "ZWE                           -5.650233                         NaN   \n",
       "\n",
       "             Exportsofgoodsandservicesc  Foodexportsofmerchandisee  ...  \\\n",
       "CountryCode                                                         ...   \n",
       "AND                                 NaN                   0.581574  ...   \n",
       "ATG                                 NaN                  42.748239  ...   \n",
       "ABW                                 NaN                  41.631183  ...   \n",
       "AUS                        3.350844e+11                  12.546827  ...   \n",
       "AUT                        2.640225e+11                   7.456444  ...   \n",
       "...                                 ...                        ...  ...   \n",
       "VEN                        8.327258e+10                        NaN  ...   \n",
       "VNM                        2.397090e+11                        NaN  ...   \n",
       "PSE                        2.456322e+09                        NaN  ...   \n",
       "ZMB                                 NaN                   6.146432  ...   \n",
       "ZWE                        5.898560e+09                  35.891183  ...   \n",
       "\n",
       "             Fuelexportsofmerchandisee  Hightechnologyexportsofma  \\\n",
       "CountryCode                                                         \n",
       "AND                           0.013955                  28.460560   \n",
       "ATG                           0.000000                   0.209768   \n",
       "ABW                           0.122011                   8.338925   \n",
       "AUS                          24.448891                  16.708318   \n",
       "AUT                           2.047786                  11.638526   \n",
       "...                                ...                        ...   \n",
       "VEN                                NaN                        NaN   \n",
       "VNM                                NaN                        NaN   \n",
       "PSE                                NaN                        NaN   \n",
       "ZMB                           1.045940                   1.998837   \n",
       "ZWE                           1.399322                   2.051149   \n",
       "\n",
       "             Hightechnologyexportscurrent  TaxesonexportscurrentLCU  \\\n",
       "CountryCode                                                           \n",
       "AND                          3.391348e+07                       NaN   \n",
       "ATG                          3.911000e+03                       NaN   \n",
       "ABW                          2.562959e+06                       NaN   \n",
       "AUS                          5.274080e+09                       NaN   \n",
       "AUT                          1.668750e+10                       NaN   \n",
       "...                                   ...                       ...   \n",
       "VEN                                   NaN                       NaN   \n",
       "VNM                                   NaN                       NaN   \n",
       "PSE                                   NaN                       NaN   \n",
       "ZMB                          2.580541e+07                       NaN   \n",
       "ZWE                          9.719357e+06                       NaN   \n",
       "\n",
       "             Transportservicesofservice  Travelservicesofcommercial  \\\n",
       "CountryCode                                                           \n",
       "AND                                 NaN                         NaN   \n",
       "ATG                           12.063282                   79.197620   \n",
       "ABW                                 NaN                         NaN   \n",
       "AUS                            8.130395                   65.777866   \n",
       "AUT                           23.070122                   31.340080   \n",
       "...                                 ...                         ...   \n",
       "VEN                                 NaN                         NaN   \n",
       "VNM                                 NaN                         NaN   \n",
       "PSE                            1.625164                   43.720375   \n",
       "ZMB                            5.641202                   77.857990   \n",
       "ZWE                                 NaN                         NaN   \n",
       "\n",
       "             Travelservicesofserviceex  high_income         income  \\\n",
       "CountryCode                                                          \n",
       "AND                                NaN            1    high income   \n",
       "ATG                          79.085789            1    high income   \n",
       "ABW                                NaN            1    high income   \n",
       "AUS                          64.968547            1    high income   \n",
       "AUT                          31.080313            1    high income   \n",
       "...                                ...          ...            ...   \n",
       "VEN                                NaN            0  middle income   \n",
       "VNM                                NaN            0  middle income   \n",
       "PSE                          40.034937            0  middle income   \n",
       "ZMB                          77.857990            0  middle income   \n",
       "ZWE                                NaN            0  middle income   \n",
       "\n",
       "             development  \n",
       "CountryCode               \n",
       "AND            developed  \n",
       "ATG          developing   \n",
       "ABW           developing  \n",
       "AUS            developed  \n",
       "AUT            developed  \n",
       "...                  ...  \n",
       "VEN           developing  \n",
       "VNM           developing  \n",
       "PSE           developing  \n",
       "ZMB           developing  \n",
       "ZWE           developing  \n",
       "\n",
       "[217 rows x 21 columns]"
      ]
     },
     "execution_count": 152,
     "metadata": {},
     "output_type": "execute_result"
    }
   ],
   "source": [
    "df = pd.read_excel('Worldbank.xlsx', index_col=2)\n",
    "df = df.drop('Year', 1)\n",
    "df"
   ]
  },
  {
   "cell_type": "code",
   "execution_count": 153,
   "metadata": {},
   "outputs": [],
   "source": [
    "df['CountryName'] = df['CountryName'].astype('string')\n",
    "df['high_income'] = df['high_income'].astype('bool')\n",
    "df['income'] = df['income'].astype('category')\n",
    "df['development'] = df['development'].astype('category')"
   ]
  },
  {
   "cell_type": "code",
   "execution_count": 154,
   "metadata": {},
   "outputs": [
    {
     "name": "stdout",
     "output_type": "stream",
     "text": [
      "<class 'pandas.core.frame.DataFrame'>\n",
      "Index: 217 entries, AND to ZWE\n",
      "Data columns (total 21 columns):\n",
      " #   Column                         Non-Null Count  Dtype   \n",
      "---  ------                         --------------  -----   \n",
      " 0   CountryName                    217 non-null    string  \n",
      " 1   Agriculturalrawmaterialsexpor  126 non-null    float64 \n",
      " 2   ArmsexportsSIPRItrendindica    40 non-null     float64 \n",
      " 3   Commercialserviceexportscurr   164 non-null    float64 \n",
      " 4   Communicationscomputeretc      159 non-null    float64 \n",
      " 5   Exportsofgoodsandservices      168 non-null    float64 \n",
      " 6   Exportsofgoodsandservicesa     151 non-null    float64 \n",
      " 7   ExportsofgoodsandservicesB     163 non-null    float64 \n",
      " 8   Exportsofgoodsandservicesc     148 non-null    float64 \n",
      " 9   Foodexportsofmerchandisee      127 non-null    float64 \n",
      " 10  GoodsexportsBoPcurrentUS       164 non-null    float64 \n",
      " 11  Fuelexportsofmerchandisee      122 non-null    float64 \n",
      " 12  Hightechnologyexportsofma      109 non-null    float64 \n",
      " 13  Hightechnologyexportscurrent   109 non-null    float64 \n",
      " 14  TaxesonexportscurrentLCU       22 non-null     float64 \n",
      " 15  Transportservicesofservice     159 non-null    float64 \n",
      " 16  Travelservicesofcommercial     161 non-null    float64 \n",
      " 17  Travelservicesofserviceex      161 non-null    float64 \n",
      " 18  high_income                    217 non-null    bool    \n",
      " 19  income                         217 non-null    category\n",
      " 20  development                    217 non-null    category\n",
      "dtypes: bool(1), category(2), float64(17), string(1)\n",
      "memory usage: 33.1+ KB\n"
     ]
    }
   ],
   "source": [
    "df.info()"
   ]
  },
  {
   "cell_type": "code",
   "execution_count": 155,
   "metadata": {},
   "outputs": [
    {
     "data": {
      "text/html": [
       "<div>\n",
       "<style scoped>\n",
       "    .dataframe tbody tr th:only-of-type {\n",
       "        vertical-align: middle;\n",
       "    }\n",
       "\n",
       "    .dataframe tbody tr th {\n",
       "        vertical-align: top;\n",
       "    }\n",
       "\n",
       "    .dataframe thead th {\n",
       "        text-align: right;\n",
       "    }\n",
       "</style>\n",
       "<table border=\"1\" class=\"dataframe\">\n",
       "  <thead>\n",
       "    <tr style=\"text-align: right;\">\n",
       "      <th></th>\n",
       "      <th>Agriculturalrawmaterialsexpor</th>\n",
       "      <th>ArmsexportsSIPRItrendindica</th>\n",
       "      <th>Commercialserviceexportscurr</th>\n",
       "      <th>Communicationscomputeretc</th>\n",
       "      <th>Exportsofgoodsandservices</th>\n",
       "      <th>Exportsofgoodsandservicesa</th>\n",
       "      <th>ExportsofgoodsandservicesB</th>\n",
       "      <th>Exportsofgoodsandservicesc</th>\n",
       "      <th>Foodexportsofmerchandisee</th>\n",
       "      <th>GoodsexportsBoPcurrentUS</th>\n",
       "      <th>Fuelexportsofmerchandisee</th>\n",
       "      <th>Hightechnologyexportsofma</th>\n",
       "      <th>Hightechnologyexportscurrent</th>\n",
       "      <th>TaxesonexportscurrentLCU</th>\n",
       "      <th>Transportservicesofservice</th>\n",
       "      <th>Travelservicesofcommercial</th>\n",
       "      <th>Travelservicesofserviceex</th>\n",
       "    </tr>\n",
       "  </thead>\n",
       "  <tbody>\n",
       "    <tr>\n",
       "      <th>count</th>\n",
       "      <td>126.000000</td>\n",
       "      <td>4.000000e+01</td>\n",
       "      <td>1.640000e+02</td>\n",
       "      <td>159.000000</td>\n",
       "      <td>168.000000</td>\n",
       "      <td>151.000000</td>\n",
       "      <td>1.630000e+02</td>\n",
       "      <td>1.480000e+02</td>\n",
       "      <td>127.000000</td>\n",
       "      <td>1.640000e+02</td>\n",
       "      <td>122.000000</td>\n",
       "      <td>109.000000</td>\n",
       "      <td>1.090000e+02</td>\n",
       "      <td>2.200000e+01</td>\n",
       "      <td>159.000000</td>\n",
       "      <td>161.000000</td>\n",
       "      <td>161.000000</td>\n",
       "    </tr>\n",
       "    <tr>\n",
       "      <th>mean</th>\n",
       "      <td>3.482839</td>\n",
       "      <td>6.895500e+08</td>\n",
       "      <td>3.409975e+10</td>\n",
       "      <td>12.581114</td>\n",
       "      <td>44.799398</td>\n",
       "      <td>4.825023</td>\n",
       "      <td>1.461328e+11</td>\n",
       "      <td>1.508739e+11</td>\n",
       "      <td>24.900377</td>\n",
       "      <td>1.107192e+11</td>\n",
       "      <td>16.113229</td>\n",
       "      <td>11.458729</td>\n",
       "      <td>1.635265e+10</td>\n",
       "      <td>2.197709e+11</td>\n",
       "      <td>19.429609</td>\n",
       "      <td>43.996890</td>\n",
       "      <td>42.226638</td>\n",
       "    </tr>\n",
       "    <tr>\n",
       "      <th>std</th>\n",
       "      <td>8.907713</td>\n",
       "      <td>1.913451e+09</td>\n",
       "      <td>8.716023e+10</td>\n",
       "      <td>13.008886</td>\n",
       "      <td>31.485667</td>\n",
       "      <td>8.133853</td>\n",
       "      <td>3.623060e+11</td>\n",
       "      <td>3.210746e+11</td>\n",
       "      <td>24.186395</td>\n",
       "      <td>2.876574e+11</td>\n",
       "      <td>24.356154</td>\n",
       "      <td>12.032572</td>\n",
       "      <td>3.932458e+10</td>\n",
       "      <td>7.067350e+11</td>\n",
       "      <td>14.912237</td>\n",
       "      <td>26.004362</td>\n",
       "      <td>25.074767</td>\n",
       "    </tr>\n",
       "    <tr>\n",
       "      <th>min</th>\n",
       "      <td>0.000000</td>\n",
       "      <td>0.000000e+00</td>\n",
       "      <td>1.000630e+07</td>\n",
       "      <td>-7.096171</td>\n",
       "      <td>7.761403</td>\n",
       "      <td>-37.757437</td>\n",
       "      <td>3.110111e+07</td>\n",
       "      <td>6.105987e+07</td>\n",
       "      <td>0.005818</td>\n",
       "      <td>5.800000e+06</td>\n",
       "      <td>0.000000</td>\n",
       "      <td>0.003258</td>\n",
       "      <td>3.320000e+02</td>\n",
       "      <td>9.200000e+04</td>\n",
       "      <td>0.044392</td>\n",
       "      <td>0.711187</td>\n",
       "      <td>0.674764</td>\n",
       "    </tr>\n",
       "    <tr>\n",
       "      <th>25%</th>\n",
       "      <td>0.443663</td>\n",
       "      <td>1.075000e+07</td>\n",
       "      <td>7.909955e+08</td>\n",
       "      <td>4.071505</td>\n",
       "      <td>25.366386</td>\n",
       "      <td>2.062379</td>\n",
       "      <td>2.673611e+09</td>\n",
       "      <td>5.044135e+09</td>\n",
       "      <td>7.535677</td>\n",
       "      <td>1.355111e+09</td>\n",
       "      <td>1.252478</td>\n",
       "      <td>3.536273</td>\n",
       "      <td>2.580541e+07</td>\n",
       "      <td>2.796903e+07</td>\n",
       "      <td>7.516094</td>\n",
       "      <td>21.931045</td>\n",
       "      <td>21.489868</td>\n",
       "    </tr>\n",
       "    <tr>\n",
       "      <th>50%</th>\n",
       "      <td>1.139189</td>\n",
       "      <td>6.600000e+07</td>\n",
       "      <td>4.371386e+09</td>\n",
       "      <td>7.972149</td>\n",
       "      <td>37.705143</td>\n",
       "      <td>4.195722</td>\n",
       "      <td>1.822627e+10</td>\n",
       "      <td>1.990745e+10</td>\n",
       "      <td>15.253620</td>\n",
       "      <td>1.106958e+10</td>\n",
       "      <td>4.642974</td>\n",
       "      <td>7.790672</td>\n",
       "      <td>3.803684e+08</td>\n",
       "      <td>4.853386e+08</td>\n",
       "      <td>16.122008</td>\n",
       "      <td>43.262158</td>\n",
       "      <td>40.731757</td>\n",
       "    </tr>\n",
       "    <tr>\n",
       "      <th>75%</th>\n",
       "      <td>2.749113</td>\n",
       "      <td>4.295000e+08</td>\n",
       "      <td>1.995910e+10</td>\n",
       "      <td>16.609590</td>\n",
       "      <td>54.616692</td>\n",
       "      <td>7.760299</td>\n",
       "      <td>1.009528e+11</td>\n",
       "      <td>1.281052e+11</td>\n",
       "      <td>38.320455</td>\n",
       "      <td>7.341662e+10</td>\n",
       "      <td>20.330562</td>\n",
       "      <td>16.708318</td>\n",
       "      <td>9.569070e+09</td>\n",
       "      <td>4.748734e+09</td>\n",
       "      <td>28.012172</td>\n",
       "      <td>62.973950</td>\n",
       "      <td>59.626205</td>\n",
       "    </tr>\n",
       "    <tr>\n",
       "      <th>max</th>\n",
       "      <td>73.691101</td>\n",
       "      <td>1.050800e+10</td>\n",
       "      <td>8.057390e+11</td>\n",
       "      <td>78.122941</td>\n",
       "      <td>211.559049</td>\n",
       "      <td>36.478051</td>\n",
       "      <td>2.651010e+12</td>\n",
       "      <td>2.364439e+12</td>\n",
       "      <td>98.185379</td>\n",
       "      <td>2.417443e+12</td>\n",
       "      <td>95.827420</td>\n",
       "      <td>61.110220</td>\n",
       "      <td>2.096102e+11</td>\n",
       "      <td>2.999517e+12</td>\n",
       "      <td>74.873487</td>\n",
       "      <td>97.307685</td>\n",
       "      <td>92.670309</td>\n",
       "    </tr>\n",
       "  </tbody>\n",
       "</table>\n",
       "</div>"
      ],
      "text/plain": [
       "       Agriculturalrawmaterialsexpor  ArmsexportsSIPRItrendindica  \\\n",
       "count                     126.000000                 4.000000e+01   \n",
       "mean                        3.482839                 6.895500e+08   \n",
       "std                         8.907713                 1.913451e+09   \n",
       "min                         0.000000                 0.000000e+00   \n",
       "25%                         0.443663                 1.075000e+07   \n",
       "50%                         1.139189                 6.600000e+07   \n",
       "75%                         2.749113                 4.295000e+08   \n",
       "max                        73.691101                 1.050800e+10   \n",
       "\n",
       "       Commercialserviceexportscurr  Communicationscomputeretc  \\\n",
       "count                  1.640000e+02                 159.000000   \n",
       "mean                   3.409975e+10                  12.581114   \n",
       "std                    8.716023e+10                  13.008886   \n",
       "min                    1.000630e+07                  -7.096171   \n",
       "25%                    7.909955e+08                   4.071505   \n",
       "50%                    4.371386e+09                   7.972149   \n",
       "75%                    1.995910e+10                  16.609590   \n",
       "max                    8.057390e+11                  78.122941   \n",
       "\n",
       "       Exportsofgoodsandservices  Exportsofgoodsandservicesa  \\\n",
       "count                 168.000000                  151.000000   \n",
       "mean                   44.799398                    4.825023   \n",
       "std                    31.485667                    8.133853   \n",
       "min                     7.761403                  -37.757437   \n",
       "25%                    25.366386                    2.062379   \n",
       "50%                    37.705143                    4.195722   \n",
       "75%                    54.616692                    7.760299   \n",
       "max                   211.559049                   36.478051   \n",
       "\n",
       "       ExportsofgoodsandservicesB  Exportsofgoodsandservicesc  \\\n",
       "count                1.630000e+02                1.480000e+02   \n",
       "mean                 1.461328e+11                1.508739e+11   \n",
       "std                  3.623060e+11                3.210746e+11   \n",
       "min                  3.110111e+07                6.105987e+07   \n",
       "25%                  2.673611e+09                5.044135e+09   \n",
       "50%                  1.822627e+10                1.990745e+10   \n",
       "75%                  1.009528e+11                1.281052e+11   \n",
       "max                  2.651010e+12                2.364439e+12   \n",
       "\n",
       "       Foodexportsofmerchandisee  GoodsexportsBoPcurrentUS  \\\n",
       "count                 127.000000              1.640000e+02   \n",
       "mean                   24.900377              1.107192e+11   \n",
       "std                    24.186395              2.876574e+11   \n",
       "min                     0.005818              5.800000e+06   \n",
       "25%                     7.535677              1.355111e+09   \n",
       "50%                    15.253620              1.106958e+10   \n",
       "75%                    38.320455              7.341662e+10   \n",
       "max                    98.185379              2.417443e+12   \n",
       "\n",
       "       Fuelexportsofmerchandisee  Hightechnologyexportsofma  \\\n",
       "count                 122.000000                 109.000000   \n",
       "mean                   16.113229                  11.458729   \n",
       "std                    24.356154                  12.032572   \n",
       "min                     0.000000                   0.003258   \n",
       "25%                     1.252478                   3.536273   \n",
       "50%                     4.642974                   7.790672   \n",
       "75%                    20.330562                  16.708318   \n",
       "max                    95.827420                  61.110220   \n",
       "\n",
       "       Hightechnologyexportscurrent  TaxesonexportscurrentLCU  \\\n",
       "count                  1.090000e+02              2.200000e+01   \n",
       "mean                   1.635265e+10              2.197709e+11   \n",
       "std                    3.932458e+10              7.067350e+11   \n",
       "min                    3.320000e+02              9.200000e+04   \n",
       "25%                    2.580541e+07              2.796903e+07   \n",
       "50%                    3.803684e+08              4.853386e+08   \n",
       "75%                    9.569070e+09              4.748734e+09   \n",
       "max                    2.096102e+11              2.999517e+12   \n",
       "\n",
       "       Transportservicesofservice  Travelservicesofcommercial  \\\n",
       "count                  159.000000                  161.000000   \n",
       "mean                    19.429609                   43.996890   \n",
       "std                     14.912237                   26.004362   \n",
       "min                      0.044392                    0.711187   \n",
       "25%                      7.516094                   21.931045   \n",
       "50%                     16.122008                   43.262158   \n",
       "75%                     28.012172                   62.973950   \n",
       "max                     74.873487                   97.307685   \n",
       "\n",
       "       Travelservicesofserviceex  \n",
       "count                 161.000000  \n",
       "mean                   42.226638  \n",
       "std                    25.074767  \n",
       "min                     0.674764  \n",
       "25%                    21.489868  \n",
       "50%                    40.731757  \n",
       "75%                    59.626205  \n",
       "max                    92.670309  "
      ]
     },
     "execution_count": 155,
     "metadata": {},
     "output_type": "execute_result"
    }
   ],
   "source": [
    "df.describe()"
   ]
  },
  {
   "cell_type": "code",
   "execution_count": 156,
   "metadata": {},
   "outputs": [],
   "source": [
    "df['development']=df['development'].str.strip()"
   ]
  },
  {
   "cell_type": "markdown",
   "metadata": {},
   "source": [
    "# Task 1\n",
    "\n",
    "## Hypotheses:\n",
    "\n",
    "For each variable in {Agriculturalrawmaterialsexpor,\n",
    "    ArmsexportsSIPRItrendindica,\n",
    "    Commercialserviceexportscurr,\n",
    "    Communicationscomputeretc,\n",
    "    Exportsofgoodsandservices,\n",
    "    Exportsofgoodsandservicesa,\n",
    "    ExportsofgoodsandservicesB,\n",
    "    Exportsofgoodsandservicesc,\n",
    "    Foodexportsofmerchandisee,\n",
    "    GoodsexportsBoPcurrentUS,\n",
    "    Fuelexportsofmerchandisee,\n",
    "    Hightechnologyexportsofma,\n",
    "    Hightechnologyexportscurrent,\n",
    "    TaxesonexportscurrentLCU,\n",
    "    Transportservicesofservice,\n",
    "    Travelservicesofcommercial,\n",
    "    Travelservicesofserviceex}:\n",
    "\n",
    "H1: The distribution of the variable is different from the normal distribution\n",
    "\n",
    "H0: The distribution of the variable is not different from the normal distribution\n",
    "\n",
    "p-value = 0.05"
   ]
  },
  {
   "cell_type": "markdown",
   "metadata": {},
   "source": [
    "### ArmsexportsSIPRItrendindica\n",
    "There are only few records of this var, so Shapiro has to be used"
   ]
  },
  {
   "cell_type": "code",
   "execution_count": 157,
   "metadata": {},
   "outputs": [
    {
     "data": {
      "text/plain": [
       "ShapiroResult(statistic=0.38618260622024536, pvalue=9.669370339138172e-12)"
      ]
     },
     "execution_count": 157,
     "metadata": {},
     "output_type": "execute_result"
    }
   ],
   "source": [
    "stats.shapiro(df.ArmsexportsSIPRItrendindica.dropna())"
   ]
  },
  {
   "cell_type": "code",
   "execution_count": 158,
   "metadata": {},
   "outputs": [
    {
     "name": "stderr",
     "output_type": "stream",
     "text": [
      "C:\\Users\\Admin\\Miniconda3\\envs\\IntroML\\lib\\site-packages\\seaborn\\distributions.py:2619: FutureWarning: `distplot` is a deprecated function and will be removed in a future version. Please adapt your code to use either `displot` (a figure-level function with similar flexibility) or `histplot` (an axes-level function for histograms).\n",
      "  warnings.warn(msg, FutureWarning)\n",
      "C:\\Users\\Admin\\Miniconda3\\envs\\IntroML\\lib\\site-packages\\matplotlib\\cbook\\__init__.py:1402: FutureWarning: Support for multi-dimensional indexing (e.g. `obj[:, None]`) is deprecated and will be removed in a future version.  Convert to a numpy array before indexing instead.\n",
      "  ndim = x[:, None].ndim\n",
      "C:\\Users\\Admin\\Miniconda3\\envs\\IntroML\\lib\\site-packages\\matplotlib\\axes\\_base.py:276: FutureWarning: Support for multi-dimensional indexing (e.g. `obj[:, None]`) is deprecated and will be removed in a future version.  Convert to a numpy array before indexing instead.\n",
      "  x = x[:, np.newaxis]\n",
      "C:\\Users\\Admin\\Miniconda3\\envs\\IntroML\\lib\\site-packages\\matplotlib\\axes\\_base.py:278: FutureWarning: Support for multi-dimensional indexing (e.g. `obj[:, None]`) is deprecated and will be removed in a future version.  Convert to a numpy array before indexing instead.\n",
      "  y = y[:, np.newaxis]\n"
     ]
    },
    {
     "data": {
      "text/plain": [
       "<matplotlib.axes._subplots.AxesSubplot at 0x259ba341df0>"
      ]
     },
     "execution_count": 158,
     "metadata": {},
     "output_type": "execute_result"
    },
    {
     "data": {
      "image/png": "[encoded data removed]",
      "text/plain": [
       "<Figure size 432x288 with 1 Axes>"
      ]
     },
     "metadata": {
      "needs_background": "light"
     },
     "output_type": "display_data"
    }
   ],
   "source": [
    "sns.distplot(df.ArmsexportsSIPRItrendindica.dropna(), fit=norm)"
   ]
  },
  {
   "cell_type": "markdown",
   "metadata": {},
   "source": [
    "#### Conclusion:\n",
    "p-value < 0.05 => H1 is accepted at 5%"
   ]
  },
  {
   "cell_type": "markdown",
   "metadata": {},
   "source": [
    "### TaxesonexportscurrentLCU\n",
    "There are only few records of this var, so Shapiro has to be used"
   ]
  },
  {
   "cell_type": "code",
   "execution_count": 159,
   "metadata": {},
   "outputs": [
    {
     "data": {
      "text/plain": [
       "ShapiroResult(statistic=0.35919511318206787, pvalue=7.956933778530129e-09)"
      ]
     },
     "execution_count": 159,
     "metadata": {},
     "output_type": "execute_result"
    }
   ],
   "source": [
    "stats.shapiro(df.TaxesonexportscurrentLCU.dropna())"
   ]
  },
  {
   "cell_type": "code",
   "execution_count": 160,
   "metadata": {},
   "outputs": [
    {
     "name": "stderr",
     "output_type": "stream",
     "text": [
      "C:\\Users\\Admin\\Miniconda3\\envs\\IntroML\\lib\\site-packages\\seaborn\\distributions.py:2619: FutureWarning: `distplot` is a deprecated function and will be removed in a future version. Please adapt your code to use either `displot` (a figure-level function with similar flexibility) or `histplot` (an axes-level function for histograms).\n",
      "  warnings.warn(msg, FutureWarning)\n",
      "C:\\Users\\Admin\\Miniconda3\\envs\\IntroML\\lib\\site-packages\\matplotlib\\cbook\\__init__.py:1402: FutureWarning: Support for multi-dimensional indexing (e.g. `obj[:, None]`) is deprecated and will be removed in a future version.  Convert to a numpy array before indexing instead.\n",
      "  ndim = x[:, None].ndim\n",
      "C:\\Users\\Admin\\Miniconda3\\envs\\IntroML\\lib\\site-packages\\matplotlib\\axes\\_base.py:276: FutureWarning: Support for multi-dimensional indexing (e.g. `obj[:, None]`) is deprecated and will be removed in a future version.  Convert to a numpy array before indexing instead.\n",
      "  x = x[:, np.newaxis]\n",
      "C:\\Users\\Admin\\Miniconda3\\envs\\IntroML\\lib\\site-packages\\matplotlib\\axes\\_base.py:278: FutureWarning: Support for multi-dimensional indexing (e.g. `obj[:, None]`) is deprecated and will be removed in a future version.  Convert to a numpy array before indexing instead.\n",
      "  y = y[:, np.newaxis]\n"
     ]
    },
    {
     "data": {
      "text/plain": [
       "<matplotlib.axes._subplots.AxesSubplot at 0x259ba5dd5b0>"
      ]
     },
     "execution_count": 160,
     "metadata": {},
     "output_type": "execute_result"
    },
    {
     "data": {
      "image/png": "[encoded data removed]",
      "text/plain": [
       "<Figure size 432x288 with 1 Axes>"
      ]
     },
     "metadata": {
      "needs_background": "light"
     },
     "output_type": "display_data"
    }
   ],
   "source": [
    "sns.distplot(df.TaxesonexportscurrentLCU.dropna(), fit=norm)"
   ]
  },
  {
   "cell_type": "markdown",
   "metadata": {},
   "source": [
    "#### Conclusion:\n",
    "p-value < 0.05 => H1 is accepted at 5%"
   ]
  },
  {
   "cell_type": "markdown",
   "metadata": {},
   "source": [
    "### For all other vars Kolmogorov has to be used (enough quantity of vars for this)"
   ]
  },
  {
   "cell_type": "markdown",
   "metadata": {},
   "source": [
    "### Agriculturalrawmaterialsexpor"
   ]
  },
  {
   "cell_type": "code",
   "execution_count": 161,
   "metadata": {},
   "outputs": [
    {
     "data": {
      "text/plain": [
       "KstestResult(statistic=0.347901815635626, pvalue=3.924587324163506e-14)"
      ]
     },
     "execution_count": 161,
     "metadata": {},
     "output_type": "execute_result"
    }
   ],
   "source": [
    "stats.kstest(df.Agriculturalrawmaterialsexpor.dropna(), 'norm', args=(df.Agriculturalrawmaterialsexpor.dropna().mean(), df.Agriculturalrawmaterialsexpor.dropna().std()))"
   ]
  },
  {
   "cell_type": "code",
   "execution_count": 162,
   "metadata": {},
   "outputs": [
    {
     "name": "stderr",
     "output_type": "stream",
     "text": [
      "C:\\Users\\Admin\\Miniconda3\\envs\\IntroML\\lib\\site-packages\\seaborn\\distributions.py:2619: FutureWarning: `distplot` is a deprecated function and will be removed in a future version. Please adapt your code to use either `displot` (a figure-level function with similar flexibility) or `histplot` (an axes-level function for histograms).\n",
      "  warnings.warn(msg, FutureWarning)\n",
      "C:\\Users\\Admin\\Miniconda3\\envs\\IntroML\\lib\\site-packages\\matplotlib\\cbook\\__init__.py:1402: FutureWarning: Support for multi-dimensional indexing (e.g. `obj[:, None]`) is deprecated and will be removed in a future version.  Convert to a numpy array before indexing instead.\n",
      "  ndim = x[:, None].ndim\n",
      "C:\\Users\\Admin\\Miniconda3\\envs\\IntroML\\lib\\site-packages\\matplotlib\\axes\\_base.py:276: FutureWarning: Support for multi-dimensional indexing (e.g. `obj[:, None]`) is deprecated and will be removed in a future version.  Convert to a numpy array before indexing instead.\n",
      "  x = x[:, np.newaxis]\n",
      "C:\\Users\\Admin\\Miniconda3\\envs\\IntroML\\lib\\site-packages\\matplotlib\\axes\\_base.py:278: FutureWarning: Support for multi-dimensional indexing (e.g. `obj[:, None]`) is deprecated and will be removed in a future version.  Convert to a numpy array before indexing instead.\n",
      "  y = y[:, np.newaxis]\n"
     ]
    },
    {
     "data": {
      "text/plain": [
       "<matplotlib.axes._subplots.AxesSubplot at 0x259bb9a1400>"
      ]
     },
     "execution_count": 162,
     "metadata": {},
     "output_type": "execute_result"
    },
    {
     "data": {
      "image/png": "[encoded data removed]",
      "text/plain": [
       "<Figure size 432x288 with 1 Axes>"
      ]
     },
     "metadata": {
      "needs_background": "light"
     },
     "output_type": "display_data"
    }
   ],
   "source": [
    "sns.distplot(df.Agriculturalrawmaterialsexpor.dropna(), fit=norm)"
   ]
  },
  {
   "cell_type": "markdown",
   "metadata": {},
   "source": [
    "#### Conclusion:\n",
    "p-value < 0.05 => H1 is accepted at 5%"
   ]
  },
  {
   "cell_type": "markdown",
   "metadata": {},
   "source": [
    "### Commercialserviceexportscurr"
   ]
  },
  {
   "cell_type": "code",
   "execution_count": 163,
   "metadata": {},
   "outputs": [
    {
     "data": {
      "text/plain": [
       "KstestResult(statistic=0.34785581150990785, pvalue=3.0805246924684517e-18)"
      ]
     },
     "execution_count": 163,
     "metadata": {},
     "output_type": "execute_result"
    }
   ],
   "source": [
    "stats.kstest(df.Commercialserviceexportscurr.dropna(), 'norm', args=(df.Commercialserviceexportscurr.dropna().mean(), df.Commercialserviceexportscurr.dropna().std()))"
   ]
  },
  {
   "cell_type": "code",
   "execution_count": 164,
   "metadata": {},
   "outputs": [
    {
     "name": "stderr",
     "output_type": "stream",
     "text": [
      "C:\\Users\\Admin\\Miniconda3\\envs\\IntroML\\lib\\site-packages\\seaborn\\distributions.py:2619: FutureWarning: `distplot` is a deprecated function and will be removed in a future version. Please adapt your code to use either `displot` (a figure-level function with similar flexibility) or `histplot` (an axes-level function for histograms).\n",
      "  warnings.warn(msg, FutureWarning)\n",
      "C:\\Users\\Admin\\Miniconda3\\envs\\IntroML\\lib\\site-packages\\matplotlib\\cbook\\__init__.py:1402: FutureWarning: Support for multi-dimensional indexing (e.g. `obj[:, None]`) is deprecated and will be removed in a future version.  Convert to a numpy array before indexing instead.\n",
      "  ndim = x[:, None].ndim\n",
      "C:\\Users\\Admin\\Miniconda3\\envs\\IntroML\\lib\\site-packages\\matplotlib\\axes\\_base.py:276: FutureWarning: Support for multi-dimensional indexing (e.g. `obj[:, None]`) is deprecated and will be removed in a future version.  Convert to a numpy array before indexing instead.\n",
      "  x = x[:, np.newaxis]\n",
      "C:\\Users\\Admin\\Miniconda3\\envs\\IntroML\\lib\\site-packages\\matplotlib\\axes\\_base.py:278: FutureWarning: Support for multi-dimensional indexing (e.g. `obj[:, None]`) is deprecated and will be removed in a future version.  Convert to a numpy array before indexing instead.\n",
      "  y = y[:, np.newaxis]\n"
     ]
    },
    {
     "data": {
      "text/plain": [
       "<matplotlib.axes._subplots.AxesSubplot at 0x259ba25c400>"
      ]
     },
     "execution_count": 164,
     "metadata": {},
     "output_type": "execute_result"
    },
    {
     "data": {
      "image/png": "[encoded data removed]",
      "text/plain": [
       "<Figure size 432x288 with 1 Axes>"
      ]
     },
     "metadata": {
      "needs_background": "light"
     },
     "output_type": "display_data"
    }
   ],
   "source": [
    "sns.distplot(df.Commercialserviceexportscurr.dropna(), fit=norm)"
   ]
  },
  {
   "cell_type": "markdown",
   "metadata": {},
   "source": [
    "#### Conclusion:\n",
    "p-value < 0.05 => H1 is accepted at 5%"
   ]
  },
  {
   "cell_type": "markdown",
   "metadata": {},
   "source": [
    "### Communicationscomputeretc"
   ]
  },
  {
   "cell_type": "code",
   "execution_count": 165,
   "metadata": {},
   "outputs": [
    {
     "data": {
      "text/plain": [
       "KstestResult(statistic=0.1562162181400641, pvalue=0.0007438419048175456)"
      ]
     },
     "execution_count": 165,
     "metadata": {},
     "output_type": "execute_result"
    }
   ],
   "source": [
    "stats.kstest(df.Communicationscomputeretc.dropna(), 'norm', args=(df.Communicationscomputeretc.dropna().mean(), df.Communicationscomputeretc.dropna().std()))"
   ]
  },
  {
   "cell_type": "code",
   "execution_count": 166,
   "metadata": {},
   "outputs": [
    {
     "name": "stderr",
     "output_type": "stream",
     "text": [
      "C:\\Users\\Admin\\Miniconda3\\envs\\IntroML\\lib\\site-packages\\seaborn\\distributions.py:2619: FutureWarning: `distplot` is a deprecated function and will be removed in a future version. Please adapt your code to use either `displot` (a figure-level function with similar flexibility) or `histplot` (an axes-level function for histograms).\n",
      "  warnings.warn(msg, FutureWarning)\n",
      "C:\\Users\\Admin\\Miniconda3\\envs\\IntroML\\lib\\site-packages\\matplotlib\\cbook\\__init__.py:1402: FutureWarning: Support for multi-dimensional indexing (e.g. `obj[:, None]`) is deprecated and will be removed in a future version.  Convert to a numpy array before indexing instead.\n",
      "  ndim = x[:, None].ndim\n",
      "C:\\Users\\Admin\\Miniconda3\\envs\\IntroML\\lib\\site-packages\\matplotlib\\axes\\_base.py:276: FutureWarning: Support for multi-dimensional indexing (e.g. `obj[:, None]`) is deprecated and will be removed in a future version.  Convert to a numpy array before indexing instead.\n",
      "  x = x[:, np.newaxis]\n",
      "C:\\Users\\Admin\\Miniconda3\\envs\\IntroML\\lib\\site-packages\\matplotlib\\axes\\_base.py:278: FutureWarning: Support for multi-dimensional indexing (e.g. `obj[:, None]`) is deprecated and will be removed in a future version.  Convert to a numpy array before indexing instead.\n",
      "  y = y[:, np.newaxis]\n"
     ]
    },
    {
     "data": {
      "text/plain": [
       "<matplotlib.axes._subplots.AxesSubplot at 0x259ba384e80>"
      ]
     },
     "execution_count": 166,
     "metadata": {},
     "output_type": "execute_result"
    },
    {
     "data": {
      "image/png": "[encoded data removed]",
      "text/plain": [
       "<Figure size 432x288 with 1 Axes>"
      ]
     },
     "metadata": {
      "needs_background": "light"
     },
     "output_type": "display_data"
    }
   ],
   "source": [
    "sns.distplot(df.Communicationscomputeretc.dropna(), fit=norm)"
   ]
  },
  {
   "cell_type": "markdown",
   "metadata": {},
   "source": [
    "#### Conclusion:\n",
    "p-value < 0.05 => H1 is accepted at 5%"
   ]
  },
  {
   "cell_type": "markdown",
   "metadata": {},
   "source": [
    "### Exportsofgoodsandservices"
   ]
  },
  {
   "cell_type": "code",
   "execution_count": 167,
   "metadata": {},
   "outputs": [
    {
     "data": {
      "text/plain": [
       "KstestResult(statistic=0.15285627907323168, pvalue=0.0006817498553572166)"
      ]
     },
     "execution_count": 167,
     "metadata": {},
     "output_type": "execute_result"
    }
   ],
   "source": [
    "stats.kstest(df.Exportsofgoodsandservices.dropna(), 'norm', args=(df.Exportsofgoodsandservices.dropna().mean(), df.Exportsofgoodsandservices.dropna().std()))"
   ]
  },
  {
   "cell_type": "code",
   "execution_count": 168,
   "metadata": {},
   "outputs": [
    {
     "name": "stderr",
     "output_type": "stream",
     "text": [
      "C:\\Users\\Admin\\Miniconda3\\envs\\IntroML\\lib\\site-packages\\seaborn\\distributions.py:2619: FutureWarning: `distplot` is a deprecated function and will be removed in a future version. Please adapt your code to use either `displot` (a figure-level function with similar flexibility) or `histplot` (an axes-level function for histograms).\n",
      "  warnings.warn(msg, FutureWarning)\n",
      "C:\\Users\\Admin\\Miniconda3\\envs\\IntroML\\lib\\site-packages\\matplotlib\\cbook\\__init__.py:1402: FutureWarning: Support for multi-dimensional indexing (e.g. `obj[:, None]`) is deprecated and will be removed in a future version.  Convert to a numpy array before indexing instead.\n",
      "  ndim = x[:, None].ndim\n",
      "C:\\Users\\Admin\\Miniconda3\\envs\\IntroML\\lib\\site-packages\\matplotlib\\axes\\_base.py:276: FutureWarning: Support for multi-dimensional indexing (e.g. `obj[:, None]`) is deprecated and will be removed in a future version.  Convert to a numpy array before indexing instead.\n",
      "  x = x[:, np.newaxis]\n",
      "C:\\Users\\Admin\\Miniconda3\\envs\\IntroML\\lib\\site-packages\\matplotlib\\axes\\_base.py:278: FutureWarning: Support for multi-dimensional indexing (e.g. `obj[:, None]`) is deprecated and will be removed in a future version.  Convert to a numpy array before indexing instead.\n",
      "  y = y[:, np.newaxis]\n"
     ]
    },
    {
     "data": {
      "text/plain": [
       "<matplotlib.axes._subplots.AxesSubplot at 0x259ba709f70>"
      ]
     },
     "execution_count": 168,
     "metadata": {},
     "output_type": "execute_result"
    },
    {
     "data": {
      "image/png": "[encoded data removed]",
      "text/plain": [
       "<Figure size 432x288 with 1 Axes>"
      ]
     },
     "metadata": {
      "needs_background": "light"
     },
     "output_type": "display_data"
    }
   ],
   "source": [
    "sns.distplot(df.Exportsofgoodsandservices.dropna(), fit=norm)"
   ]
  },
  {
   "cell_type": "markdown",
   "metadata": {},
   "source": [
    "#### Conclusion:\n",
    "p-value < 0.05 => H1 is accepted at 5%"
   ]
  },
  {
   "cell_type": "markdown",
   "metadata": {},
   "source": [
    "### Exportsofgoodsandservicesa"
   ]
  },
  {
   "cell_type": "code",
   "execution_count": 169,
   "metadata": {},
   "outputs": [
    {
     "data": {
      "text/plain": [
       "KstestResult(statistic=0.14407431134364282, pvalue=0.003372499642179317)"
      ]
     },
     "execution_count": 169,
     "metadata": {},
     "output_type": "execute_result"
    }
   ],
   "source": [
    "stats.kstest(df.Exportsofgoodsandservicesa.dropna(), 'norm', args=(df.Exportsofgoodsandservicesa.dropna().mean(), df.Exportsofgoodsandservicesa.dropna().std()))"
   ]
  },
  {
   "cell_type": "code",
   "execution_count": 170,
   "metadata": {},
   "outputs": [
    {
     "name": "stderr",
     "output_type": "stream",
     "text": [
      "C:\\Users\\Admin\\Miniconda3\\envs\\IntroML\\lib\\site-packages\\seaborn\\distributions.py:2619: FutureWarning: `distplot` is a deprecated function and will be removed in a future version. Please adapt your code to use either `displot` (a figure-level function with similar flexibility) or `histplot` (an axes-level function for histograms).\n",
      "  warnings.warn(msg, FutureWarning)\n",
      "C:\\Users\\Admin\\Miniconda3\\envs\\IntroML\\lib\\site-packages\\matplotlib\\cbook\\__init__.py:1402: FutureWarning: Support for multi-dimensional indexing (e.g. `obj[:, None]`) is deprecated and will be removed in a future version.  Convert to a numpy array before indexing instead.\n",
      "  ndim = x[:, None].ndim\n",
      "C:\\Users\\Admin\\Miniconda3\\envs\\IntroML\\lib\\site-packages\\matplotlib\\axes\\_base.py:276: FutureWarning: Support for multi-dimensional indexing (e.g. `obj[:, None]`) is deprecated and will be removed in a future version.  Convert to a numpy array before indexing instead.\n",
      "  x = x[:, np.newaxis]\n",
      "C:\\Users\\Admin\\Miniconda3\\envs\\IntroML\\lib\\site-packages\\matplotlib\\axes\\_base.py:278: FutureWarning: Support for multi-dimensional indexing (e.g. `obj[:, None]`) is deprecated and will be removed in a future version.  Convert to a numpy array before indexing instead.\n",
      "  y = y[:, np.newaxis]\n"
     ]
    },
    {
     "data": {
      "text/plain": [
       "<matplotlib.axes._subplots.AxesSubplot at 0x259ba5701c0>"
      ]
     },
     "execution_count": 170,
     "metadata": {},
     "output_type": "execute_result"
    },
    {
     "data": {
      "image/png": "[encoded data removed]",
      "text/plain": [
       "<Figure size 432x288 with 1 Axes>"
      ]
     },
     "metadata": {
      "needs_background": "light"
     },
     "output_type": "display_data"
    }
   ],
   "source": [
    "sns.distplot(df.Exportsofgoodsandservices.dropna(), fit=norm)"
   ]
  },
  {
   "cell_type": "markdown",
   "metadata": {},
   "source": [
    "#### Conclusion:\n",
    "p-value < 0.05 => H1 is accepted at 5%"
   ]
  },
  {
   "cell_type": "markdown",
   "metadata": {},
   "source": [
    "### ExportsofgoodsandservicesB"
   ]
  },
  {
   "cell_type": "code",
   "execution_count": 171,
   "metadata": {},
   "outputs": [
    {
     "data": {
      "text/plain": [
       "KstestResult(statistic=0.3433803216440361, pvalue=1.1514894951816901e-17)"
      ]
     },
     "execution_count": 171,
     "metadata": {},
     "output_type": "execute_result"
    }
   ],
   "source": [
    "stats.kstest(df.ExportsofgoodsandservicesB.dropna(), 'norm', args=(df.ExportsofgoodsandservicesB.dropna().mean(), df.ExportsofgoodsandservicesB.dropna().std()))"
   ]
  },
  {
   "cell_type": "code",
   "execution_count": 172,
   "metadata": {},
   "outputs": [
    {
     "name": "stderr",
     "output_type": "stream",
     "text": [
      "C:\\Users\\Admin\\Miniconda3\\envs\\IntroML\\lib\\site-packages\\seaborn\\distributions.py:2619: FutureWarning: `distplot` is a deprecated function and will be removed in a future version. Please adapt your code to use either `displot` (a figure-level function with similar flexibility) or `histplot` (an axes-level function for histograms).\n",
      "  warnings.warn(msg, FutureWarning)\n",
      "C:\\Users\\Admin\\Miniconda3\\envs\\IntroML\\lib\\site-packages\\matplotlib\\cbook\\__init__.py:1402: FutureWarning: Support for multi-dimensional indexing (e.g. `obj[:, None]`) is deprecated and will be removed in a future version.  Convert to a numpy array before indexing instead.\n",
      "  ndim = x[:, None].ndim\n",
      "C:\\Users\\Admin\\Miniconda3\\envs\\IntroML\\lib\\site-packages\\matplotlib\\axes\\_base.py:276: FutureWarning: Support for multi-dimensional indexing (e.g. `obj[:, None]`) is deprecated and will be removed in a future version.  Convert to a numpy array before indexing instead.\n",
      "  x = x[:, np.newaxis]\n",
      "C:\\Users\\Admin\\Miniconda3\\envs\\IntroML\\lib\\site-packages\\matplotlib\\axes\\_base.py:278: FutureWarning: Support for multi-dimensional indexing (e.g. `obj[:, None]`) is deprecated and will be removed in a future version.  Convert to a numpy array before indexing instead.\n",
      "  y = y[:, np.newaxis]\n"
     ]
    },
    {
     "data": {
      "text/plain": [
       "<matplotlib.axes._subplots.AxesSubplot at 0x259ba6f48b0>"
      ]
     },
     "execution_count": 172,
     "metadata": {},
     "output_type": "execute_result"
    },
    {
     "data": {
      "image/png": "[encoded data removed]",
      "text/plain": [
       "<Figure size 432x288 with 1 Axes>"
      ]
     },
     "metadata": {
      "needs_background": "light"
     },
     "output_type": "display_data"
    }
   ],
   "source": [
    "sns.distplot(df.ExportsofgoodsandservicesB.dropna(), fit=norm)"
   ]
  },
  {
   "cell_type": "markdown",
   "metadata": {},
   "source": [
    "#### Conclusion:\n",
    "p-value < 0.05 => H1 is accepted at 5%"
   ]
  },
  {
   "cell_type": "markdown",
   "metadata": {},
   "source": [
    "### Exportsofgoodsandservicesc"
   ]
  },
  {
   "cell_type": "code",
   "execution_count": 173,
   "metadata": {},
   "outputs": [
    {
     "data": {
      "text/plain": [
       "KstestResult(statistic=0.3192800808776206, pvalue=6.424771504699146e-14)"
      ]
     },
     "execution_count": 173,
     "metadata": {},
     "output_type": "execute_result"
    }
   ],
   "source": [
    "stats.kstest(df.Exportsofgoodsandservicesc.dropna(), 'norm', args=(df.Exportsofgoodsandservicesc.dropna().mean(), df.Exportsofgoodsandservicesc.dropna().std()))"
   ]
  },
  {
   "cell_type": "code",
   "execution_count": 174,
   "metadata": {},
   "outputs": [
    {
     "name": "stderr",
     "output_type": "stream",
     "text": [
      "C:\\Users\\Admin\\Miniconda3\\envs\\IntroML\\lib\\site-packages\\seaborn\\distributions.py:2619: FutureWarning: `distplot` is a deprecated function and will be removed in a future version. Please adapt your code to use either `displot` (a figure-level function with similar flexibility) or `histplot` (an axes-level function for histograms).\n",
      "  warnings.warn(msg, FutureWarning)\n",
      "C:\\Users\\Admin\\Miniconda3\\envs\\IntroML\\lib\\site-packages\\matplotlib\\cbook\\__init__.py:1402: FutureWarning: Support for multi-dimensional indexing (e.g. `obj[:, None]`) is deprecated and will be removed in a future version.  Convert to a numpy array before indexing instead.\n",
      "  ndim = x[:, None].ndim\n",
      "C:\\Users\\Admin\\Miniconda3\\envs\\IntroML\\lib\\site-packages\\matplotlib\\axes\\_base.py:276: FutureWarning: Support for multi-dimensional indexing (e.g. `obj[:, None]`) is deprecated and will be removed in a future version.  Convert to a numpy array before indexing instead.\n",
      "  x = x[:, np.newaxis]\n",
      "C:\\Users\\Admin\\Miniconda3\\envs\\IntroML\\lib\\site-packages\\matplotlib\\axes\\_base.py:278: FutureWarning: Support for multi-dimensional indexing (e.g. `obj[:, None]`) is deprecated and will be removed in a future version.  Convert to a numpy array before indexing instead.\n",
      "  y = y[:, np.newaxis]\n"
     ]
    },
    {
     "data": {
      "text/plain": [
       "<matplotlib.axes._subplots.AxesSubplot at 0x259ba693e50>"
      ]
     },
     "execution_count": 174,
     "metadata": {},
     "output_type": "execute_result"
    },
    {
     "data": {
      "image/png": "[encoded data removed]",
      "text/plain": [
       "<Figure size 432x288 with 1 Axes>"
      ]
     },
     "metadata": {
      "needs_background": "light"
     },
     "output_type": "display_data"
    }
   ],
   "source": [
    "sns.distplot(df.Exportsofgoodsandservicesc.dropna(), fit=norm)"
   ]
  },
  {
   "cell_type": "markdown",
   "metadata": {},
   "source": [
    "#### Conclusion:\n",
    "p-value < 0.05 => H1 is accepted at 5%"
   ]
  },
  {
   "cell_type": "markdown",
   "metadata": {},
   "source": [
    "### Foodexportsofmerchandisee"
   ]
  },
  {
   "cell_type": "code",
   "execution_count": 175,
   "metadata": {},
   "outputs": [
    {
     "data": {
      "text/plain": [
       "KstestResult(statistic=0.18878026625365685, pvalue=0.00019490955827101332)"
      ]
     },
     "execution_count": 175,
     "metadata": {},
     "output_type": "execute_result"
    }
   ],
   "source": [
    "stats.kstest(df.Foodexportsofmerchandisee.dropna(), 'norm', args=(df.Foodexportsofmerchandisee.dropna().mean(), df.Foodexportsofmerchandisee.dropna().std()))"
   ]
  },
  {
   "cell_type": "code",
   "execution_count": 176,
   "metadata": {},
   "outputs": [
    {
     "name": "stderr",
     "output_type": "stream",
     "text": [
      "C:\\Users\\Admin\\Miniconda3\\envs\\IntroML\\lib\\site-packages\\seaborn\\distributions.py:2619: FutureWarning: `distplot` is a deprecated function and will be removed in a future version. Please adapt your code to use either `displot` (a figure-level function with similar flexibility) or `histplot` (an axes-level function for histograms).\n",
      "  warnings.warn(msg, FutureWarning)\n",
      "C:\\Users\\Admin\\Miniconda3\\envs\\IntroML\\lib\\site-packages\\matplotlib\\cbook\\__init__.py:1402: FutureWarning: Support for multi-dimensional indexing (e.g. `obj[:, None]`) is deprecated and will be removed in a future version.  Convert to a numpy array before indexing instead.\n",
      "  ndim = x[:, None].ndim\n",
      "C:\\Users\\Admin\\Miniconda3\\envs\\IntroML\\lib\\site-packages\\matplotlib\\axes\\_base.py:276: FutureWarning: Support for multi-dimensional indexing (e.g. `obj[:, None]`) is deprecated and will be removed in a future version.  Convert to a numpy array before indexing instead.\n",
      "  x = x[:, np.newaxis]\n",
      "C:\\Users\\Admin\\Miniconda3\\envs\\IntroML\\lib\\site-packages\\matplotlib\\axes\\_base.py:278: FutureWarning: Support for multi-dimensional indexing (e.g. `obj[:, None]`) is deprecated and will be removed in a future version.  Convert to a numpy array before indexing instead.\n",
      "  y = y[:, np.newaxis]\n"
     ]
    },
    {
     "data": {
      "text/plain": [
       "<matplotlib.axes._subplots.AxesSubplot at 0x259bbaaac40>"
      ]
     },
     "execution_count": 176,
     "metadata": {},
     "output_type": "execute_result"
    },
    {
     "data": {
      "image/png": "[encoded data removed]",
      "text/plain": [
       "<Figure size 432x288 with 1 Axes>"
      ]
     },
     "metadata": {
      "needs_background": "light"
     },
     "output_type": "display_data"
    }
   ],
   "source": [
    "sns.distplot(df.Foodexportsofmerchandisee.dropna(), fit=norm)"
   ]
  },
  {
   "cell_type": "markdown",
   "metadata": {},
   "source": [
    "#### Conclusion:\n",
    "p-value < 0.05 => H1 is accepted at 5%"
   ]
  },
  {
   "cell_type": "markdown",
   "metadata": {},
   "source": [
    "### GoodsexportsBoPcurrentUS"
   ]
  },
  {
   "cell_type": "code",
   "execution_count": 177,
   "metadata": {},
   "outputs": [
    {
     "data": {
      "text/plain": [
       "KstestResult(statistic=0.35016340109411437, pvalue=1.757931817913572e-18)"
      ]
     },
     "execution_count": 177,
     "metadata": {},
     "output_type": "execute_result"
    }
   ],
   "source": [
    "stats.kstest(df.GoodsexportsBoPcurrentUS.dropna(), 'norm', args=(df.GoodsexportsBoPcurrentUS.dropna().mean(), df.GoodsexportsBoPcurrentUS.dropna().std()))"
   ]
  },
  {
   "cell_type": "code",
   "execution_count": 178,
   "metadata": {},
   "outputs": [
    {
     "name": "stderr",
     "output_type": "stream",
     "text": [
      "C:\\Users\\Admin\\Miniconda3\\envs\\IntroML\\lib\\site-packages\\seaborn\\distributions.py:2619: FutureWarning: `distplot` is a deprecated function and will be removed in a future version. Please adapt your code to use either `displot` (a figure-level function with similar flexibility) or `histplot` (an axes-level function for histograms).\n",
      "  warnings.warn(msg, FutureWarning)\n",
      "C:\\Users\\Admin\\Miniconda3\\envs\\IntroML\\lib\\site-packages\\matplotlib\\cbook\\__init__.py:1402: FutureWarning: Support for multi-dimensional indexing (e.g. `obj[:, None]`) is deprecated and will be removed in a future version.  Convert to a numpy array before indexing instead.\n",
      "  ndim = x[:, None].ndim\n",
      "C:\\Users\\Admin\\Miniconda3\\envs\\IntroML\\lib\\site-packages\\matplotlib\\axes\\_base.py:276: FutureWarning: Support for multi-dimensional indexing (e.g. `obj[:, None]`) is deprecated and will be removed in a future version.  Convert to a numpy array before indexing instead.\n",
      "  x = x[:, np.newaxis]\n",
      "C:\\Users\\Admin\\Miniconda3\\envs\\IntroML\\lib\\site-packages\\matplotlib\\axes\\_base.py:278: FutureWarning: Support for multi-dimensional indexing (e.g. `obj[:, None]`) is deprecated and will be removed in a future version.  Convert to a numpy array before indexing instead.\n",
      "  y = y[:, np.newaxis]\n"
     ]
    },
    {
     "data": {
      "text/plain": [
       "<matplotlib.axes._subplots.AxesSubplot at 0x259bbb2b130>"
      ]
     },
     "execution_count": 178,
     "metadata": {},
     "output_type": "execute_result"
    },
    {
     "data": {
      "image/png": "[encoded data removed]",
      "text/plain": [
       "<Figure size 432x288 with 1 Axes>"
      ]
     },
     "metadata": {
      "needs_background": "light"
     },
     "output_type": "display_data"
    }
   ],
   "source": [
    "sns.distplot(df.GoodsexportsBoPcurrentUS.dropna(), fit=norm)"
   ]
  },
  {
   "cell_type": "markdown",
   "metadata": {},
   "source": [
    "#### Conclusion:\n",
    "p-value < 0.05 => H1 is accepted at 5%"
   ]
  },
  {
   "cell_type": "markdown",
   "metadata": {},
   "source": [
    "### Fuelexportsofmerchandisee"
   ]
  },
  {
   "cell_type": "code",
   "execution_count": 179,
   "metadata": {},
   "outputs": [
    {
     "data": {
      "text/plain": [
       "KstestResult(statistic=0.2541243675211682, pvalue=1.967425472082898e-07)"
      ]
     },
     "execution_count": 179,
     "metadata": {},
     "output_type": "execute_result"
    }
   ],
   "source": [
    "stats.kstest(df.Fuelexportsofmerchandisee.dropna(), 'norm', args=(df.Fuelexportsofmerchandisee.dropna().mean(), df.Fuelexportsofmerchandisee.dropna().std()))"
   ]
  },
  {
   "cell_type": "code",
   "execution_count": 180,
   "metadata": {},
   "outputs": [
    {
     "name": "stderr",
     "output_type": "stream",
     "text": [
      "C:\\Users\\Admin\\Miniconda3\\envs\\IntroML\\lib\\site-packages\\seaborn\\distributions.py:2619: FutureWarning: `distplot` is a deprecated function and will be removed in a future version. Please adapt your code to use either `displot` (a figure-level function with similar flexibility) or `histplot` (an axes-level function for histograms).\n",
      "  warnings.warn(msg, FutureWarning)\n",
      "C:\\Users\\Admin\\Miniconda3\\envs\\IntroML\\lib\\site-packages\\matplotlib\\cbook\\__init__.py:1402: FutureWarning: Support for multi-dimensional indexing (e.g. `obj[:, None]`) is deprecated and will be removed in a future version.  Convert to a numpy array before indexing instead.\n",
      "  ndim = x[:, None].ndim\n",
      "C:\\Users\\Admin\\Miniconda3\\envs\\IntroML\\lib\\site-packages\\matplotlib\\axes\\_base.py:276: FutureWarning: Support for multi-dimensional indexing (e.g. `obj[:, None]`) is deprecated and will be removed in a future version.  Convert to a numpy array before indexing instead.\n",
      "  x = x[:, np.newaxis]\n",
      "C:\\Users\\Admin\\Miniconda3\\envs\\IntroML\\lib\\site-packages\\matplotlib\\axes\\_base.py:278: FutureWarning: Support for multi-dimensional indexing (e.g. `obj[:, None]`) is deprecated and will be removed in a future version.  Convert to a numpy array before indexing instead.\n",
      "  y = y[:, np.newaxis]\n"
     ]
    },
    {
     "data": {
      "text/plain": [
       "<matplotlib.axes._subplots.AxesSubplot at 0x259bbbf7670>"
      ]
     },
     "execution_count": 180,
     "metadata": {},
     "output_type": "execute_result"
    },
    {
     "data": {
      "image/png": "[encoded data removed]",
      "text/plain": [
       "<Figure size 432x288 with 1 Axes>"
      ]
     },
     "metadata": {
      "needs_background": "light"
     },
     "output_type": "display_data"
    }
   ],
   "source": [
    "sns.distplot(df.Fuelexportsofmerchandisee.dropna(), fit=norm)"
   ]
  },
  {
   "cell_type": "markdown",
   "metadata": {},
   "source": [
    "#### Conclusion:\n",
    "p-value < 0.05 => H1 is accepted at 5%"
   ]
  },
  {
   "cell_type": "markdown",
   "metadata": {},
   "source": [
    "### Hightechnologyexportsofma"
   ]
  },
  {
   "cell_type": "code",
   "execution_count": 181,
   "metadata": {},
   "outputs": [
    {
     "data": {
      "text/plain": [
       "KstestResult(statistic=0.1705463612603269, pvalue=0.003055769090921867)"
      ]
     },
     "execution_count": 181,
     "metadata": {},
     "output_type": "execute_result"
    }
   ],
   "source": [
    "stats.kstest(df.Hightechnologyexportsofma.dropna(), 'norm', args=(df.Hightechnologyexportsofma.dropna().mean(), df.Hightechnologyexportsofma.dropna().std()))"
   ]
  },
  {
   "cell_type": "code",
   "execution_count": 182,
   "metadata": {},
   "outputs": [
    {
     "name": "stderr",
     "output_type": "stream",
     "text": [
      "C:\\Users\\Admin\\Miniconda3\\envs\\IntroML\\lib\\site-packages\\seaborn\\distributions.py:2619: FutureWarning: `distplot` is a deprecated function and will be removed in a future version. Please adapt your code to use either `displot` (a figure-level function with similar flexibility) or `histplot` (an axes-level function for histograms).\n",
      "  warnings.warn(msg, FutureWarning)\n",
      "C:\\Users\\Admin\\Miniconda3\\envs\\IntroML\\lib\\site-packages\\matplotlib\\cbook\\__init__.py:1402: FutureWarning: Support for multi-dimensional indexing (e.g. `obj[:, None]`) is deprecated and will be removed in a future version.  Convert to a numpy array before indexing instead.\n",
      "  ndim = x[:, None].ndim\n",
      "C:\\Users\\Admin\\Miniconda3\\envs\\IntroML\\lib\\site-packages\\matplotlib\\axes\\_base.py:276: FutureWarning: Support for multi-dimensional indexing (e.g. `obj[:, None]`) is deprecated and will be removed in a future version.  Convert to a numpy array before indexing instead.\n",
      "  x = x[:, np.newaxis]\n",
      "C:\\Users\\Admin\\Miniconda3\\envs\\IntroML\\lib\\site-packages\\matplotlib\\axes\\_base.py:278: FutureWarning: Support for multi-dimensional indexing (e.g. `obj[:, None]`) is deprecated and will be removed in a future version.  Convert to a numpy array before indexing instead.\n",
      "  y = y[:, np.newaxis]\n"
     ]
    },
    {
     "data": {
      "text/plain": [
       "<matplotlib.axes._subplots.AxesSubplot at 0x259bbbabf10>"
      ]
     },
     "execution_count": 182,
     "metadata": {},
     "output_type": "execute_result"
    },
    {
     "data": {
      "image/png": "[encoded data removed]",
      "text/plain": [
       "<Figure size 432x288 with 1 Axes>"
      ]
     },
     "metadata": {
      "needs_background": "light"
     },
     "output_type": "display_data"
    }
   ],
   "source": [
    "sns.distplot(df.Hightechnologyexportsofma.dropna(), fit=norm)"
   ]
  },
  {
   "cell_type": "markdown",
   "metadata": {},
   "source": [
    "#### Conclusion:\n",
    "p-value < 0.05 => H1 is accepted at 5%"
   ]
  },
  {
   "cell_type": "markdown",
   "metadata": {},
   "source": [
    "### Hightechnologyexportscurrent"
   ]
  },
  {
   "cell_type": "code",
   "execution_count": 183,
   "metadata": {},
   "outputs": [
    {
     "data": {
      "text/plain": [
       "KstestResult(statistic=0.3387642810514707, pvalue=1.1547889972290874e-11)"
      ]
     },
     "execution_count": 183,
     "metadata": {},
     "output_type": "execute_result"
    }
   ],
   "source": [
    "stats.kstest(df.Hightechnologyexportscurrent.dropna(), 'norm', args=(df.Hightechnologyexportscurrent.dropna().mean(), df.Hightechnologyexportscurrent.dropna().std()))"
   ]
  },
  {
   "cell_type": "code",
   "execution_count": 184,
   "metadata": {},
   "outputs": [
    {
     "name": "stderr",
     "output_type": "stream",
     "text": [
      "C:\\Users\\Admin\\Miniconda3\\envs\\IntroML\\lib\\site-packages\\seaborn\\distributions.py:2619: FutureWarning: `distplot` is a deprecated function and will be removed in a future version. Please adapt your code to use either `displot` (a figure-level function with similar flexibility) or `histplot` (an axes-level function for histograms).\n",
      "  warnings.warn(msg, FutureWarning)\n",
      "C:\\Users\\Admin\\Miniconda3\\envs\\IntroML\\lib\\site-packages\\matplotlib\\cbook\\__init__.py:1402: FutureWarning: Support for multi-dimensional indexing (e.g. `obj[:, None]`) is deprecated and will be removed in a future version.  Convert to a numpy array before indexing instead.\n",
      "  ndim = x[:, None].ndim\n",
      "C:\\Users\\Admin\\Miniconda3\\envs\\IntroML\\lib\\site-packages\\matplotlib\\axes\\_base.py:276: FutureWarning: Support for multi-dimensional indexing (e.g. `obj[:, None]`) is deprecated and will be removed in a future version.  Convert to a numpy array before indexing instead.\n",
      "  x = x[:, np.newaxis]\n",
      "C:\\Users\\Admin\\Miniconda3\\envs\\IntroML\\lib\\site-packages\\matplotlib\\axes\\_base.py:278: FutureWarning: Support for multi-dimensional indexing (e.g. `obj[:, None]`) is deprecated and will be removed in a future version.  Convert to a numpy array before indexing instead.\n",
      "  y = y[:, np.newaxis]\n"
     ]
    },
    {
     "data": {
      "text/plain": [
       "<matplotlib.axes._subplots.AxesSubplot at 0x259bbd079d0>"
      ]
     },
     "execution_count": 184,
     "metadata": {},
     "output_type": "execute_result"
    },
    {
     "data": {
      "image/png": "[encoded data removed]",
      "text/plain": [
       "<Figure size 432x288 with 1 Axes>"
      ]
     },
     "metadata": {
      "needs_background": "light"
     },
     "output_type": "display_data"
    }
   ],
   "source": [
    "sns.distplot(df.Hightechnologyexportscurrent.dropna(), fit=norm)"
   ]
  },
  {
   "cell_type": "markdown",
   "metadata": {},
   "source": [
    "#### Conclusion:\n",
    "p-value < 0.05 => H1 is accepted at 5%"
   ]
  },
  {
   "cell_type": "markdown",
   "metadata": {},
   "source": [
    "### Transportservicesofservice"
   ]
  },
  {
   "cell_type": "code",
   "execution_count": 185,
   "metadata": {},
   "outputs": [
    {
     "data": {
      "text/plain": [
       "KstestResult(statistic=0.10491513638229732, pvalue=0.05607997953022392)"
      ]
     },
     "execution_count": 185,
     "metadata": {},
     "output_type": "execute_result"
    }
   ],
   "source": [
    "stats.kstest(df.Transportservicesofservice.dropna(), 'norm', args=(df.Transportservicesofservice.dropna().mean(), df.Transportservicesofservice.dropna().std()))"
   ]
  },
  {
   "cell_type": "code",
   "execution_count": 186,
   "metadata": {},
   "outputs": [
    {
     "name": "stderr",
     "output_type": "stream",
     "text": [
      "C:\\Users\\Admin\\Miniconda3\\envs\\IntroML\\lib\\site-packages\\seaborn\\distributions.py:2619: FutureWarning: `distplot` is a deprecated function and will be removed in a future version. Please adapt your code to use either `displot` (a figure-level function with similar flexibility) or `histplot` (an axes-level function for histograms).\n",
      "  warnings.warn(msg, FutureWarning)\n",
      "C:\\Users\\Admin\\Miniconda3\\envs\\IntroML\\lib\\site-packages\\matplotlib\\cbook\\__init__.py:1402: FutureWarning: Support for multi-dimensional indexing (e.g. `obj[:, None]`) is deprecated and will be removed in a future version.  Convert to a numpy array before indexing instead.\n",
      "  ndim = x[:, None].ndim\n",
      "C:\\Users\\Admin\\Miniconda3\\envs\\IntroML\\lib\\site-packages\\matplotlib\\axes\\_base.py:276: FutureWarning: Support for multi-dimensional indexing (e.g. `obj[:, None]`) is deprecated and will be removed in a future version.  Convert to a numpy array before indexing instead.\n",
      "  x = x[:, np.newaxis]\n",
      "C:\\Users\\Admin\\Miniconda3\\envs\\IntroML\\lib\\site-packages\\matplotlib\\axes\\_base.py:278: FutureWarning: Support for multi-dimensional indexing (e.g. `obj[:, None]`) is deprecated and will be removed in a future version.  Convert to a numpy array before indexing instead.\n",
      "  y = y[:, np.newaxis]\n"
     ]
    },
    {
     "data": {
      "text/plain": [
       "<matplotlib.axes._subplots.AxesSubplot at 0x259bbdd28e0>"
      ]
     },
     "execution_count": 186,
     "metadata": {},
     "output_type": "execute_result"
    },
    {
     "data": {
      "image/png": "[encoded data removed]",
      "text/plain": [
       "<Figure size 432x288 with 1 Axes>"
      ]
     },
     "metadata": {
      "needs_background": "light"
     },
     "output_type": "display_data"
    }
   ],
   "source": [
    "sns.distplot(df.Transportservicesofservice.dropna(), fit=norm)"
   ]
  },
  {
   "cell_type": "markdown",
   "metadata": {},
   "source": [
    "#### Conclusion:\n",
    "p-value > 0.05 => H1 is rejected at 5% => the distribution is not significantly different from normal"
   ]
  },
  {
   "cell_type": "markdown",
   "metadata": {},
   "source": [
    "### Travelservicesofcommercial"
   ]
  },
  {
   "cell_type": "code",
   "execution_count": 187,
   "metadata": {},
   "outputs": [
    {
     "data": {
      "text/plain": [
       "KstestResult(statistic=0.09553969641122712, pvalue=0.09907565566329246)"
      ]
     },
     "execution_count": 187,
     "metadata": {},
     "output_type": "execute_result"
    }
   ],
   "source": [
    "stats.kstest(df.Travelservicesofcommercial.dropna(), 'norm', args=(df.Travelservicesofcommercial.dropna().mean(), df.Travelservicesofcommercial.dropna().std()))"
   ]
  },
  {
   "cell_type": "code",
   "execution_count": 188,
   "metadata": {},
   "outputs": [
    {
     "name": "stderr",
     "output_type": "stream",
     "text": [
      "C:\\Users\\Admin\\Miniconda3\\envs\\IntroML\\lib\\site-packages\\seaborn\\distributions.py:2619: FutureWarning: `distplot` is a deprecated function and will be removed in a future version. Please adapt your code to use either `displot` (a figure-level function with similar flexibility) or `histplot` (an axes-level function for histograms).\n",
      "  warnings.warn(msg, FutureWarning)\n",
      "C:\\Users\\Admin\\Miniconda3\\envs\\IntroML\\lib\\site-packages\\matplotlib\\cbook\\__init__.py:1402: FutureWarning: Support for multi-dimensional indexing (e.g. `obj[:, None]`) is deprecated and will be removed in a future version.  Convert to a numpy array before indexing instead.\n",
      "  ndim = x[:, None].ndim\n",
      "C:\\Users\\Admin\\Miniconda3\\envs\\IntroML\\lib\\site-packages\\matplotlib\\axes\\_base.py:276: FutureWarning: Support for multi-dimensional indexing (e.g. `obj[:, None]`) is deprecated and will be removed in a future version.  Convert to a numpy array before indexing instead.\n",
      "  x = x[:, np.newaxis]\n",
      "C:\\Users\\Admin\\Miniconda3\\envs\\IntroML\\lib\\site-packages\\matplotlib\\axes\\_base.py:278: FutureWarning: Support for multi-dimensional indexing (e.g. `obj[:, None]`) is deprecated and will be removed in a future version.  Convert to a numpy array before indexing instead.\n",
      "  y = y[:, np.newaxis]\n"
     ]
    },
    {
     "data": {
      "text/plain": [
       "<matplotlib.axes._subplots.AxesSubplot at 0x259bbe52ca0>"
      ]
     },
     "execution_count": 188,
     "metadata": {},
     "output_type": "execute_result"
    },
    {
     "data": {
      "image/png": "[encoded data removed]",
      "text/plain": [
       "<Figure size 432x288 with 1 Axes>"
      ]
     },
     "metadata": {
      "needs_background": "light"
     },
     "output_type": "display_data"
    }
   ],
   "source": [
    "sns.distplot(df.Travelservicesofcommercial.dropna(), fit=norm)"
   ]
  },
  {
   "cell_type": "markdown",
   "metadata": {},
   "source": [
    "#### Conclusion:\n",
    "p-value > 0.05 => H1 is rejected at 5% => the distribution is not significantly different from normal"
   ]
  },
  {
   "cell_type": "markdown",
   "metadata": {},
   "source": [
    "### Travelservicesofserviceex"
   ]
  },
  {
   "cell_type": "code",
   "execution_count": 189,
   "metadata": {},
   "outputs": [
    {
     "data": {
      "text/plain": [
       "KstestResult(statistic=0.08336118017262839, pvalue=0.2015993092471281)"
      ]
     },
     "execution_count": 189,
     "metadata": {},
     "output_type": "execute_result"
    }
   ],
   "source": [
    "stats.kstest(df.Travelservicesofserviceex.dropna(), 'norm', args=(df.Travelservicesofserviceex.dropna().mean(), df.Travelservicesofserviceex.dropna().std()))"
   ]
  },
  {
   "cell_type": "code",
   "execution_count": 190,
   "metadata": {},
   "outputs": [
    {
     "name": "stderr",
     "output_type": "stream",
     "text": [
      "C:\\Users\\Admin\\Miniconda3\\envs\\IntroML\\lib\\site-packages\\seaborn\\distributions.py:2619: FutureWarning: `distplot` is a deprecated function and will be removed in a future version. Please adapt your code to use either `displot` (a figure-level function with similar flexibility) or `histplot` (an axes-level function for histograms).\n",
      "  warnings.warn(msg, FutureWarning)\n",
      "C:\\Users\\Admin\\Miniconda3\\envs\\IntroML\\lib\\site-packages\\matplotlib\\cbook\\__init__.py:1402: FutureWarning: Support for multi-dimensional indexing (e.g. `obj[:, None]`) is deprecated and will be removed in a future version.  Convert to a numpy array before indexing instead.\n",
      "  ndim = x[:, None].ndim\n",
      "C:\\Users\\Admin\\Miniconda3\\envs\\IntroML\\lib\\site-packages\\matplotlib\\axes\\_base.py:276: FutureWarning: Support for multi-dimensional indexing (e.g. `obj[:, None]`) is deprecated and will be removed in a future version.  Convert to a numpy array before indexing instead.\n",
      "  x = x[:, np.newaxis]\n",
      "C:\\Users\\Admin\\Miniconda3\\envs\\IntroML\\lib\\site-packages\\matplotlib\\axes\\_base.py:278: FutureWarning: Support for multi-dimensional indexing (e.g. `obj[:, None]`) is deprecated and will be removed in a future version.  Convert to a numpy array before indexing instead.\n",
      "  y = y[:, np.newaxis]\n"
     ]
    },
    {
     "data": {
      "text/plain": [
       "<matplotlib.axes._subplots.AxesSubplot at 0x259bbddf1f0>"
      ]
     },
     "execution_count": 190,
     "metadata": {},
     "output_type": "execute_result"
    },
    {
     "data": {
      "image/png": "[encoded data removed]",
      "text/plain": [
       "<Figure size 432x288 with 1 Axes>"
      ]
     },
     "metadata": {
      "needs_background": "light"
     },
     "output_type": "display_data"
    }
   ],
   "source": [
    "sns.distplot(df.Travelservicesofserviceex.dropna(), fit=norm)"
   ]
  },
  {
   "cell_type": "markdown",
   "metadata": {},
   "source": [
    "#### Conclusion:\n",
    "p-value > 0.05 => H1 is rejected at 5% => the distribution is not significantly different from normal"
   ]
  },
  {
   "cell_type": "markdown",
   "metadata": {},
   "source": [
    "### Final Conclusion:\n",
    "\n",
    "H1 is rejected for Travelservicesofserviceex, Travelservicesofcommercial, Transportservicesofservice, for all other ratio and interval variables H1 is accepted"
   ]
  },
  {
   "cell_type": "markdown",
   "metadata": {},
   "source": [
    "## Task 2"
   ]
  },
  {
   "cell_type": "markdown",
   "metadata": {},
   "source": [
    "### Hypotheses:\n",
    "\n",
    "H1: there is a relationship between High income countries and their income (seems obvious, but still)\n",
    "\n",
    "H0: there is no relationship between High income countries and their income\n",
    "\n",
    "p-value = 0.05\n",
    "\n",
    "Chi-squared test can be used for these purposes as the aim is to check either there is a relation or not, and it is possible due to the fact that both variables are categorial and number of values in both columns is the same (maximum possible)"
   ]
  },
  {
   "cell_type": "markdown",
   "metadata": {},
   "source": [
    "#### Contingency Matrix:"
   ]
  },
  {
   "cell_type": "code",
   "execution_count": 191,
   "metadata": {},
   "outputs": [
    {
     "data": {
      "text/html": [
       "<div>\n",
       "<style scoped>\n",
       "    .dataframe tbody tr th:only-of-type {\n",
       "        vertical-align: middle;\n",
       "    }\n",
       "\n",
       "    .dataframe tbody tr th {\n",
       "        vertical-align: top;\n",
       "    }\n",
       "\n",
       "    .dataframe thead th {\n",
       "        text-align: right;\n",
       "    }\n",
       "</style>\n",
       "<table border=\"1\" class=\"dataframe\">\n",
       "  <thead>\n",
       "    <tr style=\"text-align: right;\">\n",
       "      <th></th>\n",
       "      <th>high income</th>\n",
       "      <th>low income</th>\n",
       "      <th>middle income</th>\n",
       "    </tr>\n",
       "    <tr>\n",
       "      <th>high_income</th>\n",
       "      <th></th>\n",
       "      <th></th>\n",
       "      <th></th>\n",
       "    </tr>\n",
       "  </thead>\n",
       "  <tbody>\n",
       "    <tr>\n",
       "      <th>False</th>\n",
       "      <td>0.0</td>\n",
       "      <td>0.214815</td>\n",
       "      <td>0.785185</td>\n",
       "    </tr>\n",
       "    <tr>\n",
       "      <th>True</th>\n",
       "      <td>1.0</td>\n",
       "      <td>0.000000</td>\n",
       "      <td>0.000000</td>\n",
       "    </tr>\n",
       "  </tbody>\n",
       "</table>\n",
       "</div>"
      ],
      "text/plain": [
       "             high income  low income  middle income\n",
       "high_income                                        \n",
       "False                0.0    0.214815       0.785185\n",
       "True                 1.0    0.000000       0.000000"
      ]
     },
     "execution_count": 191,
     "metadata": {},
     "output_type": "execute_result"
    }
   ],
   "source": [
    "df.groupby('high_income')['income'].value_counts(normalize=True).unstack()"
   ]
  },
  {
   "cell_type": "markdown",
   "metadata": {},
   "source": [
    "As is seen, 'high income' countries have only 'high income' values in column 'income', while non-'high income' countries have only values of low and middle income. It is obvious that there is a relation between these 2 columns"
   ]
  },
  {
   "cell_type": "code",
   "execution_count": 192,
   "metadata": {},
   "outputs": [
    {
     "data": {
      "text/plain": [
       "<matplotlib.axes._subplots.AxesSubplot at 0x259bbf514c0>"
      ]
     },
     "execution_count": 192,
     "metadata": {},
     "output_type": "execute_result"
    },
    {
     "data": {
      "image/png": "[encoded data removed]",
      "text/plain": [
       "<Figure size 432x288 with 1 Axes>"
      ]
     },
     "metadata": {
      "needs_background": "light"
     },
     "output_type": "display_data"
    }
   ],
   "source": [
    "df.groupby('high_income')['income'].value_counts(normalize=True).unstack().plot(kind='bar')"
   ]
  },
  {
   "cell_type": "code",
   "execution_count": 193,
   "metadata": {},
   "outputs": [
    {
     "name": "stdout",
     "output_type": "stream",
     "text": [
      "chi2 =  217.0    p-value = 7.569177914366364e-48\n"
     ]
    }
   ],
   "source": [
    "ct_income_high_income = pd.crosstab(df['high_income'], df['income'])\n",
    "chi2_results = stats.chi2_contingency(ct_income_high_income)\n",
    "print('chi2 = ', chi2_results[0], '   p-value =', chi2_results[1])"
   ]
  },
  {
   "cell_type": "markdown",
   "metadata": {},
   "source": [
    "#### Conclusion:\n",
    "\n",
    "H1 is accepted at 5% level of significance as p-value < 0.05 and at 1% level also, as p-value < 0.01"
   ]
  },
  {
   "cell_type": "markdown",
   "metadata": {},
   "source": [
    "### Hypotheses:\n",
    "\n",
    "H1: there is a relationship between High income countries and Developed or developing countries\n",
    "\n",
    "H0: there is no relationship between High income countries and Developed or developing countries\n",
    "\n",
    "p-value = 0.05"
   ]
  },
  {
   "cell_type": "code",
   "execution_count": 194,
   "metadata": {},
   "outputs": [
    {
     "data": {
      "text/html": [
       "<div>\n",
       "<style scoped>\n",
       "    .dataframe tbody tr th:only-of-type {\n",
       "        vertical-align: middle;\n",
       "    }\n",
       "\n",
       "    .dataframe tbody tr th {\n",
       "        vertical-align: top;\n",
       "    }\n",
       "\n",
       "    .dataframe thead th {\n",
       "        text-align: right;\n",
       "    }\n",
       "</style>\n",
       "<table border=\"1\" class=\"dataframe\">\n",
       "  <thead>\n",
       "    <tr style=\"text-align: right;\">\n",
       "      <th>development</th>\n",
       "      <th>developed</th>\n",
       "      <th>developing</th>\n",
       "    </tr>\n",
       "    <tr>\n",
       "      <th>high_income</th>\n",
       "      <th></th>\n",
       "      <th></th>\n",
       "    </tr>\n",
       "  </thead>\n",
       "  <tbody>\n",
       "    <tr>\n",
       "      <th>False</th>\n",
       "      <td>0.007407</td>\n",
       "      <td>0.992593</td>\n",
       "    </tr>\n",
       "    <tr>\n",
       "      <th>True</th>\n",
       "      <td>0.560976</td>\n",
       "      <td>0.439024</td>\n",
       "    </tr>\n",
       "  </tbody>\n",
       "</table>\n",
       "</div>"
      ],
      "text/plain": [
       "development  developed  developing\n",
       "high_income                       \n",
       "False         0.007407    0.992593\n",
       "True          0.560976    0.439024"
      ]
     },
     "execution_count": 194,
     "metadata": {},
     "output_type": "execute_result"
    }
   ],
   "source": [
    "df.groupby('high_income')['development'].value_counts(normalize=True).unstack()"
   ]
  },
  {
   "cell_type": "markdown",
   "metadata": {},
   "source": [
    "As is seen, almost all countries with not high income are only developing. As for countries with high income, most of them are developed. Seems that there is a relation between these variables"
   ]
  },
  {
   "cell_type": "code",
   "execution_count": 195,
   "metadata": {},
   "outputs": [
    {
     "data": {
      "text/plain": [
       "<matplotlib.axes._subplots.AxesSubplot at 0x259bbda2520>"
      ]
     },
     "execution_count": 195,
     "metadata": {},
     "output_type": "execute_result"
    },
    {
     "data": {
      "image/png": "[encoded data removed]",
      "text/plain": [
       "<Figure size 432x288 with 1 Axes>"
      ]
     },
     "metadata": {
      "needs_background": "light"
     },
     "output_type": "display_data"
    }
   ],
   "source": [
    "df.groupby('high_income')['development'].value_counts(normalize=True).unstack().plot(kind='bar')"
   ]
  },
  {
   "cell_type": "code",
   "execution_count": 196,
   "metadata": {},
   "outputs": [
    {
     "name": "stdout",
     "output_type": "stream",
     "text": [
      "chi2 =  88.89680884133621    p-value = 4.159538519406816e-21\n"
     ]
    }
   ],
   "source": [
    "ct_development_high_income = pd.crosstab(df['high_income'], df['development'])\n",
    "chi2_results = stats.chi2_contingency(ct_development_high_income)\n",
    "print('chi2 = ', chi2_results[0], '   p-value =', chi2_results[1])"
   ]
  },
  {
   "cell_type": "markdown",
   "metadata": {},
   "source": [
    "#### Conclusion:\n",
    "\n",
    "H1 is accepted at 5% level of significance as p-value < 0.05 and at 1% level also, as p-value < 0.01"
   ]
  },
  {
   "cell_type": "markdown",
   "metadata": {},
   "source": [
    "## Task 3"
   ]
  },
  {
   "cell_type": "markdown",
   "metadata": {},
   "source": [
    "### Examining correlation of variables (Travelservicesofserviceex, Travelservicesofcommercial)\n",
    "Note. Both of vars are normally distributed, so Pearson can be used\n",
    "\n",
    "H1: There is a relationship between Travel services (% of commercial service exports) and Travel services (% of service exports, BoP) (r != 0)\n",
    "\n",
    "H0: There is no relationship between Travel services (% of commercial service exports) and Travel services (% of service exports, BoP) (r = 0)"
   ]
  },
  {
   "cell_type": "code",
   "execution_count": 197,
   "metadata": {},
   "outputs": [
    {
     "data": {
      "text/plain": [
       "0.9918844373094661"
      ]
     },
     "execution_count": 197,
     "metadata": {},
     "output_type": "execute_result"
    }
   ],
   "source": [
    "df['Travelservicesofserviceex'].corr(df['Travelservicesofcommercial'])"
   ]
  },
  {
   "cell_type": "code",
   "execution_count": 198,
   "metadata": {},
   "outputs": [
    {
     "data": {
      "text/plain": [
       "<matplotlib.axes._subplots.AxesSubplot at 0x259bbff8670>"
      ]
     },
     "execution_count": 198,
     "metadata": {},
     "output_type": "execute_result"
    },
    {
     "data": {
      "image/png": "[encoded data removed]",
      "text/plain": [
       "<Figure size 432x288 with 1 Axes>"
      ]
     },
     "metadata": {
      "needs_background": "light"
     },
     "output_type": "display_data"
    }
   ],
   "source": [
    "df.plot('Travelservicesofserviceex', 'Travelservicesofcommercial', kind='scatter')"
   ]
  },
  {
   "cell_type": "code",
   "execution_count": 199,
   "metadata": {},
   "outputs": [
    {
     "name": "stdout",
     "output_type": "stream",
     "text": [
      "Pearson's r: 0.9918844373094658     p-value: 2.4343549662287632e-144\n"
     ]
    }
   ],
   "source": [
    " print(\"Pearson's r:\", stats.pearsonr(df.Travelservicesofserviceex.dropna(), df.Travelservicesofcommercial.dropna())[0], \n",
    "       '    p-value:', stats.pearsonr(df.Travelservicesofserviceex.dropna(), df.Travelservicesofcommercial.dropna())[1])"
   ]
  },
  {
   "cell_type": "markdown",
   "metadata": {},
   "source": [
    "#### Conclusion\n",
    "\n",
    "Significance of relationship: the relationship is statistically significant as p-value < 0.05, H1 is accepted.\n",
    "\n",
    "Direction of relationship: correlation coefficient is positive, therefore, there is a direct relationship between the variables.\n",
    "\n",
    "Strength of the relationship: the correlation coefficient is 0.99, therefore, there is a very strong (almost linear) correlation between the variables"
   ]
  },
  {
   "cell_type": "markdown",
   "metadata": {},
   "source": [
    "### Examining correlation of variables (Hightechnologyexportsofma, Exportsofgoodsandservices)\n",
    "Note. Both of vars are not normally distributed, they are scale vars, so Spearman can be used\n",
    "\n",
    "H1: There is a relationship between Exports of goods and services (% of GDP) and High-technology exports (% of manufactured exports) (r != 0)\n",
    "\n",
    "H0: There is no relationship between Exports of goods and services (% of GDP) and High-technology exports (% of manufactured exports) (r = 0)"
   ]
  },
  {
   "cell_type": "code",
   "execution_count": 200,
   "metadata": {},
   "outputs": [
    {
     "data": {
      "text/plain": [
       "<matplotlib.axes._subplots.AxesSubplot at 0x259bc009f40>"
      ]
     },
     "execution_count": 200,
     "metadata": {},
     "output_type": "execute_result"
    },
    {
     "data": {
      "image/png": "[encoded data removed]",
      "text/plain": [
       "<Figure size 432x288 with 1 Axes>"
      ]
     },
     "metadata": {
      "needs_background": "light"
     },
     "output_type": "display_data"
    }
   ],
   "source": [
    "df.plot('Hightechnologyexportsofma', 'Exportsofgoodsandservices', kind='scatter')"
   ]
  },
  {
   "cell_type": "code",
   "execution_count": 201,
   "metadata": {},
   "outputs": [],
   "source": [
    "df_without_empties = df.dropna(subset=['Hightechnologyexportsofma','Exportsofgoodsandservices'])"
   ]
  },
  {
   "cell_type": "code",
   "execution_count": 202,
   "metadata": {},
   "outputs": [
    {
     "data": {
      "text/plain": [
       "SpearmanrResult(correlation=0.24737805150176284, pvalue=0.014057360125424623)"
      ]
     },
     "execution_count": 202,
     "metadata": {},
     "output_type": "execute_result"
    }
   ],
   "source": [
    "stats.spearmanr(df_without_empties.Hightechnologyexportsofma, df_without_empties.Exportsofgoodsandservices)"
   ]
  },
  {
   "cell_type": "markdown",
   "metadata": {},
   "source": [
    "#### Conclusion\n",
    "\n",
    "Significance of relationship: the relationship is statistically significant as p-value < 0.05, H1 is accepted.\n",
    "\n",
    "Direction of relationship: correlation coefficient is positive, therefore, there is a direct relationship between the variables.\n",
    "\n",
    "Strength of the relationship: the correlation coefficient is 0.25, therefore, there is a weak correlation between the variables"
   ]
  },
  {
   "cell_type": "markdown",
   "metadata": {},
   "source": [
    "### Examining correlation of variables (Agriculturalrawmaterialsexpor, Foodexportsofmerchandisee)\n",
    "Note. Both of vars are not normally distributed, they are scale vars, so Spearman can be used\n",
    "\n",
    "H1: There is a relationship between Agricultural raw materials exports (% of merchandise exports) and Food exports (% of merchandise exports) (r != 0)\n",
    "\n",
    "H0: There is no relationship between Agricultural raw materials exports (% of merchandise exports) and Food exports (% of merchandise exports) (r = 0)"
   ]
  },
  {
   "cell_type": "code",
   "execution_count": 203,
   "metadata": {},
   "outputs": [
    {
     "data": {
      "text/plain": [
       "<matplotlib.axes._subplots.AxesSubplot at 0x259bc05b250>"
      ]
     },
     "execution_count": 203,
     "metadata": {},
     "output_type": "execute_result"
    },
    {
     "data": {
      "image/png": "[encoded data removed]",
      "text/plain": [
       "<Figure size 432x288 with 1 Axes>"
      ]
     },
     "metadata": {
      "needs_background": "light"
     },
     "output_type": "display_data"
    }
   ],
   "source": [
    "df.plot('Agriculturalrawmaterialsexpor', 'Foodexportsofmerchandisee', kind='scatter')"
   ]
  },
  {
   "cell_type": "code",
   "execution_count": 204,
   "metadata": {},
   "outputs": [],
   "source": [
    "df_without_empties = df.dropna(subset=['Agriculturalrawmaterialsexpor','Foodexportsofmerchandisee'])"
   ]
  },
  {
   "cell_type": "code",
   "execution_count": 205,
   "metadata": {},
   "outputs": [
    {
     "data": {
      "text/plain": [
       "SpearmanrResult(correlation=0.22408098987626549, pvalue=0.011655816245933778)"
      ]
     },
     "execution_count": 205,
     "metadata": {},
     "output_type": "execute_result"
    }
   ],
   "source": [
    "stats.spearmanr(df_without_empties.Agriculturalrawmaterialsexpor, df_without_empties.Foodexportsofmerchandisee)"
   ]
  },
  {
   "cell_type": "markdown",
   "metadata": {},
   "source": [
    "#### Conclusion\n",
    "\n",
    "Significance of relationship: the relationship is statistically significant as p-value < 0.05, H1 is accepted.\n",
    "\n",
    "Direction of relationship: correlation coefficient is positive, therefore, there is a direct relationship between the variables.\n",
    "\n",
    "Strength of the relationship: the correlation coefficient is 0.22, therefore, there is a weak correlation between the variables"
   ]
  },
  {
   "cell_type": "markdown",
   "metadata": {},
   "source": [
    "## Task 4"
   ]
  },
  {
   "cell_type": "markdown",
   "metadata": {},
   "source": [
    "Let us examine vars (Travelservicesofcommercial, Commercialserviceexportscurr). Both are scale vars without normal distribution, so spearman correlation can be used.\n",
    "It is explored how the correlation between these vars is affected by any other variable from the dataset"
   ]
  },
  {
   "cell_type": "code",
   "execution_count": 206,
   "metadata": {},
   "outputs": [],
   "source": [
    "df_without_empties = df.dropna(subset=['Travelservicesofcommercial','Commercialserviceexportscurr'])"
   ]
  },
  {
   "cell_type": "code",
   "execution_count": 207,
   "metadata": {},
   "outputs": [
    {
     "data": {
      "text/plain": [
       "SpearmanrResult(correlation=-0.3633569128134346, pvalue=2.1636821180620933e-06)"
      ]
     },
     "execution_count": 207,
     "metadata": {},
     "output_type": "execute_result"
    }
   ],
   "source": [
    "stats.spearmanr(df_without_empties.Commercialserviceexportscurr, df_without_empties.Travelservicesofcommercial)"
   ]
  },
  {
   "cell_type": "markdown",
   "metadata": {},
   "source": [
    "It is seen that there is a weak negative correlation with quite low pvalue"
   ]
  },
  {
   "cell_type": "markdown",
   "metadata": {},
   "source": [
    "#### Agriculturalrawmaterialsexpor"
   ]
  },
  {
   "cell_type": "code",
   "execution_count": 208,
   "metadata": {},
   "outputs": [
    {
     "data": {
      "text/html": [
       "<div>\n",
       "<style scoped>\n",
       "    .dataframe tbody tr th:only-of-type {\n",
       "        vertical-align: middle;\n",
       "    }\n",
       "\n",
       "    .dataframe tbody tr th {\n",
       "        vertical-align: top;\n",
       "    }\n",
       "\n",
       "    .dataframe thead th {\n",
       "        text-align: right;\n",
       "    }\n",
       "</style>\n",
       "<table border=\"1\" class=\"dataframe\">\n",
       "  <thead>\n",
       "    <tr style=\"text-align: right;\">\n",
       "      <th></th>\n",
       "      <th>n</th>\n",
       "      <th>r</th>\n",
       "      <th>CI95%</th>\n",
       "      <th>p-val</th>\n",
       "    </tr>\n",
       "  </thead>\n",
       "  <tbody>\n",
       "    <tr>\n",
       "      <th>spearman</th>\n",
       "      <td>114</td>\n",
       "      <td>-0.469533</td>\n",
       "      <td>[-0.6, -0.31]</td>\n",
       "      <td>1.552257e-07</td>\n",
       "    </tr>\n",
       "  </tbody>\n",
       "</table>\n",
       "</div>"
      ],
      "text/plain": [
       "            n         r          CI95%         p-val\n",
       "spearman  114 -0.469533  [-0.6, -0.31]  1.552257e-07"
      ]
     },
     "execution_count": 208,
     "metadata": {},
     "output_type": "execute_result"
    }
   ],
   "source": [
    "pg.partial_corr(data=df_without_empties, x='Travelservicesofcommercial', y='Commercialserviceexportscurr', covar='Agriculturalrawmaterialsexpor', method = 'spearman')"
   ]
  },
  {
   "cell_type": "code",
   "execution_count": 209,
   "metadata": {},
   "outputs": [
    {
     "data": {
      "image/png": "[encoded data removed]",
      "text/plain": [
       "<Figure size 432x432 with 1 Axes>"
      ]
     },
     "metadata": {
      "needs_background": "light"
     },
     "output_type": "display_data"
    }
   ],
   "source": [
    "plt.figure(figsize=(6, 6))\n",
    "\n",
    "plt.scatter(df_without_empties.Travelservicesofcommercial, df_without_empties.Commercialserviceexportscurr, c='g', alpha=0.7, label='r_xy')\n",
    "plt.scatter(df_without_empties.Travelservicesofcommercial, df_without_empties.Agriculturalrawmaterialsexpor, c='b', alpha=0.7, label='r_xz')\n",
    "plt.scatter(df_without_empties.Commercialserviceexportscurr, df_without_empties.Agriculturalrawmaterialsexpor, c='r', alpha=0.7, label='r_yz')\n",
    "plt.title('Correlations', fontsize=18)\n",
    "plt.legend()\n",
    "plt.show()"
   ]
  },
  {
   "cell_type": "markdown",
   "metadata": {},
   "source": [
    "The correlation becomes greater than source corr with a decrease in p-value. Variable 'Agriculturalrawmaterialsexpor' does not explain the correlation between 'Travelservicesofcommercial' and 'Commercialserviceexportscurr'"
   ]
  },
  {
   "cell_type": "markdown",
   "metadata": {},
   "source": [
    "#### ArmsexportsSIPRItrendindica"
   ]
  },
  {
   "cell_type": "code",
   "execution_count": 210,
   "metadata": {},
   "outputs": [
    {
     "data": {
      "text/html": [
       "<div>\n",
       "<style scoped>\n",
       "    .dataframe tbody tr th:only-of-type {\n",
       "        vertical-align: middle;\n",
       "    }\n",
       "\n",
       "    .dataframe tbody tr th {\n",
       "        vertical-align: top;\n",
       "    }\n",
       "\n",
       "    .dataframe thead th {\n",
       "        text-align: right;\n",
       "    }\n",
       "</style>\n",
       "<table border=\"1\" class=\"dataframe\">\n",
       "  <thead>\n",
       "    <tr style=\"text-align: right;\">\n",
       "      <th></th>\n",
       "      <th>n</th>\n",
       "      <th>r</th>\n",
       "      <th>CI95%</th>\n",
       "      <th>p-val</th>\n",
       "    </tr>\n",
       "  </thead>\n",
       "  <tbody>\n",
       "    <tr>\n",
       "      <th>spearman</th>\n",
       "      <td>38</td>\n",
       "      <td>-0.117705</td>\n",
       "      <td>[-0.43, 0.21]</td>\n",
       "      <td>0.487798</td>\n",
       "    </tr>\n",
       "  </tbody>\n",
       "</table>\n",
       "</div>"
      ],
      "text/plain": [
       "           n         r          CI95%     p-val\n",
       "spearman  38 -0.117705  [-0.43, 0.21]  0.487798"
      ]
     },
     "execution_count": 210,
     "metadata": {},
     "output_type": "execute_result"
    }
   ],
   "source": [
    "pg.partial_corr(data=df_without_empties, x='Travelservicesofcommercial', y='Commercialserviceexportscurr', covar='ArmsexportsSIPRItrendindica', method = 'spearman')"
   ]
  },
  {
   "cell_type": "code",
   "execution_count": 211,
   "metadata": {},
   "outputs": [
    {
     "data": {
      "image/png": "[encoded data removed]",
      "text/plain": [
       "<Figure size 432x432 with 1 Axes>"
      ]
     },
     "metadata": {
      "needs_background": "light"
     },
     "output_type": "display_data"
    }
   ],
   "source": [
    "plt.figure(figsize=(6, 6))\n",
    "\n",
    "plt.scatter(df_without_empties.Travelservicesofcommercial, df_without_empties.Commercialserviceexportscurr, c='g', alpha=0.7, label='r_xy')\n",
    "plt.scatter(df_without_empties.Travelservicesofcommercial, df_without_empties.ArmsexportsSIPRItrendindica, c='b', alpha=0.7, label='r_xz')\n",
    "plt.scatter(df_without_empties.Commercialserviceexportscurr, df_without_empties.ArmsexportsSIPRItrendindica, c='r', alpha=0.7, label='r_yz')\n",
    "plt.title('Correlations', fontsize=18)\n",
    "plt.legend()\n",
    "plt.show()"
   ]
  },
  {
   "cell_type": "markdown",
   "metadata": {},
   "source": [
    "The correlation now in not statistically significant and the correlation itself became weaker. Seems that ArmsexportsSIPRItrendindica can explain the correlation between 'Travelservicesofcommercial' and 'Commercialserviceexportscurr'"
   ]
  },
  {
   "cell_type": "code",
   "execution_count": 212,
   "metadata": {},
   "outputs": [
    {
     "data": {
      "text/plain": [
       "SpearmanrResult(correlation=0.6212784923396484, pvalue=3.147936719032237e-05)"
      ]
     },
     "execution_count": 212,
     "metadata": {},
     "output_type": "execute_result"
    }
   ],
   "source": [
    "stats.spearmanr(df_without_empties.dropna(subset=['ArmsexportsSIPRItrendindica']).Commercialserviceexportscurr, df_without_empties.dropna(subset=['ArmsexportsSIPRItrendindica']).ArmsexportsSIPRItrendindica)"
   ]
  },
  {
   "cell_type": "markdown",
   "metadata": {},
   "source": [
    "Indeed, there is a medium correlation between Commercialserviceexportscurr and ArmsexportsSIPRItrendindica"
   ]
  },
  {
   "cell_type": "markdown",
   "metadata": {},
   "source": [
    "#### Communicationscomputeretc"
   ]
  },
  {
   "cell_type": "code",
   "execution_count": 213,
   "metadata": {},
   "outputs": [
    {
     "data": {
      "text/html": [
       "<div>\n",
       "<style scoped>\n",
       "    .dataframe tbody tr th:only-of-type {\n",
       "        vertical-align: middle;\n",
       "    }\n",
       "\n",
       "    .dataframe tbody tr th {\n",
       "        vertical-align: top;\n",
       "    }\n",
       "\n",
       "    .dataframe thead th {\n",
       "        text-align: right;\n",
       "    }\n",
       "</style>\n",
       "<table border=\"1\" class=\"dataframe\">\n",
       "  <thead>\n",
       "    <tr style=\"text-align: right;\">\n",
       "      <th></th>\n",
       "      <th>n</th>\n",
       "      <th>r</th>\n",
       "      <th>CI95%</th>\n",
       "      <th>p-val</th>\n",
       "    </tr>\n",
       "  </thead>\n",
       "  <tbody>\n",
       "    <tr>\n",
       "      <th>spearman</th>\n",
       "      <td>158</td>\n",
       "      <td>-0.4239</td>\n",
       "      <td>[-0.54, -0.29]</td>\n",
       "      <td>3.164041e-08</td>\n",
       "    </tr>\n",
       "  </tbody>\n",
       "</table>\n",
       "</div>"
      ],
      "text/plain": [
       "            n       r           CI95%         p-val\n",
       "spearman  158 -0.4239  [-0.54, -0.29]  3.164041e-08"
      ]
     },
     "execution_count": 213,
     "metadata": {},
     "output_type": "execute_result"
    }
   ],
   "source": [
    "pg.partial_corr(data=df_without_empties, x='Travelservicesofcommercial', y='Commercialserviceexportscurr', covar='Communicationscomputeretc', method = 'spearman')"
   ]
  },
  {
   "cell_type": "code",
   "execution_count": 214,
   "metadata": {},
   "outputs": [
    {
     "data": {
      "image/png": "[encoded data removed]",
      "text/plain": [
       "<Figure size 432x432 with 1 Axes>"
      ]
     },
     "metadata": {
      "needs_background": "light"
     },
     "output_type": "display_data"
    }
   ],
   "source": [
    "plt.figure(figsize=(6, 6))\n",
    "\n",
    "plt.scatter(df_without_empties.Travelservicesofcommercial, df_without_empties.Communicationscomputeretc, c='g', alpha=0.7, label='r_xz')\n",
    "plt.scatter(df_without_empties.Travelservicesofcommercial, df_without_empties.Commercialserviceexportscurr, c='b', alpha=0.7, label='r_xy')\n",
    "plt.scatter(df_without_empties.Commercialserviceexportscurr, df_without_empties.Communicationscomputeretc, c='r', alpha=0.7, label='r_yz')\n",
    "plt.title('Correlations', fontsize=18)\n",
    "plt.legend()\n",
    "plt.show()"
   ]
  },
  {
   "cell_type": "markdown",
   "metadata": {},
   "source": [
    "The correlation becomes greater than source corr with a decrease in p-value. Variable 'Communicationscomputeretc' does not explain the correlation between 'Travelservicesofcommercial' and 'Commercialserviceexportscurr'"
   ]
  },
  {
   "cell_type": "markdown",
   "metadata": {},
   "source": [
    "#### Exportsofgoodsandservices"
   ]
  },
  {
   "cell_type": "code",
   "execution_count": 215,
   "metadata": {},
   "outputs": [
    {
     "data": {
      "text/html": [
       "<div>\n",
       "<style scoped>\n",
       "    .dataframe tbody tr th:only-of-type {\n",
       "        vertical-align: middle;\n",
       "    }\n",
       "\n",
       "    .dataframe tbody tr th {\n",
       "        vertical-align: top;\n",
       "    }\n",
       "\n",
       "    .dataframe thead th {\n",
       "        text-align: right;\n",
       "    }\n",
       "</style>\n",
       "<table border=\"1\" class=\"dataframe\">\n",
       "  <thead>\n",
       "    <tr style=\"text-align: right;\">\n",
       "      <th></th>\n",
       "      <th>n</th>\n",
       "      <th>r</th>\n",
       "      <th>CI95%</th>\n",
       "      <th>p-val</th>\n",
       "    </tr>\n",
       "  </thead>\n",
       "  <tbody>\n",
       "    <tr>\n",
       "      <th>spearman</th>\n",
       "      <td>137</td>\n",
       "      <td>-0.38149</td>\n",
       "      <td>[-0.52, -0.23]</td>\n",
       "      <td>0.000005</td>\n",
       "    </tr>\n",
       "  </tbody>\n",
       "</table>\n",
       "</div>"
      ],
      "text/plain": [
       "            n        r           CI95%     p-val\n",
       "spearman  137 -0.38149  [-0.52, -0.23]  0.000005"
      ]
     },
     "execution_count": 215,
     "metadata": {},
     "output_type": "execute_result"
    }
   ],
   "source": [
    "pg.partial_corr(data=df_without_empties, x='Travelservicesofcommercial', y='Commercialserviceexportscurr', covar='Exportsofgoodsandservices', method = 'spearman')"
   ]
  },
  {
   "cell_type": "code",
   "execution_count": 216,
   "metadata": {},
   "outputs": [
    {
     "data": {
      "image/png": "[encoded data removed]",
      "text/plain": [
       "<Figure size 432x432 with 1 Axes>"
      ]
     },
     "metadata": {
      "needs_background": "light"
     },
     "output_type": "display_data"
    }
   ],
   "source": [
    "plt.figure(figsize=(6, 6))\n",
    "\n",
    "plt.scatter(df_without_empties.Travelservicesofcommercial, df_without_empties.Commercialserviceexportscurr, c='g', alpha=0.7, label='r_xy')\n",
    "plt.scatter(df_without_empties.Travelservicesofcommercial, df_without_empties.Exportsofgoodsandservices, c='b', alpha=0.7, label='r_xz')\n",
    "plt.scatter(df_without_empties.Commercialserviceexportscurr, df_without_empties.Exportsofgoodsandservices, c='r', alpha=0.7, label='r_yz')\n",
    "plt.title('Correlations', fontsize=18)\n",
    "plt.legend()\n",
    "plt.show()"
   ]
  },
  {
   "cell_type": "markdown",
   "metadata": {},
   "source": [
    "Almost nothing is changed, 'Exportsofgoodsandservices' does not explain the correlation between 'Travelservicesofcommercial' and 'Commercialserviceexportscurr'"
   ]
  },
  {
   "cell_type": "markdown",
   "metadata": {},
   "source": [
    "#### Exportsofgoodsandservicesa"
   ]
  },
  {
   "cell_type": "code",
   "execution_count": 217,
   "metadata": {},
   "outputs": [
    {
     "data": {
      "text/html": [
       "<div>\n",
       "<style scoped>\n",
       "    .dataframe tbody tr th:only-of-type {\n",
       "        vertical-align: middle;\n",
       "    }\n",
       "\n",
       "    .dataframe tbody tr th {\n",
       "        vertical-align: top;\n",
       "    }\n",
       "\n",
       "    .dataframe thead th {\n",
       "        text-align: right;\n",
       "    }\n",
       "</style>\n",
       "<table border=\"1\" class=\"dataframe\">\n",
       "  <thead>\n",
       "    <tr style=\"text-align: right;\">\n",
       "      <th></th>\n",
       "      <th>n</th>\n",
       "      <th>r</th>\n",
       "      <th>CI95%</th>\n",
       "      <th>p-val</th>\n",
       "    </tr>\n",
       "  </thead>\n",
       "  <tbody>\n",
       "    <tr>\n",
       "      <th>spearman</th>\n",
       "      <td>124</td>\n",
       "      <td>-0.345944</td>\n",
       "      <td>[-0.49, -0.18]</td>\n",
       "      <td>0.000089</td>\n",
       "    </tr>\n",
       "  </tbody>\n",
       "</table>\n",
       "</div>"
      ],
      "text/plain": [
       "            n         r           CI95%     p-val\n",
       "spearman  124 -0.345944  [-0.49, -0.18]  0.000089"
      ]
     },
     "execution_count": 217,
     "metadata": {},
     "output_type": "execute_result"
    }
   ],
   "source": [
    "pg.partial_corr(data=df_without_empties, x='Travelservicesofcommercial', y='Commercialserviceexportscurr', covar='Exportsofgoodsandservicesa', method = 'spearman')"
   ]
  },
  {
   "cell_type": "code",
   "execution_count": 218,
   "metadata": {},
   "outputs": [
    {
     "data": {
      "image/png": "[encoded data removed]",
      "text/plain": [
       "<Figure size 432x432 with 1 Axes>"
      ]
     },
     "metadata": {
      "needs_background": "light"
     },
     "output_type": "display_data"
    }
   ],
   "source": [
    "plt.figure(figsize=(6, 6))\n",
    "\n",
    "plt.scatter(df_without_empties.Travelservicesofcommercial, df_without_empties.Commercialserviceexportscurr, c='g', alpha=0.7, label='r_xy')\n",
    "plt.scatter(df_without_empties.Travelservicesofcommercial, df_without_empties.Exportsofgoodsandservicesa, c='b', alpha=0.7, label='r_xz')\n",
    "plt.scatter(df_without_empties.Commercialserviceexportscurr, df_without_empties.Exportsofgoodsandservicesa, c='r', alpha=0.7, label='r_yz')\n",
    "plt.title('Correlations', fontsize=18)\n",
    "plt.legend()\n",
    "plt.show()"
   ]
  },
  {
   "cell_type": "markdown",
   "metadata": {},
   "source": [
    "Almost nothing is changed, 'Exportsofgoodsandservicesa' does not explain the correlation between 'Travelservicesofcommercial' and 'Commercialserviceexportscurr'"
   ]
  },
  {
   "cell_type": "markdown",
   "metadata": {},
   "source": [
    "#### ExportsofgoodsandservicesB"
   ]
  },
  {
   "cell_type": "code",
   "execution_count": 219,
   "metadata": {},
   "outputs": [
    {
     "data": {
      "text/html": [
       "<div>\n",
       "<style scoped>\n",
       "    .dataframe tbody tr th:only-of-type {\n",
       "        vertical-align: middle;\n",
       "    }\n",
       "\n",
       "    .dataframe tbody tr th {\n",
       "        vertical-align: top;\n",
       "    }\n",
       "\n",
       "    .dataframe thead th {\n",
       "        text-align: right;\n",
       "    }\n",
       "</style>\n",
       "<table border=\"1\" class=\"dataframe\">\n",
       "  <thead>\n",
       "    <tr style=\"text-align: right;\">\n",
       "      <th></th>\n",
       "      <th>n</th>\n",
       "      <th>r</th>\n",
       "      <th>CI95%</th>\n",
       "      <th>p-val</th>\n",
       "    </tr>\n",
       "  </thead>\n",
       "  <tbody>\n",
       "    <tr>\n",
       "      <th>spearman</th>\n",
       "      <td>161</td>\n",
       "      <td>0.088963</td>\n",
       "      <td>[-0.07, 0.24]</td>\n",
       "      <td>0.26327</td>\n",
       "    </tr>\n",
       "  </tbody>\n",
       "</table>\n",
       "</div>"
      ],
      "text/plain": [
       "            n         r          CI95%    p-val\n",
       "spearman  161  0.088963  [-0.07, 0.24]  0.26327"
      ]
     },
     "execution_count": 219,
     "metadata": {},
     "output_type": "execute_result"
    }
   ],
   "source": [
    "pg.partial_corr(data=df_without_empties, x='Travelservicesofcommercial', y='Commercialserviceexportscurr', covar='ExportsofgoodsandservicesB', method = 'spearman')"
   ]
  },
  {
   "cell_type": "code",
   "execution_count": 220,
   "metadata": {},
   "outputs": [
    {
     "data": {
      "image/png": "[encoded data removed]",
      "text/plain": [
       "<Figure size 432x432 with 1 Axes>"
      ]
     },
     "metadata": {
      "needs_background": "light"
     },
     "output_type": "display_data"
    }
   ],
   "source": [
    "plt.figure(figsize=(6, 6))\n",
    "\n",
    "plt.scatter(df_without_empties.Travelservicesofcommercial, df_without_empties.Commercialserviceexportscurr, c='g', alpha=0.7, label='r_xy')\n",
    "plt.scatter(df_without_empties.Travelservicesofcommercial, df_without_empties.ExportsofgoodsandservicesB, c='b', alpha=0.7, label='r_xz')\n",
    "plt.scatter(df_without_empties.Commercialserviceexportscurr, df_without_empties.ExportsofgoodsandservicesB, c='r', alpha=0.7, label='r_yz')\n",
    "plt.title('Correlations', fontsize=18)\n",
    "plt.legend()\n",
    "plt.show()"
   ]
  },
  {
   "cell_type": "markdown",
   "metadata": {},
   "source": [
    "The correlation now in not statistically significant and the correlation itself became weaker. Seems that ExportsofgoodsandservicesB can explain the correlation between 'Travelservicesofcommercial' and 'Commercialserviceexportscurr'"
   ]
  },
  {
   "cell_type": "code",
   "execution_count": 221,
   "metadata": {},
   "outputs": [
    {
     "data": {
      "text/plain": [
       "SpearmanrResult(correlation=0.936338279273062, pvalue=3.565216775952927e-74)"
      ]
     },
     "execution_count": 221,
     "metadata": {},
     "output_type": "execute_result"
    }
   ],
   "source": [
    "stats.spearmanr(df_without_empties.dropna(subset=['ExportsofgoodsandservicesB']).Commercialserviceexportscurr, df_without_empties.dropna(subset=['ExportsofgoodsandservicesB']).ExportsofgoodsandservicesB)"
   ]
  },
  {
   "cell_type": "markdown",
   "metadata": {},
   "source": [
    "Indeed, there is a very strong correlation between Commercialserviceexportscurr and ExportsofgoodsandservicesB."
   ]
  },
  {
   "cell_type": "markdown",
   "metadata": {},
   "source": [
    "#### Exportsofgoodsandservicesc"
   ]
  },
  {
   "cell_type": "code",
   "execution_count": 222,
   "metadata": {},
   "outputs": [
    {
     "data": {
      "text/html": [
       "<div>\n",
       "<style scoped>\n",
       "    .dataframe tbody tr th:only-of-type {\n",
       "        vertical-align: middle;\n",
       "    }\n",
       "\n",
       "    .dataframe tbody tr th {\n",
       "        vertical-align: top;\n",
       "    }\n",
       "\n",
       "    .dataframe thead th {\n",
       "        text-align: right;\n",
       "    }\n",
       "</style>\n",
       "<table border=\"1\" class=\"dataframe\">\n",
       "  <thead>\n",
       "    <tr style=\"text-align: right;\">\n",
       "      <th></th>\n",
       "      <th>n</th>\n",
       "      <th>r</th>\n",
       "      <th>CI95%</th>\n",
       "      <th>p-val</th>\n",
       "    </tr>\n",
       "  </thead>\n",
       "  <tbody>\n",
       "    <tr>\n",
       "      <th>spearman</th>\n",
       "      <td>122</td>\n",
       "      <td>0.035686</td>\n",
       "      <td>[-0.14, 0.21]</td>\n",
       "      <td>0.697574</td>\n",
       "    </tr>\n",
       "  </tbody>\n",
       "</table>\n",
       "</div>"
      ],
      "text/plain": [
       "            n         r          CI95%     p-val\n",
       "spearman  122  0.035686  [-0.14, 0.21]  0.697574"
      ]
     },
     "execution_count": 222,
     "metadata": {},
     "output_type": "execute_result"
    }
   ],
   "source": [
    "pg.partial_corr(data=df_without_empties, x='Travelservicesofcommercial', y='Commercialserviceexportscurr', covar='Exportsofgoodsandservicesc', method = 'spearman')"
   ]
  },
  {
   "cell_type": "code",
   "execution_count": 223,
   "metadata": {},
   "outputs": [
    {
     "data": {
      "image/png": "[encoded data removed]",
      "text/plain": [
       "<Figure size 432x432 with 1 Axes>"
      ]
     },
     "metadata": {
      "needs_background": "light"
     },
     "output_type": "display_data"
    }
   ],
   "source": [
    "plt.figure(figsize=(6, 6))\n",
    "\n",
    "plt.scatter(df_without_empties.Travelservicesofcommercial, df_without_empties.Commercialserviceexportscurr, c='g', alpha=0.7, label='r_xy')\n",
    "plt.scatter(df_without_empties.Travelservicesofcommercial, df_without_empties.Exportsofgoodsandservicesc, c='b', alpha=0.7, label='r_xz')\n",
    "plt.scatter(df_without_empties.Commercialserviceexportscurr, df_without_empties.Exportsofgoodsandservicesc, c='r', alpha=0.7, label='r_yz')\n",
    "plt.title('Correlations', fontsize=18)\n",
    "plt.legend()\n",
    "plt.show()"
   ]
  },
  {
   "cell_type": "markdown",
   "metadata": {},
   "source": [
    "The correlation now in not statistically significant and the correlation itself became weaker. Seems that Exportsofgoodsandservicesc can explain the correlation between 'Travelservicesofcommercial' and 'Commercialserviceexportscurr'"
   ]
  },
  {
   "cell_type": "code",
   "execution_count": 224,
   "metadata": {},
   "outputs": [
    {
     "data": {
      "text/plain": [
       "SpearmanrResult(correlation=0.9308904537358611, pvalue=2.568858728899239e-54)"
      ]
     },
     "execution_count": 224,
     "metadata": {},
     "output_type": "execute_result"
    }
   ],
   "source": [
    "stats.spearmanr(df_without_empties.dropna(subset=['Exportsofgoodsandservicesc']).Commercialserviceexportscurr, df_without_empties.dropna(subset=['Exportsofgoodsandservicesc']).Exportsofgoodsandservicesc)"
   ]
  },
  {
   "cell_type": "markdown",
   "metadata": {},
   "source": [
    "Indeed, there is a very strong correlation between Commercialserviceexportscurr and Exportsofgoodsandservicesc."
   ]
  },
  {
   "cell_type": "markdown",
   "metadata": {},
   "source": [
    "#### Foodexportsofmerchandisee"
   ]
  },
  {
   "cell_type": "code",
   "execution_count": 225,
   "metadata": {},
   "outputs": [
    {
     "data": {
      "text/html": [
       "<div>\n",
       "<style scoped>\n",
       "    .dataframe tbody tr th:only-of-type {\n",
       "        vertical-align: middle;\n",
       "    }\n",
       "\n",
       "    .dataframe tbody tr th {\n",
       "        vertical-align: top;\n",
       "    }\n",
       "\n",
       "    .dataframe thead th {\n",
       "        text-align: right;\n",
       "    }\n",
       "</style>\n",
       "<table border=\"1\" class=\"dataframe\">\n",
       "  <thead>\n",
       "    <tr style=\"text-align: right;\">\n",
       "      <th></th>\n",
       "      <th>n</th>\n",
       "      <th>r</th>\n",
       "      <th>CI95%</th>\n",
       "      <th>p-val</th>\n",
       "    </tr>\n",
       "  </thead>\n",
       "  <tbody>\n",
       "    <tr>\n",
       "      <th>spearman</th>\n",
       "      <td>115</td>\n",
       "      <td>-0.390408</td>\n",
       "      <td>[-0.54, -0.22]</td>\n",
       "      <td>0.000018</td>\n",
       "    </tr>\n",
       "  </tbody>\n",
       "</table>\n",
       "</div>"
      ],
      "text/plain": [
       "            n         r           CI95%     p-val\n",
       "spearman  115 -0.390408  [-0.54, -0.22]  0.000018"
      ]
     },
     "execution_count": 225,
     "metadata": {},
     "output_type": "execute_result"
    }
   ],
   "source": [
    "pg.partial_corr(data=df_without_empties, x='Travelservicesofcommercial', y='Commercialserviceexportscurr', covar='Foodexportsofmerchandisee', method = 'spearman')"
   ]
  },
  {
   "cell_type": "code",
   "execution_count": 226,
   "metadata": {},
   "outputs": [
    {
     "data": {
      "image/png": "[encoded data removed]",
      "text/plain": [
       "<Figure size 432x432 with 1 Axes>"
      ]
     },
     "metadata": {
      "needs_background": "light"
     },
     "output_type": "display_data"
    }
   ],
   "source": [
    "plt.figure(figsize=(6, 6))\n",
    "\n",
    "plt.scatter(df_without_empties.Travelservicesofcommercial, df_without_empties.Commercialserviceexportscurr, c='g', alpha=0.7, label='r_xy')\n",
    "plt.scatter(df_without_empties.Travelservicesofcommercial, df_without_empties.Foodexportsofmerchandisee, c='b', alpha=0.7, label='r_xz')\n",
    "plt.scatter(df_without_empties.Commercialserviceexportscurr, df_without_empties.Foodexportsofmerchandisee, c='r', alpha=0.7, label='r_yz')\n",
    "plt.title('Correlations', fontsize=18)\n",
    "plt.legend()\n",
    "plt.show()"
   ]
  },
  {
   "cell_type": "markdown",
   "metadata": {},
   "source": [
    "Almost nothing is changed, 'Exportsofgoodsandservicesa' does not explain the correlation between 'Travelservicesofcommercial' and 'Commercialserviceexportscurr'"
   ]
  },
  {
   "cell_type": "markdown",
   "metadata": {},
   "source": [
    "#### GoodsexportsBoPcurrentUS"
   ]
  },
  {
   "cell_type": "code",
   "execution_count": 227,
   "metadata": {},
   "outputs": [
    {
     "data": {
      "text/html": [
       "<div>\n",
       "<style scoped>\n",
       "    .dataframe tbody tr th:only-of-type {\n",
       "        vertical-align: middle;\n",
       "    }\n",
       "\n",
       "    .dataframe tbody tr th {\n",
       "        vertical-align: top;\n",
       "    }\n",
       "\n",
       "    .dataframe thead th {\n",
       "        text-align: right;\n",
       "    }\n",
       "</style>\n",
       "<table border=\"1\" class=\"dataframe\">\n",
       "  <thead>\n",
       "    <tr style=\"text-align: right;\">\n",
       "      <th></th>\n",
       "      <th>n</th>\n",
       "      <th>r</th>\n",
       "      <th>CI95%</th>\n",
       "      <th>p-val</th>\n",
       "    </tr>\n",
       "  </thead>\n",
       "  <tbody>\n",
       "    <tr>\n",
       "      <th>spearman</th>\n",
       "      <td>161</td>\n",
       "      <td>0.046814</td>\n",
       "      <td>[-0.11, 0.2]</td>\n",
       "      <td>0.556644</td>\n",
       "    </tr>\n",
       "  </tbody>\n",
       "</table>\n",
       "</div>"
      ],
      "text/plain": [
       "            n         r         CI95%     p-val\n",
       "spearman  161  0.046814  [-0.11, 0.2]  0.556644"
      ]
     },
     "execution_count": 227,
     "metadata": {},
     "output_type": "execute_result"
    }
   ],
   "source": [
    "pg.partial_corr(data=df_without_empties, x='Travelservicesofcommercial', y='Commercialserviceexportscurr', covar='GoodsexportsBoPcurrentUS', method = 'spearman')"
   ]
  },
  {
   "cell_type": "code",
   "execution_count": 228,
   "metadata": {},
   "outputs": [
    {
     "data": {
      "image/png": "[encoded data removed]",
      "text/plain": [
       "<Figure size 432x432 with 1 Axes>"
      ]
     },
     "metadata": {
      "needs_background": "light"
     },
     "output_type": "display_data"
    }
   ],
   "source": [
    "plt.figure(figsize=(6, 6))\n",
    "\n",
    "plt.scatter(df_without_empties.Travelservicesofcommercial, df_without_empties.Commercialserviceexportscurr, c='g', alpha=0.7, label='r_xy')\n",
    "plt.scatter(df_without_empties.Travelservicesofcommercial, df_without_empties.GoodsexportsBoPcurrentUS, c='b', alpha=0.7, label='r_xz')\n",
    "plt.scatter(df_without_empties.Commercialserviceexportscurr, df_without_empties.GoodsexportsBoPcurrentUS, c='r', alpha=0.7, label='r_yz')\n",
    "plt.title('Correlations', fontsize=18)\n",
    "plt.legend()\n",
    "plt.show()"
   ]
  },
  {
   "cell_type": "markdown",
   "metadata": {},
   "source": [
    "The correlation now in not statistically significant and the correlation itself became weaker. Seems that GoodsexportsBoPcurrentUS can explain the correlation between 'Travelservicesofcommercial' and 'Commercialserviceexportscurr'"
   ]
  },
  {
   "cell_type": "code",
   "execution_count": 229,
   "metadata": {},
   "outputs": [
    {
     "data": {
      "text/plain": [
       "SpearmanrResult(correlation=0.8654934437543135, pvalue=1.3353703732720957e-49)"
      ]
     },
     "execution_count": 229,
     "metadata": {},
     "output_type": "execute_result"
    }
   ],
   "source": [
    "stats.spearmanr(df_without_empties.dropna(subset=['GoodsexportsBoPcurrentUS']).Commercialserviceexportscurr, df_without_empties.dropna(subset=['GoodsexportsBoPcurrentUS']).GoodsexportsBoPcurrentUS)"
   ]
  },
  {
   "cell_type": "markdown",
   "metadata": {},
   "source": [
    "Indeed, there is a very strong correlation between Commercialserviceexportscurr and GoodsexportsBoPcurrentUS."
   ]
  },
  {
   "cell_type": "markdown",
   "metadata": {},
   "source": [
    "#### Fuelexportsofmerchandisee"
   ]
  },
  {
   "cell_type": "code",
   "execution_count": 230,
   "metadata": {},
   "outputs": [
    {
     "data": {
      "text/html": [
       "<div>\n",
       "<style scoped>\n",
       "    .dataframe tbody tr th:only-of-type {\n",
       "        vertical-align: middle;\n",
       "    }\n",
       "\n",
       "    .dataframe tbody tr th {\n",
       "        vertical-align: top;\n",
       "    }\n",
       "\n",
       "    .dataframe thead th {\n",
       "        text-align: right;\n",
       "    }\n",
       "</style>\n",
       "<table border=\"1\" class=\"dataframe\">\n",
       "  <thead>\n",
       "    <tr style=\"text-align: right;\">\n",
       "      <th></th>\n",
       "      <th>n</th>\n",
       "      <th>r</th>\n",
       "      <th>CI95%</th>\n",
       "      <th>p-val</th>\n",
       "    </tr>\n",
       "  </thead>\n",
       "  <tbody>\n",
       "    <tr>\n",
       "      <th>spearman</th>\n",
       "      <td>111</td>\n",
       "      <td>-0.47435</td>\n",
       "      <td>[-0.61, -0.32]</td>\n",
       "      <td>1.650072e-07</td>\n",
       "    </tr>\n",
       "  </tbody>\n",
       "</table>\n",
       "</div>"
      ],
      "text/plain": [
       "            n        r           CI95%         p-val\n",
       "spearman  111 -0.47435  [-0.61, -0.32]  1.650072e-07"
      ]
     },
     "execution_count": 230,
     "metadata": {},
     "output_type": "execute_result"
    }
   ],
   "source": [
    "pg.partial_corr(data=df_without_empties, x='Travelservicesofcommercial', y='Commercialserviceexportscurr', covar='Fuelexportsofmerchandisee', method = 'spearman')"
   ]
  },
  {
   "cell_type": "code",
   "execution_count": 231,
   "metadata": {},
   "outputs": [
    {
     "data": {
      "image/png": "[encoded data removed]",
      "text/plain": [
       "<Figure size 432x432 with 1 Axes>"
      ]
     },
     "metadata": {
      "needs_background": "light"
     },
     "output_type": "display_data"
    }
   ],
   "source": [
    "plt.figure(figsize=(6, 6))\n",
    "\n",
    "plt.scatter(df_without_empties.Travelservicesofcommercial, df_without_empties.Commercialserviceexportscurr, c='g', alpha=0.7, label='r_xy')\n",
    "plt.scatter(df_without_empties.Travelservicesofcommercial, df_without_empties.Fuelexportsofmerchandisee, c='b', alpha=0.7, label='r_xz')\n",
    "plt.scatter(df_without_empties.Commercialserviceexportscurr, df_without_empties.Fuelexportsofmerchandisee, c='r', alpha=0.7, label='r_yz')\n",
    "plt.title('Correlations', fontsize=18)\n",
    "plt.legend()\n",
    "plt.show()"
   ]
  },
  {
   "cell_type": "markdown",
   "metadata": {},
   "source": [
    "The correlation becomes greater than source corr with a decrease in p-value. Variable 'Fuelexportsofmerchandisee' does not explain the correlation between 'Travelservicesofcommercial' and 'Commercialserviceexportscurr'"
   ]
  },
  {
   "cell_type": "markdown",
   "metadata": {},
   "source": [
    "#### Hightechnologyexportsofma"
   ]
  },
  {
   "cell_type": "code",
   "execution_count": 232,
   "metadata": {},
   "outputs": [
    {
     "data": {
      "text/html": [
       "<div>\n",
       "<style scoped>\n",
       "    .dataframe tbody tr th:only-of-type {\n",
       "        vertical-align: middle;\n",
       "    }\n",
       "\n",
       "    .dataframe tbody tr th {\n",
       "        vertical-align: top;\n",
       "    }\n",
       "\n",
       "    .dataframe thead th {\n",
       "        text-align: right;\n",
       "    }\n",
       "</style>\n",
       "<table border=\"1\" class=\"dataframe\">\n",
       "  <thead>\n",
       "    <tr style=\"text-align: right;\">\n",
       "      <th></th>\n",
       "      <th>n</th>\n",
       "      <th>r</th>\n",
       "      <th>CI95%</th>\n",
       "      <th>p-val</th>\n",
       "    </tr>\n",
       "  </thead>\n",
       "  <tbody>\n",
       "    <tr>\n",
       "      <th>spearman</th>\n",
       "      <td>101</td>\n",
       "      <td>-0.298711</td>\n",
       "      <td>[-0.47, -0.11]</td>\n",
       "      <td>0.002538</td>\n",
       "    </tr>\n",
       "  </tbody>\n",
       "</table>\n",
       "</div>"
      ],
      "text/plain": [
       "            n         r           CI95%     p-val\n",
       "spearman  101 -0.298711  [-0.47, -0.11]  0.002538"
      ]
     },
     "execution_count": 232,
     "metadata": {},
     "output_type": "execute_result"
    }
   ],
   "source": [
    "pg.partial_corr(data=df_without_empties, x='Travelservicesofcommercial', y='Commercialserviceexportscurr', covar='Hightechnologyexportsofma', method = 'spearman')"
   ]
  },
  {
   "cell_type": "code",
   "execution_count": 233,
   "metadata": {},
   "outputs": [
    {
     "data": {
      "image/png": "[encoded data removed]",
      "text/plain": [
       "<Figure size 432x432 with 1 Axes>"
      ]
     },
     "metadata": {
      "needs_background": "light"
     },
     "output_type": "display_data"
    }
   ],
   "source": [
    "plt.figure(figsize=(6, 6))\n",
    "\n",
    "plt.scatter(df_without_empties.Travelservicesofcommercial, df_without_empties.Commercialserviceexportscurr, c='g', alpha=0.7, label='r_xy')\n",
    "plt.scatter(df_without_empties.Travelservicesofcommercial, df_without_empties.Hightechnologyexportsofma, c='b', alpha=0.7, label='r_xz')\n",
    "plt.scatter(df_without_empties.Commercialserviceexportscurr, df_without_empties.Hightechnologyexportsofma, c='r', alpha=0.7, label='r_yz')\n",
    "plt.title('Correlations', fontsize=18)\n",
    "plt.legend()\n",
    "plt.show()"
   ]
  },
  {
   "cell_type": "markdown",
   "metadata": {},
   "source": [
    "Hightechnologyexportsofma has a small impact on Travelservicesofcommercial and Commercialserviceexportscurr, but the difference is small and according to p-value, the correlation is still significant"
   ]
  },
  {
   "cell_type": "markdown",
   "metadata": {},
   "source": [
    "#### Hightechnologyexportscurrent"
   ]
  },
  {
   "cell_type": "code",
   "execution_count": 234,
   "metadata": {},
   "outputs": [
    {
     "data": {
      "text/html": [
       "<div>\n",
       "<style scoped>\n",
       "    .dataframe tbody tr th:only-of-type {\n",
       "        vertical-align: middle;\n",
       "    }\n",
       "\n",
       "    .dataframe tbody tr th {\n",
       "        vertical-align: top;\n",
       "    }\n",
       "\n",
       "    .dataframe thead th {\n",
       "        text-align: right;\n",
       "    }\n",
       "</style>\n",
       "<table border=\"1\" class=\"dataframe\">\n",
       "  <thead>\n",
       "    <tr style=\"text-align: right;\">\n",
       "      <th></th>\n",
       "      <th>n</th>\n",
       "      <th>r</th>\n",
       "      <th>CI95%</th>\n",
       "      <th>p-val</th>\n",
       "    </tr>\n",
       "  </thead>\n",
       "  <tbody>\n",
       "    <tr>\n",
       "      <th>spearman</th>\n",
       "      <td>101</td>\n",
       "      <td>-0.060637</td>\n",
       "      <td>[-0.25, 0.14]</td>\n",
       "      <td>0.548975</td>\n",
       "    </tr>\n",
       "  </tbody>\n",
       "</table>\n",
       "</div>"
      ],
      "text/plain": [
       "            n         r          CI95%     p-val\n",
       "spearman  101 -0.060637  [-0.25, 0.14]  0.548975"
      ]
     },
     "execution_count": 234,
     "metadata": {},
     "output_type": "execute_result"
    }
   ],
   "source": [
    "pg.partial_corr(data=df_without_empties, x='Travelservicesofcommercial', y='Commercialserviceexportscurr', covar='Hightechnologyexportscurrent', method = 'spearman')"
   ]
  },
  {
   "cell_type": "code",
   "execution_count": 235,
   "metadata": {},
   "outputs": [
    {
     "data": {
      "image/png": "[encoded data removed]",
      "text/plain": [
       "<Figure size 432x432 with 1 Axes>"
      ]
     },
     "metadata": {
      "needs_background": "light"
     },
     "output_type": "display_data"
    }
   ],
   "source": [
    "plt.figure(figsize=(6, 6))\n",
    "\n",
    "plt.scatter(df_without_empties.Travelservicesofcommercial, df_without_empties.Commercialserviceexportscurr, c='g', alpha=0.7, label='r_xy')\n",
    "plt.scatter(df_without_empties.Travelservicesofcommercial, df_without_empties.Hightechnologyexportscurrent, c='b', alpha=0.7, label='r_xz')\n",
    "plt.scatter(df_without_empties.Commercialserviceexportscurr, df_without_empties.Hightechnologyexportscurrent, c='r', alpha=0.7, label='r_yz')\n",
    "plt.title('Correlations', fontsize=18)\n",
    "plt.legend()\n",
    "plt.show()"
   ]
  },
  {
   "cell_type": "markdown",
   "metadata": {},
   "source": [
    "The correlation now in not statistically significant and the correlation itself became weaker. Seems that Hightechnologyexportscurrent can explain the correlation between 'Travelservicesofcommercial' and 'Commercialserviceexportscurr'"
   ]
  },
  {
   "cell_type": "code",
   "execution_count": 236,
   "metadata": {},
   "outputs": [
    {
     "data": {
      "text/plain": [
       "SpearmanrResult(correlation=0.9055329062317996, pvalue=1.2088834273295214e-38)"
      ]
     },
     "execution_count": 236,
     "metadata": {},
     "output_type": "execute_result"
    }
   ],
   "source": [
    "stats.spearmanr(df_without_empties.dropna(subset=['Hightechnologyexportscurrent']).Commercialserviceexportscurr, df_without_empties.dropna(subset=['Hightechnologyexportscurrent']).Hightechnologyexportscurrent)"
   ]
  },
  {
   "cell_type": "markdown",
   "metadata": {},
   "source": [
    "Indeed, there is a very strong correlation between Commercialserviceexportscurr and GoodsexportsBoPcurrentUS."
   ]
  },
  {
   "cell_type": "markdown",
   "metadata": {},
   "source": [
    "#### TaxesonexportscurrentLCU"
   ]
  },
  {
   "cell_type": "code",
   "execution_count": 237,
   "metadata": {},
   "outputs": [
    {
     "data": {
      "text/html": [
       "<div>\n",
       "<style scoped>\n",
       "    .dataframe tbody tr th:only-of-type {\n",
       "        vertical-align: middle;\n",
       "    }\n",
       "\n",
       "    .dataframe tbody tr th {\n",
       "        vertical-align: top;\n",
       "    }\n",
       "\n",
       "    .dataframe thead th {\n",
       "        text-align: right;\n",
       "    }\n",
       "</style>\n",
       "<table border=\"1\" class=\"dataframe\">\n",
       "  <thead>\n",
       "    <tr style=\"text-align: right;\">\n",
       "      <th></th>\n",
       "      <th>n</th>\n",
       "      <th>r</th>\n",
       "      <th>CI95%</th>\n",
       "      <th>p-val</th>\n",
       "    </tr>\n",
       "  </thead>\n",
       "  <tbody>\n",
       "    <tr>\n",
       "      <th>spearman</th>\n",
       "      <td>19</td>\n",
       "      <td>-0.255812</td>\n",
       "      <td>[-0.65, 0.24]</td>\n",
       "      <td>0.305562</td>\n",
       "    </tr>\n",
       "  </tbody>\n",
       "</table>\n",
       "</div>"
      ],
      "text/plain": [
       "           n         r          CI95%     p-val\n",
       "spearman  19 -0.255812  [-0.65, 0.24]  0.305562"
      ]
     },
     "execution_count": 237,
     "metadata": {},
     "output_type": "execute_result"
    }
   ],
   "source": [
    "pg.partial_corr(data=df_without_empties, x='Travelservicesofcommercial', y='Commercialserviceexportscurr', covar='TaxesonexportscurrentLCU', method = 'spearman')"
   ]
  },
  {
   "cell_type": "code",
   "execution_count": 238,
   "metadata": {},
   "outputs": [
    {
     "data": {
      "image/png": "[encoded data removed]",
      "text/plain": [
       "<Figure size 432x432 with 1 Axes>"
      ]
     },
     "metadata": {
      "needs_background": "light"
     },
     "output_type": "display_data"
    }
   ],
   "source": [
    "plt.figure(figsize=(6, 6))\n",
    "\n",
    "plt.scatter(df_without_empties.Travelservicesofcommercial, df_without_empties.Commercialserviceexportscurr, c='g', alpha=0.7, label='r_xy')\n",
    "plt.scatter(df_without_empties.Travelservicesofcommercial, df_without_empties.TaxesonexportscurrentLCU, c='b', alpha=0.7, label='r_xz')\n",
    "plt.scatter(df_without_empties.Commercialserviceexportscurr, df_without_empties.TaxesonexportscurrentLCU, c='r', alpha=0.7, label='r_yz')\n",
    "plt.title('Correlations', fontsize=18)\n",
    "plt.legend()\n",
    "plt.show()"
   ]
  },
  {
   "cell_type": "markdown",
   "metadata": {},
   "source": [
    "The correlation now in not statistically significant and the correlation itself became weaker. Seems that TaxesonexportscurrentLCU can explain the correlation between 'Travelservicesofcommercial' and 'Commercialserviceexportscurr'"
   ]
  },
  {
   "cell_type": "code",
   "execution_count": 239,
   "metadata": {},
   "outputs": [
    {
     "data": {
      "text/plain": [
       "SpearmanrResult(correlation=0.2912280701754386, pvalue=0.22639719358125593)"
      ]
     },
     "execution_count": 239,
     "metadata": {},
     "output_type": "execute_result"
    }
   ],
   "source": [
    "stats.spearmanr(df_without_empties.dropna(subset=['TaxesonexportscurrentLCU']).Commercialserviceexportscurr, df_without_empties.dropna(subset=['TaxesonexportscurrentLCU']).TaxesonexportscurrentLCU)"
   ]
  },
  {
   "cell_type": "code",
   "execution_count": 240,
   "metadata": {},
   "outputs": [
    {
     "data": {
      "text/plain": [
       "SpearmanrResult(correlation=-0.46842105263157896, pvalue=0.04309342451548047)"
      ]
     },
     "execution_count": 240,
     "metadata": {},
     "output_type": "execute_result"
    }
   ],
   "source": [
    "stats.spearmanr(df_without_empties.dropna(subset=['TaxesonexportscurrentLCU']).Travelservicesofcommercial, df_without_empties.dropna(subset=['TaxesonexportscurrentLCU']).TaxesonexportscurrentLCU)"
   ]
  },
  {
   "cell_type": "markdown",
   "metadata": {},
   "source": [
    "Indeed, there is a negative medium correlation between Travelservicesofcommercial and TaxesonexportscurrentLCU."
   ]
  },
  {
   "cell_type": "markdown",
   "metadata": {},
   "source": [
    "#### Transportservicesofservice"
   ]
  },
  {
   "cell_type": "code",
   "execution_count": 241,
   "metadata": {},
   "outputs": [
    {
     "data": {
      "text/html": [
       "<div>\n",
       "<style scoped>\n",
       "    .dataframe tbody tr th:only-of-type {\n",
       "        vertical-align: middle;\n",
       "    }\n",
       "\n",
       "    .dataframe tbody tr th {\n",
       "        vertical-align: top;\n",
       "    }\n",
       "\n",
       "    .dataframe thead th {\n",
       "        text-align: right;\n",
       "    }\n",
       "</style>\n",
       "<table border=\"1\" class=\"dataframe\">\n",
       "  <thead>\n",
       "    <tr style=\"text-align: right;\">\n",
       "      <th></th>\n",
       "      <th>n</th>\n",
       "      <th>r</th>\n",
       "      <th>CI95%</th>\n",
       "      <th>p-val</th>\n",
       "    </tr>\n",
       "  </thead>\n",
       "  <tbody>\n",
       "    <tr>\n",
       "      <th>spearman</th>\n",
       "      <td>159</td>\n",
       "      <td>-0.307387</td>\n",
       "      <td>[-0.44, -0.16]</td>\n",
       "      <td>0.000085</td>\n",
       "    </tr>\n",
       "  </tbody>\n",
       "</table>\n",
       "</div>"
      ],
      "text/plain": [
       "            n         r           CI95%     p-val\n",
       "spearman  159 -0.307387  [-0.44, -0.16]  0.000085"
      ]
     },
     "execution_count": 241,
     "metadata": {},
     "output_type": "execute_result"
    }
   ],
   "source": [
    "pg.partial_corr(data=df_without_empties, x='Travelservicesofcommercial', y='Commercialserviceexportscurr', covar='Transportservicesofservice', method = 'spearman')"
   ]
  },
  {
   "cell_type": "code",
   "execution_count": 242,
   "metadata": {},
   "outputs": [
    {
     "data": {
      "image/png": "[encoded data removed]",
      "text/plain": [
       "<Figure size 432x432 with 1 Axes>"
      ]
     },
     "metadata": {
      "needs_background": "light"
     },
     "output_type": "display_data"
    }
   ],
   "source": [
    "plt.figure(figsize=(6, 6))\n",
    "\n",
    "plt.scatter(df_without_empties.Travelservicesofcommercial, df_without_empties.Commercialserviceexportscurr, c='g', alpha=0.7, label='r_xy')\n",
    "plt.scatter(df_without_empties.Travelservicesofcommercial, df_without_empties.Transportservicesofservice, c='b', alpha=0.7, label='r_xz')\n",
    "plt.scatter(df_without_empties.Commercialserviceexportscurr, df_without_empties.Transportservicesofservice, c='r', alpha=0.7, label='r_yz')\n",
    "plt.title('Correlations', fontsize=18)\n",
    "plt.legend()\n",
    "plt.show()"
   ]
  },
  {
   "cell_type": "markdown",
   "metadata": {},
   "source": [
    "Transportservicesofservice has a small impact on Travelservicesofcommercial and Commercialserviceexportscurr, but the difference is small and according to p-value, the correlation is still significant"
   ]
  },
  {
   "cell_type": "markdown",
   "metadata": {},
   "source": [
    "#### Travelservicesofserviceex"
   ]
  },
  {
   "cell_type": "code",
   "execution_count": 243,
   "metadata": {},
   "outputs": [
    {
     "data": {
      "text/html": [
       "<div>\n",
       "<style scoped>\n",
       "    .dataframe tbody tr th:only-of-type {\n",
       "        vertical-align: middle;\n",
       "    }\n",
       "\n",
       "    .dataframe tbody tr th {\n",
       "        vertical-align: top;\n",
       "    }\n",
       "\n",
       "    .dataframe thead th {\n",
       "        text-align: right;\n",
       "    }\n",
       "</style>\n",
       "<table border=\"1\" class=\"dataframe\">\n",
       "  <thead>\n",
       "    <tr style=\"text-align: right;\">\n",
       "      <th></th>\n",
       "      <th>n</th>\n",
       "      <th>r</th>\n",
       "      <th>CI95%</th>\n",
       "      <th>p-val</th>\n",
       "    </tr>\n",
       "  </thead>\n",
       "  <tbody>\n",
       "    <tr>\n",
       "      <th>spearman</th>\n",
       "      <td>161</td>\n",
       "      <td>-0.416101</td>\n",
       "      <td>[-0.54, -0.28]</td>\n",
       "      <td>4.443344e-08</td>\n",
       "    </tr>\n",
       "  </tbody>\n",
       "</table>\n",
       "</div>"
      ],
      "text/plain": [
       "            n         r           CI95%         p-val\n",
       "spearman  161 -0.416101  [-0.54, -0.28]  4.443344e-08"
      ]
     },
     "execution_count": 243,
     "metadata": {},
     "output_type": "execute_result"
    }
   ],
   "source": [
    "pg.partial_corr(data=df_without_empties, x='Travelservicesofcommercial', y='Commercialserviceexportscurr', covar='Travelservicesofserviceex', method = 'spearman')"
   ]
  },
  {
   "cell_type": "code",
   "execution_count": 244,
   "metadata": {},
   "outputs": [
    {
     "data": {
      "image/png": "[encoded data removed]",
      "text/plain": [
       "<Figure size 432x432 with 1 Axes>"
      ]
     },
     "metadata": {
      "needs_background": "light"
     },
     "output_type": "display_data"
    }
   ],
   "source": [
    "plt.figure(figsize=(6, 6))\n",
    "\n",
    "plt.scatter(df_without_empties.Travelservicesofcommercial, df_without_empties.Commercialserviceexportscurr, c='g', alpha=0.7, label='r_xy')\n",
    "plt.scatter(df_without_empties.Travelservicesofcommercial, df_without_empties.Travelservicesofserviceex, c='b', alpha=0.7, label='r_xz')\n",
    "plt.scatter(df_without_empties.Commercialserviceexportscurr, df_without_empties.Travelservicesofserviceex, c='r', alpha=0.7, label='r_yz')\n",
    "plt.title('Correlations', fontsize=18)\n",
    "plt.legend()\n",
    "plt.show()"
   ]
  },
  {
   "cell_type": "markdown",
   "metadata": {},
   "source": [
    "#### high_income"
   ]
  },
  {
   "cell_type": "code",
   "execution_count": 245,
   "metadata": {},
   "outputs": [
    {
     "data": {
      "text/html": [
       "<div>\n",
       "<style scoped>\n",
       "    .dataframe tbody tr th:only-of-type {\n",
       "        vertical-align: middle;\n",
       "    }\n",
       "\n",
       "    .dataframe tbody tr th {\n",
       "        vertical-align: top;\n",
       "    }\n",
       "\n",
       "    .dataframe thead th {\n",
       "        text-align: right;\n",
       "    }\n",
       "</style>\n",
       "<table border=\"1\" class=\"dataframe\">\n",
       "  <thead>\n",
       "    <tr style=\"text-align: right;\">\n",
       "      <th></th>\n",
       "      <th>n</th>\n",
       "      <th>r</th>\n",
       "      <th>CI95%</th>\n",
       "      <th>p-val</th>\n",
       "    </tr>\n",
       "  </thead>\n",
       "  <tbody>\n",
       "    <tr>\n",
       "      <th>spearman</th>\n",
       "      <td>161</td>\n",
       "      <td>-0.24641</td>\n",
       "      <td>[-0.39, -0.09]</td>\n",
       "      <td>0.001684</td>\n",
       "    </tr>\n",
       "  </tbody>\n",
       "</table>\n",
       "</div>"
      ],
      "text/plain": [
       "            n        r           CI95%     p-val\n",
       "spearman  161 -0.24641  [-0.39, -0.09]  0.001684"
      ]
     },
     "execution_count": 245,
     "metadata": {},
     "output_type": "execute_result"
    }
   ],
   "source": [
    "pg.partial_corr(data=df_without_empties, x='Travelservicesofcommercial', y='Commercialserviceexportscurr', covar='high_income', method = 'spearman')"
   ]
  },
  {
   "cell_type": "code",
   "execution_count": 246,
   "metadata": {},
   "outputs": [
    {
     "data": {
      "image/png": "[encoded data removed]",
      "text/plain": [
       "<Figure size 432x432 with 1 Axes>"
      ]
     },
     "metadata": {
      "needs_background": "light"
     },
     "output_type": "display_data"
    }
   ],
   "source": [
    "plt.figure(figsize=(6, 6))\n",
    "\n",
    "plt.scatter(df_without_empties.Travelservicesofcommercial, df_without_empties.Commercialserviceexportscurr, c='g', alpha=0.7, label='r_xy')\n",
    "plt.scatter(df_without_empties.Travelservicesofcommercial, df_without_empties.high_income, c='b', alpha=0.7, label='r_xz')\n",
    "plt.scatter(df_without_empties.Commercialserviceexportscurr, df_without_empties.high_income, c='r', alpha=0.7, label='r_yz')\n",
    "plt.title('Correlations', fontsize=18)\n",
    "plt.legend()\n",
    "plt.show()"
   ]
  },
  {
   "cell_type": "markdown",
   "metadata": {},
   "source": [
    "The correlation now in not statistically significant and the correlation itself became weaker. Seems that high_income can explain the correlation between 'Travelservicesofcommercial' and 'Commercialserviceexportscurr'"
   ]
  },
  {
   "cell_type": "code",
   "execution_count": 247,
   "metadata": {},
   "outputs": [
    {
     "data": {
      "text/plain": [
       "SpearmanrResult(correlation=0.5200538367628067, pvalue=1.5491959477615879e-12)"
      ]
     },
     "execution_count": 247,
     "metadata": {},
     "output_type": "execute_result"
    }
   ],
   "source": [
    "stats.spearmanr(df_without_empties.dropna(subset=['high_income']).Commercialserviceexportscurr, df_without_empties.dropna(subset=['high_income']).high_income)"
   ]
  },
  {
   "cell_type": "markdown",
   "metadata": {},
   "source": [
    "Indeed, there is a medium correlation between Commercialserviceexportscurr and high_income."
   ]
  },
  {
   "cell_type": "markdown",
   "metadata": {},
   "source": [
    "### Conclusion:\n",
    "\n",
    "The correlation between Travelservicesofcommercial and Commercialserviceexportscurr can be explained by the following variables:\n",
    "- ArmsexportsSIPRItrendindica\n",
    "- ExportsofgoodsandservicesB\n",
    "- Exportsofgoodsandservicesc\n",
    "- GoodsexportsBoPcurrentUS\n",
    "- Hightechnologyexportscurrent\n",
    "- TaxesonexportscurrentLCU\n",
    "- high_income"
   ]
  },
  {
   "cell_type": "code",
   "execution_count": 248,
   "metadata": {},
   "outputs": [
    {
     "data": {
      "text/plain": [
       "<matplotlib.axes._subplots.AxesSubplot at 0x259bc327fa0>"
      ]
     },
     "execution_count": 248,
     "metadata": {},
     "output_type": "execute_result"
    },
    {
     "data": {
      "image/png": "[encoded data removed]",
      "text/plain": [
       "<Figure size 432x288 with 2 Axes>"
      ]
     },
     "metadata": {
      "needs_background": "light"
     },
     "output_type": "display_data"
    }
   ],
   "source": [
    "sns.heatmap(df[['Travelservicesofcommercial','Commercialserviceexportscurr','ArmsexportsSIPRItrendindica', 'ExportsofgoodsandservicesB','Exportsofgoodsandservicesc','GoodsexportsBoPcurrentUS','Hightechnologyexportscurrent','TaxesonexportscurrentLCU','high_income']].corr(), annot=True, cmap='RdYlGn')"
   ]
  },
  {
   "cell_type": "code",
   "execution_count": null,
   "metadata": {},
   "outputs": [],
   "source": []
  }
 ],
 "metadata": {
  "kernelspec": {
   "display_name": "Python 3",
   "language": "python",
   "name": "python3"
  },
  "language_info": {
   "codemirror_mode": {
    "name": "ipython",
    "version": 3
   },
   "file_extension": ".py",
   "mimetype": "text/x-python",
   "name": "python",
   "nbconvert_exporter": "python",
   "pygments_lexer": "ipython3",
   "version": "3.8.1"
  }
 },
 "nbformat": 4,
 "nbformat_minor": 4
}
