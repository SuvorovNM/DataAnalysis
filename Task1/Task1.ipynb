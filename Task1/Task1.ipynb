{
 "cells": [
  {
   "cell_type": "markdown",
   "metadata": {},
   "source": [
    "# 1. Importing a dataframe and preparing its description\n",
    "It is needed to import the dataset, remove redundant columns, set correct types, check existence of null-values"
   ]
  },
  {
   "cell_type": "code",
   "execution_count": 1,
   "metadata": {},
   "outputs": [],
   "source": [
    "import pandas as pd\n",
    "import seaborn as sns\n",
    "import matplotlib.pylab as plt"
   ]
  },
  {
   "cell_type": "code",
   "execution_count": 2,
   "metadata": {},
   "outputs": [
    {
     "data": {
      "text/html": [
       "<div>\n",
       "<style scoped>\n",
       "    .dataframe tbody tr th:only-of-type {\n",
       "        vertical-align: middle;\n",
       "    }\n",
       "\n",
       "    .dataframe tbody tr th {\n",
       "        vertical-align: top;\n",
       "    }\n",
       "\n",
       "    .dataframe thead th {\n",
       "        text-align: right;\n",
       "    }\n",
       "</style>\n",
       "<table border=\"1\" class=\"dataframe\">\n",
       "  <thead>\n",
       "    <tr style=\"text-align: right;\">\n",
       "      <th></th>\n",
       "      <th>track_name</th>\n",
       "      <th>size_bytes</th>\n",
       "      <th>currency</th>\n",
       "      <th>price</th>\n",
       "      <th>rating_count_tot</th>\n",
       "      <th>rating_count_ver</th>\n",
       "      <th>user_rating</th>\n",
       "      <th>user_rating_ver</th>\n",
       "      <th>ver</th>\n",
       "      <th>cont_rating</th>\n",
       "      <th>prime_genre</th>\n",
       "      <th>sup_devices.num</th>\n",
       "      <th>ipadSc_urls.num</th>\n",
       "      <th>lang.num</th>\n",
       "      <th>vpp_lic</th>\n",
       "    </tr>\n",
       "    <tr>\n",
       "      <th>id</th>\n",
       "      <th></th>\n",
       "      <th></th>\n",
       "      <th></th>\n",
       "      <th></th>\n",
       "      <th></th>\n",
       "      <th></th>\n",
       "      <th></th>\n",
       "      <th></th>\n",
       "      <th></th>\n",
       "      <th></th>\n",
       "      <th></th>\n",
       "      <th></th>\n",
       "      <th></th>\n",
       "      <th></th>\n",
       "      <th></th>\n",
       "    </tr>\n",
       "  </thead>\n",
       "  <tbody>\n",
       "    <tr>\n",
       "      <th>281656475</th>\n",
       "      <td>PAC-MAN Premium</td>\n",
       "      <td>100788224</td>\n",
       "      <td>USD</td>\n",
       "      <td>3.99</td>\n",
       "      <td>21292</td>\n",
       "      <td>26</td>\n",
       "      <td>4.0</td>\n",
       "      <td>4.5</td>\n",
       "      <td>6.3.5</td>\n",
       "      <td>4+</td>\n",
       "      <td>Games</td>\n",
       "      <td>38</td>\n",
       "      <td>5</td>\n",
       "      <td>10</td>\n",
       "      <td>1</td>\n",
       "    </tr>\n",
       "    <tr>\n",
       "      <th>281796108</th>\n",
       "      <td>Evernote - stay organized</td>\n",
       "      <td>158578688</td>\n",
       "      <td>USD</td>\n",
       "      <td>0.00</td>\n",
       "      <td>161065</td>\n",
       "      <td>26</td>\n",
       "      <td>4.0</td>\n",
       "      <td>3.5</td>\n",
       "      <td>8.2.2</td>\n",
       "      <td>4+</td>\n",
       "      <td>Productivity</td>\n",
       "      <td>37</td>\n",
       "      <td>5</td>\n",
       "      <td>23</td>\n",
       "      <td>1</td>\n",
       "    </tr>\n",
       "    <tr>\n",
       "      <th>281940292</th>\n",
       "      <td>WeatherBug - Local Weather, Radar, Maps, Alerts</td>\n",
       "      <td>100524032</td>\n",
       "      <td>USD</td>\n",
       "      <td>0.00</td>\n",
       "      <td>188583</td>\n",
       "      <td>2822</td>\n",
       "      <td>3.5</td>\n",
       "      <td>4.5</td>\n",
       "      <td>5.0.0</td>\n",
       "      <td>4+</td>\n",
       "      <td>Weather</td>\n",
       "      <td>37</td>\n",
       "      <td>5</td>\n",
       "      <td>3</td>\n",
       "      <td>1</td>\n",
       "    </tr>\n",
       "    <tr>\n",
       "      <th>282614216</th>\n",
       "      <td>eBay: Best App to Buy, Sell, Save! Online Shop...</td>\n",
       "      <td>128512000</td>\n",
       "      <td>USD</td>\n",
       "      <td>0.00</td>\n",
       "      <td>262241</td>\n",
       "      <td>649</td>\n",
       "      <td>4.0</td>\n",
       "      <td>4.5</td>\n",
       "      <td>5.10.0</td>\n",
       "      <td>12+</td>\n",
       "      <td>Shopping</td>\n",
       "      <td>37</td>\n",
       "      <td>5</td>\n",
       "      <td>9</td>\n",
       "      <td>1</td>\n",
       "    </tr>\n",
       "    <tr>\n",
       "      <th>282935706</th>\n",
       "      <td>Bible</td>\n",
       "      <td>92774400</td>\n",
       "      <td>USD</td>\n",
       "      <td>0.00</td>\n",
       "      <td>985920</td>\n",
       "      <td>5320</td>\n",
       "      <td>4.5</td>\n",
       "      <td>5.0</td>\n",
       "      <td>7.5.1</td>\n",
       "      <td>4+</td>\n",
       "      <td>Reference</td>\n",
       "      <td>37</td>\n",
       "      <td>5</td>\n",
       "      <td>45</td>\n",
       "      <td>1</td>\n",
       "    </tr>\n",
       "    <tr>\n",
       "      <th>...</th>\n",
       "      <td>...</td>\n",
       "      <td>...</td>\n",
       "      <td>...</td>\n",
       "      <td>...</td>\n",
       "      <td>...</td>\n",
       "      <td>...</td>\n",
       "      <td>...</td>\n",
       "      <td>...</td>\n",
       "      <td>...</td>\n",
       "      <td>...</td>\n",
       "      <td>...</td>\n",
       "      <td>...</td>\n",
       "      <td>...</td>\n",
       "      <td>...</td>\n",
       "      <td>...</td>\n",
       "    </tr>\n",
       "    <tr>\n",
       "      <th>1187617475</th>\n",
       "      <td>Kubik</td>\n",
       "      <td>126644224</td>\n",
       "      <td>USD</td>\n",
       "      <td>0.00</td>\n",
       "      <td>142</td>\n",
       "      <td>75</td>\n",
       "      <td>4.5</td>\n",
       "      <td>4.5</td>\n",
       "      <td>1.3</td>\n",
       "      <td>4+</td>\n",
       "      <td>Games</td>\n",
       "      <td>38</td>\n",
       "      <td>5</td>\n",
       "      <td>1</td>\n",
       "      <td>1</td>\n",
       "    </tr>\n",
       "    <tr>\n",
       "      <th>1187682390</th>\n",
       "      <td>VR Roller-Coaster</td>\n",
       "      <td>120760320</td>\n",
       "      <td>USD</td>\n",
       "      <td>0.00</td>\n",
       "      <td>30</td>\n",
       "      <td>30</td>\n",
       "      <td>4.5</td>\n",
       "      <td>4.5</td>\n",
       "      <td>0.9</td>\n",
       "      <td>4+</td>\n",
       "      <td>Games</td>\n",
       "      <td>38</td>\n",
       "      <td>0</td>\n",
       "      <td>1</td>\n",
       "      <td>1</td>\n",
       "    </tr>\n",
       "    <tr>\n",
       "      <th>1187779532</th>\n",
       "      <td>Bret Michaels Emojis + Lyric Keyboard</td>\n",
       "      <td>111322112</td>\n",
       "      <td>USD</td>\n",
       "      <td>1.99</td>\n",
       "      <td>15</td>\n",
       "      <td>0</td>\n",
       "      <td>4.5</td>\n",
       "      <td>0.0</td>\n",
       "      <td>1.0.2</td>\n",
       "      <td>9+</td>\n",
       "      <td>Utilities</td>\n",
       "      <td>37</td>\n",
       "      <td>1</td>\n",
       "      <td>1</td>\n",
       "      <td>1</td>\n",
       "    </tr>\n",
       "    <tr>\n",
       "      <th>1187838770</th>\n",
       "      <td>VR Roller Coaster World - Virtual Reality</td>\n",
       "      <td>97235968</td>\n",
       "      <td>USD</td>\n",
       "      <td>0.00</td>\n",
       "      <td>85</td>\n",
       "      <td>32</td>\n",
       "      <td>4.5</td>\n",
       "      <td>4.5</td>\n",
       "      <td>1.0.15</td>\n",
       "      <td>12+</td>\n",
       "      <td>Games</td>\n",
       "      <td>38</td>\n",
       "      <td>0</td>\n",
       "      <td>2</td>\n",
       "      <td>1</td>\n",
       "    </tr>\n",
       "    <tr>\n",
       "      <th>1188375727</th>\n",
       "      <td>Escape the Sweet Shop Series</td>\n",
       "      <td>90898432</td>\n",
       "      <td>USD</td>\n",
       "      <td>0.00</td>\n",
       "      <td>3</td>\n",
       "      <td>3</td>\n",
       "      <td>5.0</td>\n",
       "      <td>5.0</td>\n",
       "      <td>1.0</td>\n",
       "      <td>4+</td>\n",
       "      <td>Games</td>\n",
       "      <td>40</td>\n",
       "      <td>0</td>\n",
       "      <td>2</td>\n",
       "      <td>1</td>\n",
       "    </tr>\n",
       "  </tbody>\n",
       "</table>\n",
       "<p>7197 rows × 15 columns</p>\n",
       "</div>"
      ],
      "text/plain": [
       "                                                   track_name  size_bytes  \\\n",
       "id                                                                          \n",
       "281656475                                     PAC-MAN Premium   100788224   \n",
       "281796108                           Evernote - stay organized   158578688   \n",
       "281940292     WeatherBug - Local Weather, Radar, Maps, Alerts   100524032   \n",
       "282614216   eBay: Best App to Buy, Sell, Save! Online Shop...   128512000   \n",
       "282935706                                               Bible    92774400   \n",
       "...                                                       ...         ...   \n",
       "1187617475                                              Kubik   126644224   \n",
       "1187682390                                  VR Roller-Coaster   120760320   \n",
       "1187779532              Bret Michaels Emojis + Lyric Keyboard   111322112   \n",
       "1187838770          VR Roller Coaster World - Virtual Reality    97235968   \n",
       "1188375727                       Escape the Sweet Shop Series    90898432   \n",
       "\n",
       "           currency  price  rating_count_tot  rating_count_ver  user_rating  \\\n",
       "id                                                                            \n",
       "281656475       USD   3.99             21292                26          4.0   \n",
       "281796108       USD   0.00            161065                26          4.0   \n",
       "281940292       USD   0.00            188583              2822          3.5   \n",
       "282614216       USD   0.00            262241               649          4.0   \n",
       "282935706       USD   0.00            985920              5320          4.5   \n",
       "...             ...    ...               ...               ...          ...   \n",
       "1187617475      USD   0.00               142                75          4.5   \n",
       "1187682390      USD   0.00                30                30          4.5   \n",
       "1187779532      USD   1.99                15                 0          4.5   \n",
       "1187838770      USD   0.00                85                32          4.5   \n",
       "1188375727      USD   0.00                 3                 3          5.0   \n",
       "\n",
       "            user_rating_ver     ver cont_rating   prime_genre  \\\n",
       "id                                                              \n",
       "281656475               4.5   6.3.5          4+         Games   \n",
       "281796108               3.5   8.2.2          4+  Productivity   \n",
       "281940292               4.5   5.0.0          4+       Weather   \n",
       "282614216               4.5  5.10.0         12+      Shopping   \n",
       "282935706               5.0   7.5.1          4+     Reference   \n",
       "...                     ...     ...         ...           ...   \n",
       "1187617475              4.5     1.3          4+         Games   \n",
       "1187682390              4.5     0.9          4+         Games   \n",
       "1187779532              0.0   1.0.2          9+     Utilities   \n",
       "1187838770              4.5  1.0.15         12+         Games   \n",
       "1188375727              5.0     1.0          4+         Games   \n",
       "\n",
       "            sup_devices.num  ipadSc_urls.num  lang.num  vpp_lic  \n",
       "id                                                               \n",
       "281656475                38                5        10        1  \n",
       "281796108                37                5        23        1  \n",
       "281940292                37                5         3        1  \n",
       "282614216                37                5         9        1  \n",
       "282935706                37                5        45        1  \n",
       "...                     ...              ...       ...      ...  \n",
       "1187617475               38                5         1        1  \n",
       "1187682390               38                0         1        1  \n",
       "1187779532               37                1         1        1  \n",
       "1187838770               38                0         2        1  \n",
       "1188375727               40                0         2        1  \n",
       "\n",
       "[7197 rows x 15 columns]"
      ]
     },
     "execution_count": 2,
     "metadata": {},
     "output_type": "execute_result"
    }
   ],
   "source": [
    "df = pd.read_csv(\"AppleStore.csv\", usecols = [i + 1 for i in range(16)], index_col=0) # skipping first column\n",
    "df"
   ]
  },
  {
   "cell_type": "markdown",
   "metadata": {},
   "source": [
    "## As is seen, some columns are not properly identified for a type - changing this information according to description of columns and their possible values:\n",
    "#### track_name -> string (column represents names of games, no other type is appropriate here)\n",
    "#### currency -> category (it is more of a categorical type, but in this dataset there is only one currency - USD, seems not the best column here)\n",
    "#### ver -> string (a column represents game version, string type is more appropriate here)\n",
    "#### cont_rating -> category (rating here is categorical, has only few values in total)\n",
    "#### prime_genre -> category (genre is also categorical and there are only few possible values here)\n",
    "#### vpp_lic -> bool (despite of the fact that type is defined as int64, it has only True/False and according to column description it should be boolean value)"
   ]
  },
  {
   "cell_type": "code",
   "execution_count": 3,
   "metadata": {},
   "outputs": [
    {
     "name": "stdout",
     "output_type": "stream",
     "text": [
      "<class 'pandas.core.frame.DataFrame'>\n",
      "Int64Index: 7197 entries, 281656475 to 1188375727\n",
      "Data columns (total 15 columns):\n",
      " #   Column            Non-Null Count  Dtype  \n",
      "---  ------            --------------  -----  \n",
      " 0   track_name        7197 non-null   object \n",
      " 1   size_bytes        7197 non-null   int64  \n",
      " 2   currency          7197 non-null   object \n",
      " 3   price             7197 non-null   float64\n",
      " 4   rating_count_tot  7197 non-null   int64  \n",
      " 5   rating_count_ver  7197 non-null   int64  \n",
      " 6   user_rating       7197 non-null   float64\n",
      " 7   user_rating_ver   7197 non-null   float64\n",
      " 8   ver               7197 non-null   object \n",
      " 9   cont_rating       7197 non-null   object \n",
      " 10  prime_genre       7197 non-null   object \n",
      " 11  sup_devices.num   7197 non-null   int64  \n",
      " 12  ipadSc_urls.num   7197 non-null   int64  \n",
      " 13  lang.num          7197 non-null   int64  \n",
      " 14  vpp_lic           7197 non-null   int64  \n",
      "dtypes: float64(3), int64(7), object(5)\n",
      "memory usage: 899.6+ KB\n"
     ]
    }
   ],
   "source": [
    "df.info()"
   ]
  },
  {
   "cell_type": "code",
   "execution_count": 4,
   "metadata": {},
   "outputs": [],
   "source": [
    "df['track_name'] = df['track_name'].astype('string')\n",
    "df['currency'] = df['currency'].astype('category')\n",
    "df['ver'] = df['ver'].astype('string')\n",
    "df['cont_rating'] = df['cont_rating'].astype('category')\n",
    "df['prime_genre'] = df['prime_genre'].astype('category')\n",
    "df['vpp_lic'] = df['vpp_lic'].astype('bool')"
   ]
  },
  {
   "cell_type": "markdown",
   "metadata": {},
   "source": [
    "#### Removing extra spaces in string types"
   ]
  },
  {
   "cell_type": "code",
   "execution_count": 5,
   "metadata": {},
   "outputs": [],
   "source": [
    "df['track_name']=df['track_name'].str.strip()\n",
    "df['ver'] = df['ver'].str.strip()"
   ]
  },
  {
   "cell_type": "markdown",
   "metadata": {},
   "source": [
    "### Getting final info"
   ]
  },
  {
   "cell_type": "code",
   "execution_count": 6,
   "metadata": {},
   "outputs": [
    {
     "name": "stdout",
     "output_type": "stream",
     "text": [
      "<class 'pandas.core.frame.DataFrame'>\n",
      "Int64Index: 7197 entries, 281656475 to 1188375727\n",
      "Data columns (total 15 columns):\n",
      " #   Column            Non-Null Count  Dtype   \n",
      "---  ------            --------------  -----   \n",
      " 0   track_name        7197 non-null   string  \n",
      " 1   size_bytes        7197 non-null   int64   \n",
      " 2   currency          7197 non-null   category\n",
      " 3   price             7197 non-null   float64 \n",
      " 4   rating_count_tot  7197 non-null   int64   \n",
      " 5   rating_count_ver  7197 non-null   int64   \n",
      " 6   user_rating       7197 non-null   float64 \n",
      " 7   user_rating_ver   7197 non-null   float64 \n",
      " 8   ver               7197 non-null   string  \n",
      " 9   cont_rating       7197 non-null   category\n",
      " 10  prime_genre       7197 non-null   category\n",
      " 11  sup_devices.num   7197 non-null   int64   \n",
      " 12  ipadSc_urls.num   7197 non-null   int64   \n",
      " 13  lang.num          7197 non-null   int64   \n",
      " 14  vpp_lic           7197 non-null   bool    \n",
      "dtypes: bool(1), category(3), float64(3), int64(6), string(2)\n",
      "memory usage: 703.9 KB\n"
     ]
    }
   ],
   "source": [
    "df.info()"
   ]
  },
  {
   "cell_type": "markdown",
   "metadata": {},
   "source": [
    "#### Checking existence of undetected null-values"
   ]
  },
  {
   "cell_type": "code",
   "execution_count": 7,
   "metadata": {},
   "outputs": [
    {
     "data": {
      "text/plain": [
       "False"
      ]
     },
     "execution_count": 7,
     "metadata": {},
     "output_type": "execute_result"
    }
   ],
   "source": [
    "df.isnull().values.any()"
   ]
  },
  {
   "cell_type": "code",
   "execution_count": 8,
   "metadata": {},
   "outputs": [
    {
     "data": {
      "text/html": [
       "<div>\n",
       "<style scoped>\n",
       "    .dataframe tbody tr th:only-of-type {\n",
       "        vertical-align: middle;\n",
       "    }\n",
       "\n",
       "    .dataframe tbody tr th {\n",
       "        vertical-align: top;\n",
       "    }\n",
       "\n",
       "    .dataframe thead th {\n",
       "        text-align: right;\n",
       "    }\n",
       "</style>\n",
       "<table border=\"1\" class=\"dataframe\">\n",
       "  <thead>\n",
       "    <tr style=\"text-align: right;\">\n",
       "      <th></th>\n",
       "      <th>track_name</th>\n",
       "      <th>size_bytes</th>\n",
       "      <th>currency</th>\n",
       "      <th>price</th>\n",
       "      <th>rating_count_tot</th>\n",
       "      <th>rating_count_ver</th>\n",
       "      <th>user_rating</th>\n",
       "      <th>user_rating_ver</th>\n",
       "      <th>ver</th>\n",
       "      <th>cont_rating</th>\n",
       "      <th>prime_genre</th>\n",
       "      <th>sup_devices.num</th>\n",
       "      <th>ipadSc_urls.num</th>\n",
       "      <th>lang.num</th>\n",
       "      <th>vpp_lic</th>\n",
       "    </tr>\n",
       "    <tr>\n",
       "      <th>id</th>\n",
       "      <th></th>\n",
       "      <th></th>\n",
       "      <th></th>\n",
       "      <th></th>\n",
       "      <th></th>\n",
       "      <th></th>\n",
       "      <th></th>\n",
       "      <th></th>\n",
       "      <th></th>\n",
       "      <th></th>\n",
       "      <th></th>\n",
       "      <th></th>\n",
       "      <th></th>\n",
       "      <th></th>\n",
       "      <th></th>\n",
       "    </tr>\n",
       "  </thead>\n",
       "  <tbody>\n",
       "  </tbody>\n",
       "</table>\n",
       "</div>"
      ],
      "text/plain": [
       "Empty DataFrame\n",
       "Columns: [track_name, size_bytes, currency, price, rating_count_tot, rating_count_ver, user_rating, user_rating_ver, ver, cont_rating, prime_genre, sup_devices.num, ipadSc_urls.num, lang.num, vpp_lic]\n",
       "Index: []"
      ]
     },
     "execution_count": 8,
     "metadata": {},
     "output_type": "execute_result"
    }
   ],
   "source": [
    "df[(df['track_name'] == '') | (df['ver'] == '')]"
   ]
  },
  {
   "cell_type": "markdown",
   "metadata": {},
   "source": [
    "## Description of the dataset:\n",
    "#### Number of observations: 7197.\n",
    "#### Number of variables: 15 without ID (there was another one no-name column in .csv-file but as no description is given for this column, the column was skipped).\n",
    "#### Number of empty values: 0 - checked by df.info() and df.isnull().values.any(). It still can not guarantee absence of empty string values; thus this aspect was checked differently: by stripping all values and trying to find any empty values.\n",
    "As for the data types, track_name and ver have to be strings as they cannot be properly represented by other types (and have quite much possible values). Columns size_bytes, rating_count_tot, rating_count_ver, sup_devices.num, ipadSc_urls.num and lang.num are all integers as they represent quantity/amount. Column price can only be of a float type (or even in more precise data type). Columns user_rating and user_rating_ver can be in float (with a scale [0-5]), but I guess they potentially can be of categorical type, too, if we do consider that only those ratings are possible (there are only values 0, 0.5, 1,...), but it mostly depends on the task which we are solving, so currently it is quite difficult to determing the most appropriate type here. Columns currency, cont_rating and prime_genre are, of course, categories as there are only few values for all these columns and they can be treated as categories."
   ]
  },
  {
   "cell_type": "code",
   "execution_count": 9,
   "metadata": {},
   "outputs": [
    {
     "data": {
      "text/plain": [
       "4.5    2663\n",
       "4.0    1626\n",
       "0.0     929\n",
       "3.5     702\n",
       "5.0     492\n",
       "3.0     383\n",
       "2.5     196\n",
       "2.0     106\n",
       "1.5      56\n",
       "1.0      44\n",
       "Name: user_rating, dtype: int64"
      ]
     },
     "execution_count": 9,
     "metadata": {},
     "output_type": "execute_result"
    }
   ],
   "source": [
    "df['user_rating'].value_counts()"
   ]
  },
  {
   "cell_type": "markdown",
   "metadata": {},
   "source": [
    "# 2. Performing analysis"
   ]
  },
  {
   "cell_type": "markdown",
   "metadata": {},
   "source": [
    "## Which primary genres are more and less popular?"
   ]
  },
  {
   "cell_type": "markdown",
   "metadata": {},
   "source": [
    "Task: find the most and the least popular genres. To accomplish this task it is possible to group the dataframe by a prime_genre and select sum of rating_count_tot. Although some intersections of users will be found, it is still one of the most adequate aggregate functions which can be used here and it will still show the tendency. Moreover, it is possible to add new column - \"Percentage\" to see \"the share of a genre on a market\" (or more concisely, the share of ratings of the genre from all the ratings).\n",
    "The results can be presented either through the table (prime_genre, rating_count_tot) or through a horizontal bar chart (but due to big quantity of genres, the bar chart is still not the best solution here"
   ]
  },
  {
   "cell_type": "code",
   "execution_count": 10,
   "metadata": {},
   "outputs": [],
   "source": [
    "total_rating_count = df['rating_count_tot'].sum()"
   ]
  },
  {
   "cell_type": "code",
   "execution_count": 11,
   "metadata": {},
   "outputs": [
    {
     "data": {
      "text/html": [
       "<div>\n",
       "<style scoped>\n",
       "    .dataframe tbody tr th:only-of-type {\n",
       "        vertical-align: middle;\n",
       "    }\n",
       "\n",
       "    .dataframe tbody tr th {\n",
       "        vertical-align: top;\n",
       "    }\n",
       "\n",
       "    .dataframe thead th {\n",
       "        text-align: right;\n",
       "    }\n",
       "</style>\n",
       "<table border=\"1\" class=\"dataframe\">\n",
       "  <thead>\n",
       "    <tr style=\"text-align: right;\">\n",
       "      <th></th>\n",
       "      <th>rating_count_tot</th>\n",
       "      <th>Percentage</th>\n",
       "    </tr>\n",
       "    <tr>\n",
       "      <th>prime_genre</th>\n",
       "      <th></th>\n",
       "      <th></th>\n",
       "    </tr>\n",
       "  </thead>\n",
       "  <tbody>\n",
       "    <tr>\n",
       "      <th>Medical</th>\n",
       "      <td>13634</td>\n",
       "      <td>0.014693</td>\n",
       "    </tr>\n",
       "    <tr>\n",
       "      <th>Catalogs</th>\n",
       "      <td>17325</td>\n",
       "      <td>0.018671</td>\n",
       "    </tr>\n",
       "    <tr>\n",
       "      <th>Business</th>\n",
       "      <td>272921</td>\n",
       "      <td>0.294127</td>\n",
       "    </tr>\n",
       "    <tr>\n",
       "      <th>Navigation</th>\n",
       "      <td>545282</td>\n",
       "      <td>0.587650</td>\n",
       "    </tr>\n",
       "    <tr>\n",
       "      <th>Book</th>\n",
       "      <td>574049</td>\n",
       "      <td>0.618652</td>\n",
       "    </tr>\n",
       "    <tr>\n",
       "      <th>Food &amp; Drink</th>\n",
       "      <td>878133</td>\n",
       "      <td>0.946363</td>\n",
       "    </tr>\n",
       "    <tr>\n",
       "      <th>Lifestyle</th>\n",
       "      <td>887294</td>\n",
       "      <td>0.956236</td>\n",
       "    </tr>\n",
       "    <tr>\n",
       "      <th>News</th>\n",
       "      <td>976130</td>\n",
       "      <td>1.051975</td>\n",
       "    </tr>\n",
       "    <tr>\n",
       "      <th>Education</th>\n",
       "      <td>1014371</td>\n",
       "      <td>1.093187</td>\n",
       "    </tr>\n",
       "    <tr>\n",
       "      <th>Travel</th>\n",
       "      <td>1144485</td>\n",
       "      <td>1.233411</td>\n",
       "    </tr>\n",
       "    <tr>\n",
       "      <th>Finance</th>\n",
       "      <td>1148956</td>\n",
       "      <td>1.238229</td>\n",
       "    </tr>\n",
       "    <tr>\n",
       "      <th>Productivity</th>\n",
       "      <td>1433136</td>\n",
       "      <td>1.544490</td>\n",
       "    </tr>\n",
       "    <tr>\n",
       "      <th>Reference</th>\n",
       "      <td>1434294</td>\n",
       "      <td>1.545738</td>\n",
       "    </tr>\n",
       "    <tr>\n",
       "      <th>Weather</th>\n",
       "      <td>1597034</td>\n",
       "      <td>1.721123</td>\n",
       "    </tr>\n",
       "    <tr>\n",
       "      <th>Sports</th>\n",
       "      <td>1599070</td>\n",
       "      <td>1.723317</td>\n",
       "    </tr>\n",
       "    <tr>\n",
       "      <th>Utilities</th>\n",
       "      <td>1702228</td>\n",
       "      <td>1.834490</td>\n",
       "    </tr>\n",
       "    <tr>\n",
       "      <th>Health &amp; Fitness</th>\n",
       "      <td>1784371</td>\n",
       "      <td>1.923016</td>\n",
       "    </tr>\n",
       "    <tr>\n",
       "      <th>Shopping</th>\n",
       "      <td>2271070</td>\n",
       "      <td>2.447531</td>\n",
       "    </tr>\n",
       "    <tr>\n",
       "      <th>Music</th>\n",
       "      <td>3980199</td>\n",
       "      <td>4.289458</td>\n",
       "    </tr>\n",
       "    <tr>\n",
       "      <th>Entertainment</th>\n",
       "      <td>4030518</td>\n",
       "      <td>4.343687</td>\n",
       "    </tr>\n",
       "    <tr>\n",
       "      <th>Photo &amp; Video</th>\n",
       "      <td>5008946</td>\n",
       "      <td>5.398138</td>\n",
       "    </tr>\n",
       "    <tr>\n",
       "      <th>Social Networking</th>\n",
       "      <td>7598316</td>\n",
       "      <td>8.188701</td>\n",
       "    </tr>\n",
       "    <tr>\n",
       "      <th>Games</th>\n",
       "      <td>52878491</td>\n",
       "      <td>56.987118</td>\n",
       "    </tr>\n",
       "  </tbody>\n",
       "</table>\n",
       "</div>"
      ],
      "text/plain": [
       "                   rating_count_tot  Percentage\n",
       "prime_genre                                    \n",
       "Medical                       13634    0.014693\n",
       "Catalogs                      17325    0.018671\n",
       "Business                     272921    0.294127\n",
       "Navigation                   545282    0.587650\n",
       "Book                         574049    0.618652\n",
       "Food & Drink                 878133    0.946363\n",
       "Lifestyle                    887294    0.956236\n",
       "News                         976130    1.051975\n",
       "Education                   1014371    1.093187\n",
       "Travel                      1144485    1.233411\n",
       "Finance                     1148956    1.238229\n",
       "Productivity                1433136    1.544490\n",
       "Reference                   1434294    1.545738\n",
       "Weather                     1597034    1.721123\n",
       "Sports                      1599070    1.723317\n",
       "Utilities                   1702228    1.834490\n",
       "Health & Fitness            1784371    1.923016\n",
       "Shopping                    2271070    2.447531\n",
       "Music                       3980199    4.289458\n",
       "Entertainment               4030518    4.343687\n",
       "Photo & Video               5008946    5.398138\n",
       "Social Networking           7598316    8.188701\n",
       "Games                      52878491   56.987118"
      ]
     },
     "execution_count": 11,
     "metadata": {},
     "output_type": "execute_result"
    }
   ],
   "source": [
    "rating=df.groupby(\"prime_genre\")[['rating_count_tot']].agg('sum').sort_values(by='rating_count_tot')\n",
    "rating[\"Percentage\"]=(rating[\"rating_count_tot\"] / total_rating_count) * 100\n",
    "rating"
   ]
  },
  {
   "cell_type": "code",
   "execution_count": 12,
   "metadata": {},
   "outputs": [
    {
     "data": {
      "text/plain": [
       "<matplotlib.axes._subplots.AxesSubplot at 0x2aec741b6a0>"
      ]
     },
     "execution_count": 12,
     "metadata": {},
     "output_type": "execute_result"
    },
    {
     "data": {
      "image/png": "[encoded data removed]",
      "text/plain": [
       "<Figure size 432x288 with 1 Axes>"
      ]
     },
     "metadata": {
      "needs_background": "light"
     },
     "output_type": "display_data"
    }
   ],
   "source": [
    "df.groupby(\"prime_genre\")['rating_count_tot'].agg('sum').sort_values().plot.barh()"
   ]
  },
  {
   "cell_type": "markdown",
   "metadata": {},
   "source": [
    "### Results:\n",
    "The outstanding genre is Games - this genre is more popular than all the other genres together and 57% of ratings are given to games. Other most popular genres include social networking, photo & video, entertainment and music having 4,2-8,2%% of ratings. The least popular genres are medical and catalogs - less than 0.02% of ratings are given to them. Other least popular genres include business, navigation and book (all have less than 0.62%)"
   ]
  },
  {
   "cell_type": "markdown",
   "metadata": {},
   "source": [
    "## How do you visualize price distribution of paid apps, please, descripe the shape of it?"
   ]
  },
  {
   "cell_type": "markdown",
   "metadata": {},
   "source": [
    "Task: visualize price distribution of paid apps and determine its shape. To perform this task the variable 'price' is needed. Firstly, it is needed to filter out zero-price rows and if there are still some extreme values, they have to be cut off for proper visualization (boxplots can be helpful here). For visualization, distribution plot can be used. Such metrics as skewness and kurtosis have to be evaluated to properly describe the shape."
   ]
  },
  {
   "cell_type": "code",
   "execution_count": 13,
   "metadata": {},
   "outputs": [],
   "source": [
    "paid_apps = df[df['price']>0][['price']]"
   ]
  },
  {
   "cell_type": "code",
   "execution_count": 14,
   "metadata": {},
   "outputs": [
    {
     "data": {
      "text/plain": [
       "<matplotlib.axes._subplots.AxesSubplot at 0x2aec9531c70>"
      ]
     },
     "execution_count": 14,
     "metadata": {},
     "output_type": "execute_result"
    },
    {
     "data": {
      "image/png": "[encoded data removed]",
      "text/plain": [
       "<Figure size 432x288 with 1 Axes>"
      ]
     },
     "metadata": {
      "needs_background": "light"
     },
     "output_type": "display_data"
    }
   ],
   "source": [
    "sns.distplot(paid_apps)"
   ]
  },
  {
   "cell_type": "code",
   "execution_count": 15,
   "metadata": {},
   "outputs": [
    {
     "data": {
      "text/plain": [
       "<matplotlib.axes._subplots.AxesSubplot at 0x2aec95c4b20>"
      ]
     },
     "execution_count": 15,
     "metadata": {},
     "output_type": "execute_result"
    },
    {
     "data": {
      "image/png": "[encoded data removed]",
      "text/plain": [
       "<Figure size 432x288 with 1 Axes>"
      ]
     },
     "metadata": {
      "needs_background": "light"
     },
     "output_type": "display_data"
    }
   ],
   "source": [
    "paid_apps.boxplot()"
   ]
  },
  {
   "cell_type": "code",
   "execution_count": 16,
   "metadata": {},
   "outputs": [
    {
     "data": {
      "text/plain": [
       "<matplotlib.axes._subplots.AxesSubplot at 0x2aec96a3e50>"
      ]
     },
     "execution_count": 16,
     "metadata": {},
     "output_type": "execute_result"
    },
    {
     "data": {
      "image/png": "[encoded data removed]",
      "text/plain": [
       "<Figure size 432x288 with 1 Axes>"
      ]
     },
     "metadata": {
      "needs_background": "light"
     },
     "output_type": "display_data"
    }
   ],
   "source": [
    "paid_apps = paid_apps[paid_apps['price']<150]\n",
    "sns.distplot(paid_apps)"
   ]
  },
  {
   "cell_type": "code",
   "execution_count": 17,
   "metadata": {},
   "outputs": [
    {
     "data": {
      "text/plain": [
       "8.016784106410277"
      ]
     },
     "execution_count": 17,
     "metadata": {},
     "output_type": "execute_result"
    }
   ],
   "source": [
    "paid_apps['price'].skew()"
   ]
  },
  {
   "cell_type": "code",
   "execution_count": 18,
   "metadata": {},
   "outputs": [
    {
     "data": {
      "text/plain": [
       "107.37312265863149"
      ]
     },
     "execution_count": 18,
     "metadata": {},
     "output_type": "execute_result"
    }
   ],
   "source": [
    "paid_apps['price'].kurtosis()"
   ]
  },
  {
   "cell_type": "markdown",
   "metadata": {},
   "source": [
    "### Result:\n",
    "According to visualizations and calculated parameters, we have a highly skewed leptokurtic distribution with positive skewness (skewness > 8, kurtosis > 100) for price. However, cutting off a bigger amount of extreme values can potentially lead to a bit more different result but the main trend would still be the same."
   ]
  },
  {
   "cell_type": "markdown",
   "metadata": {},
   "source": [
    "## How does the price distribution get affected by category? (assuming only paid apps, and genre as a category)"
   ]
  },
  {
   "cell_type": "markdown",
   "metadata": {},
   "source": [
    "Task: evaluate affect of category on the price distribution. Columns 'price' and 'genre' are needed. Since the comparison of more than 20 plots is a cumbersome task, the task can be accomplished by evaluating skewness and kurtosis for every single category and comparing the category values on bar charts. Additionaly, the description table for prices of each category can be built, which shows mean value, quartiles, min and max values."
   ]
  },
  {
   "cell_type": "code",
   "execution_count": 19,
   "metadata": {},
   "outputs": [],
   "source": [
    "price_by_category = df[df['price']>0].groupby(\"prime_genre\")[['price']]"
   ]
  },
  {
   "cell_type": "code",
   "execution_count": 20,
   "metadata": {},
   "outputs": [
    {
     "data": {
      "text/html": [
       "<div>\n",
       "<style scoped>\n",
       "    .dataframe tbody tr th:only-of-type {\n",
       "        vertical-align: middle;\n",
       "    }\n",
       "\n",
       "    .dataframe tbody tr th {\n",
       "        vertical-align: top;\n",
       "    }\n",
       "\n",
       "    .dataframe thead tr th {\n",
       "        text-align: left;\n",
       "    }\n",
       "\n",
       "    .dataframe thead tr:last-of-type th {\n",
       "        text-align: right;\n",
       "    }\n",
       "</style>\n",
       "<table border=\"1\" class=\"dataframe\">\n",
       "  <thead>\n",
       "    <tr>\n",
       "      <th></th>\n",
       "      <th colspan=\"8\" halign=\"left\">price</th>\n",
       "    </tr>\n",
       "    <tr>\n",
       "      <th></th>\n",
       "      <th>count</th>\n",
       "      <th>mean</th>\n",
       "      <th>std</th>\n",
       "      <th>min</th>\n",
       "      <th>25%</th>\n",
       "      <th>50%</th>\n",
       "      <th>75%</th>\n",
       "      <th>max</th>\n",
       "    </tr>\n",
       "    <tr>\n",
       "      <th>prime_genre</th>\n",
       "      <th></th>\n",
       "      <th></th>\n",
       "      <th></th>\n",
       "      <th></th>\n",
       "      <th></th>\n",
       "      <th></th>\n",
       "      <th></th>\n",
       "      <th></th>\n",
       "    </tr>\n",
       "  </thead>\n",
       "  <tbody>\n",
       "    <tr>\n",
       "      <th>Book</th>\n",
       "      <td>46.0</td>\n",
       "      <td>4.359565</td>\n",
       "      <td>4.013082</td>\n",
       "      <td>0.99</td>\n",
       "      <td>2.99</td>\n",
       "      <td>3.99</td>\n",
       "      <td>5.74</td>\n",
       "      <td>27.99</td>\n",
       "    </tr>\n",
       "    <tr>\n",
       "      <th>Business</th>\n",
       "      <td>37.0</td>\n",
       "      <td>7.881892</td>\n",
       "      <td>11.871497</td>\n",
       "      <td>0.99</td>\n",
       "      <td>2.99</td>\n",
       "      <td>4.99</td>\n",
       "      <td>7.99</td>\n",
       "      <td>59.99</td>\n",
       "    </tr>\n",
       "    <tr>\n",
       "      <th>Catalogs</th>\n",
       "      <td>1.0</td>\n",
       "      <td>7.990000</td>\n",
       "      <td>NaN</td>\n",
       "      <td>7.99</td>\n",
       "      <td>7.99</td>\n",
       "      <td>7.99</td>\n",
       "      <td>7.99</td>\n",
       "      <td>7.99</td>\n",
       "    </tr>\n",
       "    <tr>\n",
       "      <th>Education</th>\n",
       "      <td>321.0</td>\n",
       "      <td>5.684704</td>\n",
       "      <td>22.042295</td>\n",
       "      <td>0.99</td>\n",
       "      <td>2.99</td>\n",
       "      <td>2.99</td>\n",
       "      <td>3.99</td>\n",
       "      <td>299.99</td>\n",
       "    </tr>\n",
       "    <tr>\n",
       "      <th>Entertainment</th>\n",
       "      <td>201.0</td>\n",
       "      <td>2.368109</td>\n",
       "      <td>1.458190</td>\n",
       "      <td>0.99</td>\n",
       "      <td>0.99</td>\n",
       "      <td>1.99</td>\n",
       "      <td>2.99</td>\n",
       "      <td>9.99</td>\n",
       "    </tr>\n",
       "    <tr>\n",
       "      <th>Finance</th>\n",
       "      <td>20.0</td>\n",
       "      <td>2.190000</td>\n",
       "      <td>1.609184</td>\n",
       "      <td>0.99</td>\n",
       "      <td>0.99</td>\n",
       "      <td>0.99</td>\n",
       "      <td>3.24</td>\n",
       "      <td>5.99</td>\n",
       "    </tr>\n",
       "    <tr>\n",
       "      <th>Food &amp; Drink</th>\n",
       "      <td>20.0</td>\n",
       "      <td>4.890000</td>\n",
       "      <td>5.857070</td>\n",
       "      <td>0.99</td>\n",
       "      <td>1.99</td>\n",
       "      <td>3.99</td>\n",
       "      <td>4.99</td>\n",
       "      <td>27.99</td>\n",
       "    </tr>\n",
       "    <tr>\n",
       "      <th>Games</th>\n",
       "      <td>1605.0</td>\n",
       "      <td>3.447944</td>\n",
       "      <td>2.816323</td>\n",
       "      <td>0.99</td>\n",
       "      <td>0.99</td>\n",
       "      <td>2.99</td>\n",
       "      <td>4.99</td>\n",
       "      <td>29.99</td>\n",
       "    </tr>\n",
       "    <tr>\n",
       "      <th>Health &amp; Fitness</th>\n",
       "      <td>104.0</td>\n",
       "      <td>3.316923</td>\n",
       "      <td>1.621711</td>\n",
       "      <td>0.99</td>\n",
       "      <td>1.99</td>\n",
       "      <td>2.99</td>\n",
       "      <td>3.99</td>\n",
       "      <td>9.99</td>\n",
       "    </tr>\n",
       "    <tr>\n",
       "      <th>Lifestyle</th>\n",
       "      <td>50.0</td>\n",
       "      <td>2.550000</td>\n",
       "      <td>1.430855</td>\n",
       "      <td>0.99</td>\n",
       "      <td>0.99</td>\n",
       "      <td>1.99</td>\n",
       "      <td>3.99</td>\n",
       "      <td>4.99</td>\n",
       "    </tr>\n",
       "    <tr>\n",
       "      <th>Medical</th>\n",
       "      <td>15.0</td>\n",
       "      <td>13.456667</td>\n",
       "      <td>10.742882</td>\n",
       "      <td>0.99</td>\n",
       "      <td>3.99</td>\n",
       "      <td>9.99</td>\n",
       "      <td>22.49</td>\n",
       "      <td>34.99</td>\n",
       "    </tr>\n",
       "    <tr>\n",
       "      <th>Music</th>\n",
       "      <td>71.0</td>\n",
       "      <td>9.398451</td>\n",
       "      <td>10.586484</td>\n",
       "      <td>0.99</td>\n",
       "      <td>2.99</td>\n",
       "      <td>4.99</td>\n",
       "      <td>10.99</td>\n",
       "      <td>49.99</td>\n",
       "    </tr>\n",
       "    <tr>\n",
       "      <th>Navigation</th>\n",
       "      <td>26.0</td>\n",
       "      <td>7.297692</td>\n",
       "      <td>14.720786</td>\n",
       "      <td>0.99</td>\n",
       "      <td>1.99</td>\n",
       "      <td>2.99</td>\n",
       "      <td>4.99</td>\n",
       "      <td>74.99</td>\n",
       "    </tr>\n",
       "    <tr>\n",
       "      <th>News</th>\n",
       "      <td>17.0</td>\n",
       "      <td>2.284118</td>\n",
       "      <td>1.263166</td>\n",
       "      <td>0.99</td>\n",
       "      <td>0.99</td>\n",
       "      <td>1.99</td>\n",
       "      <td>2.99</td>\n",
       "      <td>3.99</td>\n",
       "    </tr>\n",
       "    <tr>\n",
       "      <th>Photo &amp; Video</th>\n",
       "      <td>182.0</td>\n",
       "      <td>2.825165</td>\n",
       "      <td>2.482040</td>\n",
       "      <td>0.99</td>\n",
       "      <td>0.99</td>\n",
       "      <td>1.99</td>\n",
       "      <td>2.99</td>\n",
       "      <td>22.99</td>\n",
       "    </tr>\n",
       "    <tr>\n",
       "      <th>Productivity</th>\n",
       "      <td>116.0</td>\n",
       "      <td>6.645172</td>\n",
       "      <td>10.111641</td>\n",
       "      <td>0.99</td>\n",
       "      <td>1.99</td>\n",
       "      <td>4.99</td>\n",
       "      <td>7.99</td>\n",
       "      <td>99.99</td>\n",
       "    </tr>\n",
       "    <tr>\n",
       "      <th>Reference</th>\n",
       "      <td>44.0</td>\n",
       "      <td>7.035455</td>\n",
       "      <td>9.205546</td>\n",
       "      <td>0.99</td>\n",
       "      <td>1.99</td>\n",
       "      <td>2.99</td>\n",
       "      <td>5.49</td>\n",
       "      <td>47.99</td>\n",
       "    </tr>\n",
       "    <tr>\n",
       "      <th>Shopping</th>\n",
       "      <td>1.0</td>\n",
       "      <td>1.990000</td>\n",
       "      <td>NaN</td>\n",
       "      <td>1.99</td>\n",
       "      <td>1.99</td>\n",
       "      <td>1.99</td>\n",
       "      <td>1.99</td>\n",
       "      <td>1.99</td>\n",
       "    </tr>\n",
       "    <tr>\n",
       "      <th>Social Networking</th>\n",
       "      <td>24.0</td>\n",
       "      <td>2.365000</td>\n",
       "      <td>2.102018</td>\n",
       "      <td>0.99</td>\n",
       "      <td>0.99</td>\n",
       "      <td>0.99</td>\n",
       "      <td>2.99</td>\n",
       "      <td>9.99</td>\n",
       "    </tr>\n",
       "    <tr>\n",
       "      <th>Sports</th>\n",
       "      <td>35.0</td>\n",
       "      <td>3.104286</td>\n",
       "      <td>3.546095</td>\n",
       "      <td>0.99</td>\n",
       "      <td>1.49</td>\n",
       "      <td>1.99</td>\n",
       "      <td>2.99</td>\n",
       "      <td>19.99</td>\n",
       "    </tr>\n",
       "    <tr>\n",
       "      <th>Travel</th>\n",
       "      <td>25.0</td>\n",
       "      <td>3.630000</td>\n",
       "      <td>2.531139</td>\n",
       "      <td>0.99</td>\n",
       "      <td>0.99</td>\n",
       "      <td>3.99</td>\n",
       "      <td>4.99</td>\n",
       "      <td>9.99</td>\n",
       "    </tr>\n",
       "    <tr>\n",
       "      <th>Utilities</th>\n",
       "      <td>139.0</td>\n",
       "      <td>2.939640</td>\n",
       "      <td>2.922486</td>\n",
       "      <td>0.99</td>\n",
       "      <td>1.49</td>\n",
       "      <td>1.99</td>\n",
       "      <td>2.99</td>\n",
       "      <td>24.99</td>\n",
       "    </tr>\n",
       "    <tr>\n",
       "      <th>Weather</th>\n",
       "      <td>41.0</td>\n",
       "      <td>2.819268</td>\n",
       "      <td>1.563689</td>\n",
       "      <td>0.99</td>\n",
       "      <td>1.99</td>\n",
       "      <td>2.99</td>\n",
       "      <td>2.99</td>\n",
       "      <td>9.99</td>\n",
       "    </tr>\n",
       "  </tbody>\n",
       "</table>\n",
       "</div>"
      ],
      "text/plain": [
       "                    price                                                 \\\n",
       "                    count       mean        std   min   25%   50%    75%   \n",
       "prime_genre                                                                \n",
       "Book                 46.0   4.359565   4.013082  0.99  2.99  3.99   5.74   \n",
       "Business             37.0   7.881892  11.871497  0.99  2.99  4.99   7.99   \n",
       "Catalogs              1.0   7.990000        NaN  7.99  7.99  7.99   7.99   \n",
       "Education           321.0   5.684704  22.042295  0.99  2.99  2.99   3.99   \n",
       "Entertainment       201.0   2.368109   1.458190  0.99  0.99  1.99   2.99   \n",
       "Finance              20.0   2.190000   1.609184  0.99  0.99  0.99   3.24   \n",
       "Food & Drink         20.0   4.890000   5.857070  0.99  1.99  3.99   4.99   \n",
       "Games              1605.0   3.447944   2.816323  0.99  0.99  2.99   4.99   \n",
       "Health & Fitness    104.0   3.316923   1.621711  0.99  1.99  2.99   3.99   \n",
       "Lifestyle            50.0   2.550000   1.430855  0.99  0.99  1.99   3.99   \n",
       "Medical              15.0  13.456667  10.742882  0.99  3.99  9.99  22.49   \n",
       "Music                71.0   9.398451  10.586484  0.99  2.99  4.99  10.99   \n",
       "Navigation           26.0   7.297692  14.720786  0.99  1.99  2.99   4.99   \n",
       "News                 17.0   2.284118   1.263166  0.99  0.99  1.99   2.99   \n",
       "Photo & Video       182.0   2.825165   2.482040  0.99  0.99  1.99   2.99   \n",
       "Productivity        116.0   6.645172  10.111641  0.99  1.99  4.99   7.99   \n",
       "Reference            44.0   7.035455   9.205546  0.99  1.99  2.99   5.49   \n",
       "Shopping              1.0   1.990000        NaN  1.99  1.99  1.99   1.99   \n",
       "Social Networking    24.0   2.365000   2.102018  0.99  0.99  0.99   2.99   \n",
       "Sports               35.0   3.104286   3.546095  0.99  1.49  1.99   2.99   \n",
       "Travel               25.0   3.630000   2.531139  0.99  0.99  3.99   4.99   \n",
       "Utilities           139.0   2.939640   2.922486  0.99  1.49  1.99   2.99   \n",
       "Weather              41.0   2.819268   1.563689  0.99  1.99  2.99   2.99   \n",
       "\n",
       "                           \n",
       "                      max  \n",
       "prime_genre                \n",
       "Book                27.99  \n",
       "Business            59.99  \n",
       "Catalogs             7.99  \n",
       "Education          299.99  \n",
       "Entertainment        9.99  \n",
       "Finance              5.99  \n",
       "Food & Drink        27.99  \n",
       "Games               29.99  \n",
       "Health & Fitness     9.99  \n",
       "Lifestyle            4.99  \n",
       "Medical             34.99  \n",
       "Music               49.99  \n",
       "Navigation          74.99  \n",
       "News                 3.99  \n",
       "Photo & Video       22.99  \n",
       "Productivity        99.99  \n",
       "Reference           47.99  \n",
       "Shopping             1.99  \n",
       "Social Networking    9.99  \n",
       "Sports              19.99  \n",
       "Travel               9.99  \n",
       "Utilities           24.99  \n",
       "Weather              9.99  "
      ]
     },
     "execution_count": 20,
     "metadata": {},
     "output_type": "execute_result"
    }
   ],
   "source": [
    "price_by_category.describe()"
   ]
  },
  {
   "cell_type": "markdown",
   "metadata": {},
   "source": [
    "##### Unfortunately, Catalogs and Shopping have only 1 value, so they are not really representative and cannot be properly considered\n",
    "#### Building bar charts for skewness and kurtosis:"
   ]
  },
  {
   "cell_type": "code",
   "execution_count": 21,
   "metadata": {},
   "outputs": [
    {
     "data": {
      "text/plain": [
       "<matplotlib.axes._subplots.AxesSubplot at 0x2aec9531160>"
      ]
     },
     "execution_count": 21,
     "metadata": {},
     "output_type": "execute_result"
    },
    {
     "data": {
      "image/png": "[encoded data removed]",
      "text/plain": [
       "<Figure size 432x288 with 1 Axes>"
      ]
     },
     "metadata": {
      "needs_background": "light"
     },
     "output_type": "display_data"
    }
   ],
   "source": [
    "df[df['price']>0].groupby(\"prime_genre\")[['price']].agg(lambda x: x.skew()).drop(labels=[\"Catalogs\", \"Shopping\"]).rename(columns={'price':'skewness'}).sort_values(by='skewness').plot.barh()"
   ]
  },
  {
   "cell_type": "code",
   "execution_count": 22,
   "metadata": {},
   "outputs": [
    {
     "data": {
      "text/plain": [
       "<matplotlib.axes._subplots.AxesSubplot at 0x2aec98346a0>"
      ]
     },
     "execution_count": 22,
     "metadata": {},
     "output_type": "execute_result"
    },
    {
     "data": {
      "image/png": "[encoded data removed]",
      "text/plain": [
       "<Figure size 432x288 with 1 Axes>"
      ]
     },
     "metadata": {
      "needs_background": "light"
     },
     "output_type": "display_data"
    }
   ],
   "source": [
    "df[df['price']>0].groupby(\"prime_genre\")[['price']].agg(lambda x: x.kurtosis()).drop(labels=[\"Catalogs\", \"Shopping\"]).rename(columns={'price':'kurtosis'}).sort_values(by='kurtosis').plot.barh()"
   ]
  },
  {
   "cell_type": "markdown",
   "metadata": {},
   "source": [
    "#### Comparing visualized distribution of categories with the highest (Education) and the lowest (News) skewness and kurtosis"
   ]
  },
  {
   "cell_type": "code",
   "execution_count": 23,
   "metadata": {},
   "outputs": [
    {
     "data": {
      "text/plain": [
       "<matplotlib.axes._subplots.AxesSubplot at 0x2aec983b280>"
      ]
     },
     "execution_count": 23,
     "metadata": {},
     "output_type": "execute_result"
    },
    {
     "data": {
      "image/png": "[encoded data removed]",
      "text/plain": [
       "<Figure size 432x288 with 1 Axes>"
      ]
     },
     "metadata": {
      "needs_background": "light"
     },
     "output_type": "display_data"
    }
   ],
   "source": [
    "sns.distplot(df[(df['price']>0) & (df['prime_genre']=='Education')][['price']])"
   ]
  },
  {
   "cell_type": "code",
   "execution_count": 24,
   "metadata": {},
   "outputs": [
    {
     "data": {
      "text/plain": [
       "<matplotlib.axes._subplots.AxesSubplot at 0x2aec99c39d0>"
      ]
     },
     "execution_count": 24,
     "metadata": {},
     "output_type": "execute_result"
    },
    {
     "data": {
      "image/png": "[encoded data removed]",
      "text/plain": [
       "<Figure size 432x288 with 1 Axes>"
      ]
     },
     "metadata": {
      "needs_background": "light"
     },
     "output_type": "display_data"
    }
   ],
   "source": [
    "sns.distplot(df[(df['price']>0) & (df['prime_genre']=='News')][['price']])"
   ]
  },
  {
   "cell_type": "markdown",
   "metadata": {},
   "source": [
    "### Result:\n",
    "As is seen, the category has a significant influence upon the price distribution: for instance, while price for Education apps has highly skewed distribution, the price for News, in turn, has the Bimodal distribution with far less kurtosis and skewness parameters. Depending on the category, the kurtosis can be positive (most of genres), equal to zero (Travel and Finance) and negative (Medical, Lifestyle, News). Nevertheless, for all the categories skewness is positive which means that most values are concentrated nearly the lowest bound of values.\n",
    "It is also worth mentioning that here skewness and kurtosis highly correlate, and their rankings for genres are almost similar.\n",
    "Another interesring point is the dispersion of price of different categories. It is seen that categories with a very high dispresion include Education and Navigation whose standard deviation is 22 and 15 resprectively, which means that their prices vary quite significantly. In comparison, most genres (62%) have standard deviation less than 4, so their price differs far less significantly. And the most relevant examples of there groups are Education and News here, which distribution plots are presented above"
   ]
  },
  {
   "cell_type": "markdown",
   "metadata": {},
   "source": [
    "## As the size of the app increases do they get pricier?"
   ]
  },
  {
   "cell_type": "markdown",
   "metadata": {},
   "source": [
    "Task: determine the correlation between the size of the app and its price. Needed columns: size_bytes, cost. Task can be performed through creating correlation matrix and evaluating the correlation result. As values differ significantly, normalization can be used."
   ]
  },
  {
   "cell_type": "code",
   "execution_count": 25,
   "metadata": {},
   "outputs": [],
   "source": [
    "size_cost_df = df[['size_bytes','price']]"
   ]
  },
  {
   "cell_type": "code",
   "execution_count": 26,
   "metadata": {},
   "outputs": [],
   "source": [
    "size_cost_df = (size_cost_df-size_cost_df.mean())/size_cost_df.std()"
   ]
  },
  {
   "cell_type": "code",
   "execution_count": 27,
   "metadata": {},
   "outputs": [
    {
     "data": {
      "text/html": [
       "<div>\n",
       "<style scoped>\n",
       "    .dataframe tbody tr th:only-of-type {\n",
       "        vertical-align: middle;\n",
       "    }\n",
       "\n",
       "    .dataframe tbody tr th {\n",
       "        vertical-align: top;\n",
       "    }\n",
       "\n",
       "    .dataframe thead th {\n",
       "        text-align: right;\n",
       "    }\n",
       "</style>\n",
       "<table border=\"1\" class=\"dataframe\">\n",
       "  <thead>\n",
       "    <tr style=\"text-align: right;\">\n",
       "      <th></th>\n",
       "      <th>size_bytes</th>\n",
       "      <th>price</th>\n",
       "    </tr>\n",
       "  </thead>\n",
       "  <tbody>\n",
       "    <tr>\n",
       "      <th>size_bytes</th>\n",
       "      <td>1.000000</td>\n",
       "      <td>0.182392</td>\n",
       "    </tr>\n",
       "    <tr>\n",
       "      <th>price</th>\n",
       "      <td>0.182392</td>\n",
       "      <td>1.000000</td>\n",
       "    </tr>\n",
       "  </tbody>\n",
       "</table>\n",
       "</div>"
      ],
      "text/plain": [
       "            size_bytes     price\n",
       "size_bytes    1.000000  0.182392\n",
       "price         0.182392  1.000000"
      ]
     },
     "execution_count": 27,
     "metadata": {},
     "output_type": "execute_result"
    }
   ],
   "source": [
    "size_cost_df.corr()"
   ]
  },
  {
   "cell_type": "markdown",
   "metadata": {},
   "source": [
    "### Result:\n",
    "As is seen, the correlation is only 0,18 what is known to be a very low correlation value, so it is possible to say that there is almost know correlation between them. However, it is also impossible to say the opposite as prices also do not go down when the app size increases. To sum up, it is only possible to say that when the size of the app increases the price does not increase generally but in other cases has a better chance to grow than to decrease."
   ]
  },
  {
   "cell_type": "markdown",
   "metadata": {},
   "source": [
    "## How are the apps distributed content-rating wise?"
   ]
  },
  {
   "cell_type": "markdown",
   "metadata": {},
   "source": [
    "Task: define how apps are distributed by content-rating categories. Needed columns: cont_rating. To solve the task, it is possible to group a dataset by the category, define the quantity of rows (as the quantity of apps) in each group and compare groups by these parameter. As a visualization, pie chart is the most approprate chart here"
   ]
  },
  {
   "cell_type": "code",
   "execution_count": 28,
   "metadata": {},
   "outputs": [
    {
     "data": {
      "image/png": "[encoded data removed]",
      "text/plain": [
       "<Figure size 432x288 with 1 Axes>"
      ]
     },
     "metadata": {},
     "output_type": "display_data"
    }
   ],
   "source": [
    "cont_rating_df = df.groupby('cont_rating').size().plot(kind='pie', title = 'Content-rating distribution',autopct='%1.1f%%')"
   ]
  },
  {
   "cell_type": "markdown",
   "metadata": {},
   "source": [
    "### Result:\n",
    "Most apps (>61%) are developed for category 4+. 9+ and 12+ are nearby each other and have 14% and 16% correspondingly, while 17+ category has the lowest quantity of apps published (only 8,6%)."
   ]
  },
  {
   "cell_type": "markdown",
   "metadata": {},
   "source": [
    "## Find the most popular genres in each content rating group"
   ]
  },
  {
   "cell_type": "markdown",
   "metadata": {},
   "source": [
    "Task: determine most popular genres in each content-rating group. Needed columns: cont_rating, prime_genre and rating_count_tot. The dataset can be grouped by a content-rating group and the genres. Based on this groupping the popularity can be evaluated. The results can be presented either in a table or in a stacked bar chart"
   ]
  },
  {
   "cell_type": "code",
   "execution_count": 29,
   "metadata": {},
   "outputs": [],
   "source": [
    "grouped = df.groupby(['cont_rating','prime_genre'])[['rating_count_tot']].agg('sum')"
   ]
  },
  {
   "cell_type": "code",
   "execution_count": 30,
   "metadata": {},
   "outputs": [
    {
     "data": {
      "text/plain": [
       "cont_rating  prime_genre      \n",
       "12+          Games                 8926422\n",
       "             Photo & Video         3137309\n",
       "             Music                 3078365\n",
       "17+          Games                 2814848\n",
       "             Social Networking      831112\n",
       "             Utilities              638050\n",
       "4+           Games                28477091\n",
       "             Social Networking     5200312\n",
       "             Entertainment         2123202\n",
       "9+           Games                12660130\n",
       "             Entertainment          462996\n",
       "             Music                  228465\n",
       "Name: rating_count_tot, dtype: int64"
      ]
     },
     "execution_count": 30,
     "metadata": {},
     "output_type": "execute_result"
    }
   ],
   "source": [
    "grouped['rating_count_tot'].groupby('cont_rating', group_keys=False).nlargest(3)"
   ]
  },
  {
   "cell_type": "code",
   "execution_count": 31,
   "metadata": {},
   "outputs": [
    {
     "data": {
      "text/plain": [
       "<matplotlib.axes._subplots.AxesSubplot at 0x2aec9a9bbe0>"
      ]
     },
     "execution_count": 31,
     "metadata": {},
     "output_type": "execute_result"
    },
    {
     "data": {
      "image/png": "[encoded data removed]",
      "text/plain": [
       "<Figure size 432x288 with 1 Axes>"
      ]
     },
     "metadata": {
      "needs_background": "light"
     },
     "output_type": "display_data"
    }
   ],
   "source": [
    "grouped['rating_count_tot'].groupby('cont_rating', group_keys=False).nlargest(3).unstack().plot(kind='bar', stacked=True)"
   ]
  },
  {
   "cell_type": "markdown",
   "metadata": {},
   "source": [
    "### Results:\n",
    "The most popular genre (with very significant outweigh) among all content rating groups is Games. Social networking take some portion at 4+ and 17+ groups, while Music and Photo & Video take significant share at 12+ group. A relatively small shares are taken by Utilities and Entertainment."
   ]
  },
  {
   "cell_type": "markdown",
   "metadata": {},
   "source": [
    "## Describe the main characteristics of the apps with the biggest size"
   ]
  },
  {
   "cell_type": "markdown",
   "metadata": {},
   "source": [
    "Task: to describe main characteristics of apps which has the greatest size in bytes. Column to filter on: size_bytes. Other columns can be used to gather info. Firstly, the dataset has to be filtered: 0.95 or 0.98 percentiles of size_bytes can be used for this. The description table can be built to show mean, std, median and quartiles. Distribution plots can visualize distribution of price, rating count, user rating and number of languages supported. Due to small number of groups, content-rating distribution and Vpp Device Based Licensing can be visualized through pie charts. Such characteristics as genres and number of screenshots can be shown through the bar chart."
   ]
  },
  {
   "cell_type": "code",
   "execution_count": 32,
   "metadata": {},
   "outputs": [
    {
     "data": {
      "text/html": [
       "<div>\n",
       "<style scoped>\n",
       "    .dataframe tbody tr th:only-of-type {\n",
       "        vertical-align: middle;\n",
       "    }\n",
       "\n",
       "    .dataframe tbody tr th {\n",
       "        vertical-align: top;\n",
       "    }\n",
       "\n",
       "    .dataframe thead th {\n",
       "        text-align: right;\n",
       "    }\n",
       "</style>\n",
       "<table border=\"1\" class=\"dataframe\">\n",
       "  <thead>\n",
       "    <tr style=\"text-align: right;\">\n",
       "      <th></th>\n",
       "      <th>track_name</th>\n",
       "      <th>size_bytes</th>\n",
       "      <th>currency</th>\n",
       "      <th>price</th>\n",
       "      <th>rating_count_tot</th>\n",
       "      <th>rating_count_ver</th>\n",
       "      <th>user_rating</th>\n",
       "      <th>user_rating_ver</th>\n",
       "      <th>ver</th>\n",
       "      <th>cont_rating</th>\n",
       "      <th>prime_genre</th>\n",
       "      <th>sup_devices.num</th>\n",
       "      <th>ipadSc_urls.num</th>\n",
       "      <th>lang.num</th>\n",
       "      <th>vpp_lic</th>\n",
       "    </tr>\n",
       "    <tr>\n",
       "      <th>id</th>\n",
       "      <th></th>\n",
       "      <th></th>\n",
       "      <th></th>\n",
       "      <th></th>\n",
       "      <th></th>\n",
       "      <th></th>\n",
       "      <th></th>\n",
       "      <th></th>\n",
       "      <th></th>\n",
       "      <th></th>\n",
       "      <th></th>\n",
       "      <th></th>\n",
       "      <th></th>\n",
       "      <th></th>\n",
       "      <th></th>\n",
       "    </tr>\n",
       "  </thead>\n",
       "  <tbody>\n",
       "    <tr>\n",
       "      <th>442522082</th>\n",
       "      <td>Modern Combat 3: Fallen Nation</td>\n",
       "      <td>1978085376</td>\n",
       "      <td>USD</td>\n",
       "      <td>6.99</td>\n",
       "      <td>23766</td>\n",
       "      <td>582</td>\n",
       "      <td>4.5</td>\n",
       "      <td>4.5</td>\n",
       "      <td>1.5.0</td>\n",
       "      <td>17+</td>\n",
       "      <td>Games</td>\n",
       "      <td>43</td>\n",
       "      <td>5</td>\n",
       "      <td>12</td>\n",
       "      <td>True</td>\n",
       "    </tr>\n",
       "    <tr>\n",
       "      <th>453051448</th>\n",
       "      <td>Gangstar Rio: City of Saints</td>\n",
       "      <td>1820196864</td>\n",
       "      <td>USD</td>\n",
       "      <td>6.99</td>\n",
       "      <td>14724</td>\n",
       "      <td>1043</td>\n",
       "      <td>4.5</td>\n",
       "      <td>4.5</td>\n",
       "      <td>1.4.1</td>\n",
       "      <td>17+</td>\n",
       "      <td>Games</td>\n",
       "      <td>43</td>\n",
       "      <td>5</td>\n",
       "      <td>12</td>\n",
       "      <td>True</td>\n",
       "    </tr>\n",
       "    <tr>\n",
       "      <th>454136236</th>\n",
       "      <td>STEINS;GATE</td>\n",
       "      <td>1551412224</td>\n",
       "      <td>USD</td>\n",
       "      <td>24.99</td>\n",
       "      <td>16</td>\n",
       "      <td>0</td>\n",
       "      <td>4.0</td>\n",
       "      <td>0.0</td>\n",
       "      <td>1.71</td>\n",
       "      <td>12+</td>\n",
       "      <td>Games</td>\n",
       "      <td>37</td>\n",
       "      <td>0</td>\n",
       "      <td>1</td>\n",
       "      <td>True</td>\n",
       "    </tr>\n",
       "    <tr>\n",
       "      <th>474764934</th>\n",
       "      <td>N.O.V.A. 3 - Near Orbit Vanguard Alliance</td>\n",
       "      <td>1984958464</td>\n",
       "      <td>USD</td>\n",
       "      <td>6.99</td>\n",
       "      <td>13503</td>\n",
       "      <td>825</td>\n",
       "      <td>4.5</td>\n",
       "      <td>4.5</td>\n",
       "      <td>1.0.5</td>\n",
       "      <td>17+</td>\n",
       "      <td>Games</td>\n",
       "      <td>43</td>\n",
       "      <td>5</td>\n",
       "      <td>12</td>\n",
       "      <td>True</td>\n",
       "    </tr>\n",
       "    <tr>\n",
       "      <th>480375355</th>\n",
       "      <td>The Bard's Tale</td>\n",
       "      <td>1807310848</td>\n",
       "      <td>USD</td>\n",
       "      <td>2.99</td>\n",
       "      <td>4746</td>\n",
       "      <td>455</td>\n",
       "      <td>4.5</td>\n",
       "      <td>4.5</td>\n",
       "      <td>1.8.1</td>\n",
       "      <td>12+</td>\n",
       "      <td>Games</td>\n",
       "      <td>43</td>\n",
       "      <td>5</td>\n",
       "      <td>8</td>\n",
       "      <td>True</td>\n",
       "    </tr>\n",
       "    <tr>\n",
       "      <th>...</th>\n",
       "      <td>...</td>\n",
       "      <td>...</td>\n",
       "      <td>...</td>\n",
       "      <td>...</td>\n",
       "      <td>...</td>\n",
       "      <td>...</td>\n",
       "      <td>...</td>\n",
       "      <td>...</td>\n",
       "      <td>...</td>\n",
       "      <td>...</td>\n",
       "      <td>...</td>\n",
       "      <td>...</td>\n",
       "      <td>...</td>\n",
       "      <td>...</td>\n",
       "      <td>...</td>\n",
       "    </tr>\n",
       "    <tr>\n",
       "      <th>1148321705</th>\n",
       "      <td>Bully: Anniversary Edition</td>\n",
       "      <td>2413393920</td>\n",
       "      <td>USD</td>\n",
       "      <td>6.99</td>\n",
       "      <td>1334</td>\n",
       "      <td>305</td>\n",
       "      <td>4.5</td>\n",
       "      <td>4.5</td>\n",
       "      <td>1.04</td>\n",
       "      <td>12+</td>\n",
       "      <td>Games</td>\n",
       "      <td>37</td>\n",
       "      <td>5</td>\n",
       "      <td>7</td>\n",
       "      <td>True</td>\n",
       "    </tr>\n",
       "    <tr>\n",
       "      <th>1153028211</th>\n",
       "      <td>Demon's Rise 2: Lords of Chaos</td>\n",
       "      <td>2205314048</td>\n",
       "      <td>USD</td>\n",
       "      <td>7.99</td>\n",
       "      <td>39</td>\n",
       "      <td>11</td>\n",
       "      <td>4.5</td>\n",
       "      <td>4.0</td>\n",
       "      <td>1.31</td>\n",
       "      <td>12+</td>\n",
       "      <td>Games</td>\n",
       "      <td>37</td>\n",
       "      <td>5</td>\n",
       "      <td>1</td>\n",
       "      <td>True</td>\n",
       "    </tr>\n",
       "    <tr>\n",
       "      <th>1155982200</th>\n",
       "      <td>Ire - Blood Memory</td>\n",
       "      <td>1669448704</td>\n",
       "      <td>USD</td>\n",
       "      <td>0.00</td>\n",
       "      <td>373</td>\n",
       "      <td>7</td>\n",
       "      <td>3.5</td>\n",
       "      <td>4.5</td>\n",
       "      <td>2.2.1</td>\n",
       "      <td>12+</td>\n",
       "      <td>Games</td>\n",
       "      <td>37</td>\n",
       "      <td>5</td>\n",
       "      <td>13</td>\n",
       "      <td>True</td>\n",
       "    </tr>\n",
       "    <tr>\n",
       "      <th>1178846093</th>\n",
       "      <td>[GP]パチスロ デビル メイ クライ クロス(パチスロゲーム)</td>\n",
       "      <td>3148421120</td>\n",
       "      <td>USD</td>\n",
       "      <td>0.00</td>\n",
       "      <td>0</td>\n",
       "      <td>0</td>\n",
       "      <td>0.0</td>\n",
       "      <td>0.0</td>\n",
       "      <td>1.0.1</td>\n",
       "      <td>12+</td>\n",
       "      <td>Games</td>\n",
       "      <td>40</td>\n",
       "      <td>0</td>\n",
       "      <td>1</td>\n",
       "      <td>False</td>\n",
       "    </tr>\n",
       "    <tr>\n",
       "      <th>1181724803</th>\n",
       "      <td>ＣＲスーパー海物語ＩＮ沖縄４</td>\n",
       "      <td>3503480832</td>\n",
       "      <td>USD</td>\n",
       "      <td>9.99</td>\n",
       "      <td>0</td>\n",
       "      <td>0</td>\n",
       "      <td>0.0</td>\n",
       "      <td>0.0</td>\n",
       "      <td>1.0.2</td>\n",
       "      <td>12+</td>\n",
       "      <td>Games</td>\n",
       "      <td>40</td>\n",
       "      <td>0</td>\n",
       "      <td>1</td>\n",
       "      <td>False</td>\n",
       "    </tr>\n",
       "  </tbody>\n",
       "</table>\n",
       "<p>144 rows × 15 columns</p>\n",
       "</div>"
      ],
      "text/plain": [
       "                                           track_name  size_bytes currency  \\\n",
       "id                                                                           \n",
       "442522082              Modern Combat 3: Fallen Nation  1978085376      USD   \n",
       "453051448                Gangstar Rio: City of Saints  1820196864      USD   \n",
       "454136236                                 STEINS;GATE  1551412224      USD   \n",
       "474764934   N.O.V.A. 3 - Near Orbit Vanguard Alliance  1984958464      USD   \n",
       "480375355                             The Bard's Tale  1807310848      USD   \n",
       "...                                               ...         ...      ...   \n",
       "1148321705                 Bully: Anniversary Edition  2413393920      USD   \n",
       "1153028211             Demon's Rise 2: Lords of Chaos  2205314048      USD   \n",
       "1155982200                         Ire - Blood Memory  1669448704      USD   \n",
       "1178846093           [GP]パチスロ デビル メイ クライ クロス(パチスロゲーム)  3148421120      USD   \n",
       "1181724803                             ＣＲスーパー海物語ＩＮ沖縄４  3503480832      USD   \n",
       "\n",
       "            price  rating_count_tot  rating_count_ver  user_rating  \\\n",
       "id                                                                   \n",
       "442522082    6.99             23766               582          4.5   \n",
       "453051448    6.99             14724              1043          4.5   \n",
       "454136236   24.99                16                 0          4.0   \n",
       "474764934    6.99             13503               825          4.5   \n",
       "480375355    2.99              4746               455          4.5   \n",
       "...           ...               ...               ...          ...   \n",
       "1148321705   6.99              1334               305          4.5   \n",
       "1153028211   7.99                39                11          4.5   \n",
       "1155982200   0.00               373                 7          3.5   \n",
       "1178846093   0.00                 0                 0          0.0   \n",
       "1181724803   9.99                 0                 0          0.0   \n",
       "\n",
       "            user_rating_ver    ver cont_rating prime_genre  sup_devices.num  \\\n",
       "id                                                                            \n",
       "442522082               4.5  1.5.0         17+       Games               43   \n",
       "453051448               4.5  1.4.1         17+       Games               43   \n",
       "454136236               0.0   1.71         12+       Games               37   \n",
       "474764934               4.5  1.0.5         17+       Games               43   \n",
       "480375355               4.5  1.8.1         12+       Games               43   \n",
       "...                     ...    ...         ...         ...              ...   \n",
       "1148321705              4.5   1.04         12+       Games               37   \n",
       "1153028211              4.0   1.31         12+       Games               37   \n",
       "1155982200              4.5  2.2.1         12+       Games               37   \n",
       "1178846093              0.0  1.0.1         12+       Games               40   \n",
       "1181724803              0.0  1.0.2         12+       Games               40   \n",
       "\n",
       "            ipadSc_urls.num  lang.num  vpp_lic  \n",
       "id                                              \n",
       "442522082                 5        12     True  \n",
       "453051448                 5        12     True  \n",
       "454136236                 0         1     True  \n",
       "474764934                 5        12     True  \n",
       "480375355                 5         8     True  \n",
       "...                     ...       ...      ...  \n",
       "1148321705                5         7     True  \n",
       "1153028211                5         1     True  \n",
       "1155982200                5        13     True  \n",
       "1178846093                0         1    False  \n",
       "1181724803                0         1    False  \n",
       "\n",
       "[144 rows x 15 columns]"
      ]
     },
     "execution_count": 32,
     "metadata": {},
     "output_type": "execute_result"
    }
   ],
   "source": [
    "biggest_apps=df[df['size_bytes']>df.size_bytes.quantile(0.98)]\n",
    "biggest_apps"
   ]
  },
  {
   "cell_type": "code",
   "execution_count": 33,
   "metadata": {},
   "outputs": [
    {
     "data": {
      "text/html": [
       "<div>\n",
       "<style scoped>\n",
       "    .dataframe tbody tr th:only-of-type {\n",
       "        vertical-align: middle;\n",
       "    }\n",
       "\n",
       "    .dataframe tbody tr th {\n",
       "        vertical-align: top;\n",
       "    }\n",
       "\n",
       "    .dataframe thead th {\n",
       "        text-align: right;\n",
       "    }\n",
       "</style>\n",
       "<table border=\"1\" class=\"dataframe\">\n",
       "  <thead>\n",
       "    <tr style=\"text-align: right;\">\n",
       "      <th></th>\n",
       "      <th>size_bytes</th>\n",
       "      <th>price</th>\n",
       "      <th>rating_count_tot</th>\n",
       "      <th>rating_count_ver</th>\n",
       "      <th>user_rating</th>\n",
       "      <th>user_rating_ver</th>\n",
       "      <th>sup_devices.num</th>\n",
       "      <th>ipadSc_urls.num</th>\n",
       "      <th>lang.num</th>\n",
       "    </tr>\n",
       "  </thead>\n",
       "  <tbody>\n",
       "    <tr>\n",
       "      <th>count</th>\n",
       "      <td>1.440000e+02</td>\n",
       "      <td>144.000000</td>\n",
       "      <td>144.000000</td>\n",
       "      <td>144.000000</td>\n",
       "      <td>144.000000</td>\n",
       "      <td>144.000000</td>\n",
       "      <td>144.000000</td>\n",
       "      <td>144.000000</td>\n",
       "      <td>144.000000</td>\n",
       "    </tr>\n",
       "    <tr>\n",
       "      <th>mean</th>\n",
       "      <td>2.123698e+09</td>\n",
       "      <td>6.859583</td>\n",
       "      <td>15150.548611</td>\n",
       "      <td>582.243056</td>\n",
       "      <td>3.656250</td>\n",
       "      <td>3.604167</td>\n",
       "      <td>35.131944</td>\n",
       "      <td>4.229167</td>\n",
       "      <td>5.125000</td>\n",
       "    </tr>\n",
       "    <tr>\n",
       "      <th>std</th>\n",
       "      <td>6.929179e+08</td>\n",
       "      <td>6.470737</td>\n",
       "      <td>64163.603215</td>\n",
       "      <td>2365.431391</td>\n",
       "      <td>1.413557</td>\n",
       "      <td>1.530431</td>\n",
       "      <td>6.497172</td>\n",
       "      <td>1.704452</td>\n",
       "      <td>4.619622</td>\n",
       "    </tr>\n",
       "    <tr>\n",
       "      <th>min</th>\n",
       "      <td>1.354634e+09</td>\n",
       "      <td>0.000000</td>\n",
       "      <td>0.000000</td>\n",
       "      <td>0.000000</td>\n",
       "      <td>0.000000</td>\n",
       "      <td>0.000000</td>\n",
       "      <td>16.000000</td>\n",
       "      <td>0.000000</td>\n",
       "      <td>1.000000</td>\n",
       "    </tr>\n",
       "    <tr>\n",
       "      <th>25%</th>\n",
       "      <td>1.562608e+09</td>\n",
       "      <td>2.990000</td>\n",
       "      <td>53.750000</td>\n",
       "      <td>13.750000</td>\n",
       "      <td>3.500000</td>\n",
       "      <td>3.500000</td>\n",
       "      <td>35.750000</td>\n",
       "      <td>5.000000</td>\n",
       "      <td>1.000000</td>\n",
       "    </tr>\n",
       "    <tr>\n",
       "      <th>50%</th>\n",
       "      <td>1.932122e+09</td>\n",
       "      <td>6.490000</td>\n",
       "      <td>257.500000</td>\n",
       "      <td>64.000000</td>\n",
       "      <td>4.000000</td>\n",
       "      <td>4.000000</td>\n",
       "      <td>37.000000</td>\n",
       "      <td>5.000000</td>\n",
       "      <td>4.000000</td>\n",
       "    </tr>\n",
       "    <tr>\n",
       "      <th>75%</th>\n",
       "      <td>2.428626e+09</td>\n",
       "      <td>8.490000</td>\n",
       "      <td>2808.500000</td>\n",
       "      <td>296.000000</td>\n",
       "      <td>4.500000</td>\n",
       "      <td>4.500000</td>\n",
       "      <td>39.000000</td>\n",
       "      <td>5.000000</td>\n",
       "      <td>8.000000</td>\n",
       "    </tr>\n",
       "    <tr>\n",
       "      <th>max</th>\n",
       "      <td>4.025970e+09</td>\n",
       "      <td>39.990000</td>\n",
       "      <td>612532.000000</td>\n",
       "      <td>25716.000000</td>\n",
       "      <td>5.000000</td>\n",
       "      <td>5.000000</td>\n",
       "      <td>43.000000</td>\n",
       "      <td>5.000000</td>\n",
       "      <td>18.000000</td>\n",
       "    </tr>\n",
       "  </tbody>\n",
       "</table>\n",
       "</div>"
      ],
      "text/plain": [
       "         size_bytes       price  rating_count_tot  rating_count_ver  \\\n",
       "count  1.440000e+02  144.000000        144.000000        144.000000   \n",
       "mean   2.123698e+09    6.859583      15150.548611        582.243056   \n",
       "std    6.929179e+08    6.470737      64163.603215       2365.431391   \n",
       "min    1.354634e+09    0.000000          0.000000          0.000000   \n",
       "25%    1.562608e+09    2.990000         53.750000         13.750000   \n",
       "50%    1.932122e+09    6.490000        257.500000         64.000000   \n",
       "75%    2.428626e+09    8.490000       2808.500000        296.000000   \n",
       "max    4.025970e+09   39.990000     612532.000000      25716.000000   \n",
       "\n",
       "       user_rating  user_rating_ver  sup_devices.num  ipadSc_urls.num  \\\n",
       "count   144.000000       144.000000       144.000000       144.000000   \n",
       "mean      3.656250         3.604167        35.131944         4.229167   \n",
       "std       1.413557         1.530431         6.497172         1.704452   \n",
       "min       0.000000         0.000000        16.000000         0.000000   \n",
       "25%       3.500000         3.500000        35.750000         5.000000   \n",
       "50%       4.000000         4.000000        37.000000         5.000000   \n",
       "75%       4.500000         4.500000        39.000000         5.000000   \n",
       "max       5.000000         5.000000        43.000000         5.000000   \n",
       "\n",
       "         lang.num  \n",
       "count  144.000000  \n",
       "mean     5.125000  \n",
       "std      4.619622  \n",
       "min      1.000000  \n",
       "25%      1.000000  \n",
       "50%      4.000000  \n",
       "75%      8.000000  \n",
       "max     18.000000  "
      ]
     },
     "execution_count": 33,
     "metadata": {},
     "output_type": "execute_result"
    }
   ],
   "source": [
    "biggest_apps.describe()"
   ]
  },
  {
   "cell_type": "code",
   "execution_count": 34,
   "metadata": {},
   "outputs": [
    {
     "data": {
      "text/plain": [
       "<matplotlib.axes._subplots.AxesSubplot at 0x2aec9b34a00>"
      ]
     },
     "execution_count": 34,
     "metadata": {},
     "output_type": "execute_result"
    },
    {
     "data": {
      "image/png": "[encoded data removed]",
      "text/plain": [
       "<Figure size 432x288 with 1 Axes>"
      ]
     },
     "metadata": {
      "needs_background": "light"
     },
     "output_type": "display_data"
    }
   ],
   "source": [
    "sns.distplot(biggest_apps[['price']])"
   ]
  },
  {
   "cell_type": "code",
   "execution_count": 35,
   "metadata": {},
   "outputs": [
    {
     "data": {
      "text/plain": [
       "0.12        1.16\n",
       "0.25       53.75\n",
       "0.50      257.50\n",
       "0.75     2808.50\n",
       "0.88    16692.48\n",
       "Name: rating_count_tot, dtype: float64"
      ]
     },
     "execution_count": 35,
     "metadata": {},
     "output_type": "execute_result"
    }
   ],
   "source": [
    "biggest_apps.rating_count_tot.quantile([0.12,0.25,0.5,0.75,0.88])"
   ]
  },
  {
   "cell_type": "code",
   "execution_count": 36,
   "metadata": {},
   "outputs": [
    {
     "data": {
      "text/plain": [
       "<matplotlib.axes._subplots.AxesSubplot at 0x2aec9bc8fa0>"
      ]
     },
     "execution_count": 36,
     "metadata": {},
     "output_type": "execute_result"
    },
    {
     "data": {
      "image/png": "[encoded data removed]",
      "text/plain": [
       "<Figure size 432x288 with 1 Axes>"
      ]
     },
     "metadata": {
      "needs_background": "light"
     },
     "output_type": "display_data"
    }
   ],
   "source": [
    "sns.distplot(biggest_apps[['rating_count_tot']])"
   ]
  },
  {
   "cell_type": "code",
   "execution_count": 37,
   "metadata": {},
   "outputs": [
    {
     "data": {
      "text/plain": [
       "<matplotlib.axes._subplots.AxesSubplot at 0x2aec9c91d90>"
      ]
     },
     "execution_count": 37,
     "metadata": {},
     "output_type": "execute_result"
    },
    {
     "data": {
      "image/png": "[encoded data removed]",
      "text/plain": [
       "<Figure size 432x288 with 1 Axes>"
      ]
     },
     "metadata": {},
     "output_type": "display_data"
    }
   ],
   "source": [
    "biggest_apps.groupby('cont_rating').size().plot(kind='pie', title = 'Content-rating distribution',autopct='%1.1f%%')"
   ]
  },
  {
   "cell_type": "code",
   "execution_count": 38,
   "metadata": {},
   "outputs": [
    {
     "data": {
      "text/plain": [
       "<matplotlib.axes._subplots.AxesSubplot at 0x2aec9ce1220>"
      ]
     },
     "execution_count": 38,
     "metadata": {},
     "output_type": "execute_result"
    },
    {
     "data": {
      "image/png": "[encoded data removed]",
      "text/plain": [
       "<Figure size 432x288 with 1 Axes>"
      ]
     },
     "metadata": {
      "needs_background": "light"
     },
     "output_type": "display_data"
    }
   ],
   "source": [
    "biggest_apps.groupby('prime_genre').size().nlargest(6).plot.barh()"
   ]
  },
  {
   "cell_type": "code",
   "execution_count": 39,
   "metadata": {},
   "outputs": [
    {
     "data": {
      "text/plain": [
       "Games                138\n",
       "Book                   2\n",
       "Reference              1\n",
       "Navigation             1\n",
       "Medical                1\n",
       "Music                  1\n",
       "Food & Drink           0\n",
       "Productivity           0\n",
       "Utilities              0\n",
       "Travel                 0\n",
       "Sports                 0\n",
       "Social Networking      0\n",
       "Shopping               0\n",
       "Catalogs               0\n",
       "Photo & Video          0\n",
       "Finance                0\n",
       "News                   0\n",
       "Education              0\n",
       "Business               0\n",
       "Entertainment          0\n",
       "Lifestyle              0\n",
       "Health & Fitness       0\n",
       "Weather                0\n",
       "Name: prime_genre, dtype: int64"
      ]
     },
     "execution_count": 39,
     "metadata": {},
     "output_type": "execute_result"
    }
   ],
   "source": [
    "biggest_apps['prime_genre'].value_counts()"
   ]
  },
  {
   "cell_type": "code",
   "execution_count": 40,
   "metadata": {},
   "outputs": [
    {
     "data": {
      "text/plain": [
       "<matplotlib.axes._subplots.AxesSubplot at 0x2aec9d3b760>"
      ]
     },
     "execution_count": 40,
     "metadata": {},
     "output_type": "execute_result"
    },
    {
     "data": {
      "image/png": "[encoded data removed]",
      "text/plain": [
       "<Figure size 432x288 with 1 Axes>"
      ]
     },
     "metadata": {
      "needs_background": "light"
     },
     "output_type": "display_data"
    }
   ],
   "source": [
    "sns.distplot(biggest_apps[['user_rating']])"
   ]
  },
  {
   "cell_type": "code",
   "execution_count": 41,
   "metadata": {},
   "outputs": [
    {
     "data": {
      "text/plain": [
       "<matplotlib.axes._subplots.AxesSubplot at 0x2aec9dbe6d0>"
      ]
     },
     "execution_count": 41,
     "metadata": {},
     "output_type": "execute_result"
    },
    {
     "data": {
      "image/png": "[encoded data removed]",
      "text/plain": [
       "<Figure size 432x288 with 1 Axes>"
      ]
     },
     "metadata": {
      "needs_background": "light"
     },
     "output_type": "display_data"
    }
   ],
   "source": [
    "biggest_apps[['sup_devices.num']].boxplot()"
   ]
  },
  {
   "cell_type": "code",
   "execution_count": 42,
   "metadata": {},
   "outputs": [
    {
     "data": {
      "text/plain": [
       "<matplotlib.axes._subplots.AxesSubplot at 0x2aec9e19cd0>"
      ]
     },
     "execution_count": 42,
     "metadata": {},
     "output_type": "execute_result"
    },
    {
     "data": {
      "image/png": "[encoded data removed]",
      "text/plain": [
       "<Figure size 432x288 with 1 Axes>"
      ]
     },
     "metadata": {
      "needs_background": "light"
     },
     "output_type": "display_data"
    }
   ],
   "source": [
    "biggest_apps.groupby('ipadSc_urls.num').size().plot.barh()"
   ]
  },
  {
   "cell_type": "code",
   "execution_count": 43,
   "metadata": {},
   "outputs": [
    {
     "data": {
      "text/plain": [
       "5    114\n",
       "0     17\n",
       "4      8\n",
       "1      4\n",
       "3      1\n",
       "Name: ipadSc_urls.num, dtype: int64"
      ]
     },
     "execution_count": 43,
     "metadata": {},
     "output_type": "execute_result"
    }
   ],
   "source": [
    "biggest_apps['ipadSc_urls.num'].value_counts()"
   ]
  },
  {
   "cell_type": "code",
   "execution_count": 44,
   "metadata": {},
   "outputs": [
    {
     "data": {
      "text/plain": [
       "<matplotlib.axes._subplots.AxesSubplot at 0x2aec9e65d00>"
      ]
     },
     "execution_count": 44,
     "metadata": {},
     "output_type": "execute_result"
    },
    {
     "data": {
      "image/png": "[encoded data removed]",
      "text/plain": [
       "<Figure size 432x288 with 1 Axes>"
      ]
     },
     "metadata": {
      "needs_background": "light"
     },
     "output_type": "display_data"
    }
   ],
   "source": [
    "sns.distplot(biggest_apps[['lang.num']])"
   ]
  },
  {
   "cell_type": "code",
   "execution_count": 45,
   "metadata": {},
   "outputs": [
    {
     "data": {
      "text/plain": [
       "1     56\n",
       "5     17\n",
       "4     14\n",
       "12     7\n",
       "6      7\n",
       "11     7\n",
       "2      6\n",
       "7      6\n",
       "13     5\n",
       "10     5\n",
       "8      4\n",
       "9      2\n",
       "17     2\n",
       "18     2\n",
       "15     2\n",
       "16     1\n",
       "3      1\n",
       "Name: lang.num, dtype: int64"
      ]
     },
     "execution_count": 45,
     "metadata": {},
     "output_type": "execute_result"
    }
   ],
   "source": [
    "biggest_apps['lang.num'].value_counts()"
   ]
  },
  {
   "cell_type": "code",
   "execution_count": 46,
   "metadata": {},
   "outputs": [
    {
     "data": {
      "text/plain": [
       "<matplotlib.axes._subplots.AxesSubplot at 0x2aecaea5070>"
      ]
     },
     "execution_count": 46,
     "metadata": {},
     "output_type": "execute_result"
    },
    {
     "data": {
      "image/png": "[encoded data removed]",
      "text/plain": [
       "<Figure size 432x288 with 1 Axes>"
      ]
     },
     "metadata": {},
     "output_type": "display_data"
    }
   ],
   "source": [
    "biggest_apps.groupby('vpp_lic').size().plot(kind='pie', title = 'Vpp Device Based Licensing Enabled',autopct='%1.1f%%')"
   ]
  },
  {
   "cell_type": "markdown",
   "metadata": {},
   "source": [
    "### Result:\n",
    "The highest 2 percentiles of big apps consist of 144 apps. As for their price, it is seen that the distribution is skewed here to a bigger value in comparison with price distribution for all the apps - most big apps have the price in range [3$, 8.5$]. Rating count is highly dispersed for this app group: while median value for rating count is 257, the approximate decile ratio is 16692.48 / 1.16 and the actual decile ratio value is even impossible to calculate as 10 percentile has a value equals to 0. As for content-rating distribution, most apps (44%) are developed for 12+, 43% of apps are developed either for 4+ or for 9+, while the apps for 17+ have the least share (12.5% only). The overwhelming majority of apps (138/144) are of Games genre, only 2 apps are of Books genre, while such genres as Reference, Navigation, Medical and Music have only one representative in this group of apps. Other genres are not represented at all. As for the rating, the median value is 4 here with 25% equals to 3.5 and 75% equals to 4.5. Most such apps (>50%) support from 35 to 39 of devices while the group contains outliers which support less than 25 devices. The number of screenshots showed is 5 in most cases (>79%), however nearly 12% of apps do not show any screenshots. As for the languages, more than 25% of apps support only one language and, in general, with increase of languages supported, number of apps with such language support decreases, but for some reason the quantity of apps supporting from 11 to 13 is unexpectedly high (19 apps) which slightly breaks this tendency. As for the latest property \"Vpp Device Based Licensing\", it is seen that this licesing is enabled in 91% apps."
   ]
  },
  {
   "cell_type": "markdown",
   "metadata": {},
   "source": [
    "## Compare the characteristics of free and non-free apps"
   ]
  },
  {
   "cell_type": "markdown",
   "metadata": {},
   "source": [
    "Task: Compare the characteristics of apps with price = 0 and apps with price > 0. Variable to filter: price. All other variables besides name and id can be used for comparison. Firstly, it is needed to divide the dataset on 2 groups and then compare their main characteristics. The easiest way is to add the column price with values 0/1 (for free/non-free) to easily make comparison based on groupby.\n",
    "- rating count can be compared on a distribution plot and through a description table\n",
    "- content-rating distribution can be compared with the help of pie charts\n",
    "- genres of apps can also be compared with the help of pie chart but due to the fact that there are quite many possible genres, it is better to define top n-genres and represent all genres besides these n as 'Others' (to make these charts readable)\n",
    "- user ratings can be compared on bar charts as marks are limited (0, 0.5, 1,...)\n",
    "- supported device count is easier to compare through the description table\n",
    "- number of screenshots can be compared on bar charts as number of screenshots are limited to values 0,1,2,3,4,5\n",
    "- number of supported languages can be compared on distribution graph\n",
    "- vpp device based licensing is better to compare through pie charts as only 2 values are possible"
   ]
  },
  {
   "cell_type": "code",
   "execution_count": 47,
   "metadata": {},
   "outputs": [],
   "source": [
    "df['is_free'] = df.apply(lambda x: x.price == 0, axis=1)"
   ]
  },
  {
   "cell_type": "code",
   "execution_count": 48,
   "metadata": {},
   "outputs": [
    {
     "data": {
      "text/plain": [
       "is_free\n",
       "False    3141\n",
       "True     4056\n",
       "dtype: int64"
      ]
     },
     "execution_count": 48,
     "metadata": {},
     "output_type": "execute_result"
    }
   ],
   "source": [
    "df.groupby('is_free').size()"
   ]
  },
  {
   "cell_type": "code",
   "execution_count": 49,
   "metadata": {},
   "outputs": [],
   "source": [
    "free_apps = df.loc[df['is_free']]"
   ]
  },
  {
   "cell_type": "code",
   "execution_count": 50,
   "metadata": {},
   "outputs": [],
   "source": [
    "paid_apps = df.loc[~df['is_free']]"
   ]
  },
  {
   "cell_type": "code",
   "execution_count": 51,
   "metadata": {},
   "outputs": [
    {
     "data": {
      "image/png": "[encoded data removed]",
      "text/plain": [
       "<Figure size 432x288 with 1 Axes>"
      ]
     },
     "metadata": {
      "needs_background": "light"
     },
     "output_type": "display_data"
    }
   ],
   "source": [
    "plt.figure(\"Test Plots\")\n",
    "\n",
    "sns.distplot(free_apps[['rating_count_tot']], label='Free Apps', hist=False)\n",
    "sns.distplot(paid_apps[['rating_count_tot']], label='Paid Apps', hist=False)\n",
    "\n",
    "plt.legend()\n",
    "plt.show()"
   ]
  },
  {
   "cell_type": "code",
   "execution_count": 52,
   "metadata": {},
   "outputs": [
    {
     "data": {
      "text/html": [
       "<div>\n",
       "<style scoped>\n",
       "    .dataframe tbody tr th:only-of-type {\n",
       "        vertical-align: middle;\n",
       "    }\n",
       "\n",
       "    .dataframe tbody tr th {\n",
       "        vertical-align: top;\n",
       "    }\n",
       "\n",
       "    .dataframe thead tr th {\n",
       "        text-align: left;\n",
       "    }\n",
       "\n",
       "    .dataframe thead tr:last-of-type th {\n",
       "        text-align: right;\n",
       "    }\n",
       "</style>\n",
       "<table border=\"1\" class=\"dataframe\">\n",
       "  <thead>\n",
       "    <tr>\n",
       "      <th></th>\n",
       "      <th colspan=\"8\" halign=\"left\">rating_count_tot</th>\n",
       "    </tr>\n",
       "    <tr>\n",
       "      <th></th>\n",
       "      <th>count</th>\n",
       "      <th>mean</th>\n",
       "      <th>std</th>\n",
       "      <th>min</th>\n",
       "      <th>25%</th>\n",
       "      <th>50%</th>\n",
       "      <th>75%</th>\n",
       "      <th>max</th>\n",
       "    </tr>\n",
       "    <tr>\n",
       "      <th>is_free</th>\n",
       "      <th></th>\n",
       "      <th></th>\n",
       "      <th></th>\n",
       "      <th></th>\n",
       "      <th></th>\n",
       "      <th></th>\n",
       "      <th></th>\n",
       "      <th></th>\n",
       "    </tr>\n",
       "  </thead>\n",
       "  <tbody>\n",
       "    <tr>\n",
       "      <th>False</th>\n",
       "      <td>3141.0</td>\n",
       "      <td>4038.537090</td>\n",
       "      <td>25869.299527</td>\n",
       "      <td>0.0</td>\n",
       "      <td>31.0</td>\n",
       "      <td>193.0</td>\n",
       "      <td>1335.00</td>\n",
       "      <td>698516.0</td>\n",
       "    </tr>\n",
       "    <tr>\n",
       "      <th>True</th>\n",
       "      <td>4056.0</td>\n",
       "      <td>19749.804734</td>\n",
       "      <td>97744.279930</td>\n",
       "      <td>0.0</td>\n",
       "      <td>22.0</td>\n",
       "      <td>466.0</td>\n",
       "      <td>5450.75</td>\n",
       "      <td>2974676.0</td>\n",
       "    </tr>\n",
       "  </tbody>\n",
       "</table>\n",
       "</div>"
      ],
      "text/plain": [
       "        rating_count_tot                                                \\\n",
       "                   count          mean           std  min   25%    50%   \n",
       "is_free                                                                  \n",
       "False             3141.0   4038.537090  25869.299527  0.0  31.0  193.0   \n",
       "True              4056.0  19749.804734  97744.279930  0.0  22.0  466.0   \n",
       "\n",
       "                             \n",
       "             75%        max  \n",
       "is_free                      \n",
       "False    1335.00   698516.0  \n",
       "True     5450.75  2974676.0  "
      ]
     },
     "execution_count": 52,
     "metadata": {},
     "output_type": "execute_result"
    }
   ],
   "source": [
    "df.groupby('is_free')[['rating_count_tot']].describe()"
   ]
  },
  {
   "cell_type": "code",
   "execution_count": 53,
   "metadata": {},
   "outputs": [
    {
     "data": {
      "text/html": [
       "<div>\n",
       "<style scoped>\n",
       "    .dataframe tbody tr th:only-of-type {\n",
       "        vertical-align: middle;\n",
       "    }\n",
       "\n",
       "    .dataframe tbody tr th {\n",
       "        vertical-align: top;\n",
       "    }\n",
       "\n",
       "    .dataframe thead th {\n",
       "        text-align: right;\n",
       "    }\n",
       "</style>\n",
       "<table border=\"1\" class=\"dataframe\">\n",
       "  <thead>\n",
       "    <tr style=\"text-align: right;\">\n",
       "      <th></th>\n",
       "      <th>rating_count_tot</th>\n",
       "    </tr>\n",
       "  </thead>\n",
       "  <tbody>\n",
       "    <tr>\n",
       "      <th>0.15</th>\n",
       "      <td>0.00</td>\n",
       "    </tr>\n",
       "    <tr>\n",
       "      <th>0.30</th>\n",
       "      <td>56.00</td>\n",
       "    </tr>\n",
       "    <tr>\n",
       "      <th>0.50</th>\n",
       "      <td>466.00</td>\n",
       "    </tr>\n",
       "    <tr>\n",
       "      <th>0.75</th>\n",
       "      <td>5450.75</td>\n",
       "    </tr>\n",
       "    <tr>\n",
       "      <th>0.95</th>\n",
       "      <td>97612.00</td>\n",
       "    </tr>\n",
       "  </tbody>\n",
       "</table>\n",
       "</div>"
      ],
      "text/plain": [
       "      rating_count_tot\n",
       "0.15              0.00\n",
       "0.30             56.00\n",
       "0.50            466.00\n",
       "0.75           5450.75\n",
       "0.95          97612.00"
      ]
     },
     "execution_count": 53,
     "metadata": {},
     "output_type": "execute_result"
    }
   ],
   "source": [
    "free_apps[['rating_count_tot']].quantile([0.15,0.30,0.5,0.75,0.95])"
   ]
  },
  {
   "cell_type": "code",
   "execution_count": 54,
   "metadata": {},
   "outputs": [
    {
     "data": {
      "text/html": [
       "<div>\n",
       "<style scoped>\n",
       "    .dataframe tbody tr th:only-of-type {\n",
       "        vertical-align: middle;\n",
       "    }\n",
       "\n",
       "    .dataframe tbody tr th {\n",
       "        vertical-align: top;\n",
       "    }\n",
       "\n",
       "    .dataframe thead th {\n",
       "        text-align: right;\n",
       "    }\n",
       "</style>\n",
       "<table border=\"1\" class=\"dataframe\">\n",
       "  <thead>\n",
       "    <tr style=\"text-align: right;\">\n",
       "      <th></th>\n",
       "      <th>rating_count_tot</th>\n",
       "    </tr>\n",
       "  </thead>\n",
       "  <tbody>\n",
       "    <tr>\n",
       "      <th>0.15</th>\n",
       "      <td>10.0</td>\n",
       "    </tr>\n",
       "    <tr>\n",
       "      <th>0.30</th>\n",
       "      <td>47.0</td>\n",
       "    </tr>\n",
       "    <tr>\n",
       "      <th>0.50</th>\n",
       "      <td>193.0</td>\n",
       "    </tr>\n",
       "    <tr>\n",
       "      <th>0.75</th>\n",
       "      <td>1335.0</td>\n",
       "    </tr>\n",
       "    <tr>\n",
       "      <th>0.95</th>\n",
       "      <td>14202.0</td>\n",
       "    </tr>\n",
       "  </tbody>\n",
       "</table>\n",
       "</div>"
      ],
      "text/plain": [
       "      rating_count_tot\n",
       "0.15              10.0\n",
       "0.30              47.0\n",
       "0.50             193.0\n",
       "0.75            1335.0\n",
       "0.95           14202.0"
      ]
     },
     "execution_count": 54,
     "metadata": {},
     "output_type": "execute_result"
    }
   ],
   "source": [
    "paid_apps[['rating_count_tot']].quantile([0.15,0.30,0.5,0.75,0.95])"
   ]
  },
  {
   "cell_type": "code",
   "execution_count": 55,
   "metadata": {},
   "outputs": [
    {
     "data": {
      "text/plain": [
       "Text(0.5, 1.0, 'Content-rating distribution for paid apps')"
      ]
     },
     "execution_count": 55,
     "metadata": {},
     "output_type": "execute_result"
    },
    {
     "data": {
      "image/png": "[encoded data removed]",
      "text/plain": [
       "<Figure size 720x432 with 2 Axes>"
      ]
     },
     "metadata": {},
     "output_type": "display_data"
    }
   ],
   "source": [
    "fig, axes = plt.subplots(1, 2, figsize=(10, 6))\n",
    "axes[0].pie(free_apps.groupby('cont_rating').size(), autopct='%1.1f%%', labels=free_apps.groupby('cont_rating').size().index)\n",
    "axes[0].set_title('Content-rating distribution for free apps')\n",
    "axes[1].pie(paid_apps.groupby('cont_rating').size(), autopct='%1.1f%%', labels=free_apps.groupby('cont_rating').size().index)\n",
    "axes[1].set_title('Content-rating distribution for paid apps')"
   ]
  },
  {
   "cell_type": "code",
   "execution_count": 56,
   "metadata": {},
   "outputs": [],
   "source": [
    "main_free_genres=free_apps['prime_genre'].value_counts()[:6]"
   ]
  },
  {
   "cell_type": "code",
   "execution_count": 57,
   "metadata": {},
   "outputs": [
    {
     "name": "stderr",
     "output_type": "stream",
     "text": [
      "<ipython-input-57-e663f6ffc467>:1: FutureWarning: The series.append method is deprecated and will be removed from pandas in a future version. Use pandas.concat instead.\n",
      "  main_free_genres = main_free_genres.append(pd.Series([free_apps['prime_genre'].value_counts().sum()-main_free_genres.sum()],index=['Others']))\n"
     ]
    }
   ],
   "source": [
    "main_free_genres = main_free_genres.append(pd.Series([free_apps['prime_genre'].value_counts().sum()-main_free_genres.sum()],index=['Others']))"
   ]
  },
  {
   "cell_type": "code",
   "execution_count": 58,
   "metadata": {},
   "outputs": [],
   "source": [
    "main_paid_genres = paid_apps['prime_genre'].value_counts()[:6]"
   ]
  },
  {
   "cell_type": "code",
   "execution_count": 59,
   "metadata": {},
   "outputs": [
    {
     "name": "stderr",
     "output_type": "stream",
     "text": [
      "<ipython-input-59-151eb8503c99>:1: FutureWarning: The series.append method is deprecated and will be removed from pandas in a future version. Use pandas.concat instead.\n",
      "  main_paid_genres = main_paid_genres.append(pd.Series([paid_apps['prime_genre'].value_counts().sum()-main_paid_genres.sum()],index=['Others']))\n"
     ]
    }
   ],
   "source": [
    "main_paid_genres = main_paid_genres.append(pd.Series([paid_apps['prime_genre'].value_counts().sum()-main_paid_genres.sum()],index=['Others']))"
   ]
  },
  {
   "cell_type": "code",
   "execution_count": 60,
   "metadata": {},
   "outputs": [
    {
     "data": {
      "text/plain": [
       "Text(0.5, 1.0, 'Genre distribution for paid apps')"
      ]
     },
     "execution_count": 60,
     "metadata": {},
     "output_type": "execute_result"
    },
    {
     "data": {
      "image/png": "[encoded data removed]",
      "text/plain": [
       "<Figure size 720x432 with 2 Axes>"
      ]
     },
     "metadata": {},
     "output_type": "display_data"
    }
   ],
   "source": [
    "fig, axes = plt.subplots(1, 2, figsize=(10, 6))\n",
    "axes[0].pie(main_free_genres, autopct='%1d%%', labels=main_free_genres.index)\n",
    "axes[0].set_title('Genre distribution for free apps')\n",
    "axes[1].pie(main_paid_genres, autopct='%1d%%', labels=main_paid_genres.index)\n",
    "axes[1].set_title('Genre distribution for paid apps')"
   ]
  },
  {
   "cell_type": "code",
   "execution_count": 61,
   "metadata": {},
   "outputs": [
    {
     "data": {
      "text/plain": [
       "<matplotlib.axes._subplots.AxesSubplot at 0x2aecaff6400>"
      ]
     },
     "execution_count": 61,
     "metadata": {},
     "output_type": "execute_result"
    },
    {
     "data": {
      "image/png": "[encoded data removed]",
      "text/plain": [
       "<Figure size 432x288 with 1 Axes>"
      ]
     },
     "metadata": {
      "needs_background": "light"
     },
     "output_type": "display_data"
    }
   ],
   "source": [
    "df.groupby(['user_rating'])['is_free'].value_counts().unstack().plot(kind='barh')"
   ]
  },
  {
   "cell_type": "code",
   "execution_count": 62,
   "metadata": {},
   "outputs": [
    {
     "data": {
      "text/html": [
       "<div>\n",
       "<style scoped>\n",
       "    .dataframe tbody tr th:only-of-type {\n",
       "        vertical-align: middle;\n",
       "    }\n",
       "\n",
       "    .dataframe tbody tr th {\n",
       "        vertical-align: top;\n",
       "    }\n",
       "\n",
       "    .dataframe thead tr th {\n",
       "        text-align: left;\n",
       "    }\n",
       "\n",
       "    .dataframe thead tr:last-of-type th {\n",
       "        text-align: right;\n",
       "    }\n",
       "</style>\n",
       "<table border=\"1\" class=\"dataframe\">\n",
       "  <thead>\n",
       "    <tr>\n",
       "      <th></th>\n",
       "      <th colspan=\"8\" halign=\"left\">sup_devices.num</th>\n",
       "    </tr>\n",
       "    <tr>\n",
       "      <th></th>\n",
       "      <th>count</th>\n",
       "      <th>mean</th>\n",
       "      <th>std</th>\n",
       "      <th>min</th>\n",
       "      <th>25%</th>\n",
       "      <th>50%</th>\n",
       "      <th>75%</th>\n",
       "      <th>max</th>\n",
       "    </tr>\n",
       "    <tr>\n",
       "      <th>is_free</th>\n",
       "      <th></th>\n",
       "      <th></th>\n",
       "      <th></th>\n",
       "      <th></th>\n",
       "      <th></th>\n",
       "      <th></th>\n",
       "      <th></th>\n",
       "      <th></th>\n",
       "    </tr>\n",
       "  </thead>\n",
       "  <tbody>\n",
       "    <tr>\n",
       "      <th>False</th>\n",
       "      <td>3141.0</td>\n",
       "      <td>37.276027</td>\n",
       "      <td>4.553283</td>\n",
       "      <td>11.0</td>\n",
       "      <td>37.0</td>\n",
       "      <td>38.0</td>\n",
       "      <td>40.0</td>\n",
       "      <td>47.0</td>\n",
       "    </tr>\n",
       "    <tr>\n",
       "      <th>True</th>\n",
       "      <td>4056.0</td>\n",
       "      <td>37.428254</td>\n",
       "      <td>2.954281</td>\n",
       "      <td>9.0</td>\n",
       "      <td>37.0</td>\n",
       "      <td>37.0</td>\n",
       "      <td>38.0</td>\n",
       "      <td>47.0</td>\n",
       "    </tr>\n",
       "  </tbody>\n",
       "</table>\n",
       "</div>"
      ],
      "text/plain": [
       "        sup_devices.num                                                   \n",
       "                  count       mean       std   min   25%   50%   75%   max\n",
       "is_free                                                                   \n",
       "False            3141.0  37.276027  4.553283  11.0  37.0  38.0  40.0  47.0\n",
       "True             4056.0  37.428254  2.954281   9.0  37.0  37.0  38.0  47.0"
      ]
     },
     "execution_count": 62,
     "metadata": {},
     "output_type": "execute_result"
    }
   ],
   "source": [
    "df.groupby('is_free')[['sup_devices.num']].describe()"
   ]
  },
  {
   "cell_type": "code",
   "execution_count": 63,
   "metadata": {},
   "outputs": [
    {
     "data": {
      "text/plain": [
       "<matplotlib.axes._subplots.AxesSubplot at 0x2aecb3a3a30>"
      ]
     },
     "execution_count": 63,
     "metadata": {},
     "output_type": "execute_result"
    },
    {
     "data": {
      "image/png": "[encoded data removed]",
      "text/plain": [
       "<Figure size 432x288 with 1 Axes>"
      ]
     },
     "metadata": {
      "needs_background": "light"
     },
     "output_type": "display_data"
    }
   ],
   "source": [
    "df.groupby(['ipadSc_urls.num'])['is_free'].value_counts().unstack().plot(kind='barh')"
   ]
  },
  {
   "cell_type": "code",
   "execution_count": 64,
   "metadata": {},
   "outputs": [
    {
     "data": {
      "image/png": "[encoded data removed]",
      "text/plain": [
       "<Figure size 432x288 with 1 Axes>"
      ]
     },
     "metadata": {
      "needs_background": "light"
     },
     "output_type": "display_data"
    }
   ],
   "source": [
    "plt.figure(\"Test Plots\")\n",
    "\n",
    "sns.distplot(free_apps[['lang.num']], label='Free Apps', hist=False)\n",
    "sns.distplot(paid_apps[['lang.num']], label='Paid Apps', hist=False)\n",
    "\n",
    "plt.legend()\n",
    "plt.show()"
   ]
  },
  {
   "cell_type": "code",
   "execution_count": 65,
   "metadata": {},
   "outputs": [
    {
     "data": {
      "text/plain": [
       "Text(0.5, 1.0, 'Vpp Device Based Licensing for paid apps')"
      ]
     },
     "execution_count": 65,
     "metadata": {},
     "output_type": "execute_result"
    },
    {
     "data": {
      "image/png": "[encoded data removed]",
      "text/plain": [
       "<Figure size 720x432 with 2 Axes>"
      ]
     },
     "metadata": {},
     "output_type": "display_data"
    }
   ],
   "source": [
    "fig, axes = plt.subplots(1, 2, figsize=(10, 6))\n",
    "axes[0].pie(free_apps.groupby('vpp_lic').size(), autopct='%1.1f%%', labels=free_apps.groupby('vpp_lic').size().index)\n",
    "axes[0].set_title('Vpp Device Based Licensing for free apps')\n",
    "axes[1].pie(paid_apps.groupby('vpp_lic').size(), autopct='%1.1f%%', labels=free_apps.groupby('vpp_lic').size().index)\n",
    "axes[1].set_title('Vpp Device Based Licensing for paid apps')"
   ]
  },
  {
   "cell_type": "markdown",
   "metadata": {},
   "source": [
    "### Results:\n",
    "In a given dataset, there are 3141 paid apps and 4056 free apps. According to the presented information, paid and free apps have very similar characteristics, including genre distribution, number of screenshots, number of supported languages and Vpp Device Based Licensing. However, some interesting differences still exist:\n",
    "- the distribution of rating count is much more skewed to low values for paid apps than for free apps: 50% of free apps have less than 466 rates while 50% of paid apps have less than 193 rates. Furthermore, paid apps have significantly less rates in total than free apps and their high percentiles are almost incomparable: 95 percentile for free apps is 97612 rates while 95 percentile for paid apps is only 14202. The standard deviation of ratings of free apps is 4 times higher than ratings of paid apps, which prove that free apps ratings are much more dispersed.\n",
    "- content-rating distribution significantly differs only in shares of 17+ and 9+ apps: while in free apps, 11% of apps are of 17+ and 11% are of 9+, in paid apps, 5.5% of apps are of 17+ and 17.5% are of 9+, so 9+ apps are much more represented in paid apps than in free ones while 17+ are significantly less represented.\n",
    "- user rating in general barely differs between free and paid apps, but it is worth mentioning that free apps obtain 0-rating much more often than paid apps.\n",
    "\n",
    "As for other characteristics, they barely differ between free and paid apps."
   ]
  },
  {
   "cell_type": "code",
   "execution_count": null,
   "metadata": {},
   "outputs": [],
   "source": []
  }
 ],
 "metadata": {
  "kernelspec": {
   "display_name": "Python 3",
   "language": "python",
   "name": "python3"
  },
  "language_info": {
   "codemirror_mode": {
    "name": "ipython",
    "version": 3
   },
   "file_extension": ".py",
   "mimetype": "text/x-python",
   "name": "python",
   "nbconvert_exporter": "python",
   "pygments_lexer": "ipython3",
   "version": "3.8.1"
  }
 },
 "nbformat": 4,
 "nbformat_minor": 4
}
